{
 "cells": [
  {
   "cell_type": "markdown",
   "id": "931a0c2d",
   "metadata": {},
   "source": [
    "# Исследование надежности заемщиков.\n",
    "Заказчик — кредитный отдел банка. Нужно разобраться, влияет ли семейное положение и количество детей клиента на факт погашения кредита в срок. Входные данные от банка — статистика о платёжеспособности клиентов.\n",
    "\n",
    "Результаты исследования будут учтены при построении модели **кредитного скоринга** — специальной системы, которая оценивает способность потенциального заёмщика вернуть кредит банку.\n",
    "\n",
    "**Цель исследования** - изучение влияния различных факторов (наличие и количество детей или их отсутствие, семейное положение, уровень совокупного дохода, цель кредитования) на возможность погашения кредита в срок, необходимое для использования полученных результатов при построении модели кредитного скоринга.\n",
    "\n",
    "**Задачи исследования**:\n",
    "\n",
    "1. Изучить предоставленные банком данные о платежеспособности клиентов.\n",
    "2. Подготовить данные к проведению исследования.\n",
    "3. Оценить влияние различных факторов на возможность погашения кредита в срок.\n",
    "4. Дать рекомендации по улучшению построения модели кредитного сокринга."
   ]
  },
  {
   "cell_type": "markdown",
   "id": "7909e156",
   "metadata": {},
   "source": [
    "### Шаг 1. Обзор данных"
   ]
  },
  {
   "cell_type": "code",
   "execution_count": 47,
   "id": "df61f867",
   "metadata": {},
   "outputs": [
    {
     "name": "stdout",
     "output_type": "stream",
     "text": [
      "<class 'pandas.core.frame.DataFrame'>\n",
      "RangeIndex: 21525 entries, 0 to 21524\n",
      "Data columns (total 12 columns):\n",
      " #   Column            Non-Null Count  Dtype  \n",
      "---  ------            --------------  -----  \n",
      " 0   children          21525 non-null  int64  \n",
      " 1   days_employed     19351 non-null  float64\n",
      " 2   dob_years         21525 non-null  int64  \n",
      " 3   education         21525 non-null  object \n",
      " 4   education_id      21525 non-null  int64  \n",
      " 5   family_status     21525 non-null  object \n",
      " 6   family_status_id  21525 non-null  int64  \n",
      " 7   gender            21525 non-null  object \n",
      " 8   income_type       21525 non-null  object \n",
      " 9   debt              21525 non-null  int64  \n",
      " 10  total_income      19351 non-null  float64\n",
      " 11  purpose           21525 non-null  object \n",
      "dtypes: float64(2), int64(5), object(5)\n",
      "memory usage: 2.0+ MB\n"
     ]
    },
    {
     "data": {
      "text/html": [
       "<div>\n",
       "<style scoped>\n",
       "    .dataframe tbody tr th:only-of-type {\n",
       "        vertical-align: middle;\n",
       "    }\n",
       "\n",
       "    .dataframe tbody tr th {\n",
       "        vertical-align: top;\n",
       "    }\n",
       "\n",
       "    .dataframe thead th {\n",
       "        text-align: right;\n",
       "    }\n",
       "</style>\n",
       "<table border=\"1\" class=\"dataframe\">\n",
       "  <thead>\n",
       "    <tr style=\"text-align: right;\">\n",
       "      <th></th>\n",
       "      <th>children</th>\n",
       "      <th>days_employed</th>\n",
       "      <th>dob_years</th>\n",
       "      <th>education</th>\n",
       "      <th>education_id</th>\n",
       "      <th>family_status</th>\n",
       "      <th>family_status_id</th>\n",
       "      <th>gender</th>\n",
       "      <th>income_type</th>\n",
       "      <th>debt</th>\n",
       "      <th>total_income</th>\n",
       "      <th>purpose</th>\n",
       "    </tr>\n",
       "  </thead>\n",
       "  <tbody>\n",
       "    <tr>\n",
       "      <th>0</th>\n",
       "      <td>1</td>\n",
       "      <td>-8437.673028</td>\n",
       "      <td>42</td>\n",
       "      <td>высшее</td>\n",
       "      <td>0</td>\n",
       "      <td>женат / замужем</td>\n",
       "      <td>0</td>\n",
       "      <td>F</td>\n",
       "      <td>сотрудник</td>\n",
       "      <td>0</td>\n",
       "      <td>253875.639453</td>\n",
       "      <td>покупка жилья</td>\n",
       "    </tr>\n",
       "    <tr>\n",
       "      <th>1</th>\n",
       "      <td>1</td>\n",
       "      <td>-4024.803754</td>\n",
       "      <td>36</td>\n",
       "      <td>среднее</td>\n",
       "      <td>1</td>\n",
       "      <td>женат / замужем</td>\n",
       "      <td>0</td>\n",
       "      <td>F</td>\n",
       "      <td>сотрудник</td>\n",
       "      <td>0</td>\n",
       "      <td>112080.014102</td>\n",
       "      <td>приобретение автомобиля</td>\n",
       "    </tr>\n",
       "    <tr>\n",
       "      <th>2</th>\n",
       "      <td>0</td>\n",
       "      <td>-5623.422610</td>\n",
       "      <td>33</td>\n",
       "      <td>Среднее</td>\n",
       "      <td>1</td>\n",
       "      <td>женат / замужем</td>\n",
       "      <td>0</td>\n",
       "      <td>M</td>\n",
       "      <td>сотрудник</td>\n",
       "      <td>0</td>\n",
       "      <td>145885.952297</td>\n",
       "      <td>покупка жилья</td>\n",
       "    </tr>\n",
       "    <tr>\n",
       "      <th>3</th>\n",
       "      <td>3</td>\n",
       "      <td>-4124.747207</td>\n",
       "      <td>32</td>\n",
       "      <td>среднее</td>\n",
       "      <td>1</td>\n",
       "      <td>женат / замужем</td>\n",
       "      <td>0</td>\n",
       "      <td>M</td>\n",
       "      <td>сотрудник</td>\n",
       "      <td>0</td>\n",
       "      <td>267628.550329</td>\n",
       "      <td>дополнительное образование</td>\n",
       "    </tr>\n",
       "    <tr>\n",
       "      <th>4</th>\n",
       "      <td>0</td>\n",
       "      <td>340266.072047</td>\n",
       "      <td>53</td>\n",
       "      <td>среднее</td>\n",
       "      <td>1</td>\n",
       "      <td>гражданский брак</td>\n",
       "      <td>1</td>\n",
       "      <td>F</td>\n",
       "      <td>пенсионер</td>\n",
       "      <td>0</td>\n",
       "      <td>158616.077870</td>\n",
       "      <td>сыграть свадьбу</td>\n",
       "    </tr>\n",
       "    <tr>\n",
       "      <th>5</th>\n",
       "      <td>0</td>\n",
       "      <td>-926.185831</td>\n",
       "      <td>27</td>\n",
       "      <td>высшее</td>\n",
       "      <td>0</td>\n",
       "      <td>гражданский брак</td>\n",
       "      <td>1</td>\n",
       "      <td>M</td>\n",
       "      <td>компаньон</td>\n",
       "      <td>0</td>\n",
       "      <td>255763.565419</td>\n",
       "      <td>покупка жилья</td>\n",
       "    </tr>\n",
       "    <tr>\n",
       "      <th>6</th>\n",
       "      <td>0</td>\n",
       "      <td>-2879.202052</td>\n",
       "      <td>43</td>\n",
       "      <td>высшее</td>\n",
       "      <td>0</td>\n",
       "      <td>женат / замужем</td>\n",
       "      <td>0</td>\n",
       "      <td>F</td>\n",
       "      <td>компаньон</td>\n",
       "      <td>0</td>\n",
       "      <td>240525.971920</td>\n",
       "      <td>операции с жильем</td>\n",
       "    </tr>\n",
       "    <tr>\n",
       "      <th>7</th>\n",
       "      <td>0</td>\n",
       "      <td>-152.779569</td>\n",
       "      <td>50</td>\n",
       "      <td>СРЕДНЕЕ</td>\n",
       "      <td>1</td>\n",
       "      <td>женат / замужем</td>\n",
       "      <td>0</td>\n",
       "      <td>M</td>\n",
       "      <td>сотрудник</td>\n",
       "      <td>0</td>\n",
       "      <td>135823.934197</td>\n",
       "      <td>образование</td>\n",
       "    </tr>\n",
       "    <tr>\n",
       "      <th>8</th>\n",
       "      <td>2</td>\n",
       "      <td>-6929.865299</td>\n",
       "      <td>35</td>\n",
       "      <td>ВЫСШЕЕ</td>\n",
       "      <td>0</td>\n",
       "      <td>гражданский брак</td>\n",
       "      <td>1</td>\n",
       "      <td>F</td>\n",
       "      <td>сотрудник</td>\n",
       "      <td>0</td>\n",
       "      <td>95856.832424</td>\n",
       "      <td>на проведение свадьбы</td>\n",
       "    </tr>\n",
       "    <tr>\n",
       "      <th>9</th>\n",
       "      <td>0</td>\n",
       "      <td>-2188.756445</td>\n",
       "      <td>41</td>\n",
       "      <td>среднее</td>\n",
       "      <td>1</td>\n",
       "      <td>женат / замужем</td>\n",
       "      <td>0</td>\n",
       "      <td>M</td>\n",
       "      <td>сотрудник</td>\n",
       "      <td>0</td>\n",
       "      <td>144425.938277</td>\n",
       "      <td>покупка жилья для семьи</td>\n",
       "    </tr>\n",
       "  </tbody>\n",
       "</table>\n",
       "</div>"
      ],
      "text/plain": [
       "   children  days_employed  dob_years education  education_id  \\\n",
       "0         1   -8437.673028         42    высшее             0   \n",
       "1         1   -4024.803754         36   среднее             1   \n",
       "2         0   -5623.422610         33   Среднее             1   \n",
       "3         3   -4124.747207         32   среднее             1   \n",
       "4         0  340266.072047         53   среднее             1   \n",
       "5         0    -926.185831         27    высшее             0   \n",
       "6         0   -2879.202052         43    высшее             0   \n",
       "7         0    -152.779569         50   СРЕДНЕЕ             1   \n",
       "8         2   -6929.865299         35    ВЫСШЕЕ             0   \n",
       "9         0   -2188.756445         41   среднее             1   \n",
       "\n",
       "      family_status  family_status_id gender income_type  debt   total_income  \\\n",
       "0   женат / замужем                 0      F   сотрудник     0  253875.639453   \n",
       "1   женат / замужем                 0      F   сотрудник     0  112080.014102   \n",
       "2   женат / замужем                 0      M   сотрудник     0  145885.952297   \n",
       "3   женат / замужем                 0      M   сотрудник     0  267628.550329   \n",
       "4  гражданский брак                 1      F   пенсионер     0  158616.077870   \n",
       "5  гражданский брак                 1      M   компаньон     0  255763.565419   \n",
       "6   женат / замужем                 0      F   компаньон     0  240525.971920   \n",
       "7   женат / замужем                 0      M   сотрудник     0  135823.934197   \n",
       "8  гражданский брак                 1      F   сотрудник     0   95856.832424   \n",
       "9   женат / замужем                 0      M   сотрудник     0  144425.938277   \n",
       "\n",
       "                      purpose  \n",
       "0               покупка жилья  \n",
       "1     приобретение автомобиля  \n",
       "2               покупка жилья  \n",
       "3  дополнительное образование  \n",
       "4             сыграть свадьбу  \n",
       "5               покупка жилья  \n",
       "6           операции с жильем  \n",
       "7                 образование  \n",
       "8       на проведение свадьбы  \n",
       "9     покупка жилья для семьи  "
      ]
     },
     "execution_count": 47,
     "metadata": {},
     "output_type": "execute_result"
    }
   ],
   "source": [
    "#импортируем библиотеку Pandas и открываем файл\n",
    "\n",
    "import pandas as pd\n",
    "data = pd.read_csv('/datasets/data.csv')\n",
    "\n",
    "#просмотрим информацию о таблице\n",
    "data.info()\n",
    "\n",
    "#выведем на экран 10 первых значений для изучения данных\n",
    "\n",
    "data.head(10)"
   ]
  },
  {
   "cell_type": "markdown",
   "id": "1d740c5b",
   "metadata": {},
   "source": [
    "**Вывод**"
   ]
  },
  {
   "cell_type": "markdown",
   "id": "b6084e56",
   "metadata": {},
   "source": [
    "* Изучив информацию о таблице, видно, что во всех столбцах встречаются пропущенные значения (как категориальные, так и количественные). В столбце days_employed помимо пропущенных значений встречаются отрицательные значения, которые из-за отсутствия округления, трудно визуально воспринимать. Более того, в столбце days_employed возможно некорректная единица измерения. Но, поскольку этот столбец в дальнейшем не будет участвовать в расчетах, можно не придавать этому особого значения. В столбце total_income также трудно воспринимать значения из-за отсутствия округления. Пропуски могут быть вызваны разными факторами: первоначальное предоставление некорректных данных, человеческий фактор, технологические проблемы при выгрузке данных. Для проведения расчетов необходимо провести предобработку данных.\n",
    "* Для удобства работы с таблицей из неё можно исключить колонки `education` и `family_status`, поместив их в отдельные таблицы и создав словари для значений `education_id` и `family_status_id` соответственно.\n",
    "* Для проведения расчетов необходимо провести предобработку данных."
   ]
  },
  {
   "cell_type": "markdown",
   "id": "fce34333",
   "metadata": {},
   "source": [
    "## Шаг 2. Предобработка данных"
   ]
  },
  {
   "cell_type": "markdown",
   "id": "f0174922",
   "metadata": {},
   "source": [
    "### Обработка пропусков"
   ]
  },
  {
   "cell_type": "markdown",
   "id": "70cc057e",
   "metadata": {},
   "source": [
    "Для дальнейших расчетов нам необходимы следующие столбцы: children, family-status,family_status_id,income_type,total_income. В столбце days_employed заполним пропуски, удалять их не нужно, поскольку в строках других столбцов может быть важная для исследования информация. "
   ]
  },
  {
   "cell_type": "code",
   "execution_count": 48,
   "id": "fed3ea41",
   "metadata": {},
   "outputs": [
    {
     "data": {
      "text/html": [
       "<div>\n",
       "<style scoped>\n",
       "    .dataframe tbody tr th:only-of-type {\n",
       "        vertical-align: middle;\n",
       "    }\n",
       "\n",
       "    .dataframe tbody tr th {\n",
       "        vertical-align: top;\n",
       "    }\n",
       "\n",
       "    .dataframe thead th {\n",
       "        text-align: right;\n",
       "    }\n",
       "</style>\n",
       "<table border=\"1\" class=\"dataframe\">\n",
       "  <thead>\n",
       "    <tr style=\"text-align: right;\">\n",
       "      <th></th>\n",
       "      <th>children</th>\n",
       "      <th>days_employed</th>\n",
       "      <th>dob_years</th>\n",
       "      <th>education</th>\n",
       "      <th>education_id</th>\n",
       "      <th>family_status</th>\n",
       "      <th>family_status_id</th>\n",
       "      <th>gender</th>\n",
       "      <th>income_type</th>\n",
       "      <th>debt</th>\n",
       "      <th>total_income</th>\n",
       "      <th>purpose</th>\n",
       "    </tr>\n",
       "  </thead>\n",
       "  <tbody>\n",
       "    <tr>\n",
       "      <th>12</th>\n",
       "      <td>0</td>\n",
       "      <td>NaN</td>\n",
       "      <td>65</td>\n",
       "      <td>среднее</td>\n",
       "      <td>1</td>\n",
       "      <td>гражданский брак</td>\n",
       "      <td>1</td>\n",
       "      <td>M</td>\n",
       "      <td>пенсионер</td>\n",
       "      <td>0</td>\n",
       "      <td>NaN</td>\n",
       "      <td>сыграть свадьбу</td>\n",
       "    </tr>\n",
       "    <tr>\n",
       "      <th>26</th>\n",
       "      <td>0</td>\n",
       "      <td>NaN</td>\n",
       "      <td>41</td>\n",
       "      <td>среднее</td>\n",
       "      <td>1</td>\n",
       "      <td>женат / замужем</td>\n",
       "      <td>0</td>\n",
       "      <td>M</td>\n",
       "      <td>госслужащий</td>\n",
       "      <td>0</td>\n",
       "      <td>NaN</td>\n",
       "      <td>образование</td>\n",
       "    </tr>\n",
       "    <tr>\n",
       "      <th>29</th>\n",
       "      <td>0</td>\n",
       "      <td>NaN</td>\n",
       "      <td>63</td>\n",
       "      <td>среднее</td>\n",
       "      <td>1</td>\n",
       "      <td>Не женат / не замужем</td>\n",
       "      <td>4</td>\n",
       "      <td>F</td>\n",
       "      <td>пенсионер</td>\n",
       "      <td>0</td>\n",
       "      <td>NaN</td>\n",
       "      <td>строительство жилой недвижимости</td>\n",
       "    </tr>\n",
       "    <tr>\n",
       "      <th>41</th>\n",
       "      <td>0</td>\n",
       "      <td>NaN</td>\n",
       "      <td>50</td>\n",
       "      <td>среднее</td>\n",
       "      <td>1</td>\n",
       "      <td>женат / замужем</td>\n",
       "      <td>0</td>\n",
       "      <td>F</td>\n",
       "      <td>госслужащий</td>\n",
       "      <td>0</td>\n",
       "      <td>NaN</td>\n",
       "      <td>сделка с подержанным автомобилем</td>\n",
       "    </tr>\n",
       "    <tr>\n",
       "      <th>55</th>\n",
       "      <td>0</td>\n",
       "      <td>NaN</td>\n",
       "      <td>54</td>\n",
       "      <td>среднее</td>\n",
       "      <td>1</td>\n",
       "      <td>гражданский брак</td>\n",
       "      <td>1</td>\n",
       "      <td>F</td>\n",
       "      <td>пенсионер</td>\n",
       "      <td>1</td>\n",
       "      <td>NaN</td>\n",
       "      <td>сыграть свадьбу</td>\n",
       "    </tr>\n",
       "    <tr>\n",
       "      <th>...</th>\n",
       "      <td>...</td>\n",
       "      <td>...</td>\n",
       "      <td>...</td>\n",
       "      <td>...</td>\n",
       "      <td>...</td>\n",
       "      <td>...</td>\n",
       "      <td>...</td>\n",
       "      <td>...</td>\n",
       "      <td>...</td>\n",
       "      <td>...</td>\n",
       "      <td>...</td>\n",
       "      <td>...</td>\n",
       "    </tr>\n",
       "    <tr>\n",
       "      <th>21489</th>\n",
       "      <td>2</td>\n",
       "      <td>NaN</td>\n",
       "      <td>47</td>\n",
       "      <td>Среднее</td>\n",
       "      <td>1</td>\n",
       "      <td>женат / замужем</td>\n",
       "      <td>0</td>\n",
       "      <td>M</td>\n",
       "      <td>компаньон</td>\n",
       "      <td>0</td>\n",
       "      <td>NaN</td>\n",
       "      <td>сделка с автомобилем</td>\n",
       "    </tr>\n",
       "    <tr>\n",
       "      <th>21495</th>\n",
       "      <td>1</td>\n",
       "      <td>NaN</td>\n",
       "      <td>50</td>\n",
       "      <td>среднее</td>\n",
       "      <td>1</td>\n",
       "      <td>гражданский брак</td>\n",
       "      <td>1</td>\n",
       "      <td>F</td>\n",
       "      <td>сотрудник</td>\n",
       "      <td>0</td>\n",
       "      <td>NaN</td>\n",
       "      <td>свадьба</td>\n",
       "    </tr>\n",
       "    <tr>\n",
       "      <th>21497</th>\n",
       "      <td>0</td>\n",
       "      <td>NaN</td>\n",
       "      <td>48</td>\n",
       "      <td>ВЫСШЕЕ</td>\n",
       "      <td>0</td>\n",
       "      <td>женат / замужем</td>\n",
       "      <td>0</td>\n",
       "      <td>F</td>\n",
       "      <td>компаньон</td>\n",
       "      <td>0</td>\n",
       "      <td>NaN</td>\n",
       "      <td>строительство недвижимости</td>\n",
       "    </tr>\n",
       "    <tr>\n",
       "      <th>21502</th>\n",
       "      <td>1</td>\n",
       "      <td>NaN</td>\n",
       "      <td>42</td>\n",
       "      <td>среднее</td>\n",
       "      <td>1</td>\n",
       "      <td>женат / замужем</td>\n",
       "      <td>0</td>\n",
       "      <td>F</td>\n",
       "      <td>сотрудник</td>\n",
       "      <td>0</td>\n",
       "      <td>NaN</td>\n",
       "      <td>строительство жилой недвижимости</td>\n",
       "    </tr>\n",
       "    <tr>\n",
       "      <th>21510</th>\n",
       "      <td>2</td>\n",
       "      <td>NaN</td>\n",
       "      <td>28</td>\n",
       "      <td>среднее</td>\n",
       "      <td>1</td>\n",
       "      <td>женат / замужем</td>\n",
       "      <td>0</td>\n",
       "      <td>F</td>\n",
       "      <td>сотрудник</td>\n",
       "      <td>0</td>\n",
       "      <td>NaN</td>\n",
       "      <td>приобретение автомобиля</td>\n",
       "    </tr>\n",
       "  </tbody>\n",
       "</table>\n",
       "<p>2174 rows × 12 columns</p>\n",
       "</div>"
      ],
      "text/plain": [
       "       children  days_employed  dob_years education  education_id  \\\n",
       "12            0            NaN         65   среднее             1   \n",
       "26            0            NaN         41   среднее             1   \n",
       "29            0            NaN         63   среднее             1   \n",
       "41            0            NaN         50   среднее             1   \n",
       "55            0            NaN         54   среднее             1   \n",
       "...         ...            ...        ...       ...           ...   \n",
       "21489         2            NaN         47   Среднее             1   \n",
       "21495         1            NaN         50   среднее             1   \n",
       "21497         0            NaN         48    ВЫСШЕЕ             0   \n",
       "21502         1            NaN         42   среднее             1   \n",
       "21510         2            NaN         28   среднее             1   \n",
       "\n",
       "               family_status  family_status_id gender  income_type  debt  \\\n",
       "12          гражданский брак                 1      M    пенсионер     0   \n",
       "26           женат / замужем                 0      M  госслужащий     0   \n",
       "29     Не женат / не замужем                 4      F    пенсионер     0   \n",
       "41           женат / замужем                 0      F  госслужащий     0   \n",
       "55          гражданский брак                 1      F    пенсионер     1   \n",
       "...                      ...               ...    ...          ...   ...   \n",
       "21489        женат / замужем                 0      M    компаньон     0   \n",
       "21495       гражданский брак                 1      F    сотрудник     0   \n",
       "21497        женат / замужем                 0      F    компаньон     0   \n",
       "21502        женат / замужем                 0      F    сотрудник     0   \n",
       "21510        женат / замужем                 0      F    сотрудник     0   \n",
       "\n",
       "       total_income                           purpose  \n",
       "12              NaN                   сыграть свадьбу  \n",
       "26              NaN                       образование  \n",
       "29              NaN  строительство жилой недвижимости  \n",
       "41              NaN  сделка с подержанным автомобилем  \n",
       "55              NaN                   сыграть свадьбу  \n",
       "...             ...                               ...  \n",
       "21489           NaN              сделка с автомобилем  \n",
       "21495           NaN                           свадьба  \n",
       "21497           NaN        строительство недвижимости  \n",
       "21502           NaN  строительство жилой недвижимости  \n",
       "21510           NaN           приобретение автомобиля  \n",
       "\n",
       "[2174 rows x 12 columns]"
      ]
     },
     "execution_count": 48,
     "metadata": {},
     "output_type": "execute_result"
    }
   ],
   "source": [
    "#для определения пропущенных значений в столбце days_employed используем методы loc и isna()\n",
    "\n",
    "data.loc[data['days_employed'].isna()]"
   ]
  },
  {
   "cell_type": "code",
   "execution_count": 49,
   "id": "fff28bc5",
   "metadata": {},
   "outputs": [
    {
     "data": {
      "text/plain": [
       "0"
      ]
     },
     "execution_count": 49,
     "metadata": {},
     "output_type": "execute_result"
    }
   ],
   "source": [
    "#с помощью метода fillna() заполним пропущенные значения в столбце days_employed на нулевое значение, \n",
    "#т.к. этот столбец не участвует в расчете влияния на срок погашения кредита\n",
    "\n",
    "data['days_employed'] = data['days_employed'].fillna(0)\n",
    "\n",
    "#посчитаем количество пропущенных значений в столбце days_employed с помощью функции len()\n",
    "\n",
    "len(data[data['days_employed'].isna()])"
   ]
  },
  {
   "cell_type": "code",
   "execution_count": 50,
   "id": "7f10ca4c",
   "metadata": {},
   "outputs": [
    {
     "data": {
      "text/html": [
       "<div>\n",
       "<style scoped>\n",
       "    .dataframe tbody tr th:only-of-type {\n",
       "        vertical-align: middle;\n",
       "    }\n",
       "\n",
       "    .dataframe tbody tr th {\n",
       "        vertical-align: top;\n",
       "    }\n",
       "\n",
       "    .dataframe thead th {\n",
       "        text-align: right;\n",
       "    }\n",
       "</style>\n",
       "<table border=\"1\" class=\"dataframe\">\n",
       "  <thead>\n",
       "    <tr style=\"text-align: right;\">\n",
       "      <th></th>\n",
       "      <th>children</th>\n",
       "      <th>days_employed</th>\n",
       "      <th>dob_years</th>\n",
       "      <th>education</th>\n",
       "      <th>education_id</th>\n",
       "      <th>family_status</th>\n",
       "      <th>family_status_id</th>\n",
       "      <th>gender</th>\n",
       "      <th>income_type</th>\n",
       "      <th>debt</th>\n",
       "      <th>total_income</th>\n",
       "      <th>purpose</th>\n",
       "    </tr>\n",
       "  </thead>\n",
       "  <tbody>\n",
       "    <tr>\n",
       "      <th>12</th>\n",
       "      <td>0</td>\n",
       "      <td>0.0</td>\n",
       "      <td>65</td>\n",
       "      <td>среднее</td>\n",
       "      <td>1</td>\n",
       "      <td>гражданский брак</td>\n",
       "      <td>1</td>\n",
       "      <td>M</td>\n",
       "      <td>пенсионер</td>\n",
       "      <td>0</td>\n",
       "      <td>NaN</td>\n",
       "      <td>сыграть свадьбу</td>\n",
       "    </tr>\n",
       "    <tr>\n",
       "      <th>26</th>\n",
       "      <td>0</td>\n",
       "      <td>0.0</td>\n",
       "      <td>41</td>\n",
       "      <td>среднее</td>\n",
       "      <td>1</td>\n",
       "      <td>женат / замужем</td>\n",
       "      <td>0</td>\n",
       "      <td>M</td>\n",
       "      <td>госслужащий</td>\n",
       "      <td>0</td>\n",
       "      <td>NaN</td>\n",
       "      <td>образование</td>\n",
       "    </tr>\n",
       "    <tr>\n",
       "      <th>29</th>\n",
       "      <td>0</td>\n",
       "      <td>0.0</td>\n",
       "      <td>63</td>\n",
       "      <td>среднее</td>\n",
       "      <td>1</td>\n",
       "      <td>Не женат / не замужем</td>\n",
       "      <td>4</td>\n",
       "      <td>F</td>\n",
       "      <td>пенсионер</td>\n",
       "      <td>0</td>\n",
       "      <td>NaN</td>\n",
       "      <td>строительство жилой недвижимости</td>\n",
       "    </tr>\n",
       "    <tr>\n",
       "      <th>41</th>\n",
       "      <td>0</td>\n",
       "      <td>0.0</td>\n",
       "      <td>50</td>\n",
       "      <td>среднее</td>\n",
       "      <td>1</td>\n",
       "      <td>женат / замужем</td>\n",
       "      <td>0</td>\n",
       "      <td>F</td>\n",
       "      <td>госслужащий</td>\n",
       "      <td>0</td>\n",
       "      <td>NaN</td>\n",
       "      <td>сделка с подержанным автомобилем</td>\n",
       "    </tr>\n",
       "    <tr>\n",
       "      <th>55</th>\n",
       "      <td>0</td>\n",
       "      <td>0.0</td>\n",
       "      <td>54</td>\n",
       "      <td>среднее</td>\n",
       "      <td>1</td>\n",
       "      <td>гражданский брак</td>\n",
       "      <td>1</td>\n",
       "      <td>F</td>\n",
       "      <td>пенсионер</td>\n",
       "      <td>1</td>\n",
       "      <td>NaN</td>\n",
       "      <td>сыграть свадьбу</td>\n",
       "    </tr>\n",
       "    <tr>\n",
       "      <th>...</th>\n",
       "      <td>...</td>\n",
       "      <td>...</td>\n",
       "      <td>...</td>\n",
       "      <td>...</td>\n",
       "      <td>...</td>\n",
       "      <td>...</td>\n",
       "      <td>...</td>\n",
       "      <td>...</td>\n",
       "      <td>...</td>\n",
       "      <td>...</td>\n",
       "      <td>...</td>\n",
       "      <td>...</td>\n",
       "    </tr>\n",
       "    <tr>\n",
       "      <th>21489</th>\n",
       "      <td>2</td>\n",
       "      <td>0.0</td>\n",
       "      <td>47</td>\n",
       "      <td>Среднее</td>\n",
       "      <td>1</td>\n",
       "      <td>женат / замужем</td>\n",
       "      <td>0</td>\n",
       "      <td>M</td>\n",
       "      <td>компаньон</td>\n",
       "      <td>0</td>\n",
       "      <td>NaN</td>\n",
       "      <td>сделка с автомобилем</td>\n",
       "    </tr>\n",
       "    <tr>\n",
       "      <th>21495</th>\n",
       "      <td>1</td>\n",
       "      <td>0.0</td>\n",
       "      <td>50</td>\n",
       "      <td>среднее</td>\n",
       "      <td>1</td>\n",
       "      <td>гражданский брак</td>\n",
       "      <td>1</td>\n",
       "      <td>F</td>\n",
       "      <td>сотрудник</td>\n",
       "      <td>0</td>\n",
       "      <td>NaN</td>\n",
       "      <td>свадьба</td>\n",
       "    </tr>\n",
       "    <tr>\n",
       "      <th>21497</th>\n",
       "      <td>0</td>\n",
       "      <td>0.0</td>\n",
       "      <td>48</td>\n",
       "      <td>ВЫСШЕЕ</td>\n",
       "      <td>0</td>\n",
       "      <td>женат / замужем</td>\n",
       "      <td>0</td>\n",
       "      <td>F</td>\n",
       "      <td>компаньон</td>\n",
       "      <td>0</td>\n",
       "      <td>NaN</td>\n",
       "      <td>строительство недвижимости</td>\n",
       "    </tr>\n",
       "    <tr>\n",
       "      <th>21502</th>\n",
       "      <td>1</td>\n",
       "      <td>0.0</td>\n",
       "      <td>42</td>\n",
       "      <td>среднее</td>\n",
       "      <td>1</td>\n",
       "      <td>женат / замужем</td>\n",
       "      <td>0</td>\n",
       "      <td>F</td>\n",
       "      <td>сотрудник</td>\n",
       "      <td>0</td>\n",
       "      <td>NaN</td>\n",
       "      <td>строительство жилой недвижимости</td>\n",
       "    </tr>\n",
       "    <tr>\n",
       "      <th>21510</th>\n",
       "      <td>2</td>\n",
       "      <td>0.0</td>\n",
       "      <td>28</td>\n",
       "      <td>среднее</td>\n",
       "      <td>1</td>\n",
       "      <td>женат / замужем</td>\n",
       "      <td>0</td>\n",
       "      <td>F</td>\n",
       "      <td>сотрудник</td>\n",
       "      <td>0</td>\n",
       "      <td>NaN</td>\n",
       "      <td>приобретение автомобиля</td>\n",
       "    </tr>\n",
       "  </tbody>\n",
       "</table>\n",
       "<p>2174 rows × 12 columns</p>\n",
       "</div>"
      ],
      "text/plain": [
       "       children  days_employed  dob_years education  education_id  \\\n",
       "12            0            0.0         65   среднее             1   \n",
       "26            0            0.0         41   среднее             1   \n",
       "29            0            0.0         63   среднее             1   \n",
       "41            0            0.0         50   среднее             1   \n",
       "55            0            0.0         54   среднее             1   \n",
       "...         ...            ...        ...       ...           ...   \n",
       "21489         2            0.0         47   Среднее             1   \n",
       "21495         1            0.0         50   среднее             1   \n",
       "21497         0            0.0         48    ВЫСШЕЕ             0   \n",
       "21502         1            0.0         42   среднее             1   \n",
       "21510         2            0.0         28   среднее             1   \n",
       "\n",
       "               family_status  family_status_id gender  income_type  debt  \\\n",
       "12          гражданский брак                 1      M    пенсионер     0   \n",
       "26           женат / замужем                 0      M  госслужащий     0   \n",
       "29     Не женат / не замужем                 4      F    пенсионер     0   \n",
       "41           женат / замужем                 0      F  госслужащий     0   \n",
       "55          гражданский брак                 1      F    пенсионер     1   \n",
       "...                      ...               ...    ...          ...   ...   \n",
       "21489        женат / замужем                 0      M    компаньон     0   \n",
       "21495       гражданский брак                 1      F    сотрудник     0   \n",
       "21497        женат / замужем                 0      F    компаньон     0   \n",
       "21502        женат / замужем                 0      F    сотрудник     0   \n",
       "21510        женат / замужем                 0      F    сотрудник     0   \n",
       "\n",
       "       total_income                           purpose  \n",
       "12              NaN                   сыграть свадьбу  \n",
       "26              NaN                       образование  \n",
       "29              NaN  строительство жилой недвижимости  \n",
       "41              NaN  сделка с подержанным автомобилем  \n",
       "55              NaN                   сыграть свадьбу  \n",
       "...             ...                               ...  \n",
       "21489           NaN              сделка с автомобилем  \n",
       "21495           NaN                           свадьба  \n",
       "21497           NaN        строительство недвижимости  \n",
       "21502           NaN  строительство жилой недвижимости  \n",
       "21510           NaN           приобретение автомобиля  \n",
       "\n",
       "[2174 rows x 12 columns]"
      ]
     },
     "execution_count": 50,
     "metadata": {},
     "output_type": "execute_result"
    }
   ],
   "source": [
    "#для определения пропущенных значений в столбце total_income используем методы loc и isna()\n",
    "\n",
    "data.loc[data['total_income'].isna()]"
   ]
  },
  {
   "cell_type": "markdown",
   "id": "97923e3c",
   "metadata": {},
   "source": [
    "Поскольку столбец total_income содержит количественные значения, которые участвуют в оценке платежеспособности клиентов банка, мы не можем заполнить пропущенные строки нулевым значением или пустой строкой. Пропущенные значения общего дохода заполним медианным значением по категориям плательщиков, поскольку среднее значение можеть сильно исказить результаты исследования."
   ]
  },
  {
   "cell_type": "code",
   "execution_count": 51,
   "id": "cdda4fbd",
   "metadata": {},
   "outputs": [
    {
     "data": {
      "text/plain": [
       "0"
      ]
     },
     "execution_count": 51,
     "metadata": {},
     "output_type": "execute_result"
    }
   ],
   "source": [
    "#сгруппируем данные total_income по категориям income_type и заменим пропуски на медианные значения \n",
    "#с помощью метода transform(). Результат сохраним в переменной data['total_income']\n",
    "\n",
    "data['total_income'] = data.groupby('income_type')['total_income'].transform(lambda x: x.fillna(x.median()))\n",
    "\n",
    "#посчитаем количество пропущенных значений в столбце income_total\n",
    "\n",
    "len(data[data['total_income'].isna()])\n"
   ]
  },
  {
   "cell_type": "markdown",
   "id": "60385a9c",
   "metadata": {},
   "source": [
    "Столбец children содержит данные о количестве детей и содержит пропущенные значения. Вероятно, не все клиенты банка хотели указывать данные о наличии детей. Это могло быть причиной возникновения пропущенных значений. Для дальнейших расчетов заменим пропуски средним значением количества детей по категориям клиентов."
   ]
  },
  {
   "cell_type": "code",
   "execution_count": 52,
   "id": "849576c1",
   "metadata": {},
   "outputs": [
    {
     "data": {
      "text/plain": [
       "0"
      ]
     },
     "execution_count": 52,
     "metadata": {},
     "output_type": "execute_result"
    }
   ],
   "source": [
    "#находим среднее количество детей по категориям income_type\n",
    "\n",
    "children_med_by_type = data.groupby('income_type')['children'].mean()\n",
    "\n",
    "#заменим пропущенные значения в столбце children средним значением\n",
    "\n",
    "data['children'].fillna(children_med_by_type, inplace = True)\n",
    "\n",
    "#проверим количество пропущенных значений в столбце children\n",
    "\n",
    "len(data[data['children'].isna()])\n"
   ]
  },
  {
   "cell_type": "markdown",
   "id": "55564964",
   "metadata": {},
   "source": [
    "Пропущенные значения в столбцах family_status и family_status_id являются категориальными. Мы не можем заполнить их каким-либо значением по умолчанию, поскольку точно не знаем какое значение выбрать. Возможно, причиной пропусков стало то, что информация о семейном статусе личная и для клиента банка не очевидная, чтобы указывать её в анкете на получение кредита. В любом случае, какая-то часть выборки не будет учитываться из-за пропущенных значений в этих двух столбцах, поэтому заполним их нулевым значением."
   ]
  },
  {
   "cell_type": "code",
   "execution_count": 53,
   "id": "056f5903",
   "metadata": {},
   "outputs": [
    {
     "data": {
      "text/plain": [
       "0"
      ]
     },
     "execution_count": 53,
     "metadata": {},
     "output_type": "execute_result"
    }
   ],
   "source": [
    "#заполним пропущенные значения в столбце family_status нулевым значением\n",
    "\n",
    "data['family_status'] = data['family_status'].fillna(0)\n",
    "\n",
    "#посчитаем количество пропущенных строк\n",
    "\n",
    "len(data[data['family_status'].isna()])"
   ]
  },
  {
   "cell_type": "code",
   "execution_count": 54,
   "id": "7dbcdb44",
   "metadata": {},
   "outputs": [
    {
     "data": {
      "text/plain": [
       "0"
      ]
     },
     "execution_count": 54,
     "metadata": {},
     "output_type": "execute_result"
    }
   ],
   "source": [
    "#заполним пропущенные значения в столбце family_status_id нулевым значением\n",
    "\n",
    "data['family_status_id'] = data['family_status_id'].fillna(0)\n",
    "\n",
    "#посчитаем количество пропущенных строк\n",
    "\n",
    "len(data[data['family_status_id'].isna()])"
   ]
  },
  {
   "cell_type": "code",
   "execution_count": 55,
   "id": "9fdccf30",
   "metadata": {},
   "outputs": [
    {
     "data": {
      "text/plain": [
       "children            0\n",
       "days_employed       0\n",
       "dob_years           0\n",
       "education           0\n",
       "education_id        0\n",
       "family_status       0\n",
       "family_status_id    0\n",
       "gender              0\n",
       "income_type         0\n",
       "debt                0\n",
       "total_income        0\n",
       "purpose             0\n",
       "dtype: int64"
      ]
     },
     "execution_count": 55,
     "metadata": {},
     "output_type": "execute_result"
    }
   ],
   "source": [
    "data.isna().sum()"
   ]
  },
  {
   "cell_type": "code",
   "execution_count": 56,
   "id": "4201dec1",
   "metadata": {},
   "outputs": [
    {
     "data": {
      "text/html": [
       "<div>\n",
       "<style scoped>\n",
       "    .dataframe tbody tr th:only-of-type {\n",
       "        vertical-align: middle;\n",
       "    }\n",
       "\n",
       "    .dataframe tbody tr th {\n",
       "        vertical-align: top;\n",
       "    }\n",
       "\n",
       "    .dataframe thead th {\n",
       "        text-align: right;\n",
       "    }\n",
       "</style>\n",
       "<table border=\"1\" class=\"dataframe\">\n",
       "  <thead>\n",
       "    <tr style=\"text-align: right;\">\n",
       "      <th></th>\n",
       "      <th>children</th>\n",
       "      <th>days_employed</th>\n",
       "      <th>dob_years</th>\n",
       "      <th>education</th>\n",
       "      <th>education_id</th>\n",
       "      <th>family_status</th>\n",
       "      <th>family_status_id</th>\n",
       "      <th>gender</th>\n",
       "      <th>income_type</th>\n",
       "      <th>debt</th>\n",
       "      <th>total_income</th>\n",
       "      <th>purpose</th>\n",
       "    </tr>\n",
       "  </thead>\n",
       "  <tbody>\n",
       "    <tr>\n",
       "      <th>0</th>\n",
       "      <td>1</td>\n",
       "      <td>-8437.673028</td>\n",
       "      <td>42</td>\n",
       "      <td>высшее</td>\n",
       "      <td>0</td>\n",
       "      <td>женат / замужем</td>\n",
       "      <td>0</td>\n",
       "      <td>F</td>\n",
       "      <td>сотрудник</td>\n",
       "      <td>0</td>\n",
       "      <td>253875.639453</td>\n",
       "      <td>покупка жилья</td>\n",
       "    </tr>\n",
       "    <tr>\n",
       "      <th>1</th>\n",
       "      <td>1</td>\n",
       "      <td>-4024.803754</td>\n",
       "      <td>36</td>\n",
       "      <td>среднее</td>\n",
       "      <td>1</td>\n",
       "      <td>женат / замужем</td>\n",
       "      <td>0</td>\n",
       "      <td>F</td>\n",
       "      <td>сотрудник</td>\n",
       "      <td>0</td>\n",
       "      <td>112080.014102</td>\n",
       "      <td>приобретение автомобиля</td>\n",
       "    </tr>\n",
       "    <tr>\n",
       "      <th>2</th>\n",
       "      <td>0</td>\n",
       "      <td>-5623.422610</td>\n",
       "      <td>33</td>\n",
       "      <td>Среднее</td>\n",
       "      <td>1</td>\n",
       "      <td>женат / замужем</td>\n",
       "      <td>0</td>\n",
       "      <td>M</td>\n",
       "      <td>сотрудник</td>\n",
       "      <td>0</td>\n",
       "      <td>145885.952297</td>\n",
       "      <td>покупка жилья</td>\n",
       "    </tr>\n",
       "    <tr>\n",
       "      <th>3</th>\n",
       "      <td>3</td>\n",
       "      <td>-4124.747207</td>\n",
       "      <td>32</td>\n",
       "      <td>среднее</td>\n",
       "      <td>1</td>\n",
       "      <td>женат / замужем</td>\n",
       "      <td>0</td>\n",
       "      <td>M</td>\n",
       "      <td>сотрудник</td>\n",
       "      <td>0</td>\n",
       "      <td>267628.550329</td>\n",
       "      <td>дополнительное образование</td>\n",
       "    </tr>\n",
       "    <tr>\n",
       "      <th>4</th>\n",
       "      <td>0</td>\n",
       "      <td>340266.072047</td>\n",
       "      <td>53</td>\n",
       "      <td>среднее</td>\n",
       "      <td>1</td>\n",
       "      <td>гражданский брак</td>\n",
       "      <td>1</td>\n",
       "      <td>F</td>\n",
       "      <td>пенсионер</td>\n",
       "      <td>0</td>\n",
       "      <td>158616.077870</td>\n",
       "      <td>сыграть свадьбу</td>\n",
       "    </tr>\n",
       "    <tr>\n",
       "      <th>5</th>\n",
       "      <td>0</td>\n",
       "      <td>-926.185831</td>\n",
       "      <td>27</td>\n",
       "      <td>высшее</td>\n",
       "      <td>0</td>\n",
       "      <td>гражданский брак</td>\n",
       "      <td>1</td>\n",
       "      <td>M</td>\n",
       "      <td>компаньон</td>\n",
       "      <td>0</td>\n",
       "      <td>255763.565419</td>\n",
       "      <td>покупка жилья</td>\n",
       "    </tr>\n",
       "    <tr>\n",
       "      <th>6</th>\n",
       "      <td>0</td>\n",
       "      <td>-2879.202052</td>\n",
       "      <td>43</td>\n",
       "      <td>высшее</td>\n",
       "      <td>0</td>\n",
       "      <td>женат / замужем</td>\n",
       "      <td>0</td>\n",
       "      <td>F</td>\n",
       "      <td>компаньон</td>\n",
       "      <td>0</td>\n",
       "      <td>240525.971920</td>\n",
       "      <td>операции с жильем</td>\n",
       "    </tr>\n",
       "    <tr>\n",
       "      <th>7</th>\n",
       "      <td>0</td>\n",
       "      <td>-152.779569</td>\n",
       "      <td>50</td>\n",
       "      <td>СРЕДНЕЕ</td>\n",
       "      <td>1</td>\n",
       "      <td>женат / замужем</td>\n",
       "      <td>0</td>\n",
       "      <td>M</td>\n",
       "      <td>сотрудник</td>\n",
       "      <td>0</td>\n",
       "      <td>135823.934197</td>\n",
       "      <td>образование</td>\n",
       "    </tr>\n",
       "    <tr>\n",
       "      <th>8</th>\n",
       "      <td>2</td>\n",
       "      <td>-6929.865299</td>\n",
       "      <td>35</td>\n",
       "      <td>ВЫСШЕЕ</td>\n",
       "      <td>0</td>\n",
       "      <td>гражданский брак</td>\n",
       "      <td>1</td>\n",
       "      <td>F</td>\n",
       "      <td>сотрудник</td>\n",
       "      <td>0</td>\n",
       "      <td>95856.832424</td>\n",
       "      <td>на проведение свадьбы</td>\n",
       "    </tr>\n",
       "    <tr>\n",
       "      <th>9</th>\n",
       "      <td>0</td>\n",
       "      <td>-2188.756445</td>\n",
       "      <td>41</td>\n",
       "      <td>среднее</td>\n",
       "      <td>1</td>\n",
       "      <td>женат / замужем</td>\n",
       "      <td>0</td>\n",
       "      <td>M</td>\n",
       "      <td>сотрудник</td>\n",
       "      <td>0</td>\n",
       "      <td>144425.938277</td>\n",
       "      <td>покупка жилья для семьи</td>\n",
       "    </tr>\n",
       "  </tbody>\n",
       "</table>\n",
       "</div>"
      ],
      "text/plain": [
       "   children  days_employed  dob_years education  education_id  \\\n",
       "0         1   -8437.673028         42    высшее             0   \n",
       "1         1   -4024.803754         36   среднее             1   \n",
       "2         0   -5623.422610         33   Среднее             1   \n",
       "3         3   -4124.747207         32   среднее             1   \n",
       "4         0  340266.072047         53   среднее             1   \n",
       "5         0    -926.185831         27    высшее             0   \n",
       "6         0   -2879.202052         43    высшее             0   \n",
       "7         0    -152.779569         50   СРЕДНЕЕ             1   \n",
       "8         2   -6929.865299         35    ВЫСШЕЕ             0   \n",
       "9         0   -2188.756445         41   среднее             1   \n",
       "\n",
       "      family_status  family_status_id gender income_type  debt   total_income  \\\n",
       "0   женат / замужем                 0      F   сотрудник     0  253875.639453   \n",
       "1   женат / замужем                 0      F   сотрудник     0  112080.014102   \n",
       "2   женат / замужем                 0      M   сотрудник     0  145885.952297   \n",
       "3   женат / замужем                 0      M   сотрудник     0  267628.550329   \n",
       "4  гражданский брак                 1      F   пенсионер     0  158616.077870   \n",
       "5  гражданский брак                 1      M   компаньон     0  255763.565419   \n",
       "6   женат / замужем                 0      F   компаньон     0  240525.971920   \n",
       "7   женат / замужем                 0      M   сотрудник     0  135823.934197   \n",
       "8  гражданский брак                 1      F   сотрудник     0   95856.832424   \n",
       "9   женат / замужем                 0      M   сотрудник     0  144425.938277   \n",
       "\n",
       "                      purpose  \n",
       "0               покупка жилья  \n",
       "1     приобретение автомобиля  \n",
       "2               покупка жилья  \n",
       "3  дополнительное образование  \n",
       "4             сыграть свадьбу  \n",
       "5               покупка жилья  \n",
       "6           операции с жильем  \n",
       "7                 образование  \n",
       "8       на проведение свадьбы  \n",
       "9     покупка жилья для семьи  "
      ]
     },
     "execution_count": 56,
     "metadata": {},
     "output_type": "execute_result"
    }
   ],
   "source": [
    "#выведем на экран 10 первых строк, чтобы убедиться, что пропусков в столбцах больше нет\n",
    "\n",
    "data.head(10)"
   ]
  },
  {
   "cell_type": "code",
   "execution_count": 57,
   "id": "ebdd1274",
   "metadata": {},
   "outputs": [
    {
     "data": {
      "text/html": [
       "<div>\n",
       "<style scoped>\n",
       "    .dataframe tbody tr th:only-of-type {\n",
       "        vertical-align: middle;\n",
       "    }\n",
       "\n",
       "    .dataframe tbody tr th {\n",
       "        vertical-align: top;\n",
       "    }\n",
       "\n",
       "    .dataframe thead th {\n",
       "        text-align: right;\n",
       "    }\n",
       "</style>\n",
       "<table border=\"1\" class=\"dataframe\">\n",
       "  <thead>\n",
       "    <tr style=\"text-align: right;\">\n",
       "      <th></th>\n",
       "      <th>children</th>\n",
       "      <th>days_employed</th>\n",
       "      <th>dob_years</th>\n",
       "      <th>education</th>\n",
       "      <th>education_id</th>\n",
       "      <th>family_status</th>\n",
       "      <th>family_status_id</th>\n",
       "      <th>gender</th>\n",
       "      <th>income_type</th>\n",
       "      <th>debt</th>\n",
       "      <th>total_income</th>\n",
       "      <th>purpose</th>\n",
       "    </tr>\n",
       "  </thead>\n",
       "  <tbody>\n",
       "    <tr>\n",
       "      <th>21515</th>\n",
       "      <td>1</td>\n",
       "      <td>-467.685130</td>\n",
       "      <td>28</td>\n",
       "      <td>среднее</td>\n",
       "      <td>1</td>\n",
       "      <td>женат / замужем</td>\n",
       "      <td>0</td>\n",
       "      <td>F</td>\n",
       "      <td>сотрудник</td>\n",
       "      <td>1</td>\n",
       "      <td>109486.327999</td>\n",
       "      <td>заняться образованием</td>\n",
       "    </tr>\n",
       "    <tr>\n",
       "      <th>21516</th>\n",
       "      <td>0</td>\n",
       "      <td>-914.391429</td>\n",
       "      <td>42</td>\n",
       "      <td>высшее</td>\n",
       "      <td>0</td>\n",
       "      <td>женат / замужем</td>\n",
       "      <td>0</td>\n",
       "      <td>F</td>\n",
       "      <td>компаньон</td>\n",
       "      <td>0</td>\n",
       "      <td>322807.776603</td>\n",
       "      <td>покупка своего жилья</td>\n",
       "    </tr>\n",
       "    <tr>\n",
       "      <th>21517</th>\n",
       "      <td>0</td>\n",
       "      <td>-404.679034</td>\n",
       "      <td>42</td>\n",
       "      <td>высшее</td>\n",
       "      <td>0</td>\n",
       "      <td>гражданский брак</td>\n",
       "      <td>1</td>\n",
       "      <td>F</td>\n",
       "      <td>компаньон</td>\n",
       "      <td>0</td>\n",
       "      <td>178059.553491</td>\n",
       "      <td>на покупку своего автомобиля</td>\n",
       "    </tr>\n",
       "    <tr>\n",
       "      <th>21518</th>\n",
       "      <td>0</td>\n",
       "      <td>373995.710838</td>\n",
       "      <td>59</td>\n",
       "      <td>СРЕДНЕЕ</td>\n",
       "      <td>1</td>\n",
       "      <td>женат / замужем</td>\n",
       "      <td>0</td>\n",
       "      <td>F</td>\n",
       "      <td>пенсионер</td>\n",
       "      <td>0</td>\n",
       "      <td>153864.650328</td>\n",
       "      <td>сделка с автомобилем</td>\n",
       "    </tr>\n",
       "    <tr>\n",
       "      <th>21519</th>\n",
       "      <td>1</td>\n",
       "      <td>-2351.431934</td>\n",
       "      <td>37</td>\n",
       "      <td>ученая степень</td>\n",
       "      <td>4</td>\n",
       "      <td>в разводе</td>\n",
       "      <td>3</td>\n",
       "      <td>M</td>\n",
       "      <td>сотрудник</td>\n",
       "      <td>0</td>\n",
       "      <td>115949.039788</td>\n",
       "      <td>покупка коммерческой недвижимости</td>\n",
       "    </tr>\n",
       "    <tr>\n",
       "      <th>21520</th>\n",
       "      <td>1</td>\n",
       "      <td>-4529.316663</td>\n",
       "      <td>43</td>\n",
       "      <td>среднее</td>\n",
       "      <td>1</td>\n",
       "      <td>гражданский брак</td>\n",
       "      <td>1</td>\n",
       "      <td>F</td>\n",
       "      <td>компаньон</td>\n",
       "      <td>0</td>\n",
       "      <td>224791.862382</td>\n",
       "      <td>операции с жильем</td>\n",
       "    </tr>\n",
       "    <tr>\n",
       "      <th>21521</th>\n",
       "      <td>0</td>\n",
       "      <td>343937.404131</td>\n",
       "      <td>67</td>\n",
       "      <td>среднее</td>\n",
       "      <td>1</td>\n",
       "      <td>женат / замужем</td>\n",
       "      <td>0</td>\n",
       "      <td>F</td>\n",
       "      <td>пенсионер</td>\n",
       "      <td>0</td>\n",
       "      <td>155999.806512</td>\n",
       "      <td>сделка с автомобилем</td>\n",
       "    </tr>\n",
       "    <tr>\n",
       "      <th>21522</th>\n",
       "      <td>1</td>\n",
       "      <td>-2113.346888</td>\n",
       "      <td>38</td>\n",
       "      <td>среднее</td>\n",
       "      <td>1</td>\n",
       "      <td>гражданский брак</td>\n",
       "      <td>1</td>\n",
       "      <td>M</td>\n",
       "      <td>сотрудник</td>\n",
       "      <td>1</td>\n",
       "      <td>89672.561153</td>\n",
       "      <td>недвижимость</td>\n",
       "    </tr>\n",
       "    <tr>\n",
       "      <th>21523</th>\n",
       "      <td>3</td>\n",
       "      <td>-3112.481705</td>\n",
       "      <td>38</td>\n",
       "      <td>среднее</td>\n",
       "      <td>1</td>\n",
       "      <td>женат / замужем</td>\n",
       "      <td>0</td>\n",
       "      <td>M</td>\n",
       "      <td>сотрудник</td>\n",
       "      <td>1</td>\n",
       "      <td>244093.050500</td>\n",
       "      <td>на покупку своего автомобиля</td>\n",
       "    </tr>\n",
       "    <tr>\n",
       "      <th>21524</th>\n",
       "      <td>2</td>\n",
       "      <td>-1984.507589</td>\n",
       "      <td>40</td>\n",
       "      <td>среднее</td>\n",
       "      <td>1</td>\n",
       "      <td>женат / замужем</td>\n",
       "      <td>0</td>\n",
       "      <td>F</td>\n",
       "      <td>сотрудник</td>\n",
       "      <td>0</td>\n",
       "      <td>82047.418899</td>\n",
       "      <td>на покупку автомобиля</td>\n",
       "    </tr>\n",
       "  </tbody>\n",
       "</table>\n",
       "</div>"
      ],
      "text/plain": [
       "       children  days_employed  dob_years       education  education_id  \\\n",
       "21515         1    -467.685130         28         среднее             1   \n",
       "21516         0    -914.391429         42          высшее             0   \n",
       "21517         0    -404.679034         42          высшее             0   \n",
       "21518         0  373995.710838         59         СРЕДНЕЕ             1   \n",
       "21519         1   -2351.431934         37  ученая степень             4   \n",
       "21520         1   -4529.316663         43         среднее             1   \n",
       "21521         0  343937.404131         67         среднее             1   \n",
       "21522         1   -2113.346888         38         среднее             1   \n",
       "21523         3   -3112.481705         38         среднее             1   \n",
       "21524         2   -1984.507589         40         среднее             1   \n",
       "\n",
       "          family_status  family_status_id gender income_type  debt  \\\n",
       "21515   женат / замужем                 0      F   сотрудник     1   \n",
       "21516   женат / замужем                 0      F   компаньон     0   \n",
       "21517  гражданский брак                 1      F   компаньон     0   \n",
       "21518   женат / замужем                 0      F   пенсионер     0   \n",
       "21519         в разводе                 3      M   сотрудник     0   \n",
       "21520  гражданский брак                 1      F   компаньон     0   \n",
       "21521   женат / замужем                 0      F   пенсионер     0   \n",
       "21522  гражданский брак                 1      M   сотрудник     1   \n",
       "21523   женат / замужем                 0      M   сотрудник     1   \n",
       "21524   женат / замужем                 0      F   сотрудник     0   \n",
       "\n",
       "        total_income                            purpose  \n",
       "21515  109486.327999              заняться образованием  \n",
       "21516  322807.776603               покупка своего жилья  \n",
       "21517  178059.553491       на покупку своего автомобиля  \n",
       "21518  153864.650328               сделка с автомобилем  \n",
       "21519  115949.039788  покупка коммерческой недвижимости  \n",
       "21520  224791.862382                  операции с жильем  \n",
       "21521  155999.806512               сделка с автомобилем  \n",
       "21522   89672.561153                       недвижимость  \n",
       "21523  244093.050500       на покупку своего автомобиля  \n",
       "21524   82047.418899              на покупку автомобиля  "
      ]
     },
     "execution_count": 57,
     "metadata": {},
     "output_type": "execute_result"
    }
   ],
   "source": [
    "#выведем на экран 10 последних строк, чтобы убедиться, что пропусков в столбцах больше нет\n",
    "\n",
    "data.tail(10)"
   ]
  },
  {
   "cell_type": "markdown",
   "id": "c8989114",
   "metadata": {},
   "source": [
    "**Вывод**\n",
    "\n",
    "В зависимости от типа значений (категориальные или количественные) пропущенные значения были заменены в столбцах, которые необходимы для проведения исследования. Для заполнения пропущенных количественных значений, влияющих на результаты исследования (столбцы total_income, children) был применены методы их замены на медианные значения (столбец со значением общего дохода) и средние значения (количество детей) в разрезе категорий клиентов банка. В столбцах с пропущенными категориальными значениями (family_status, family_status_id), они были заполнены нулевым значением, поскольку мы не знаем точно о том, какое значение из указанных столбцов для заполнения подошло бы лучше. Данные в таблице готовы для дальнейшей предобработки."
   ]
  },
  {
   "cell_type": "markdown",
   "id": "ce31884d",
   "metadata": {},
   "source": [
    "### Замена типа данных"
   ]
  },
  {
   "cell_type": "markdown",
   "id": "ecf35d2f",
   "metadata": {},
   "source": [
    "Из данных о таблице видно, что столбец days_employed содержит данные типа string, хотя по факту это вещественные числа с отрицательным значением. Необходимо привести данные столбца к нужному типу данных и корректным значениям."
   ]
  },
  {
   "cell_type": "code",
   "execution_count": 58,
   "id": "cfd78d43",
   "metadata": {},
   "outputs": [
    {
     "name": "stdout",
     "output_type": "stream",
     "text": [
      "<class 'pandas.core.frame.DataFrame'>\n",
      "RangeIndex: 21525 entries, 0 to 21524\n",
      "Data columns (total 12 columns):\n",
      " #   Column            Non-Null Count  Dtype  \n",
      "---  ------            --------------  -----  \n",
      " 0   children          21525 non-null  int64  \n",
      " 1   days_employed     21525 non-null  float64\n",
      " 2   dob_years         21525 non-null  int64  \n",
      " 3   education         21525 non-null  object \n",
      " 4   education_id      21525 non-null  int64  \n",
      " 5   family_status     21525 non-null  object \n",
      " 6   family_status_id  21525 non-null  int64  \n",
      " 7   gender            21525 non-null  object \n",
      " 8   income_type       21525 non-null  object \n",
      " 9   debt              21525 non-null  int64  \n",
      " 10  total_income      21525 non-null  float64\n",
      " 11  purpose           21525 non-null  object \n",
      "dtypes: float64(2), int64(5), object(5)\n",
      "memory usage: 2.0+ MB\n"
     ]
    }
   ],
   "source": [
    "#преобразуем значения string во float с помощью метода to_numeric\n",
    "\n",
    "data['days_employed'] = pd.to_numeric(data['days_employed']) \n",
    "\n",
    "#проверим изменился ли тип данных\n",
    "\n",
    "data.info()"
   ]
  },
  {
   "cell_type": "code",
   "execution_count": 59,
   "id": "fa7f107a",
   "metadata": {},
   "outputs": [
    {
     "data": {
      "text/html": [
       "<div>\n",
       "<style scoped>\n",
       "    .dataframe tbody tr th:only-of-type {\n",
       "        vertical-align: middle;\n",
       "    }\n",
       "\n",
       "    .dataframe tbody tr th {\n",
       "        vertical-align: top;\n",
       "    }\n",
       "\n",
       "    .dataframe thead th {\n",
       "        text-align: right;\n",
       "    }\n",
       "</style>\n",
       "<table border=\"1\" class=\"dataframe\">\n",
       "  <thead>\n",
       "    <tr style=\"text-align: right;\">\n",
       "      <th></th>\n",
       "      <th>children</th>\n",
       "      <th>days_employed</th>\n",
       "      <th>dob_years</th>\n",
       "      <th>education</th>\n",
       "      <th>education_id</th>\n",
       "      <th>family_status</th>\n",
       "      <th>family_status_id</th>\n",
       "      <th>gender</th>\n",
       "      <th>income_type</th>\n",
       "      <th>debt</th>\n",
       "      <th>total_income</th>\n",
       "      <th>purpose</th>\n",
       "    </tr>\n",
       "  </thead>\n",
       "  <tbody>\n",
       "    <tr>\n",
       "      <th>0</th>\n",
       "      <td>1</td>\n",
       "      <td>8437</td>\n",
       "      <td>42</td>\n",
       "      <td>высшее</td>\n",
       "      <td>0</td>\n",
       "      <td>женат / замужем</td>\n",
       "      <td>0</td>\n",
       "      <td>F</td>\n",
       "      <td>сотрудник</td>\n",
       "      <td>0</td>\n",
       "      <td>253875.639453</td>\n",
       "      <td>покупка жилья</td>\n",
       "    </tr>\n",
       "    <tr>\n",
       "      <th>1</th>\n",
       "      <td>1</td>\n",
       "      <td>4024</td>\n",
       "      <td>36</td>\n",
       "      <td>среднее</td>\n",
       "      <td>1</td>\n",
       "      <td>женат / замужем</td>\n",
       "      <td>0</td>\n",
       "      <td>F</td>\n",
       "      <td>сотрудник</td>\n",
       "      <td>0</td>\n",
       "      <td>112080.014102</td>\n",
       "      <td>приобретение автомобиля</td>\n",
       "    </tr>\n",
       "    <tr>\n",
       "      <th>2</th>\n",
       "      <td>0</td>\n",
       "      <td>5623</td>\n",
       "      <td>33</td>\n",
       "      <td>Среднее</td>\n",
       "      <td>1</td>\n",
       "      <td>женат / замужем</td>\n",
       "      <td>0</td>\n",
       "      <td>M</td>\n",
       "      <td>сотрудник</td>\n",
       "      <td>0</td>\n",
       "      <td>145885.952297</td>\n",
       "      <td>покупка жилья</td>\n",
       "    </tr>\n",
       "    <tr>\n",
       "      <th>3</th>\n",
       "      <td>3</td>\n",
       "      <td>4124</td>\n",
       "      <td>32</td>\n",
       "      <td>среднее</td>\n",
       "      <td>1</td>\n",
       "      <td>женат / замужем</td>\n",
       "      <td>0</td>\n",
       "      <td>M</td>\n",
       "      <td>сотрудник</td>\n",
       "      <td>0</td>\n",
       "      <td>267628.550329</td>\n",
       "      <td>дополнительное образование</td>\n",
       "    </tr>\n",
       "    <tr>\n",
       "      <th>4</th>\n",
       "      <td>0</td>\n",
       "      <td>340266</td>\n",
       "      <td>53</td>\n",
       "      <td>среднее</td>\n",
       "      <td>1</td>\n",
       "      <td>гражданский брак</td>\n",
       "      <td>1</td>\n",
       "      <td>F</td>\n",
       "      <td>пенсионер</td>\n",
       "      <td>0</td>\n",
       "      <td>158616.077870</td>\n",
       "      <td>сыграть свадьбу</td>\n",
       "    </tr>\n",
       "    <tr>\n",
       "      <th>5</th>\n",
       "      <td>0</td>\n",
       "      <td>926</td>\n",
       "      <td>27</td>\n",
       "      <td>высшее</td>\n",
       "      <td>0</td>\n",
       "      <td>гражданский брак</td>\n",
       "      <td>1</td>\n",
       "      <td>M</td>\n",
       "      <td>компаньон</td>\n",
       "      <td>0</td>\n",
       "      <td>255763.565419</td>\n",
       "      <td>покупка жилья</td>\n",
       "    </tr>\n",
       "    <tr>\n",
       "      <th>6</th>\n",
       "      <td>0</td>\n",
       "      <td>2879</td>\n",
       "      <td>43</td>\n",
       "      <td>высшее</td>\n",
       "      <td>0</td>\n",
       "      <td>женат / замужем</td>\n",
       "      <td>0</td>\n",
       "      <td>F</td>\n",
       "      <td>компаньон</td>\n",
       "      <td>0</td>\n",
       "      <td>240525.971920</td>\n",
       "      <td>операции с жильем</td>\n",
       "    </tr>\n",
       "    <tr>\n",
       "      <th>7</th>\n",
       "      <td>0</td>\n",
       "      <td>152</td>\n",
       "      <td>50</td>\n",
       "      <td>СРЕДНЕЕ</td>\n",
       "      <td>1</td>\n",
       "      <td>женат / замужем</td>\n",
       "      <td>0</td>\n",
       "      <td>M</td>\n",
       "      <td>сотрудник</td>\n",
       "      <td>0</td>\n",
       "      <td>135823.934197</td>\n",
       "      <td>образование</td>\n",
       "    </tr>\n",
       "    <tr>\n",
       "      <th>8</th>\n",
       "      <td>2</td>\n",
       "      <td>6929</td>\n",
       "      <td>35</td>\n",
       "      <td>ВЫСШЕЕ</td>\n",
       "      <td>0</td>\n",
       "      <td>гражданский брак</td>\n",
       "      <td>1</td>\n",
       "      <td>F</td>\n",
       "      <td>сотрудник</td>\n",
       "      <td>0</td>\n",
       "      <td>95856.832424</td>\n",
       "      <td>на проведение свадьбы</td>\n",
       "    </tr>\n",
       "    <tr>\n",
       "      <th>9</th>\n",
       "      <td>0</td>\n",
       "      <td>2188</td>\n",
       "      <td>41</td>\n",
       "      <td>среднее</td>\n",
       "      <td>1</td>\n",
       "      <td>женат / замужем</td>\n",
       "      <td>0</td>\n",
       "      <td>M</td>\n",
       "      <td>сотрудник</td>\n",
       "      <td>0</td>\n",
       "      <td>144425.938277</td>\n",
       "      <td>покупка жилья для семьи</td>\n",
       "    </tr>\n",
       "  </tbody>\n",
       "</table>\n",
       "</div>"
      ],
      "text/plain": [
       "   children  days_employed  dob_years education  education_id  \\\n",
       "0         1           8437         42    высшее             0   \n",
       "1         1           4024         36   среднее             1   \n",
       "2         0           5623         33   Среднее             1   \n",
       "3         3           4124         32   среднее             1   \n",
       "4         0         340266         53   среднее             1   \n",
       "5         0            926         27    высшее             0   \n",
       "6         0           2879         43    высшее             0   \n",
       "7         0            152         50   СРЕДНЕЕ             1   \n",
       "8         2           6929         35    ВЫСШЕЕ             0   \n",
       "9         0           2188         41   среднее             1   \n",
       "\n",
       "      family_status  family_status_id gender income_type  debt   total_income  \\\n",
       "0   женат / замужем                 0      F   сотрудник     0  253875.639453   \n",
       "1   женат / замужем                 0      F   сотрудник     0  112080.014102   \n",
       "2   женат / замужем                 0      M   сотрудник     0  145885.952297   \n",
       "3   женат / замужем                 0      M   сотрудник     0  267628.550329   \n",
       "4  гражданский брак                 1      F   пенсионер     0  158616.077870   \n",
       "5  гражданский брак                 1      M   компаньон     0  255763.565419   \n",
       "6   женат / замужем                 0      F   компаньон     0  240525.971920   \n",
       "7   женат / замужем                 0      M   сотрудник     0  135823.934197   \n",
       "8  гражданский брак                 1      F   сотрудник     0   95856.832424   \n",
       "9   женат / замужем                 0      M   сотрудник     0  144425.938277   \n",
       "\n",
       "                      purpose  \n",
       "0               покупка жилья  \n",
       "1     приобретение автомобиля  \n",
       "2               покупка жилья  \n",
       "3  дополнительное образование  \n",
       "4             сыграть свадьбу  \n",
       "5               покупка жилья  \n",
       "6           операции с жильем  \n",
       "7                 образование  \n",
       "8       на проведение свадьбы  \n",
       "9     покупка жилья для семьи  "
      ]
     },
     "execution_count": 59,
     "metadata": {},
     "output_type": "execute_result"
    }
   ],
   "source": [
    "#заменим отрицательные значения в столбце days_employed положительными с помощью функции abs()\n",
    "# и изменим данные с float на int. Результат сохраним в переменной data['days_employed']\n",
    "\n",
    "data['days_employed'] = data['days_employed'].abs().astype('int')\n",
    "\n",
    "#выведем первые 10 строк на экран\n",
    "\n",
    "data.head(10)"
   ]
  },
  {
   "cell_type": "code",
   "execution_count": 60,
   "id": "41528806",
   "metadata": {},
   "outputs": [
    {
     "name": "stdout",
     "output_type": "stream",
     "text": [
      "<class 'pandas.core.frame.DataFrame'>\n",
      "RangeIndex: 21525 entries, 0 to 21524\n",
      "Data columns (total 12 columns):\n",
      " #   Column            Non-Null Count  Dtype \n",
      "---  ------            --------------  ----- \n",
      " 0   children          21525 non-null  int64 \n",
      " 1   days_employed     21525 non-null  int64 \n",
      " 2   dob_years         21525 non-null  int64 \n",
      " 3   education         21525 non-null  object\n",
      " 4   education_id      21525 non-null  int64 \n",
      " 5   family_status     21525 non-null  object\n",
      " 6   family_status_id  21525 non-null  int64 \n",
      " 7   gender            21525 non-null  object\n",
      " 8   income_type       21525 non-null  object\n",
      " 9   debt              21525 non-null  int64 \n",
      " 10  total_income      21525 non-null  int64 \n",
      " 11  purpose           21525 non-null  object\n",
      "dtypes: int64(7), object(5)\n",
      "memory usage: 2.0+ MB\n"
     ]
    }
   ],
   "source": [
    "#изменим данные с float на int. Результат сохраним в переменной data['total_income']\n",
    "\n",
    "data['total_income'] = data['total_income'].astype('int')\n",
    "\n",
    "#выведем первые 10 строк на экран\n",
    "\n",
    "data.head(10)\n",
    "#проверим тип данных методом info()\n",
    "data.info()"
   ]
  },
  {
   "cell_type": "markdown",
   "id": "7061f0cd",
   "metadata": {},
   "source": [
    "**Вывод**"
   ]
  },
  {
   "cell_type": "markdown",
   "id": "b5080ed3",
   "metadata": {},
   "source": [
    "Среди предоставленных банком данных о платежеспособности клиентов в разрезе значений трудового стажа были замечены следующие ошибки в данных:\n",
    "1. Несоответствие типа данных со значениями;\n",
    "2. Отрицательные значения.\n",
    "\n",
    "Также среди значений о трудовом стаже и совокупном доходе были замечены вещественные числа, которые визуально усложняют восприятие данных. С помощью методов, доступных в библиотеке pandas, значения в столбцах с некорректными данными были приведены в надлежащий вид, необходимый для проведения дальнейшей предобработки."
   ]
  },
  {
   "cell_type": "markdown",
   "id": "d6f02fec",
   "metadata": {},
   "source": [
    "### Обработка дубликатов"
   ]
  },
  {
   "cell_type": "code",
   "execution_count": 61,
   "id": "36d19145",
   "metadata": {},
   "outputs": [
    {
     "data": {
      "text/plain": [
       "54"
      ]
     },
     "execution_count": 61,
     "metadata": {},
     "output_type": "execute_result"
    }
   ],
   "source": [
    "#посчитаем количество дубликатов в таблице\n",
    "\n",
    "data.duplicated().sum()"
   ]
  },
  {
   "cell_type": "code",
   "execution_count": 62,
   "id": "700df61b",
   "metadata": {},
   "outputs": [],
   "source": [
    "# Избавление от явных дубликатов\n",
    "data = data.drop_duplicates().reset_index(drop=True)"
   ]
  },
  {
   "cell_type": "code",
   "execution_count": 63,
   "id": "f02da212",
   "metadata": {},
   "outputs": [
    {
     "data": {
      "text/plain": [
       "0"
      ]
     },
     "execution_count": 63,
     "metadata": {},
     "output_type": "execute_result"
    }
   ],
   "source": [
    "# Подсчёт явных дубликатов в таблице\n",
    "data.duplicated().sum()"
   ]
  },
  {
   "cell_type": "markdown",
   "id": "7f91043b",
   "metadata": {},
   "source": [
    "Из результата применения методов duplicated() и sum() видно, что датафрейм содержит дубликаты. Причинами их появления могут быть ошибки ввода данных, пропуск данных, наличие сокращений или аббревиатур, использование сочетания верхниго и нижнего регистра. Чтобы убедиться, что дубликаты удалены, необходимо просмотреть уникальные значения в столбцах, которые нам нужны для проведения исследования: children,family_status,family_status_id."
   ]
  },
  {
   "cell_type": "code",
   "execution_count": 64,
   "id": "3c504e2a",
   "metadata": {},
   "outputs": [
    {
     "data": {
      "text/plain": [
       " 0     14107\n",
       " 1      4809\n",
       " 2      2052\n",
       " 3       330\n",
       " 20       76\n",
       "-1        47\n",
       " 4        41\n",
       " 5         9\n",
       "Name: children, dtype: int64"
      ]
     },
     "execution_count": 64,
     "metadata": {},
     "output_type": "execute_result"
    }
   ],
   "source": [
    "#изучим уникальные значения и частоту их встречаемости в столбце children\n",
    "\n",
    "data['children'].value_counts()"
   ]
  },
  {
   "cell_type": "markdown",
   "id": "c4b58b86",
   "metadata": {},
   "source": [
    "Из результата применения метода value_counts() видно,что в столбце children встречаются аномальные значения: -1 и 20. Можно предположить, что это должны были быть значения 1 и 20, но точно мы этого не знаем, поэтому удалим эти строки. В целом, удаление строк с аномальными значениями не отразится критично на результатах исследования, т.к. их удельный вес в выборке мал (не достигает 1%). Для удаления строк будем использовать фильтр, т.к. нам известны только значения, которые нужно удалить, но нет данных о строках, в которых они находятся."
   ]
  },
  {
   "cell_type": "code",
   "execution_count": 65,
   "id": "99379ab5",
   "metadata": {},
   "outputs": [
    {
     "data": {
      "text/plain": [
       "0    14107\n",
       "1     4809\n",
       "2     2052\n",
       "3      330\n",
       "4       41\n",
       "5        9\n",
       "Name: children, dtype: int64"
      ]
     },
     "execution_count": 65,
     "metadata": {},
     "output_type": "execute_result"
    }
   ],
   "source": [
    "#отфильтруем (удалим) строки со значением 20 в столбце children\n",
    "\n",
    "data = data.loc[data['children']!=20]\n",
    "\n",
    "#отфильтруем (удалим) строки со значением -1 в столбце children\n",
    "\n",
    "data = data.loc[data['children']!=-1]\n",
    "\n",
    "#просмотрим уникальные значения столбца children\n",
    "\n",
    "data['children'].value_counts()"
   ]
  },
  {
   "cell_type": "code",
   "execution_count": 66,
   "id": "8a4aef70",
   "metadata": {},
   "outputs": [
    {
     "data": {
      "text/plain": [
       "женат / замужем          12266\n",
       "гражданский брак          4146\n",
       "Не женат / не замужем     2796\n",
       "в разводе                 1189\n",
       "вдовец / вдова             951\n",
       "Name: family_status, dtype: int64"
      ]
     },
     "execution_count": 66,
     "metadata": {},
     "output_type": "execute_result"
    }
   ],
   "source": [
    "#просмотрим уникальные значения в столбце family_status\n",
    "\n",
    "data['family_status'].value_counts()"
   ]
  },
  {
   "cell_type": "code",
   "execution_count": 67,
   "id": "526fc943",
   "metadata": {},
   "outputs": [
    {
     "data": {
      "text/plain": [
       "0    12266\n",
       "1     4146\n",
       "4     2796\n",
       "3     1189\n",
       "2      951\n",
       "Name: family_status_id, dtype: int64"
      ]
     },
     "execution_count": 67,
     "metadata": {},
     "output_type": "execute_result"
    }
   ],
   "source": [
    "#просмотрим уникальные значения в столбце family_status_id\n",
    "\n",
    "data['family_status_id'].value_counts()"
   ]
  },
  {
   "cell_type": "code",
   "execution_count": 68,
   "id": "7c82baa4",
   "metadata": {},
   "outputs": [
    {
     "data": {
      "text/plain": [
       "array(['высшее', 'среднее', 'Среднее', 'СРЕДНЕЕ', 'ВЫСШЕЕ',\n",
       "       'неоконченное высшее', 'начальное', 'Высшее',\n",
       "       'НЕОКОНЧЕННОЕ ВЫСШЕЕ', 'Неоконченное высшее', 'НАЧАЛЬНОЕ',\n",
       "       'Начальное', 'Ученая степень', 'УЧЕНАЯ СТЕПЕНЬ', 'ученая степень'],\n",
       "      dtype=object)"
      ]
     },
     "execution_count": 68,
     "metadata": {},
     "output_type": "execute_result"
    }
   ],
   "source": [
    "# Просмотр уникальных значений уровня образования клиентов\n",
    "data['education'].unique()"
   ]
  },
  {
   "cell_type": "code",
   "execution_count": 69,
   "id": "39fec545",
   "metadata": {},
   "outputs": [
    {
     "data": {
      "text/plain": [
       "array(['высшее', 'среднее', 'неоконченное высшее', 'начальное',\n",
       "       'ученая степень'], dtype=object)"
      ]
     },
     "execution_count": 69,
     "metadata": {},
     "output_type": "execute_result"
    }
   ],
   "source": [
    "# Изменение регистра в колонке образования\n",
    "data['education'] = data['education'].str.lower()\n",
    "data['education'].unique()"
   ]
  },
  {
   "cell_type": "code",
   "execution_count": 70,
   "id": "351a1b0b",
   "metadata": {},
   "outputs": [
    {
     "data": {
      "text/plain": [
       "array([0, 1, 2, 3, 4])"
      ]
     },
     "execution_count": 70,
     "metadata": {},
     "output_type": "execute_result"
    }
   ],
   "source": [
    "# Просмотр уникальных значений идентификационного номера уровня образованя клиентов\n",
    "data['education_id'].unique()"
   ]
  },
  {
   "cell_type": "markdown",
   "id": "7d0e4c21",
   "metadata": {},
   "source": [
    "Колонка с идентификационными номерами уровня образования соответствует количеству уникальных категорий уровня образования, исходя из чего заключаем, что она содержит корректные значения."
   ]
  },
  {
   "cell_type": "code",
   "execution_count": 71,
   "id": "4f6fbdc8",
   "metadata": {},
   "outputs": [],
   "source": [
    "#удалим дубликаты в таблице\n",
    "\n",
    "data = data.drop_duplicates().reset_index(drop = True)"
   ]
  },
  {
   "cell_type": "code",
   "execution_count": 72,
   "id": "7d0aca07",
   "metadata": {},
   "outputs": [
    {
     "data": {
      "text/plain": [
       "0"
      ]
     },
     "execution_count": 72,
     "metadata": {},
     "output_type": "execute_result"
    }
   ],
   "source": [
    "#убедимся, что в таблице нет дубликатов\n",
    "\n",
    "data.duplicated().sum()"
   ]
  },
  {
   "cell_type": "markdown",
   "id": "0b547d58",
   "metadata": {},
   "source": [
    "**Вывод**\n",
    "\n",
    "При проведении проверки данных, были обнаружены дубликаты, которые были удалены. Также при проверке данных в столбце с информацией о количестве детей были обнаружены некорректные данные: отрицательное (-1) и аномальное (20) значения. Поскольку строки с некорректными значениями занимают порядка 1% из выборки, они были также удалены. "
   ]
  },
  {
   "cell_type": "markdown",
   "id": "679fa83e",
   "metadata": {},
   "source": [
    "### Лемматизация"
   ]
  },
  {
   "cell_type": "markdown",
   "id": "c7a47c3a",
   "metadata": {},
   "source": [
    "По условиям задачи необходимо провести лемматизацию значений в стролбце purpose. Для привидения слова к словарной форме используется библиотека pymystem3 и метод lemmatize(). Результат лемматизации необходим для понимания целей взятия клиентами банка кредита, для того, чтобы по целям можно было сформировать определенные категории."
   ]
  },
  {
   "cell_type": "code",
   "execution_count": 73,
   "id": "0bbb5e13",
   "metadata": {},
   "outputs": [],
   "source": [
    "#импортируем библиотеку pymystem3 \n",
    "\n",
    "from pymystem3 import Mystem\n",
    "m = Mystem()\n",
    "#для подсчета частоты встречаемости лемм импортируем Counter\n",
    "\n",
    "from collections import Counter"
   ]
  },
  {
   "cell_type": "code",
   "execution_count": 74,
   "id": "3a0a69cb",
   "metadata": {},
   "outputs": [
    {
     "data": {
      "text/plain": [
       "array(['покупка жилья', 'приобретение автомобиля',\n",
       "       'дополнительное образование', 'сыграть свадьбу',\n",
       "       'операции с жильем', 'образование', 'на проведение свадьбы',\n",
       "       'покупка жилья для семьи', 'покупка недвижимости',\n",
       "       'покупка коммерческой недвижимости', 'покупка жилой недвижимости',\n",
       "       'строительство собственной недвижимости', 'недвижимость',\n",
       "       'строительство недвижимости', 'на покупку подержанного автомобиля',\n",
       "       'на покупку своего автомобиля',\n",
       "       'операции с коммерческой недвижимостью',\n",
       "       'строительство жилой недвижимости', 'жилье',\n",
       "       'операции со своей недвижимостью', 'автомобили',\n",
       "       'заняться образованием', 'сделка с подержанным автомобилем',\n",
       "       'получение образования', 'автомобиль', 'свадьба',\n",
       "       'получение дополнительного образования', 'покупка своего жилья',\n",
       "       'операции с недвижимостью', 'получение высшего образования',\n",
       "       'свой автомобиль', 'сделка с автомобилем',\n",
       "       'профильное образование', 'высшее образование',\n",
       "       'покупка жилья для сдачи', 'на покупку автомобиля', 'ремонт жилью',\n",
       "       'заняться высшим образованием'], dtype=object)"
      ]
     },
     "execution_count": 74,
     "metadata": {},
     "output_type": "execute_result"
    }
   ],
   "source": [
    "#просматриваем список уникальных значений в столбце purpose. Результат сохраняем в переменной purpose\n",
    "\n",
    "purpose = data['purpose'].unique()\n",
    "\n",
    "#выводим список уникальных значений на экран\n",
    "\n",
    "purpose"
   ]
  },
  {
   "cell_type": "code",
   "execution_count": 75,
   "id": "e8087e49",
   "metadata": {},
   "outputs": [
    {
     "data": {
      "text/plain": [
       "['\"',\n",
       " 'покупка',\n",
       " ' ',\n",
       " 'жилье',\n",
       " ', ',\n",
       " 'приобретение',\n",
       " ' ',\n",
       " 'автомобиль',\n",
       " ',\\n',\n",
       " '       ',\n",
       " 'дополнительный',\n",
       " ' ',\n",
       " 'образование',\n",
       " ', ',\n",
       " 'сыграть',\n",
       " ' ',\n",
       " 'свадьба',\n",
       " ',\\n',\n",
       " '       ',\n",
       " 'операция',\n",
       " ' ',\n",
       " 'с',\n",
       " ' ',\n",
       " 'жилье',\n",
       " ', ',\n",
       " 'образование',\n",
       " ', ',\n",
       " 'на',\n",
       " ' ',\n",
       " 'проведение',\n",
       " ' ',\n",
       " 'свадьба',\n",
       " ',\\n',\n",
       " '       ',\n",
       " 'покупка',\n",
       " ' ',\n",
       " 'жилье',\n",
       " ' ',\n",
       " 'для',\n",
       " ' ',\n",
       " 'семья',\n",
       " ', ',\n",
       " 'покупка',\n",
       " ' ',\n",
       " 'недвижимость',\n",
       " ',\\n',\n",
       " '       ',\n",
       " 'покупка',\n",
       " ' ',\n",
       " 'коммерческий',\n",
       " ' ',\n",
       " 'недвижимость',\n",
       " ', ',\n",
       " 'покупка',\n",
       " ' ',\n",
       " 'жилой',\n",
       " ' ',\n",
       " 'недвижимость',\n",
       " ',\\n',\n",
       " '       ',\n",
       " 'строительство',\n",
       " ' ',\n",
       " 'собственный',\n",
       " ' ',\n",
       " 'недвижимость',\n",
       " ', ',\n",
       " 'недвижимость',\n",
       " ',\\n',\n",
       " '       ',\n",
       " 'строительство',\n",
       " ' ',\n",
       " 'недвижимость',\n",
       " ', ',\n",
       " 'на',\n",
       " ' ',\n",
       " 'покупка',\n",
       " ' ',\n",
       " 'подержать',\n",
       " ' ',\n",
       " 'автомобиль',\n",
       " ',\\n',\n",
       " '       ',\n",
       " 'на',\n",
       " ' ',\n",
       " 'покупка',\n",
       " ' ',\n",
       " 'свой',\n",
       " ' ',\n",
       " 'автомобиль',\n",
       " ',\\n',\n",
       " '       ',\n",
       " 'операция',\n",
       " ' ',\n",
       " 'с',\n",
       " ' ',\n",
       " 'коммерческий',\n",
       " ' ',\n",
       " 'недвижимость',\n",
       " ',\\n',\n",
       " '       ',\n",
       " 'строительство',\n",
       " ' ',\n",
       " 'жилой',\n",
       " ' ',\n",
       " 'недвижимость',\n",
       " ', ',\n",
       " 'жилье',\n",
       " ',\\n',\n",
       " '       ',\n",
       " 'операция',\n",
       " ' ',\n",
       " 'со',\n",
       " ' ',\n",
       " 'свой',\n",
       " ' ',\n",
       " 'недвижимость',\n",
       " ', ',\n",
       " 'автомобиль',\n",
       " ',\\n',\n",
       " '       ',\n",
       " 'заниматься',\n",
       " ' ',\n",
       " 'образование',\n",
       " ', ',\n",
       " 'сделка',\n",
       " ' ',\n",
       " 'с',\n",
       " ' ',\n",
       " 'подержанный',\n",
       " ' ',\n",
       " 'автомобиль',\n",
       " ',\\n',\n",
       " '       ',\n",
       " 'получение',\n",
       " ' ',\n",
       " 'образование',\n",
       " ', ',\n",
       " 'автомобиль',\n",
       " ', ',\n",
       " 'свадьба',\n",
       " ',\\n',\n",
       " '       ',\n",
       " 'получение',\n",
       " ' ',\n",
       " 'дополнительный',\n",
       " ' ',\n",
       " 'образование',\n",
       " ', ',\n",
       " 'покупка',\n",
       " ' ',\n",
       " 'свой',\n",
       " ' ',\n",
       " 'жилье',\n",
       " ',\\n',\n",
       " '       ',\n",
       " 'операция',\n",
       " ' ',\n",
       " 'с',\n",
       " ' ',\n",
       " 'недвижимость',\n",
       " ', ',\n",
       " 'получение',\n",
       " ' ',\n",
       " 'высокий',\n",
       " ' ',\n",
       " 'образование',\n",
       " ',\\n',\n",
       " '       ',\n",
       " 'свой',\n",
       " ' ',\n",
       " 'автомобиль',\n",
       " ', ',\n",
       " 'сделка',\n",
       " ' ',\n",
       " 'с',\n",
       " ' ',\n",
       " 'автомобиль',\n",
       " ',\\n',\n",
       " '       ',\n",
       " 'профильный',\n",
       " ' ',\n",
       " 'образование',\n",
       " ', ',\n",
       " 'высокий',\n",
       " ' ',\n",
       " 'образование',\n",
       " ',\\n',\n",
       " '       ',\n",
       " 'покупка',\n",
       " ' ',\n",
       " 'жилье',\n",
       " ' ',\n",
       " 'для',\n",
       " ' ',\n",
       " 'сдача',\n",
       " ', ',\n",
       " 'на',\n",
       " ' ',\n",
       " 'покупка',\n",
       " ' ',\n",
       " 'автомобиль',\n",
       " ', ',\n",
       " 'ремонт',\n",
       " ' ',\n",
       " 'жилье',\n",
       " ',\\n',\n",
       " '       ',\n",
       " 'заниматься',\n",
       " ' ',\n",
       " 'высокий',\n",
       " ' ',\n",
       " 'образование',\n",
       " '\\n']"
      ]
     },
     "execution_count": 75,
     "metadata": {},
     "output_type": "execute_result"
    }
   ],
   "source": [
    "#преобразуем значения столбца purpose в строку для проведения лемматизации. Результат сохраняем в переменной purpose_list\n",
    "\n",
    "purpose_list = \"\"\"\"покупка жилья, приобретение автомобиля,\n",
    "       дополнительное образование, сыграть свадьбу,\n",
    "       операции с жильем, образование, на проведение свадьбы,\n",
    "       покупка жилья для семьи, покупка недвижимости,\n",
    "       покупка коммерческой недвижимости, покупка жилой недвижимости,\n",
    "       строительство собственной недвижимости, недвижимость,\n",
    "       строительство недвижимости, на покупку подержанного автомобиля,\n",
    "       на покупку своего автомобиля,\n",
    "       операции с коммерческой недвижимостью,\n",
    "       строительство жилой недвижимости, жилье,\n",
    "       операции со своей недвижимостью, автомобили,\n",
    "       заняться образованием, сделка с подержанным автомобилем,\n",
    "       получение образования, автомобиль, свадьба,\n",
    "       получение дополнительного образования, покупка своего жилья,\n",
    "       операции с недвижимостью, получение высшего образования,\n",
    "       свой автомобиль, сделка с автомобилем,\n",
    "       профильное образование, высшее образование,\n",
    "       покупка жилья для сдачи, на покупку автомобиля, ремонт жилью,\n",
    "       заняться высшим образованием\"\"\"\n",
    "\n",
    "#передаем переменной lemmas значения списка purpose_list для лемматизации\n",
    "\n",
    "lemmas = m.lemmatize(purpose_list)\n",
    "\n",
    "#выводим результат лемматизации на экран\n",
    "\n",
    "lemmas"
   ]
  },
  {
   "cell_type": "code",
   "execution_count": 76,
   "id": "47e76f14",
   "metadata": {},
   "outputs": [
    {
     "data": {
      "text/plain": [
       "Counter({'\"': 1,\n",
       "         'покупка': 10,\n",
       "         ' ': 59,\n",
       "         'жилье': 7,\n",
       "         ', ': 19,\n",
       "         'приобретение': 1,\n",
       "         'автомобиль': 9,\n",
       "         ',\\n': 18,\n",
       "         '       ': 18,\n",
       "         'дополнительный': 2,\n",
       "         'образование': 9,\n",
       "         'сыграть': 1,\n",
       "         'свадьба': 3,\n",
       "         'операция': 4,\n",
       "         'с': 5,\n",
       "         'на': 4,\n",
       "         'проведение': 1,\n",
       "         'для': 2,\n",
       "         'семья': 1,\n",
       "         'недвижимость': 10,\n",
       "         'коммерческий': 2,\n",
       "         'жилой': 2,\n",
       "         'строительство': 3,\n",
       "         'собственный': 1,\n",
       "         'подержать': 1,\n",
       "         'свой': 4,\n",
       "         'со': 1,\n",
       "         'заниматься': 2,\n",
       "         'сделка': 2,\n",
       "         'подержанный': 1,\n",
       "         'получение': 3,\n",
       "         'высокий': 3,\n",
       "         'профильный': 1,\n",
       "         'сдача': 1,\n",
       "         'ремонт': 1,\n",
       "         '\\n': 1})"
      ]
     },
     "execution_count": 76,
     "metadata": {},
     "output_type": "execute_result"
    }
   ],
   "source": [
    "#для подсчета частоты встречаемости лемм импортируем Counter\n",
    "\n",
    "from collections import Counter\n",
    "\n",
    "#выводим результат подсчета на экран\n",
    "\n",
    "Counter(lemmas)"
   ]
  },
  {
   "cell_type": "markdown",
   "id": "c18ae5fd",
   "metadata": {},
   "source": [
    "Исходя из определения лемм видно, что есть 4 основные цели получения кредита, связанных с покупкой недвижимости или жилья, покупкой автомобиля, получения образования, организации свадьбы. На основе этих данных напишем функцию для замены значений в столбце согласно выбранным категориям."
   ]
  },
  {
   "cell_type": "code",
   "execution_count": 77,
   "id": "0ed2456e",
   "metadata": {},
   "outputs": [],
   "source": [
    "#объявляем функцию lemma_function\n",
    "\n",
    "def lemma_function(purpose):\n",
    "    lemma = m.lemmatize(purpose) #сохраняем результат лемматизации в переменную lemma\n",
    "    if ('недвижимость' in lemma) or ('жилье' in lemma): #объявляем условие \n",
    "        lem_name = 'недвижимость' #если значение соответствует лемме, сохраняем результат в переменной lem_name\n",
    "        return lem_name           # и возвращаем результат с помощью функции return\n",
    "    \n",
    "    elif 'автомобиль' in lemma:\n",
    "        lem_name = 'автомобиль'\n",
    "        return lem_name\n",
    "    \n",
    "    elif 'образование' in lemma:\n",
    "        lem_name = 'образование'\n",
    "        return lem_name\n",
    "    \n",
    "    elif 'свадьба' in lemma:\n",
    "        lem_name = 'свадьба'\n",
    "        return lem_name\n",
    "    \n",
    "    else:\n",
    "        return 'другое'\n",
    "    "
   ]
  },
  {
   "cell_type": "code",
   "execution_count": 78,
   "id": "a94c128a",
   "metadata": {},
   "outputs": [
    {
     "data": {
      "text/plain": [
       "'образование'"
      ]
     },
     "execution_count": 78,
     "metadata": {},
     "output_type": "execute_result"
    }
   ],
   "source": [
    "#проверим работу функции lemma_function\n",
    "\n",
    "lemma_function('образование')"
   ]
  },
  {
   "cell_type": "code",
   "execution_count": 79,
   "id": "16a0f1e5",
   "metadata": {},
   "outputs": [
    {
     "data": {
      "text/plain": [
       "'недвижимость'"
      ]
     },
     "execution_count": 79,
     "metadata": {},
     "output_type": "execute_result"
    }
   ],
   "source": [
    "lemma_function('недвижимость')"
   ]
  },
  {
   "cell_type": "code",
   "execution_count": 80,
   "id": "4b439606",
   "metadata": {},
   "outputs": [
    {
     "data": {
      "text/html": [
       "<div>\n",
       "<style scoped>\n",
       "    .dataframe tbody tr th:only-of-type {\n",
       "        vertical-align: middle;\n",
       "    }\n",
       "\n",
       "    .dataframe tbody tr th {\n",
       "        vertical-align: top;\n",
       "    }\n",
       "\n",
       "    .dataframe thead th {\n",
       "        text-align: right;\n",
       "    }\n",
       "</style>\n",
       "<table border=\"1\" class=\"dataframe\">\n",
       "  <thead>\n",
       "    <tr style=\"text-align: right;\">\n",
       "      <th></th>\n",
       "      <th>children</th>\n",
       "      <th>days_employed</th>\n",
       "      <th>dob_years</th>\n",
       "      <th>education</th>\n",
       "      <th>education_id</th>\n",
       "      <th>family_status</th>\n",
       "      <th>family_status_id</th>\n",
       "      <th>gender</th>\n",
       "      <th>income_type</th>\n",
       "      <th>debt</th>\n",
       "      <th>total_income</th>\n",
       "      <th>purpose</th>\n",
       "    </tr>\n",
       "  </thead>\n",
       "  <tbody>\n",
       "    <tr>\n",
       "      <th>0</th>\n",
       "      <td>1</td>\n",
       "      <td>8437</td>\n",
       "      <td>42</td>\n",
       "      <td>высшее</td>\n",
       "      <td>0</td>\n",
       "      <td>женат / замужем</td>\n",
       "      <td>0</td>\n",
       "      <td>F</td>\n",
       "      <td>сотрудник</td>\n",
       "      <td>0</td>\n",
       "      <td>253875</td>\n",
       "      <td>недвижимость</td>\n",
       "    </tr>\n",
       "    <tr>\n",
       "      <th>1</th>\n",
       "      <td>1</td>\n",
       "      <td>4024</td>\n",
       "      <td>36</td>\n",
       "      <td>среднее</td>\n",
       "      <td>1</td>\n",
       "      <td>женат / замужем</td>\n",
       "      <td>0</td>\n",
       "      <td>F</td>\n",
       "      <td>сотрудник</td>\n",
       "      <td>0</td>\n",
       "      <td>112080</td>\n",
       "      <td>автомобиль</td>\n",
       "    </tr>\n",
       "    <tr>\n",
       "      <th>2</th>\n",
       "      <td>0</td>\n",
       "      <td>5623</td>\n",
       "      <td>33</td>\n",
       "      <td>среднее</td>\n",
       "      <td>1</td>\n",
       "      <td>женат / замужем</td>\n",
       "      <td>0</td>\n",
       "      <td>M</td>\n",
       "      <td>сотрудник</td>\n",
       "      <td>0</td>\n",
       "      <td>145885</td>\n",
       "      <td>недвижимость</td>\n",
       "    </tr>\n",
       "    <tr>\n",
       "      <th>3</th>\n",
       "      <td>3</td>\n",
       "      <td>4124</td>\n",
       "      <td>32</td>\n",
       "      <td>среднее</td>\n",
       "      <td>1</td>\n",
       "      <td>женат / замужем</td>\n",
       "      <td>0</td>\n",
       "      <td>M</td>\n",
       "      <td>сотрудник</td>\n",
       "      <td>0</td>\n",
       "      <td>267628</td>\n",
       "      <td>образование</td>\n",
       "    </tr>\n",
       "    <tr>\n",
       "      <th>4</th>\n",
       "      <td>0</td>\n",
       "      <td>340266</td>\n",
       "      <td>53</td>\n",
       "      <td>среднее</td>\n",
       "      <td>1</td>\n",
       "      <td>гражданский брак</td>\n",
       "      <td>1</td>\n",
       "      <td>F</td>\n",
       "      <td>пенсионер</td>\n",
       "      <td>0</td>\n",
       "      <td>158616</td>\n",
       "      <td>свадьба</td>\n",
       "    </tr>\n",
       "    <tr>\n",
       "      <th>5</th>\n",
       "      <td>0</td>\n",
       "      <td>926</td>\n",
       "      <td>27</td>\n",
       "      <td>высшее</td>\n",
       "      <td>0</td>\n",
       "      <td>гражданский брак</td>\n",
       "      <td>1</td>\n",
       "      <td>M</td>\n",
       "      <td>компаньон</td>\n",
       "      <td>0</td>\n",
       "      <td>255763</td>\n",
       "      <td>недвижимость</td>\n",
       "    </tr>\n",
       "    <tr>\n",
       "      <th>6</th>\n",
       "      <td>0</td>\n",
       "      <td>2879</td>\n",
       "      <td>43</td>\n",
       "      <td>высшее</td>\n",
       "      <td>0</td>\n",
       "      <td>женат / замужем</td>\n",
       "      <td>0</td>\n",
       "      <td>F</td>\n",
       "      <td>компаньон</td>\n",
       "      <td>0</td>\n",
       "      <td>240525</td>\n",
       "      <td>недвижимость</td>\n",
       "    </tr>\n",
       "    <tr>\n",
       "      <th>7</th>\n",
       "      <td>0</td>\n",
       "      <td>152</td>\n",
       "      <td>50</td>\n",
       "      <td>среднее</td>\n",
       "      <td>1</td>\n",
       "      <td>женат / замужем</td>\n",
       "      <td>0</td>\n",
       "      <td>M</td>\n",
       "      <td>сотрудник</td>\n",
       "      <td>0</td>\n",
       "      <td>135823</td>\n",
       "      <td>образование</td>\n",
       "    </tr>\n",
       "    <tr>\n",
       "      <th>8</th>\n",
       "      <td>2</td>\n",
       "      <td>6929</td>\n",
       "      <td>35</td>\n",
       "      <td>высшее</td>\n",
       "      <td>0</td>\n",
       "      <td>гражданский брак</td>\n",
       "      <td>1</td>\n",
       "      <td>F</td>\n",
       "      <td>сотрудник</td>\n",
       "      <td>0</td>\n",
       "      <td>95856</td>\n",
       "      <td>свадьба</td>\n",
       "    </tr>\n",
       "    <tr>\n",
       "      <th>9</th>\n",
       "      <td>0</td>\n",
       "      <td>2188</td>\n",
       "      <td>41</td>\n",
       "      <td>среднее</td>\n",
       "      <td>1</td>\n",
       "      <td>женат / замужем</td>\n",
       "      <td>0</td>\n",
       "      <td>M</td>\n",
       "      <td>сотрудник</td>\n",
       "      <td>0</td>\n",
       "      <td>144425</td>\n",
       "      <td>недвижимость</td>\n",
       "    </tr>\n",
       "  </tbody>\n",
       "</table>\n",
       "</div>"
      ],
      "text/plain": [
       "   children  days_employed  dob_years education  education_id  \\\n",
       "0         1           8437         42    высшее             0   \n",
       "1         1           4024         36   среднее             1   \n",
       "2         0           5623         33   среднее             1   \n",
       "3         3           4124         32   среднее             1   \n",
       "4         0         340266         53   среднее             1   \n",
       "5         0            926         27    высшее             0   \n",
       "6         0           2879         43    высшее             0   \n",
       "7         0            152         50   среднее             1   \n",
       "8         2           6929         35    высшее             0   \n",
       "9         0           2188         41   среднее             1   \n",
       "\n",
       "      family_status  family_status_id gender income_type  debt  total_income  \\\n",
       "0   женат / замужем                 0      F   сотрудник     0        253875   \n",
       "1   женат / замужем                 0      F   сотрудник     0        112080   \n",
       "2   женат / замужем                 0      M   сотрудник     0        145885   \n",
       "3   женат / замужем                 0      M   сотрудник     0        267628   \n",
       "4  гражданский брак                 1      F   пенсионер     0        158616   \n",
       "5  гражданский брак                 1      M   компаньон     0        255763   \n",
       "6   женат / замужем                 0      F   компаньон     0        240525   \n",
       "7   женат / замужем                 0      M   сотрудник     0        135823   \n",
       "8  гражданский брак                 1      F   сотрудник     0         95856   \n",
       "9   женат / замужем                 0      M   сотрудник     0        144425   \n",
       "\n",
       "        purpose  \n",
       "0  недвижимость  \n",
       "1    автомобиль  \n",
       "2  недвижимость  \n",
       "3   образование  \n",
       "4       свадьба  \n",
       "5  недвижимость  \n",
       "6  недвижимость  \n",
       "7   образование  \n",
       "8       свадьба  \n",
       "9  недвижимость  "
      ]
     },
     "execution_count": 80,
     "metadata": {},
     "output_type": "execute_result"
    }
   ],
   "source": [
    "#применяем функцию lemma_function к значениям в столбце purpose\n",
    "\n",
    "purpose = data['purpose'].apply(lemma_function)\n",
    "\n",
    "#заменяем значения в столбце purpose на лемматизированные\n",
    "\n",
    "data['purpose'] = purpose\n",
    "\n",
    "#выведем первые 10 строк таблицы на экран\n",
    "\n",
    "data.head(10)"
   ]
  },
  {
   "cell_type": "markdown",
   "id": "8e211451",
   "metadata": {},
   "source": [
    "**Вывод**"
   ]
  },
  {
   "cell_type": "markdown",
   "id": "d6d20e8e",
   "metadata": {},
   "source": [
    "В результате изучения данных о целях кредитования, при проведении лемматизации выяснилось, что все цели можно поделить на 4 категории: операции с недвижимостью или жильем, получение образования, финансирование проведения свадьбы и приобретение автомобиля (или иные операции с автомобилем). "
   ]
  },
  {
   "cell_type": "markdown",
   "id": "02d2c2c5",
   "metadata": {},
   "source": [
    "# Категоризация данных"
   ]
  },
  {
   "cell_type": "markdown",
   "id": "d6c7663d",
   "metadata": {},
   "source": [
    "#### Колонка с количеством детей\n",
    "\n",
    "В таблице представлены клиенты с разным количеством детей. Их можно объединить в категории для упрощения работы с данными. Каждого клиента можно отнести к одной из следующих категорий:\n",
    "1. бездетный -  присвоим такому клиенту категорию 0\n",
    "2. один ребенок - категорию 1\n",
    "3. два ребенка - категорию 2\n",
    "4. три и более детей - категорию 3.\n",
    "\n",
    "Так совпало, что для всех категорий, кроме последней, номер категории совпадает с количеством детей, однако стоит учитывать, что в категории представлены категориальные данные, а количество детей - данные числовые. "
   ]
  },
  {
   "cell_type": "code",
   "execution_count": 81,
   "id": "a0d63ad7",
   "metadata": {},
   "outputs": [
    {
     "data": {
      "text/html": [
       "<div>\n",
       "<style scoped>\n",
       "    .dataframe tbody tr th:only-of-type {\n",
       "        vertical-align: middle;\n",
       "    }\n",
       "\n",
       "    .dataframe tbody tr th {\n",
       "        vertical-align: top;\n",
       "    }\n",
       "\n",
       "    .dataframe thead th {\n",
       "        text-align: right;\n",
       "    }\n",
       "</style>\n",
       "<table border=\"1\" class=\"dataframe\">\n",
       "  <thead>\n",
       "    <tr style=\"text-align: right;\">\n",
       "      <th></th>\n",
       "      <th>children</th>\n",
       "      <th>days_employed</th>\n",
       "      <th>dob_years</th>\n",
       "      <th>education</th>\n",
       "      <th>education_id</th>\n",
       "      <th>family_status</th>\n",
       "      <th>family_status_id</th>\n",
       "      <th>gender</th>\n",
       "      <th>income_type</th>\n",
       "      <th>debt</th>\n",
       "      <th>total_income</th>\n",
       "      <th>purpose</th>\n",
       "      <th>children_id</th>\n",
       "    </tr>\n",
       "  </thead>\n",
       "  <tbody>\n",
       "    <tr>\n",
       "      <th>0</th>\n",
       "      <td>1</td>\n",
       "      <td>8437</td>\n",
       "      <td>42</td>\n",
       "      <td>высшее</td>\n",
       "      <td>0</td>\n",
       "      <td>женат / замужем</td>\n",
       "      <td>0</td>\n",
       "      <td>F</td>\n",
       "      <td>сотрудник</td>\n",
       "      <td>0</td>\n",
       "      <td>253875</td>\n",
       "      <td>недвижимость</td>\n",
       "      <td>1</td>\n",
       "    </tr>\n",
       "    <tr>\n",
       "      <th>1</th>\n",
       "      <td>1</td>\n",
       "      <td>4024</td>\n",
       "      <td>36</td>\n",
       "      <td>среднее</td>\n",
       "      <td>1</td>\n",
       "      <td>женат / замужем</td>\n",
       "      <td>0</td>\n",
       "      <td>F</td>\n",
       "      <td>сотрудник</td>\n",
       "      <td>0</td>\n",
       "      <td>112080</td>\n",
       "      <td>автомобиль</td>\n",
       "      <td>1</td>\n",
       "    </tr>\n",
       "    <tr>\n",
       "      <th>2</th>\n",
       "      <td>0</td>\n",
       "      <td>5623</td>\n",
       "      <td>33</td>\n",
       "      <td>среднее</td>\n",
       "      <td>1</td>\n",
       "      <td>женат / замужем</td>\n",
       "      <td>0</td>\n",
       "      <td>M</td>\n",
       "      <td>сотрудник</td>\n",
       "      <td>0</td>\n",
       "      <td>145885</td>\n",
       "      <td>недвижимость</td>\n",
       "      <td>0</td>\n",
       "    </tr>\n",
       "    <tr>\n",
       "      <th>3</th>\n",
       "      <td>3</td>\n",
       "      <td>4124</td>\n",
       "      <td>32</td>\n",
       "      <td>среднее</td>\n",
       "      <td>1</td>\n",
       "      <td>женат / замужем</td>\n",
       "      <td>0</td>\n",
       "      <td>M</td>\n",
       "      <td>сотрудник</td>\n",
       "      <td>0</td>\n",
       "      <td>267628</td>\n",
       "      <td>образование</td>\n",
       "      <td>3</td>\n",
       "    </tr>\n",
       "    <tr>\n",
       "      <th>4</th>\n",
       "      <td>0</td>\n",
       "      <td>340266</td>\n",
       "      <td>53</td>\n",
       "      <td>среднее</td>\n",
       "      <td>1</td>\n",
       "      <td>гражданский брак</td>\n",
       "      <td>1</td>\n",
       "      <td>F</td>\n",
       "      <td>пенсионер</td>\n",
       "      <td>0</td>\n",
       "      <td>158616</td>\n",
       "      <td>свадьба</td>\n",
       "      <td>0</td>\n",
       "    </tr>\n",
       "  </tbody>\n",
       "</table>\n",
       "</div>"
      ],
      "text/plain": [
       "   children  days_employed  dob_years education  education_id  \\\n",
       "0         1           8437         42    высшее             0   \n",
       "1         1           4024         36   среднее             1   \n",
       "2         0           5623         33   среднее             1   \n",
       "3         3           4124         32   среднее             1   \n",
       "4         0         340266         53   среднее             1   \n",
       "\n",
       "      family_status  family_status_id gender income_type  debt  total_income  \\\n",
       "0   женат / замужем                 0      F   сотрудник     0        253875   \n",
       "1   женат / замужем                 0      F   сотрудник     0        112080   \n",
       "2   женат / замужем                 0      M   сотрудник     0        145885   \n",
       "3   женат / замужем                 0      M   сотрудник     0        267628   \n",
       "4  гражданский брак                 1      F   пенсионер     0        158616   \n",
       "\n",
       "        purpose  children_id  \n",
       "0  недвижимость            1  \n",
       "1    автомобиль            1  \n",
       "2  недвижимость            0  \n",
       "3   образование            3  \n",
       "4       свадьба            0  "
      ]
     },
     "execution_count": 81,
     "metadata": {},
     "output_type": "execute_result"
    }
   ],
   "source": [
    "# функция, возвращающая категорию клиента в зависимости от количества детей\n",
    "def children_count(number): \n",
    "    if number > 2:\n",
    "        return 3\n",
    "    return number\n",
    "data['children_id'] = data['children'].apply(children_count)\n",
    "data.head()"
   ]
  },
  {
   "cell_type": "markdown",
   "id": "af6b8b12",
   "metadata": {},
   "source": [
    "#### Колонка с ежемесячным заработком"
   ]
  },
  {
   "cell_type": "markdown",
   "id": "583da15a",
   "metadata": {},
   "source": [
    "Категоризация по уровню дохода населения всегда была непростой задачей.Поэтому чтобы оценить, как доходы влияют на выплаты, было решено разбить клиентов на пять категорий согласно ежемесячному доходу:\n",
    "1. Доход < 60 тысяч - категория 0\n",
    "2. Доход 60 - 100 тысяч - категория 1\n",
    "3. Доход 100 - 160 тысяч - категория 2\n",
    "4. Доход 160 - 200 тысяч - категория 3\n",
    "5. Доход > 200 тысяч - категория 4."
   ]
  },
  {
   "cell_type": "code",
   "execution_count": 82,
   "id": "b399e72f",
   "metadata": {},
   "outputs": [
    {
     "data": {
      "text/html": [
       "<div>\n",
       "<style scoped>\n",
       "    .dataframe tbody tr th:only-of-type {\n",
       "        vertical-align: middle;\n",
       "    }\n",
       "\n",
       "    .dataframe tbody tr th {\n",
       "        vertical-align: top;\n",
       "    }\n",
       "\n",
       "    .dataframe thead th {\n",
       "        text-align: right;\n",
       "    }\n",
       "</style>\n",
       "<table border=\"1\" class=\"dataframe\">\n",
       "  <thead>\n",
       "    <tr style=\"text-align: right;\">\n",
       "      <th></th>\n",
       "      <th>children</th>\n",
       "      <th>days_employed</th>\n",
       "      <th>dob_years</th>\n",
       "      <th>education</th>\n",
       "      <th>education_id</th>\n",
       "      <th>family_status</th>\n",
       "      <th>family_status_id</th>\n",
       "      <th>gender</th>\n",
       "      <th>income_type</th>\n",
       "      <th>debt</th>\n",
       "      <th>total_income</th>\n",
       "      <th>purpose</th>\n",
       "      <th>children_id</th>\n",
       "      <th>income_id</th>\n",
       "    </tr>\n",
       "  </thead>\n",
       "  <tbody>\n",
       "    <tr>\n",
       "      <th>0</th>\n",
       "      <td>1</td>\n",
       "      <td>8437</td>\n",
       "      <td>42</td>\n",
       "      <td>высшее</td>\n",
       "      <td>0</td>\n",
       "      <td>женат / замужем</td>\n",
       "      <td>0</td>\n",
       "      <td>F</td>\n",
       "      <td>сотрудник</td>\n",
       "      <td>0</td>\n",
       "      <td>253875</td>\n",
       "      <td>недвижимость</td>\n",
       "      <td>1</td>\n",
       "      <td>4</td>\n",
       "    </tr>\n",
       "    <tr>\n",
       "      <th>1</th>\n",
       "      <td>1</td>\n",
       "      <td>4024</td>\n",
       "      <td>36</td>\n",
       "      <td>среднее</td>\n",
       "      <td>1</td>\n",
       "      <td>женат / замужем</td>\n",
       "      <td>0</td>\n",
       "      <td>F</td>\n",
       "      <td>сотрудник</td>\n",
       "      <td>0</td>\n",
       "      <td>112080</td>\n",
       "      <td>автомобиль</td>\n",
       "      <td>1</td>\n",
       "      <td>2</td>\n",
       "    </tr>\n",
       "    <tr>\n",
       "      <th>2</th>\n",
       "      <td>0</td>\n",
       "      <td>5623</td>\n",
       "      <td>33</td>\n",
       "      <td>среднее</td>\n",
       "      <td>1</td>\n",
       "      <td>женат / замужем</td>\n",
       "      <td>0</td>\n",
       "      <td>M</td>\n",
       "      <td>сотрудник</td>\n",
       "      <td>0</td>\n",
       "      <td>145885</td>\n",
       "      <td>недвижимость</td>\n",
       "      <td>0</td>\n",
       "      <td>2</td>\n",
       "    </tr>\n",
       "    <tr>\n",
       "      <th>3</th>\n",
       "      <td>3</td>\n",
       "      <td>4124</td>\n",
       "      <td>32</td>\n",
       "      <td>среднее</td>\n",
       "      <td>1</td>\n",
       "      <td>женат / замужем</td>\n",
       "      <td>0</td>\n",
       "      <td>M</td>\n",
       "      <td>сотрудник</td>\n",
       "      <td>0</td>\n",
       "      <td>267628</td>\n",
       "      <td>образование</td>\n",
       "      <td>3</td>\n",
       "      <td>4</td>\n",
       "    </tr>\n",
       "    <tr>\n",
       "      <th>4</th>\n",
       "      <td>0</td>\n",
       "      <td>340266</td>\n",
       "      <td>53</td>\n",
       "      <td>среднее</td>\n",
       "      <td>1</td>\n",
       "      <td>гражданский брак</td>\n",
       "      <td>1</td>\n",
       "      <td>F</td>\n",
       "      <td>пенсионер</td>\n",
       "      <td>0</td>\n",
       "      <td>158616</td>\n",
       "      <td>свадьба</td>\n",
       "      <td>0</td>\n",
       "      <td>2</td>\n",
       "    </tr>\n",
       "  </tbody>\n",
       "</table>\n",
       "</div>"
      ],
      "text/plain": [
       "   children  days_employed  dob_years education  education_id  \\\n",
       "0         1           8437         42    высшее             0   \n",
       "1         1           4024         36   среднее             1   \n",
       "2         0           5623         33   среднее             1   \n",
       "3         3           4124         32   среднее             1   \n",
       "4         0         340266         53   среднее             1   \n",
       "\n",
       "      family_status  family_status_id gender income_type  debt  total_income  \\\n",
       "0   женат / замужем                 0      F   сотрудник     0        253875   \n",
       "1   женат / замужем                 0      F   сотрудник     0        112080   \n",
       "2   женат / замужем                 0      M   сотрудник     0        145885   \n",
       "3   женат / замужем                 0      M   сотрудник     0        267628   \n",
       "4  гражданский брак                 1      F   пенсионер     0        158616   \n",
       "\n",
       "        purpose  children_id  income_id  \n",
       "0  недвижимость            1          4  \n",
       "1    автомобиль            1          2  \n",
       "2  недвижимость            0          2  \n",
       "3   образование            3          4  \n",
       "4       свадьба            0          2  "
      ]
     },
     "execution_count": 82,
     "metadata": {},
     "output_type": "execute_result"
    }
   ],
   "source": [
    "# функция, возвращающая категорию клиента в зависимости от ежемесячного дохода\n",
    "def income_count(number): \n",
    "    if number <= 60000:\n",
    "        return 0\n",
    "    elif 60000 < number <= 100000:\n",
    "        return 1\n",
    "    elif 100000 < number <= 160000:\n",
    "        return 2\n",
    "    elif 160000 < number <= 200000:\n",
    "        return 3\n",
    "    return 4\n",
    "data['income_id'] = data['total_income'].apply(income_count)\n",
    "data.head()"
   ]
  },
  {
   "cell_type": "markdown",
   "id": "e23bab06",
   "metadata": {},
   "source": [
    "**Вывод**\n",
    "\n",
    "Была проведена категоризация по количеству детей. Исходя из того, что финансовые возможности и психология клиента может сильно различаться в зависимости от количества детей, было принято оставить \"типичну классификацию\", объединив в одну категорию только многодетных клиентов.\n",
    "\n",
    "Так же провели классификацию по ежемесячному доходу. Так как четких критериев для разбивки нет, было выбрано разделить клиентов на пять категорий.\n",
    "\n",
    "Ввиду того, что исходные колонки `children` и `total_income` имеют числовые значения, было принято решение не удалять их из основной таблицы, как было сделано с колонками `education` и `family_status`."
   ]
  },
  {
   "cell_type": "markdown",
   "id": "bff2ee7c",
   "metadata": {},
   "source": [
    "# Ответьте на вопросы"
   ]
  },
  {
   "cell_type": "markdown",
   "id": "e029320e",
   "metadata": {},
   "source": [
    "### Есть ли зависимость между наличием детей и возвратом кредита в срок?"
   ]
  },
  {
   "cell_type": "markdown",
   "id": "dface9a1",
   "metadata": {},
   "source": [
    "Подсчитаем долю должников от всех клиентов."
   ]
  },
  {
   "cell_type": "code",
   "execution_count": 83,
   "id": "df823138",
   "metadata": {},
   "outputs": [
    {
     "data": {
      "text/html": [
       "<div>\n",
       "<style scoped>\n",
       "    .dataframe tbody tr th:only-of-type {\n",
       "        vertical-align: middle;\n",
       "    }\n",
       "\n",
       "    .dataframe tbody tr th {\n",
       "        vertical-align: top;\n",
       "    }\n",
       "\n",
       "    .dataframe thead th {\n",
       "        text-align: right;\n",
       "    }\n",
       "</style>\n",
       "<table border=\"1\" class=\"dataframe\">\n",
       "  <thead>\n",
       "    <tr style=\"text-align: right;\">\n",
       "      <th></th>\n",
       "      <th></th>\n",
       "      <th>debt</th>\n",
       "    </tr>\n",
       "    <tr>\n",
       "      <th>children</th>\n",
       "      <th>debt</th>\n",
       "      <th></th>\n",
       "    </tr>\n",
       "  </thead>\n",
       "  <tbody>\n",
       "    <tr>\n",
       "      <th rowspan=\"2\" valign=\"top\">0</th>\n",
       "      <th>0</th>\n",
       "      <td>13028</td>\n",
       "    </tr>\n",
       "    <tr>\n",
       "      <th>1</th>\n",
       "      <td>1063</td>\n",
       "    </tr>\n",
       "    <tr>\n",
       "      <th rowspan=\"2\" valign=\"top\">1</th>\n",
       "      <th>0</th>\n",
       "      <td>4364</td>\n",
       "    </tr>\n",
       "    <tr>\n",
       "      <th>1</th>\n",
       "      <td>444</td>\n",
       "    </tr>\n",
       "    <tr>\n",
       "      <th rowspan=\"2\" valign=\"top\">2</th>\n",
       "      <th>0</th>\n",
       "      <td>1858</td>\n",
       "    </tr>\n",
       "    <tr>\n",
       "      <th>1</th>\n",
       "      <td>194</td>\n",
       "    </tr>\n",
       "    <tr>\n",
       "      <th rowspan=\"2\" valign=\"top\">3</th>\n",
       "      <th>0</th>\n",
       "      <td>303</td>\n",
       "    </tr>\n",
       "    <tr>\n",
       "      <th>1</th>\n",
       "      <td>27</td>\n",
       "    </tr>\n",
       "    <tr>\n",
       "      <th rowspan=\"2\" valign=\"top\">4</th>\n",
       "      <th>0</th>\n",
       "      <td>37</td>\n",
       "    </tr>\n",
       "    <tr>\n",
       "      <th>1</th>\n",
       "      <td>4</td>\n",
       "    </tr>\n",
       "    <tr>\n",
       "      <th>5</th>\n",
       "      <th>0</th>\n",
       "      <td>9</td>\n",
       "    </tr>\n",
       "  </tbody>\n",
       "</table>\n",
       "</div>"
      ],
      "text/plain": [
       "                debt\n",
       "children debt       \n",
       "0        0     13028\n",
       "         1      1063\n",
       "1        0      4364\n",
       "         1       444\n",
       "2        0      1858\n",
       "         1       194\n",
       "3        0       303\n",
       "         1        27\n",
       "4        0        37\n",
       "         1         4\n",
       "5        0         9"
      ]
     },
     "execution_count": 83,
     "metadata": {},
     "output_type": "execute_result"
    }
   ],
   "source": [
    "#сгруппируем данные о задолженности по столбцу children и посчитаем количество должников по категориям. \n",
    "#Результат сохраним в новой таблице data_children\n",
    "\n",
    "data_children = data.groupby(['children','debt']).agg({'debt':'count'})\n",
    "\n",
    "#выведем на экран новую таблицу data_children\n",
    "\n",
    "data_children"
   ]
  },
  {
   "cell_type": "code",
   "execution_count": 84,
   "id": "82f3062e",
   "metadata": {},
   "outputs": [
    {
     "data": {
      "text/plain": [
       "children  debt\n",
       "0         0        92.456178\n",
       "          1         7.543822\n",
       "1         0        90.765391\n",
       "          1         9.234609\n",
       "2         0        90.545809\n",
       "          1         9.454191\n",
       "3         0        91.818182\n",
       "          1         8.181818\n",
       "4         0        90.243902\n",
       "          1         9.756098\n",
       "5         0       100.000000\n",
       "Name: debt, dtype: float64"
      ]
     },
     "execution_count": 84,
     "metadata": {},
     "output_type": "execute_result"
    }
   ],
   "source": [
    "#посчитаем процент вероятности возврата кредита в срок в зависимости от наличия, \n",
    "#количества или отсутствия детей\n",
    "\n",
    "data_children = (data_children['debt'] / (data_children.groupby('children')['debt'].transform('sum')))*100 \n",
    "\n",
    "#выведем таблицу на экран\n",
    "\n",
    "data_children"
   ]
  },
  {
   "cell_type": "markdown",
   "id": "452f1cb9",
   "metadata": {},
   "source": [
    "**Вывод**\n",
    "\n",
    "Исходя из группировки данных о задолженности в зависимости от наличия детей видно, что и при наличии 1-4 детей и при их отсутствии, доля тех, кто погашает кредит в срок 90,2 - 92,5%. При наличии пятерых детей вероятность погашения кредита в срок максимальная, однако в выборке отсутствует информация о непогашенных в срок кредитах у клиентов с наличием пяти детей. В целом, можно сказать, что наличие или отсутствие детей не влияет на возможность погашения кредита в срок, поскольку наличие 3 и более детей встречается гораздо реже, чем 1-2 ребенка или их отсутствие."
   ]
  },
  {
   "cell_type": "markdown",
   "id": "a07e1dbc",
   "metadata": {},
   "source": [
    "### Есть ли зависимость между семейным положением и возвратом кредита в срок?"
   ]
  },
  {
   "cell_type": "markdown",
   "id": "06eb4f3b",
   "metadata": {},
   "source": [
    "По аналогии с выявлением зависимости между количеством детей и возвратом кредита в срок, подсчитаем количество должников в каждой категории клиентов."
   ]
  },
  {
   "cell_type": "code",
   "execution_count": 85,
   "id": "822eb1b6",
   "metadata": {},
   "outputs": [
    {
     "data": {
      "text/html": [
       "<div>\n",
       "<style scoped>\n",
       "    .dataframe tbody tr th:only-of-type {\n",
       "        vertical-align: middle;\n",
       "    }\n",
       "\n",
       "    .dataframe tbody tr th {\n",
       "        vertical-align: top;\n",
       "    }\n",
       "\n",
       "    .dataframe thead th {\n",
       "        text-align: right;\n",
       "    }\n",
       "</style>\n",
       "<table border=\"1\" class=\"dataframe\">\n",
       "  <thead>\n",
       "    <tr style=\"text-align: right;\">\n",
       "      <th></th>\n",
       "      <th></th>\n",
       "      <th></th>\n",
       "      <th>debt</th>\n",
       "    </tr>\n",
       "    <tr>\n",
       "      <th>family_status_id</th>\n",
       "      <th>family_status</th>\n",
       "      <th>debt</th>\n",
       "      <th></th>\n",
       "    </tr>\n",
       "  </thead>\n",
       "  <tbody>\n",
       "    <tr>\n",
       "      <th rowspan=\"2\" valign=\"top\">0</th>\n",
       "      <th rowspan=\"2\" valign=\"top\">женат / замужем</th>\n",
       "      <th>0</th>\n",
       "      <td>11334</td>\n",
       "    </tr>\n",
       "    <tr>\n",
       "      <th>1</th>\n",
       "      <td>927</td>\n",
       "    </tr>\n",
       "    <tr>\n",
       "      <th rowspan=\"2\" valign=\"top\">1</th>\n",
       "      <th rowspan=\"2\" valign=\"top\">гражданский брак</th>\n",
       "      <th>0</th>\n",
       "      <td>3749</td>\n",
       "    </tr>\n",
       "    <tr>\n",
       "      <th>1</th>\n",
       "      <td>385</td>\n",
       "    </tr>\n",
       "    <tr>\n",
       "      <th rowspan=\"2\" valign=\"top\">2</th>\n",
       "      <th rowspan=\"2\" valign=\"top\">вдовец / вдова</th>\n",
       "      <th>0</th>\n",
       "      <td>888</td>\n",
       "    </tr>\n",
       "    <tr>\n",
       "      <th>1</th>\n",
       "      <td>63</td>\n",
       "    </tr>\n",
       "    <tr>\n",
       "      <th rowspan=\"2\" valign=\"top\">3</th>\n",
       "      <th rowspan=\"2\" valign=\"top\">в разводе</th>\n",
       "      <th>0</th>\n",
       "      <td>1105</td>\n",
       "    </tr>\n",
       "    <tr>\n",
       "      <th>1</th>\n",
       "      <td>84</td>\n",
       "    </tr>\n",
       "    <tr>\n",
       "      <th rowspan=\"2\" valign=\"top\">4</th>\n",
       "      <th rowspan=\"2\" valign=\"top\">Не женат / не замужем</th>\n",
       "      <th>0</th>\n",
       "      <td>2523</td>\n",
       "    </tr>\n",
       "    <tr>\n",
       "      <th>1</th>\n",
       "      <td>273</td>\n",
       "    </tr>\n",
       "  </tbody>\n",
       "</table>\n",
       "</div>"
      ],
      "text/plain": [
       "                                              debt\n",
       "family_status_id family_status         debt       \n",
       "0                женат / замужем       0     11334\n",
       "                                       1       927\n",
       "1                гражданский брак      0      3749\n",
       "                                       1       385\n",
       "2                вдовец / вдова        0       888\n",
       "                                       1        63\n",
       "3                в разводе             0      1105\n",
       "                                       1        84\n",
       "4                Не женат / не замужем 0      2523\n",
       "                                       1       273"
      ]
     },
     "execution_count": 85,
     "metadata": {},
     "output_type": "execute_result"
    }
   ],
   "source": [
    "#сгруппируем данные о задолженности по столбцам family_status_id, family_status \n",
    "#и посчитаем количество должников по категориям. Результат сохраним в новой таблице data_family\n",
    "\n",
    "data_family = data.groupby(['family_status_id','family_status','debt']).agg({'debt':'count'})\n",
    "\n",
    "\n",
    "#выведем таблицу на экран\n",
    "\n",
    "data_family"
   ]
  },
  {
   "cell_type": "code",
   "execution_count": 86,
   "id": "fda5bdbb",
   "metadata": {},
   "outputs": [
    {
     "data": {
      "text/plain": [
       "family_status_id  family_status          debt\n",
       "0                 женат / замужем        0       92.439442\n",
       "                                         1        7.560558\n",
       "1                 гражданский брак       0       90.686986\n",
       "                                         1        9.313014\n",
       "2                 вдовец / вдова         0       93.375394\n",
       "                                         1        6.624606\n",
       "3                 в разводе              0       92.935240\n",
       "                                         1        7.064760\n",
       "4                 Не женат / не замужем  0       90.236052\n",
       "                                         1        9.763948\n",
       "Name: debt, dtype: float64"
      ]
     },
     "execution_count": 86,
     "metadata": {},
     "output_type": "execute_result"
    }
   ],
   "source": [
    "#посчитаем процент вероятности возврата кредита в срок в зависимости от семейного положения \n",
    "\n",
    "data_family = (data_family['debt'] / (data_family.groupby('family_status_id')['debt'].transform('sum')))*100 \n",
    "\n",
    "#выведем таблицу на экран\n",
    "\n",
    "data_family"
   ]
  },
  {
   "cell_type": "markdown",
   "id": "d365de1a",
   "metadata": {},
   "source": [
    "**Вывод**\n",
    "\n",
    "Исходя из данных о наличии задолженности в разрезе семейного положения клиентов банка, можно сказать, что вероятность погашения кредита в срок среди тех, кто женат или замужем, вдовцов/вдов и тех, кто в разводе, выше, чем среди тех, кто холост или не замужем и тех, кто живет в гражданском браке."
   ]
  },
  {
   "cell_type": "markdown",
   "id": "4e82927a",
   "metadata": {},
   "source": [
    "### Есть ли зависимость между уровнем дохода и возвратом кредита в срок?"
   ]
  },
  {
   "cell_type": "code",
   "execution_count": 87,
   "id": "b3967b00",
   "metadata": {},
   "outputs": [
    {
     "data": {
      "text/plain": [
       "income_id\n",
       "0   6.12%\n",
       "4   7.06%\n",
       "1   8.37%\n",
       "3   8.48%\n",
       "2   8.69%\n",
       "Name: debt, dtype: float64"
      ]
     },
     "metadata": {},
     "output_type": "display_data"
    }
   ],
   "source": [
    "# Вывод данных в таблице по возрастанию процента должников\n",
    "final_data_income = data.groupby(by='income_id')['debt'].mean()\n",
    "with pd.option_context('display.float_format','{:.2%}'.format):\n",
    "    display(final_data_income.sort_values())"
   ]
  },
  {
   "cell_type": "markdown",
   "id": "22d49ccd",
   "metadata": {},
   "source": [
    "**Вывод**\n",
    "В целом клиенты с уровнем дохода от 60 до 200 тысяч показали себя не очень ответственными в плане выплаты кредита.\n",
    "**Наибольшее количество должников** наблюдается среди клиентов, зарабатывающих **100-160 тысяч** - `8.69%`.\n",
    "**Самыми ответственными** оказались клиенты с доходом **ниже 60 тысяч** - `6.08%`."
   ]
  },
  {
   "cell_type": "markdown",
   "id": "df321d60",
   "metadata": {},
   "source": [
    "### Как разные цели кредита влияют на его возврат в срок?"
   ]
  },
  {
   "cell_type": "code",
   "execution_count": 88,
   "id": "676fb98d",
   "metadata": {},
   "outputs": [
    {
     "data": {
      "text/plain": [
       "purpose\n",
       "недвижимость   7.26%\n",
       "свадьба        7.91%\n",
       "образование    9.25%\n",
       "автомобиль     9.35%\n",
       "Name: debt, dtype: float64"
      ]
     },
     "metadata": {},
     "output_type": "display_data"
    }
   ],
   "source": [
    "# Вывод данных в таблице по возрастанию процента должников\n",
    "final_data_purpose = data.groupby('purpose')['debt'].mean()\n",
    "with pd.option_context('display.float_format','{:.2%}'.format):\n",
    "    display(final_data_purpose.sort_values())"
   ]
  },
  {
   "cell_type": "code",
   "execution_count": 93,
   "id": "6ca0347b",
   "metadata": {},
   "outputs": [
    {
     "data": {
      "text/html": [
       "<div>\n",
       "<style scoped>\n",
       "    .dataframe tbody tr th:only-of-type {\n",
       "        vertical-align: middle;\n",
       "    }\n",
       "\n",
       "    .dataframe tbody tr th {\n",
       "        vertical-align: top;\n",
       "    }\n",
       "\n",
       "    .dataframe thead th {\n",
       "        text-align: right;\n",
       "    }\n",
       "</style>\n",
       "<table border=\"1\" class=\"dataframe\">\n",
       "  <thead>\n",
       "    <tr style=\"text-align: right;\">\n",
       "      <th></th>\n",
       "      <th>debt</th>\n",
       "    </tr>\n",
       "    <tr>\n",
       "      <th>purpose</th>\n",
       "      <th></th>\n",
       "    </tr>\n",
       "  </thead>\n",
       "  <tbody>\n",
       "    <tr>\n",
       "      <th>автомобиль</th>\n",
       "      <td>0.093480</td>\n",
       "    </tr>\n",
       "    <tr>\n",
       "      <th>недвижимость</th>\n",
       "      <td>0.072551</td>\n",
       "    </tr>\n",
       "    <tr>\n",
       "      <th>образование</th>\n",
       "      <td>0.092528</td>\n",
       "    </tr>\n",
       "    <tr>\n",
       "      <th>свадьба</th>\n",
       "      <td>0.079118</td>\n",
       "    </tr>\n",
       "  </tbody>\n",
       "</table>\n",
       "</div>"
      ],
      "text/plain": [
       "                  debt\n",
       "purpose               \n",
       "автомобиль    0.093480\n",
       "недвижимость  0.072551\n",
       "образование   0.092528\n",
       "свадьба       0.079118"
      ]
     },
     "execution_count": 93,
     "metadata": {},
     "output_type": "execute_result"
    }
   ],
   "source": [
    "pd.pivot_table(data, index='purpose', values='debt')"
   ]
  },
  {
   "cell_type": "markdown",
   "id": "82ec2b4d",
   "metadata": {},
   "source": [
    "**Вывод**\n",
    "Клиентами с самым высоким процентом должников в категории оказались те, кто брал кредит на автомобиль - `9.36%`. Далее следуют клиенты, желающие получить образование - `9.22%`. Среди тех, кто брал кредит на свадьбу, задолженность по кредиту имели `8.00%` клиентов. Самыми ответственными клиентами являются те, кто брал кредит на операции с недвижимостью - всего `7.23%`."
   ]
  },
  {
   "cell_type": "markdown",
   "id": "a8afff2a",
   "metadata": {},
   "source": [
    "## Общий вывод:"
   ]
  },
  {
   "cell_type": "markdown",
   "id": "ba21724b",
   "metadata": {},
   "source": [
    "В результате исследования были выявлены **более перспективные категории клиентов с точки зрения возврата кредита**:\n",
    "- бездетные и многодетные; \n",
    "- вдовцы и вдовы, в разводе или женатые / замужние; \n",
    "- с доходом ниже 60 тысяч или выше 200 тысяч;\n",
    "- взявшие кредит на недвижимость или свадьбу.\n",
    "\n",
    "**Самые опасные клиенты**, среди которых процент должников выше всего:\n",
    "- клиенты с одним или двумя детьми;\n",
    "- не женатые / не замужние, либо живущие в гражданском браке;\n",
    "- с доходом 60-200 тысяч;\n",
    "- взявшие кредит на автомобиль или образование.\n"
   ]
  },
  {
   "cell_type": "code",
   "execution_count": null,
   "id": "15911ab4",
   "metadata": {},
   "outputs": [],
   "source": []
  }
 ],
 "metadata": {
  "ExecuteTimeLog": [
   {
    "duration": 79,
    "start_time": "2022-02-20T19:40:53.403Z"
   },
   {
    "duration": 81,
    "start_time": "2022-02-20T19:41:22.420Z"
   },
   {
    "duration": 74,
    "start_time": "2022-02-20T19:41:26.009Z"
   },
   {
    "duration": 1155,
    "start_time": "2022-02-20T20:46:59.909Z"
   },
   {
    "duration": 77,
    "start_time": "2022-02-20T20:53:28.175Z"
   },
   {
    "duration": 80,
    "start_time": "2022-02-20T20:53:31.000Z"
   },
   {
    "duration": 88,
    "start_time": "2022-02-20T20:57:38.265Z"
   },
   {
    "duration": 36,
    "start_time": "2022-02-20T20:58:00.356Z"
   },
   {
    "duration": 11,
    "start_time": "2022-02-20T20:58:29.406Z"
   },
   {
    "duration": 40,
    "start_time": "2022-02-20T20:58:41.913Z"
   },
   {
    "duration": 37,
    "start_time": "2022-02-20T20:59:08.799Z"
   },
   {
    "duration": 19,
    "start_time": "2022-02-20T20:59:57.096Z"
   },
   {
    "duration": 11,
    "start_time": "2022-02-20T21:00:47.339Z"
   },
   {
    "duration": 8,
    "start_time": "2022-02-20T21:00:59.655Z"
   },
   {
    "duration": 20,
    "start_time": "2022-02-20T21:01:14.932Z"
   },
   {
    "duration": 21,
    "start_time": "2022-02-20T21:01:32.679Z"
   },
   {
    "duration": 16,
    "start_time": "2022-02-20T21:03:23.492Z"
   },
   {
    "duration": 22,
    "start_time": "2022-02-20T21:03:42.584Z"
   },
   {
    "duration": 21,
    "start_time": "2022-02-20T21:03:55.700Z"
   },
   {
    "duration": 25,
    "start_time": "2022-02-20T21:05:10.804Z"
   },
   {
    "duration": 8,
    "start_time": "2022-02-20T21:05:35.118Z"
   },
   {
    "duration": 19,
    "start_time": "2022-02-20T21:05:56.983Z"
   },
   {
    "duration": 9,
    "start_time": "2022-02-20T21:06:06.119Z"
   },
   {
    "duration": 8,
    "start_time": "2022-02-20T21:06:17.125Z"
   },
   {
    "duration": 27,
    "start_time": "2022-02-20T21:06:26.103Z"
   },
   {
    "duration": 24,
    "start_time": "2022-02-20T21:06:35.045Z"
   },
   {
    "duration": 247,
    "start_time": "2022-03-02T15:32:17.615Z"
   },
   {
    "duration": 4,
    "start_time": "2022-03-02T15:32:48.550Z"
   },
   {
    "duration": 2,
    "start_time": "2022-03-02T15:33:14.868Z"
   },
   {
    "duration": 270,
    "start_time": "2022-03-02T15:33:26.154Z"
   },
   {
    "duration": 179,
    "start_time": "2022-03-02T15:34:38.990Z"
   },
   {
    "duration": 604,
    "start_time": "2022-03-02T15:34:49.415Z"
   },
   {
    "duration": 21,
    "start_time": "2022-03-02T15:34:50.021Z"
   },
   {
    "duration": 11,
    "start_time": "2022-03-02T15:34:50.044Z"
   },
   {
    "duration": 27,
    "start_time": "2022-03-02T15:34:50.059Z"
   },
   {
    "duration": 21,
    "start_time": "2022-03-02T15:34:50.088Z"
   },
   {
    "duration": 26,
    "start_time": "2022-03-02T15:34:50.111Z"
   },
   {
    "duration": 13,
    "start_time": "2022-03-02T15:34:50.138Z"
   },
   {
    "duration": 25,
    "start_time": "2022-03-02T15:34:50.153Z"
   },
   {
    "duration": 24,
    "start_time": "2022-03-02T15:34:50.180Z"
   },
   {
    "duration": 31,
    "start_time": "2022-03-02T15:34:50.206Z"
   },
   {
    "duration": 32,
    "start_time": "2022-03-02T15:34:50.239Z"
   },
   {
    "duration": 34,
    "start_time": "2022-03-02T15:34:50.273Z"
   },
   {
    "duration": 17,
    "start_time": "2022-03-02T15:34:50.309Z"
   },
   {
    "duration": 24,
    "start_time": "2022-03-02T15:34:50.328Z"
   },
   {
    "duration": 7,
    "start_time": "2022-03-02T15:34:50.354Z"
   },
   {
    "duration": 31,
    "start_time": "2022-03-02T15:34:50.362Z"
   },
   {
    "duration": 20,
    "start_time": "2022-03-02T15:34:50.394Z"
   },
   {
    "duration": 28,
    "start_time": "2022-03-02T15:34:50.415Z"
   },
   {
    "duration": 33,
    "start_time": "2022-03-02T15:34:50.444Z"
   },
   {
    "duration": 25,
    "start_time": "2022-03-02T15:34:50.479Z"
   },
   {
    "duration": 13,
    "start_time": "2022-03-02T15:34:50.505Z"
   },
   {
    "duration": 283,
    "start_time": "2022-03-02T15:34:50.519Z"
   },
   {
    "duration": 5,
    "start_time": "2022-03-02T15:35:31.877Z"
   },
   {
    "duration": 5,
    "start_time": "2022-03-02T15:35:40.303Z"
   },
   {
    "duration": 676,
    "start_time": "2022-03-02T15:36:02.788Z"
   },
   {
    "duration": 226,
    "start_time": "2022-03-02T15:36:44.580Z"
   },
   {
    "duration": 20,
    "start_time": "2022-03-02T15:37:12.495Z"
   },
   {
    "duration": 217,
    "start_time": "2022-03-02T15:38:07.985Z"
   },
   {
    "duration": 187,
    "start_time": "2022-03-02T15:38:49.509Z"
   },
   {
    "duration": 210,
    "start_time": "2022-03-02T15:38:57.701Z"
   },
   {
    "duration": 197,
    "start_time": "2022-03-02T15:41:45.011Z"
   },
   {
    "duration": 19,
    "start_time": "2022-03-02T15:42:19.927Z"
   },
   {
    "duration": 21,
    "start_time": "2022-03-02T15:42:21.064Z"
   },
   {
    "duration": 846,
    "start_time": "2022-03-02T15:42:23.425Z"
   },
   {
    "duration": 7,
    "start_time": "2022-03-02T15:44:06.158Z"
   },
   {
    "duration": 12,
    "start_time": "2022-03-02T15:44:39.548Z"
   },
   {
    "duration": 5,
    "start_time": "2022-03-02T15:44:56.540Z"
   },
   {
    "duration": 61,
    "start_time": "2022-03-02T15:46:24.523Z"
   },
   {
    "duration": 4,
    "start_time": "2022-03-02T15:46:45.272Z"
   },
   {
    "duration": 4,
    "start_time": "2022-03-02T15:46:56.144Z"
   },
   {
    "duration": 4,
    "start_time": "2022-03-02T15:47:06.625Z"
   },
   {
    "duration": 2697,
    "start_time": "2022-03-02T15:47:15.898Z"
   },
   {
    "duration": 60,
    "start_time": "2022-03-02T15:47:39.467Z"
   },
   {
    "duration": 341,
    "start_time": "2022-03-02T15:49:00.120Z"
   },
   {
    "duration": 189,
    "start_time": "2022-03-02T15:49:14.177Z"
   },
   {
    "duration": 21,
    "start_time": "2022-03-02T15:49:21.431Z"
   },
   {
    "duration": 213,
    "start_time": "2022-03-02T15:50:38.317Z"
   },
   {
    "duration": 23,
    "start_time": "2022-03-02T15:50:48.852Z"
   },
   {
    "duration": 229,
    "start_time": "2022-03-02T15:56:39.156Z"
   },
   {
    "duration": 5,
    "start_time": "2022-03-02T15:56:44.695Z"
   },
   {
    "duration": 77,
    "start_time": "2022-03-02T15:56:59.010Z"
   },
   {
    "duration": 213,
    "start_time": "2022-03-02T15:57:13.209Z"
   },
   {
    "duration": 11,
    "start_time": "2022-03-02T15:57:29.970Z"
   },
   {
    "duration": 84,
    "start_time": "2022-03-02T16:01:39.471Z"
   },
   {
    "duration": 205,
    "start_time": "2022-03-02T16:02:32.481Z"
   },
   {
    "duration": 192,
    "start_time": "2022-03-02T16:05:14.828Z"
   },
   {
    "duration": 232,
    "start_time": "2022-03-02T16:06:03.464Z"
   },
   {
    "duration": 211,
    "start_time": "2022-03-02T16:10:27.804Z"
   },
   {
    "duration": 203,
    "start_time": "2022-03-02T16:10:46.865Z"
   },
   {
    "duration": 20,
    "start_time": "2022-03-02T16:11:16.661Z"
   },
   {
    "duration": 13,
    "start_time": "2022-03-02T16:11:28.314Z"
   },
   {
    "duration": 11,
    "start_time": "2022-03-02T16:12:29.567Z"
   },
   {
    "duration": 9,
    "start_time": "2022-03-02T16:12:49.891Z"
   },
   {
    "duration": 8,
    "start_time": "2022-03-02T16:15:46.188Z"
   },
   {
    "duration": 66,
    "start_time": "2022-03-02T16:16:37.461Z"
   },
   {
    "duration": 268,
    "start_time": "2022-03-02T16:17:23.719Z"
   },
   {
    "duration": 8,
    "start_time": "2022-03-02T16:17:37.647Z"
   },
   {
    "duration": 87,
    "start_time": "2022-03-11T08:09:39.641Z"
   },
   {
    "duration": 122,
    "start_time": "2022-03-17T11:01:00.632Z"
   },
   {
    "duration": 11,
    "start_time": "2022-03-17T11:01:13.452Z"
   },
   {
    "duration": 8,
    "start_time": "2022-03-17T11:02:10.859Z"
   },
   {
    "duration": 10,
    "start_time": "2022-03-17T11:05:10.155Z"
   },
   {
    "duration": 10,
    "start_time": "2022-03-17T11:05:14.572Z"
   },
   {
    "duration": 10,
    "start_time": "2022-03-17T11:05:15.873Z"
   },
   {
    "duration": 8,
    "start_time": "2022-03-17T11:05:17.185Z"
   },
   {
    "duration": 10,
    "start_time": "2022-03-17T11:05:20.109Z"
   },
   {
    "duration": 686,
    "start_time": "2022-03-17T11:05:31.338Z"
   },
   {
    "duration": 44,
    "start_time": "2022-03-17T11:05:39.423Z"
   },
   {
    "duration": 10,
    "start_time": "2022-03-17T11:05:39.806Z"
   },
   {
    "duration": 35,
    "start_time": "2022-03-17T11:05:40.177Z"
   },
   {
    "duration": 24,
    "start_time": "2022-03-17T11:05:40.958Z"
   },
   {
    "duration": 15,
    "start_time": "2022-03-17T11:05:42.696Z"
   },
   {
    "duration": 12,
    "start_time": "2022-03-17T11:05:43.728Z"
   },
   {
    "duration": 11,
    "start_time": "2022-03-17T11:05:44.041Z"
   },
   {
    "duration": 15,
    "start_time": "2022-03-17T11:05:45.147Z"
   },
   {
    "duration": 205,
    "start_time": "2022-03-17T11:06:54.907Z"
   },
   {
    "duration": 14,
    "start_time": "2022-03-17T11:07:05.359Z"
   },
   {
    "duration": 43,
    "start_time": "2022-03-17T11:14:22.557Z"
   },
   {
    "duration": 7,
    "start_time": "2022-03-17T11:14:27.668Z"
   },
   {
    "duration": 23,
    "start_time": "2022-03-17T11:15:03.649Z"
   },
   {
    "duration": 23,
    "start_time": "2022-03-17T11:15:13.108Z"
   },
   {
    "duration": 24,
    "start_time": "2022-03-17T11:15:30.899Z"
   },
   {
    "duration": 26,
    "start_time": "2022-03-17T11:16:14.163Z"
   },
   {
    "duration": 207,
    "start_time": "2022-03-17T11:17:06.130Z"
   },
   {
    "duration": 224,
    "start_time": "2022-03-17T11:17:38.896Z"
   },
   {
    "duration": 31,
    "start_time": "2022-03-17T11:20:05.155Z"
   },
   {
    "duration": 12,
    "start_time": "2022-03-17T11:20:23.022Z"
   },
   {
    "duration": 28,
    "start_time": "2022-03-17T11:20:26.693Z"
   },
   {
    "duration": 257,
    "start_time": "2022-03-17T11:21:36.867Z"
   },
   {
    "duration": 27,
    "start_time": "2022-03-17T11:22:58.788Z"
   },
   {
    "duration": 12,
    "start_time": "2022-03-17T11:23:45.277Z"
   },
   {
    "duration": 9,
    "start_time": "2022-03-17T11:23:49.920Z"
   },
   {
    "duration": 43,
    "start_time": "2022-03-17T11:24:10.965Z"
   },
   {
    "duration": 10,
    "start_time": "2022-03-17T11:24:36.309Z"
   },
   {
    "duration": 8,
    "start_time": "2022-03-17T11:24:39.968Z"
   },
   {
    "duration": 215,
    "start_time": "2022-03-17T11:24:53.861Z"
   },
   {
    "duration": 13,
    "start_time": "2022-03-17T11:36:08.602Z"
   },
   {
    "duration": 10,
    "start_time": "2022-03-17T11:37:53.576Z"
   },
   {
    "duration": 10,
    "start_time": "2022-03-17T11:38:19.461Z"
   },
   {
    "duration": 21,
    "start_time": "2022-03-17T11:39:13.938Z"
   },
   {
    "duration": 34,
    "start_time": "2022-03-17T11:39:32.940Z"
   },
   {
    "duration": 13,
    "start_time": "2022-03-17T11:39:53.043Z"
   },
   {
    "duration": 11,
    "start_time": "2022-03-17T11:40:15.208Z"
   },
   {
    "duration": 16,
    "start_time": "2022-03-17T11:40:30.805Z"
   },
   {
    "duration": 832,
    "start_time": "2022-03-17T11:40:41.972Z"
   },
   {
    "duration": 32,
    "start_time": "2022-03-17T11:40:43.167Z"
   },
   {
    "duration": 12,
    "start_time": "2022-03-17T11:40:43.523Z"
   },
   {
    "duration": 41,
    "start_time": "2022-03-17T11:40:43.870Z"
   },
   {
    "duration": 29,
    "start_time": "2022-03-17T11:40:44.229Z"
   },
   {
    "duration": 16,
    "start_time": "2022-03-17T11:40:44.766Z"
   },
   {
    "duration": 12,
    "start_time": "2022-03-17T11:40:45.130Z"
   },
   {
    "duration": 10,
    "start_time": "2022-03-17T11:40:45.311Z"
   },
   {
    "duration": 20,
    "start_time": "2022-03-17T11:40:45.852Z"
   },
   {
    "duration": 21,
    "start_time": "2022-03-17T11:40:46.030Z"
   },
   {
    "duration": 21,
    "start_time": "2022-03-17T11:40:46.213Z"
   },
   {
    "duration": 24,
    "start_time": "2022-03-17T11:40:46.936Z"
   },
   {
    "duration": 22,
    "start_time": "2022-03-17T11:40:47.118Z"
   },
   {
    "duration": 25,
    "start_time": "2022-03-17T11:40:47.297Z"
   },
   {
    "duration": 27,
    "start_time": "2022-03-17T11:40:48.409Z"
   },
   {
    "duration": 30,
    "start_time": "2022-03-17T11:40:48.576Z"
   },
   {
    "duration": 27,
    "start_time": "2022-03-17T11:40:48.752Z"
   },
   {
    "duration": 9,
    "start_time": "2022-03-17T11:40:49.467Z"
   },
   {
    "duration": 17,
    "start_time": "2022-03-17T11:40:49.821Z"
   },
   {
    "duration": 10,
    "start_time": "2022-03-17T11:40:50.001Z"
   },
   {
    "duration": 11,
    "start_time": "2022-03-17T11:40:50.178Z"
   },
   {
    "duration": 11,
    "start_time": "2022-03-17T11:40:50.353Z"
   },
   {
    "duration": 21,
    "start_time": "2022-03-17T11:40:50.539Z"
   },
   {
    "duration": 6,
    "start_time": "2022-03-17T11:40:50.727Z"
   },
   {
    "duration": 39,
    "start_time": "2022-03-17T11:40:51.426Z"
   },
   {
    "duration": 27,
    "start_time": "2022-03-17T11:40:51.620Z"
   },
   {
    "duration": 16,
    "start_time": "2022-03-17T11:40:52.503Z"
   },
   {
    "duration": 11,
    "start_time": "2022-03-17T11:40:52.858Z"
   },
   {
    "duration": 2257,
    "start_time": "2022-03-17T11:40:53.036Z"
   },
   {
    "duration": 8,
    "start_time": "2022-03-17T11:40:55.297Z"
   },
   {
    "duration": 10,
    "start_time": "2022-03-17T11:40:55.308Z"
   },
   {
    "duration": 12,
    "start_time": "2022-03-17T11:40:55.322Z"
   },
   {
    "duration": 11,
    "start_time": "2022-03-17T11:40:55.338Z"
   },
   {
    "duration": 4483,
    "start_time": "2022-03-17T11:40:55.352Z"
   },
   {
    "duration": 47,
    "start_time": "2022-03-17T11:41:04.508Z"
   },
   {
    "duration": 64,
    "start_time": "2022-03-17T11:41:05.059Z"
   },
   {
    "duration": 23,
    "start_time": "2022-03-17T11:41:06.697Z"
   },
   {
    "duration": 17,
    "start_time": "2022-03-17T11:41:06.867Z"
   },
   {
    "duration": 27,
    "start_time": "2022-03-17T11:41:07.577Z"
   },
   {
    "duration": 15,
    "start_time": "2022-03-17T11:41:07.760Z"
   },
   {
    "duration": 14,
    "start_time": "2022-03-17T11:41:08.292Z"
   },
   {
    "duration": 15,
    "start_time": "2022-03-17T11:41:08.827Z"
   },
   {
    "duration": 19,
    "start_time": "2022-03-17T11:41:16.167Z"
   },
   {
    "duration": 30,
    "start_time": "2022-03-17T11:41:25.126Z"
   },
   {
    "duration": 221,
    "start_time": "2022-03-17T11:41:40.521Z"
   },
   {
    "duration": 232,
    "start_time": "2022-03-17T11:41:48.134Z"
   },
   {
    "duration": 28,
    "start_time": "2022-03-17T11:41:53.997Z"
   },
   {
    "duration": 222,
    "start_time": "2022-03-17T11:42:33.429Z"
   }
  ],
  "kernelspec": {
   "display_name": "Python 3 (ipykernel)",
   "language": "python",
   "name": "python3"
  },
  "language_info": {
   "codemirror_mode": {
    "name": "ipython",
    "version": 3
   },
   "file_extension": ".py",
   "mimetype": "text/x-python",
   "name": "python",
   "nbconvert_exporter": "python",
   "pygments_lexer": "ipython3",
   "version": "3.9.7"
  },
  "toc": {
   "base_numbering": 1,
   "nav_menu": {},
   "number_sections": true,
   "sideBar": true,
   "skip_h1_title": true,
   "title_cell": "Table of Contents",
   "title_sidebar": "Contents",
   "toc_cell": false,
   "toc_position": {},
   "toc_section_display": true,
   "toc_window_display": false
  }
 },
 "nbformat": 4,
 "nbformat_minor": 5
}

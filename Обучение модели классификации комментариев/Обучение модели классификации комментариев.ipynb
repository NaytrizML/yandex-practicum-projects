{
 "cells": [
  {
   "cell_type": "markdown",
   "metadata": {
    "toc": true
   },
   "source": [
    "<h1>Содержание<span class=\"tocSkip\"></span></h1>\n",
    "<div class=\"toc\"><ul class=\"toc-item\"><li><span><a href=\"#Подготовка\" data-toc-modified-id=\"Подготовка-1\"><span class=\"toc-item-num\">1&nbsp;&nbsp;</span>Подготовка</a></span><ul class=\"toc-item\"><li><span><a href=\"#Лемматизация\" data-toc-modified-id=\"Лемматизация-1.1\"><span class=\"toc-item-num\">1.1&nbsp;&nbsp;</span>Лемматизация</a></span></li><li><span><a href=\"#Масштабирование-данных-с-помощью-TF-IDF.\" data-toc-modified-id=\"Масштабирование-данных-с-помощью-TF-IDF.-1.2\"><span class=\"toc-item-num\">1.2&nbsp;&nbsp;</span>Масштабирование данных с помощью TF-IDF.</a></span></li></ul></li><li><span><a href=\"#Обучение\" data-toc-modified-id=\"Обучение-2\"><span class=\"toc-item-num\">2&nbsp;&nbsp;</span>Обучение</a></span><ul class=\"toc-item\"><li><span><a href=\"#Качество-прогноза\" data-toc-modified-id=\"Качество-прогноза-2.1\"><span class=\"toc-item-num\">2.1&nbsp;&nbsp;</span>Качество прогноза</a></span></li><li><span><a href=\"#Модель-логистической-регрессии\" data-toc-modified-id=\"Модель-логистической-регрессии-2.2\"><span class=\"toc-item-num\">2.2&nbsp;&nbsp;</span>Модель логистической регрессии</a></span></li><li><span><a href=\"#Модель-линейных-опорных-векторов\" data-toc-modified-id=\"Модель-линейных-опорных-векторов-2.3\"><span class=\"toc-item-num\">2.3&nbsp;&nbsp;</span>Модель линейных опорных векторов</a></span></li><li><span><a href=\"#Подбор-порога\" data-toc-modified-id=\"Подбор-порога-2.4\"><span class=\"toc-item-num\">2.4&nbsp;&nbsp;</span>Подбор порога</a></span></li><li><span><a href=\"#Ансамбль-смешивания\" data-toc-modified-id=\"Ансамбль-смешивания-2.5\"><span class=\"toc-item-num\">2.5&nbsp;&nbsp;</span>Ансамбль смешивания</a></span></li></ul></li><li><span><a href=\"#Тестирование\" data-toc-modified-id=\"Тестирование-3\"><span class=\"toc-item-num\">3&nbsp;&nbsp;</span>Тестирование</a></span></li><li><span><a href=\"#Выводы\" data-toc-modified-id=\"Выводы-4\"><span class=\"toc-item-num\">4&nbsp;&nbsp;</span>Выводы</a></span></li><li><span><a href=\"#Чек-лист-проверки\" data-toc-modified-id=\"Чек-лист-проверки-5\"><span class=\"toc-item-num\">5&nbsp;&nbsp;</span>Чек-лист проверки</a></span></li></ul></div>"
   ]
  },
  {
   "cell_type": "markdown",
   "metadata": {},
   "source": [
    "# Проект для «Викишоп»"
   ]
  },
  {
   "cell_type": "markdown",
   "metadata": {},
   "source": [
    "Интернет-магазин «Викишоп» запускает новый сервис. Теперь пользователи могут редактировать и дополнять описания товаров, как в вики-сообществах. То есть клиенты предлагают свои правки и комментируют изменения других. Магазину нужен инструмент, который будет искать токсичные комментарии и отправлять их на модерацию. \n",
    "\n",
    "Обучите модель классифицировать комментарии на позитивные и негативные. В вашем распоряжении набор данных с разметкой о токсичности правок.\n",
    "\n",
    "Постройте модель со значением метрики качества *F1* не меньше 0.75. \n",
    "\n",
    "**Инструкция по выполнению проекта**\n",
    "\n",
    "1. Загрузите и подготовьте данные.\n",
    "2. Обучите разные модели. \n",
    "3. Сделайте выводы.\n",
    "\n",
    "Для выполнения проекта применять *BERT* необязательно, но вы можете попробовать.\n",
    "\n",
    "**Описание данных**\n",
    "\n",
    "Данные находятся в файле `toxic_comments.csv`. Столбец *text* в нём содержит текст комментария, а *toxic* — целевой признак."
   ]
  },
  {
   "cell_type": "markdown",
   "metadata": {},
   "source": [
    "## Подготовка"
   ]
  },
  {
   "cell_type": "markdown",
   "metadata": {},
   "source": [
    "Импортируем нужные библиотеки."
   ]
  },
  {
   "cell_type": "code",
   "execution_count": 1,
   "metadata": {},
   "outputs": [
    {
     "name": "stdout",
     "output_type": "stream",
     "text": [
      "Requirement already satisfied: tqdm in /opt/conda/lib/python3.9/site-packages (4.61.2)\n",
      "Requirement already satisfied: en_core_web_sm in /opt/conda/lib/python3.9/site-packages (3.2.0)\n",
      "Requirement already satisfied: spacy<3.3.0,>=3.2.0 in /opt/conda/lib/python3.9/site-packages (from en_core_web_sm) (3.2.0)\n",
      "Requirement already satisfied: murmurhash<1.1.0,>=0.28.0 in /opt/conda/lib/python3.9/site-packages (from spacy<3.3.0,>=3.2.0->en_core_web_sm) (1.0.8)\n",
      "Requirement already satisfied: requests<3.0.0,>=2.13.0 in /opt/conda/lib/python3.9/site-packages (from spacy<3.3.0,>=3.2.0->en_core_web_sm) (2.25.1)\n",
      "Requirement already satisfied: spacy-loggers<2.0.0,>=1.0.0 in /opt/conda/lib/python3.9/site-packages (from spacy<3.3.0,>=3.2.0->en_core_web_sm) (1.0.3)\n",
      "Requirement already satisfied: numpy>=1.15.0 in /opt/conda/lib/python3.9/site-packages (from spacy<3.3.0,>=3.2.0->en_core_web_sm) (1.21.1)\n",
      "Requirement already satisfied: catalogue<2.1.0,>=2.0.6 in /opt/conda/lib/python3.9/site-packages (from spacy<3.3.0,>=3.2.0->en_core_web_sm) (2.0.8)\n",
      "Requirement already satisfied: blis<0.8.0,>=0.4.0 in /opt/conda/lib/python3.9/site-packages (from spacy<3.3.0,>=3.2.0->en_core_web_sm) (0.7.8)\n",
      "Requirement already satisfied: packaging>=20.0 in /opt/conda/lib/python3.9/site-packages (from spacy<3.3.0,>=3.2.0->en_core_web_sm) (21.3)\n",
      "Requirement already satisfied: tqdm<5.0.0,>=4.38.0 in /opt/conda/lib/python3.9/site-packages (from spacy<3.3.0,>=3.2.0->en_core_web_sm) (4.61.2)\n",
      "Requirement already satisfied: typer<0.5.0,>=0.3.0 in /opt/conda/lib/python3.9/site-packages (from spacy<3.3.0,>=3.2.0->en_core_web_sm) (0.4.2)\n",
      "Requirement already satisfied: spacy-legacy<3.1.0,>=3.0.8 in /opt/conda/lib/python3.9/site-packages (from spacy<3.3.0,>=3.2.0->en_core_web_sm) (3.0.10)\n",
      "Requirement already satisfied: preshed<3.1.0,>=3.0.2 in /opt/conda/lib/python3.9/site-packages (from spacy<3.3.0,>=3.2.0->en_core_web_sm) (3.0.7)\n",
      "Requirement already satisfied: pydantic!=1.8,!=1.8.1,<1.9.0,>=1.7.4 in /opt/conda/lib/python3.9/site-packages (from spacy<3.3.0,>=3.2.0->en_core_web_sm) (1.8.2)\n",
      "Requirement already satisfied: jinja2 in /opt/conda/lib/python3.9/site-packages (from spacy<3.3.0,>=3.2.0->en_core_web_sm) (3.0.1)\n",
      "Requirement already satisfied: wasabi<1.1.0,>=0.8.1 in /opt/conda/lib/python3.9/site-packages (from spacy<3.3.0,>=3.2.0->en_core_web_sm) (0.10.1)\n",
      "Requirement already satisfied: thinc<8.1.0,>=8.0.12 in /opt/conda/lib/python3.9/site-packages (from spacy<3.3.0,>=3.2.0->en_core_web_sm) (8.0.17)\n",
      "Requirement already satisfied: pathy>=0.3.5 in /opt/conda/lib/python3.9/site-packages (from spacy<3.3.0,>=3.2.0->en_core_web_sm) (0.6.2)\n",
      "Requirement already satisfied: srsly<3.0.0,>=2.4.1 in /opt/conda/lib/python3.9/site-packages (from spacy<3.3.0,>=3.2.0->en_core_web_sm) (2.4.4)\n",
      "Requirement already satisfied: langcodes<4.0.0,>=3.2.0 in /opt/conda/lib/python3.9/site-packages (from spacy<3.3.0,>=3.2.0->en_core_web_sm) (3.3.0)\n",
      "Requirement already satisfied: setuptools in /opt/conda/lib/python3.9/site-packages (from spacy<3.3.0,>=3.2.0->en_core_web_sm) (49.6.0.post20210108)\n",
      "Requirement already satisfied: cymem<2.1.0,>=2.0.2 in /opt/conda/lib/python3.9/site-packages (from spacy<3.3.0,>=3.2.0->en_core_web_sm) (2.0.6)\n",
      "Requirement already satisfied: pyparsing!=3.0.5,>=2.0.2 in /opt/conda/lib/python3.9/site-packages (from packaging>=20.0->spacy<3.3.0,>=3.2.0->en_core_web_sm) (2.4.7)\n",
      "Requirement already satisfied: smart-open<6.0.0,>=5.2.1 in /opt/conda/lib/python3.9/site-packages (from pathy>=0.3.5->spacy<3.3.0,>=3.2.0->en_core_web_sm) (5.2.1)\n",
      "Requirement already satisfied: typing-extensions>=3.7.4.3 in /opt/conda/lib/python3.9/site-packages (from pydantic!=1.8,!=1.8.1,<1.9.0,>=1.7.4->spacy<3.3.0,>=3.2.0->en_core_web_sm) (4.3.0)\n",
      "Requirement already satisfied: urllib3<1.27,>=1.21.1 in /opt/conda/lib/python3.9/site-packages (from requests<3.0.0,>=2.13.0->spacy<3.3.0,>=3.2.0->en_core_web_sm) (1.26.6)\n",
      "Requirement already satisfied: idna<3,>=2.5 in /opt/conda/lib/python3.9/site-packages (from requests<3.0.0,>=2.13.0->spacy<3.3.0,>=3.2.0->en_core_web_sm) (2.10)\n",
      "Requirement already satisfied: certifi>=2017.4.17 in /opt/conda/lib/python3.9/site-packages (from requests<3.0.0,>=2.13.0->spacy<3.3.0,>=3.2.0->en_core_web_sm) (2022.6.15)\n",
      "Requirement already satisfied: chardet<5,>=3.0.2 in /opt/conda/lib/python3.9/site-packages (from requests<3.0.0,>=2.13.0->spacy<3.3.0,>=3.2.0->en_core_web_sm) (4.0.0)\n",
      "Requirement already satisfied: click<9.0.0,>=7.1.1 in /opt/conda/lib/python3.9/site-packages (from typer<0.5.0,>=0.3.0->spacy<3.3.0,>=3.2.0->en_core_web_sm) (8.1.3)\n",
      "Requirement already satisfied: MarkupSafe>=2.0 in /opt/conda/lib/python3.9/site-packages (from jinja2->spacy<3.3.0,>=3.2.0->en_core_web_sm) (2.1.1)\n",
      "Collecting langdetect\n",
      "  Downloading langdetect-1.0.9.tar.gz (981 kB)\n",
      "\u001b[K     |████████████████████████████████| 981 kB 1.1 MB/s eta 0:00:01\n",
      "\u001b[?25hRequirement already satisfied: six in /opt/conda/lib/python3.9/site-packages (from langdetect) (1.16.0)\n",
      "Building wheels for collected packages: langdetect\n",
      "  Building wheel for langdetect (setup.py) ... \u001b[?25ldone\n",
      "\u001b[?25h  Created wheel for langdetect: filename=langdetect-1.0.9-py3-none-any.whl size=993221 sha256=7ab37a663c588562df1d140e6521b8322cde300ffd86dc5ac5c71f7475a32579\n",
      "  Stored in directory: /home/jovyan/.cache/pip/wheels/d1/c1/d9/7e068de779d863bc8f8fc9467d85e25cfe47fa5051fff1a1bb\n",
      "Successfully built langdetect\n",
      "Installing collected packages: langdetect\n",
      "Successfully installed langdetect-1.0.9\n",
      "Collecting sidetable\n",
      "  Downloading sidetable-0.9.0-py3-none-any.whl (17 kB)\n",
      "Requirement already satisfied: pandas>=1.0 in /opt/conda/lib/python3.9/site-packages (from sidetable) (1.2.4)\n",
      "Requirement already satisfied: python-dateutil>=2.7.3 in /opt/conda/lib/python3.9/site-packages (from pandas>=1.0->sidetable) (2.8.1)\n",
      "Requirement already satisfied: pytz>=2017.3 in /opt/conda/lib/python3.9/site-packages (from pandas>=1.0->sidetable) (2021.1)\n",
      "Requirement already satisfied: numpy>=1.16.5 in /opt/conda/lib/python3.9/site-packages (from pandas>=1.0->sidetable) (1.21.1)\n",
      "Requirement already satisfied: six>=1.5 in /opt/conda/lib/python3.9/site-packages (from python-dateutil>=2.7.3->pandas>=1.0->sidetable) (1.16.0)\n",
      "Installing collected packages: sidetable\n",
      "Successfully installed sidetable-0.9.0\n"
     ]
    }
   ],
   "source": [
    "!pip install tqdm \n",
    "!pip install en_core_web_sm\n",
    "!pip install langdetect\n",
    "!pip install sidetable"
   ]
  },
  {
   "cell_type": "code",
   "execution_count": 2,
   "metadata": {},
   "outputs": [],
   "source": [
    "import pandas as pd\n",
    "import numpy as np\n",
    "from numpy import hstack\n",
    "\n",
    "\n",
    "from langdetect import detect\n",
    "\n",
    "from matplotlib import pyplot as plt\n",
    "\n",
    "from nltk.tokenize import sent_tokenize, word_tokenize\n",
    "from nltk.corpus import stopwords\n",
    "\n",
    "import re\n",
    "\n",
    "import sidetable\n",
    "\n",
    "import sklearn\n",
    "from sklearn.feature_extraction.text import CountVectorizer, TfidfVectorizer\n",
    "from sklearn.metrics import f1_score, precision_score, recall_score\n",
    "from sklearn.pipeline import Pipeline, make_pipeline\n",
    "\n",
    "from sklearn.dummy import DummyClassifier\n",
    "from sklearn.linear_model import LogisticRegression\n",
    "from sklearn.svm  import SVC, LinearSVC\n",
    "from sklearn.preprocessing import StandardScaler\n",
    "from sklearn.model_selection import train_test_split\n",
    "from sklearn.model_selection import cross_val_score, KFold, StratifiedKFold, GridSearchCV\n",
    "\n",
    "from tqdm import notebook\n",
    "\n",
    "import nltk\n",
    "from nltk.corpus import wordnet\n",
    "from nltk.stem import LancasterStemmer, WordNetLemmatizer"
   ]
  },
  {
   "cell_type": "code",
   "execution_count": 3,
   "metadata": {},
   "outputs": [
    {
     "name": "stdout",
     "output_type": "stream",
     "text": [
      "Requirement already satisfied: nltk in /opt/conda/lib/python3.9/site-packages (3.6.1)\n",
      "Requirement already satisfied: regex in /opt/conda/lib/python3.9/site-packages (from nltk) (2022.8.17)\n",
      "Requirement already satisfied: tqdm in /opt/conda/lib/python3.9/site-packages (from nltk) (4.61.2)\n",
      "Requirement already satisfied: click in /opt/conda/lib/python3.9/site-packages (from nltk) (8.1.3)\n",
      "Requirement already satisfied: joblib in /opt/conda/lib/python3.9/site-packages (from nltk) (1.1.0)\n"
     ]
    },
    {
     "name": "stderr",
     "output_type": "stream",
     "text": [
      "[nltk_data] Downloading package stopwords to /home/jovyan/nltk_data...\n",
      "[nltk_data]   Package stopwords is already up-to-date!\n",
      "[nltk_data] Downloading package wordnet to /home/jovyan/nltk_data...\n",
      "[nltk_data]   Package wordnet is already up-to-date!\n",
      "[nltk_data] Downloading package averaged_perceptron_tagger to\n",
      "[nltk_data]     /home/jovyan/nltk_data...\n",
      "[nltk_data]   Unzipping taggers/averaged_perceptron_tagger.zip.\n",
      "[nltk_data] Downloading package punkt to /home/jovyan/nltk_data...\n",
      "[nltk_data]   Package punkt is already up-to-date!\n"
     ]
    },
    {
     "data": {
      "text/plain": [
       "True"
      ]
     },
     "execution_count": 3,
     "metadata": {},
     "output_type": "execute_result"
    }
   ],
   "source": [
    "!pip install nltk\n",
    "import nltk\n",
    "nltk.download('stopwords')\n",
    "nltk.download('wordnet')\n",
    "nltk.download('averaged_perceptron_tagger')\n",
    "nltk.download('punkt')"
   ]
  },
  {
   "cell_type": "markdown",
   "metadata": {},
   "source": [
    "**Для себя выгрузил уже лемматизированный `.csv` файл и работал с ним, подбирая гиперпараметры моделей,ниже ссылки на гугл-диск, надеюсь работает.**"
   ]
  },
  {
   "cell_type": "markdown",
   "metadata": {},
   "source": [
    "Создаем путь к файлу с данными."
   ]
  },
  {
   "cell_type": "code",
   "execution_count": 4,
   "metadata": {},
   "outputs": [],
   "source": [
    "path = '/datasets/toxic_comments.csv'\n",
    "path2 = 'MyDrive/Colab Notebooks/yandex_proj_13/toxic_comments.csv'\n",
    "path3 = 'MyDrive/Colab Notebooks/yandex_proj_13/LEMMAS_ALL_line.csv'\n",
    "path4 = 'LEMMAS_ALL_line.csv'\n",
    "path5 = 'https://drive.google.com/file/d/1mra5hTXat1rG5HhxwwTr97B-IcjCuKFj/view?usp=sharing'\n",
    "path5 = 'https://drive.google.com/uc?id=' + path5.split('/')[-2]\n",
    "\n",
    "url = 'https://drive.google.com/file/d/1_hDXELgZARKgcIF7ahqmEoMTP9WgoacD/view?usp=sharing'\n",
    "url = 'https://drive.google.com/uc?id=' + url.split('/')[-2]"
   ]
  },
  {
   "cell_type": "markdown",
   "metadata": {},
   "source": [
    "Откроем файл с текстом комментариев и разметкой о токсичности правок."
   ]
  },
  {
   "cell_type": "code",
   "execution_count": 5,
   "metadata": {},
   "outputs": [],
   "source": [
    "try:\n",
    "    df = pd.read_csv(path)\n",
    "except Exception as err:\n",
    "    try:\n",
    "        df = pd.read_csv(path[10:])\n",
    "    except Exception as err:\n",
    "        try:\n",
    "            from google.colab import drive\n",
    "            df = pd.read_csv(path2)\n",
    "        except Exception as err:\n",
    "            try:\n",
    "                df = pd.read_csv(path5)\n",
    "            except Exception as err:\n",
    "                print('Ошибка чтения файла df:', repr(err))"
   ]
  },
  {
   "cell_type": "code",
   "execution_count": 6,
   "metadata": {},
   "outputs": [],
   "source": [
    "# параметр для seed в random_state\n",
    "STATE = 12345"
   ]
  },
  {
   "cell_type": "code",
   "execution_count": 7,
   "metadata": {},
   "outputs": [
    {
     "data": {
      "text/html": [
       "<div>\n",
       "<style scoped>\n",
       "    .dataframe tbody tr th:only-of-type {\n",
       "        vertical-align: middle;\n",
       "    }\n",
       "\n",
       "    .dataframe tbody tr th {\n",
       "        vertical-align: top;\n",
       "    }\n",
       "\n",
       "    .dataframe thead th {\n",
       "        text-align: right;\n",
       "    }\n",
       "</style>\n",
       "<table border=\"1\" class=\"dataframe\">\n",
       "  <thead>\n",
       "    <tr style=\"text-align: right;\">\n",
       "      <th></th>\n",
       "      <th>Unnamed: 0</th>\n",
       "      <th>text</th>\n",
       "      <th>toxic</th>\n",
       "    </tr>\n",
       "  </thead>\n",
       "  <tbody>\n",
       "    <tr>\n",
       "      <th>0</th>\n",
       "      <td>0</td>\n",
       "      <td>Explanation\\nWhy the edits made under my usern...</td>\n",
       "      <td>0</td>\n",
       "    </tr>\n",
       "    <tr>\n",
       "      <th>1</th>\n",
       "      <td>1</td>\n",
       "      <td>D'aww! He matches this background colour I'm s...</td>\n",
       "      <td>0</td>\n",
       "    </tr>\n",
       "    <tr>\n",
       "      <th>2</th>\n",
       "      <td>2</td>\n",
       "      <td>Hey man, I'm really not trying to edit war. It...</td>\n",
       "      <td>0</td>\n",
       "    </tr>\n",
       "    <tr>\n",
       "      <th>3</th>\n",
       "      <td>3</td>\n",
       "      <td>\"\\nMore\\nI can't make any real suggestions on ...</td>\n",
       "      <td>0</td>\n",
       "    </tr>\n",
       "    <tr>\n",
       "      <th>4</th>\n",
       "      <td>4</td>\n",
       "      <td>You, sir, are my hero. Any chance you remember...</td>\n",
       "      <td>0</td>\n",
       "    </tr>\n",
       "  </tbody>\n",
       "</table>\n",
       "</div>"
      ],
      "text/plain": [
       "   Unnamed: 0                                               text  toxic\n",
       "0           0  Explanation\\nWhy the edits made under my usern...      0\n",
       "1           1  D'aww! He matches this background colour I'm s...      0\n",
       "2           2  Hey man, I'm really not trying to edit war. It...      0\n",
       "3           3  \"\\nMore\\nI can't make any real suggestions on ...      0\n",
       "4           4  You, sir, are my hero. Any chance you remember...      0"
      ]
     },
     "execution_count": 7,
     "metadata": {},
     "output_type": "execute_result"
    }
   ],
   "source": [
    "df.head()"
   ]
  },
  {
   "cell_type": "code",
   "execution_count": 8,
   "metadata": {},
   "outputs": [
    {
     "name": "stdout",
     "output_type": "stream",
     "text": [
      "<class 'pandas.core.frame.DataFrame'>\n",
      "RangeIndex: 159292 entries, 0 to 159291\n",
      "Data columns (total 3 columns):\n",
      " #   Column      Non-Null Count   Dtype \n",
      "---  ------      --------------   ----- \n",
      " 0   Unnamed: 0  159292 non-null  int64 \n",
      " 1   text        159292 non-null  object\n",
      " 2   toxic       159292 non-null  int64 \n",
      "dtypes: int64(2), object(1)\n",
      "memory usage: 3.6+ MB\n"
     ]
    }
   ],
   "source": [
    "df.info()"
   ]
  },
  {
   "cell_type": "markdown",
   "metadata": {},
   "source": [
    "В нашем распоряжении 159571 комментарий с разметкой о его токсичности. Первые строчки на английском языке. Проверим, все ли комментарии написаны на одном языке."
   ]
  },
  {
   "cell_type": "markdown",
   "metadata": {},
   "source": [
    "Посмотрим на соотношение токсичных и нетоксичных комментариев."
   ]
  },
  {
   "cell_type": "code",
   "execution_count": 9,
   "metadata": {},
   "outputs": [
    {
     "data": {
      "image/png": "[encoded data removed]",
      "text/plain": [
       "<Figure size 432x288 with 1 Axes>"
      ]
     },
     "metadata": {
      "needs_background": "light"
     },
     "output_type": "display_data"
    }
   ],
   "source": [
    "df.groupby('toxic').text.count().sort_values(ascending=False).plot(kind='bar', rot=0)\n",
    "plt.title('Распределение комментариев по токсичноси')\n",
    "plt.ylabel('Количество комментариев')\n",
    "plt.xlabel('Токсичность')\n",
    "plt.xticks([0, 1], ['non toxic', 'toxic'])\n",
    "plt.show()"
   ]
  },
  {
   "cell_type": "code",
   "execution_count": 10,
   "metadata": {},
   "outputs": [
    {
     "data": {
      "text/plain": [
       "0.10161213369158527"
      ]
     },
     "execution_count": 10,
     "metadata": {},
     "output_type": "execute_result"
    }
   ],
   "source": [
    "df.toxic.mean()"
   ]
  },
  {
   "cell_type": "markdown",
   "metadata": {},
   "source": [
    "Видим, что только 10% из комментариев помечены как токсичные. Нужно будет учесть это при разбиении выборок для обучения и предсказания моделей."
   ]
  },
  {
   "cell_type": "markdown",
   "metadata": {},
   "source": [
    "Уберем из текста ссылки на страницы."
   ]
  },
  {
   "cell_type": "code",
   "execution_count": 11,
   "metadata": {},
   "outputs": [],
   "source": [
    "def delete_links(data):\n",
    "    data = re.sub(r'^https?:\\/\\/.*[\\r\\n]*', '', data, flags=re.MULTILINE)\n",
    "    return data"
   ]
  },
  {
   "cell_type": "code",
   "execution_count": 12,
   "metadata": {},
   "outputs": [],
   "source": [
    "df['text'] = df['text'].apply(delete_links)"
   ]
  },
  {
   "cell_type": "code",
   "execution_count": 13,
   "metadata": {},
   "outputs": [
    {
     "data": {
      "text/html": [
       "<div>\n",
       "<style scoped>\n",
       "    .dataframe tbody tr th:only-of-type {\n",
       "        vertical-align: middle;\n",
       "    }\n",
       "\n",
       "    .dataframe tbody tr th {\n",
       "        vertical-align: top;\n",
       "    }\n",
       "\n",
       "    .dataframe thead th {\n",
       "        text-align: right;\n",
       "    }\n",
       "</style>\n",
       "<table border=\"1\" class=\"dataframe\">\n",
       "  <thead>\n",
       "    <tr style=\"text-align: right;\">\n",
       "      <th></th>\n",
       "      <th>Unnamed: 0</th>\n",
       "      <th>text</th>\n",
       "      <th>toxic</th>\n",
       "    </tr>\n",
       "  </thead>\n",
       "  <tbody>\n",
       "    <tr>\n",
       "      <th>0</th>\n",
       "      <td>0</td>\n",
       "      <td>Explanation\\nWhy the edits made under my usern...</td>\n",
       "      <td>0</td>\n",
       "    </tr>\n",
       "    <tr>\n",
       "      <th>1</th>\n",
       "      <td>1</td>\n",
       "      <td>D'aww! He matches this background colour I'm s...</td>\n",
       "      <td>0</td>\n",
       "    </tr>\n",
       "    <tr>\n",
       "      <th>2</th>\n",
       "      <td>2</td>\n",
       "      <td>Hey man, I'm really not trying to edit war. It...</td>\n",
       "      <td>0</td>\n",
       "    </tr>\n",
       "    <tr>\n",
       "      <th>3</th>\n",
       "      <td>3</td>\n",
       "      <td>\"\\nMore\\nI can't make any real suggestions on ...</td>\n",
       "      <td>0</td>\n",
       "    </tr>\n",
       "    <tr>\n",
       "      <th>4</th>\n",
       "      <td>4</td>\n",
       "      <td>You, sir, are my hero. Any chance you remember...</td>\n",
       "      <td>0</td>\n",
       "    </tr>\n",
       "    <tr>\n",
       "      <th>5</th>\n",
       "      <td>5</td>\n",
       "      <td>\"\\n\\nCongratulations from me as well, use the ...</td>\n",
       "      <td>0</td>\n",
       "    </tr>\n",
       "    <tr>\n",
       "      <th>6</th>\n",
       "      <td>6</td>\n",
       "      <td>COCKSUCKER BEFORE YOU PISS AROUND ON MY WORK</td>\n",
       "      <td>1</td>\n",
       "    </tr>\n",
       "    <tr>\n",
       "      <th>7</th>\n",
       "      <td>7</td>\n",
       "      <td>Your vandalism to the Matt Shirvington article...</td>\n",
       "      <td>0</td>\n",
       "    </tr>\n",
       "    <tr>\n",
       "      <th>8</th>\n",
       "      <td>8</td>\n",
       "      <td>Sorry if the word 'nonsense' was offensive to ...</td>\n",
       "      <td>0</td>\n",
       "    </tr>\n",
       "    <tr>\n",
       "      <th>9</th>\n",
       "      <td>9</td>\n",
       "      <td>alignment on this subject and which are contra...</td>\n",
       "      <td>0</td>\n",
       "    </tr>\n",
       "    <tr>\n",
       "      <th>10</th>\n",
       "      <td>10</td>\n",
       "      <td>\"\\nFair use rationale for Image:Wonju.jpg\\n\\nT...</td>\n",
       "      <td>0</td>\n",
       "    </tr>\n",
       "    <tr>\n",
       "      <th>11</th>\n",
       "      <td>11</td>\n",
       "      <td>bbq \\n\\nbe a man and lets discuss it-maybe ove...</td>\n",
       "      <td>0</td>\n",
       "    </tr>\n",
       "    <tr>\n",
       "      <th>12</th>\n",
       "      <td>12</td>\n",
       "      <td>Hey... what is it..\\n@ | talk .\\nWhat is it......</td>\n",
       "      <td>1</td>\n",
       "    </tr>\n",
       "    <tr>\n",
       "      <th>13</th>\n",
       "      <td>13</td>\n",
       "      <td>Before you start throwing accusations and warn...</td>\n",
       "      <td>0</td>\n",
       "    </tr>\n",
       "    <tr>\n",
       "      <th>14</th>\n",
       "      <td>14</td>\n",
       "      <td>Oh, and the girl above started her arguments w...</td>\n",
       "      <td>0</td>\n",
       "    </tr>\n",
       "    <tr>\n",
       "      <th>15</th>\n",
       "      <td>15</td>\n",
       "      <td>\"\\n\\nJuelz Santanas Age\\n\\nIn 2002, Juelz Sant...</td>\n",
       "      <td>0</td>\n",
       "    </tr>\n",
       "    <tr>\n",
       "      <th>16</th>\n",
       "      <td>16</td>\n",
       "      <td>Bye! \\n\\nDon't look, come or think of comming ...</td>\n",
       "      <td>1</td>\n",
       "    </tr>\n",
       "    <tr>\n",
       "      <th>17</th>\n",
       "      <td>17</td>\n",
       "      <td>REDIRECT Talk:Voydan Pop Georgiev- Chernodrinski</td>\n",
       "      <td>0</td>\n",
       "    </tr>\n",
       "    <tr>\n",
       "      <th>18</th>\n",
       "      <td>18</td>\n",
       "      <td>The Mitsurugi point made no sense - why not ar...</td>\n",
       "      <td>0</td>\n",
       "    </tr>\n",
       "    <tr>\n",
       "      <th>19</th>\n",
       "      <td>19</td>\n",
       "      <td>Don't mean to bother you \\n\\nI see that you're...</td>\n",
       "      <td>0</td>\n",
       "    </tr>\n",
       "  </tbody>\n",
       "</table>\n",
       "</div>"
      ],
      "text/plain": [
       "    Unnamed: 0                                               text  toxic\n",
       "0            0  Explanation\\nWhy the edits made under my usern...      0\n",
       "1            1  D'aww! He matches this background colour I'm s...      0\n",
       "2            2  Hey man, I'm really not trying to edit war. It...      0\n",
       "3            3  \"\\nMore\\nI can't make any real suggestions on ...      0\n",
       "4            4  You, sir, are my hero. Any chance you remember...      0\n",
       "5            5  \"\\n\\nCongratulations from me as well, use the ...      0\n",
       "6            6       COCKSUCKER BEFORE YOU PISS AROUND ON MY WORK      1\n",
       "7            7  Your vandalism to the Matt Shirvington article...      0\n",
       "8            8  Sorry if the word 'nonsense' was offensive to ...      0\n",
       "9            9  alignment on this subject and which are contra...      0\n",
       "10          10  \"\\nFair use rationale for Image:Wonju.jpg\\n\\nT...      0\n",
       "11          11  bbq \\n\\nbe a man and lets discuss it-maybe ove...      0\n",
       "12          12  Hey... what is it..\\n@ | talk .\\nWhat is it......      1\n",
       "13          13  Before you start throwing accusations and warn...      0\n",
       "14          14  Oh, and the girl above started her arguments w...      0\n",
       "15          15  \"\\n\\nJuelz Santanas Age\\n\\nIn 2002, Juelz Sant...      0\n",
       "16          16  Bye! \\n\\nDon't look, come or think of comming ...      1\n",
       "17          17   REDIRECT Talk:Voydan Pop Georgiev- Chernodrinski      0\n",
       "18          18  The Mitsurugi point made no sense - why not ar...      0\n",
       "19          19  Don't mean to bother you \\n\\nI see that you're...      0"
      ]
     },
     "execution_count": 13,
     "metadata": {},
     "output_type": "execute_result"
    }
   ],
   "source": [
    "df.head(20)"
   ]
  },
  {
   "cell_type": "markdown",
   "metadata": {},
   "source": [
    "Заменим основные сокращения английского языка."
   ]
  },
  {
   "cell_type": "code",
   "execution_count": 14,
   "metadata": {},
   "outputs": [],
   "source": [
    "df['text'] = df['text'].transform(lambda x: x\\\n",
    ".replace(\" won't \", ' will not ')\\\n",
    ".replace(\"can't \", 'cannot ')\\\n",
    ".replace(\"n't \", ' not ')\\\n",
    ".replace(\"'s \", ' is ')\\\n",
    ".replace(\"'m \", ' am ')\\\n",
    ".replace(\"'ll \", ' will ')\\\n",
    ".replace(\"'d \", ' would ') \\\n",
    ".replace(\"'re \", ' are ')\\\n",
    ".replace(\"'ve \", ' have ')\\\n",
    ".replace(\"\\n\", \" \")\n",
    "                                 )"
   ]
  },
  {
   "cell_type": "code",
   "execution_count": 15,
   "metadata": {},
   "outputs": [
    {
     "data": {
      "text/html": [
       "<div>\n",
       "<style scoped>\n",
       "    .dataframe tbody tr th:only-of-type {\n",
       "        vertical-align: middle;\n",
       "    }\n",
       "\n",
       "    .dataframe tbody tr th {\n",
       "        vertical-align: top;\n",
       "    }\n",
       "\n",
       "    .dataframe thead th {\n",
       "        text-align: right;\n",
       "    }\n",
       "</style>\n",
       "<table border=\"1\" class=\"dataframe\">\n",
       "  <thead>\n",
       "    <tr style=\"text-align: right;\">\n",
       "      <th></th>\n",
       "      <th>Unnamed: 0</th>\n",
       "      <th>text</th>\n",
       "      <th>toxic</th>\n",
       "    </tr>\n",
       "  </thead>\n",
       "  <tbody>\n",
       "    <tr>\n",
       "      <th>0</th>\n",
       "      <td>0</td>\n",
       "      <td>Explanation Why the edits made under my userna...</td>\n",
       "      <td>0</td>\n",
       "    </tr>\n",
       "    <tr>\n",
       "      <th>1</th>\n",
       "      <td>1</td>\n",
       "      <td>D'aww! He matches this background colour I am ...</td>\n",
       "      <td>0</td>\n",
       "    </tr>\n",
       "    <tr>\n",
       "      <th>2</th>\n",
       "      <td>2</td>\n",
       "      <td>Hey man, I am really not trying to edit war. I...</td>\n",
       "      <td>0</td>\n",
       "    </tr>\n",
       "    <tr>\n",
       "      <th>3</th>\n",
       "      <td>3</td>\n",
       "      <td>\" More I cannot make any real suggestions on i...</td>\n",
       "      <td>0</td>\n",
       "    </tr>\n",
       "    <tr>\n",
       "      <th>4</th>\n",
       "      <td>4</td>\n",
       "      <td>You, sir, are my hero. Any chance you remember...</td>\n",
       "      <td>0</td>\n",
       "    </tr>\n",
       "  </tbody>\n",
       "</table>\n",
       "</div>"
      ],
      "text/plain": [
       "   Unnamed: 0                                               text  toxic\n",
       "0           0  Explanation Why the edits made under my userna...      0\n",
       "1           1  D'aww! He matches this background colour I am ...      0\n",
       "2           2  Hey man, I am really not trying to edit war. I...      0\n",
       "3           3  \" More I cannot make any real suggestions on i...      0\n",
       "4           4  You, sir, are my hero. Any chance you remember...      0"
      ]
     },
     "execution_count": 15,
     "metadata": {},
     "output_type": "execute_result"
    }
   ],
   "source": [
    "df.head()"
   ]
  },
  {
   "cell_type": "markdown",
   "metadata": {},
   "source": [
    "Переведем текст комментариев в нижний регистр и оставим только английские слова."
   ]
  },
  {
   "cell_type": "code",
   "execution_count": 16,
   "metadata": {},
   "outputs": [],
   "source": [
    "df['text'] = df['text'].apply(str.lower)"
   ]
  },
  {
   "cell_type": "code",
   "execution_count": 17,
   "metadata": {},
   "outputs": [
    {
     "data": {
      "text/html": [
       "<div>\n",
       "<style scoped>\n",
       "    .dataframe tbody tr th:only-of-type {\n",
       "        vertical-align: middle;\n",
       "    }\n",
       "\n",
       "    .dataframe tbody tr th {\n",
       "        vertical-align: top;\n",
       "    }\n",
       "\n",
       "    .dataframe thead th {\n",
       "        text-align: right;\n",
       "    }\n",
       "</style>\n",
       "<table border=\"1\" class=\"dataframe\">\n",
       "  <thead>\n",
       "    <tr style=\"text-align: right;\">\n",
       "      <th></th>\n",
       "      <th>Unnamed: 0</th>\n",
       "      <th>text</th>\n",
       "      <th>toxic</th>\n",
       "    </tr>\n",
       "  </thead>\n",
       "  <tbody>\n",
       "    <tr>\n",
       "      <th>0</th>\n",
       "      <td>0</td>\n",
       "      <td>explanation why the edits made under my userna...</td>\n",
       "      <td>0</td>\n",
       "    </tr>\n",
       "    <tr>\n",
       "      <th>1</th>\n",
       "      <td>1</td>\n",
       "      <td>d'aww! he matches this background colour i am ...</td>\n",
       "      <td>0</td>\n",
       "    </tr>\n",
       "    <tr>\n",
       "      <th>2</th>\n",
       "      <td>2</td>\n",
       "      <td>hey man, i am really not trying to edit war. i...</td>\n",
       "      <td>0</td>\n",
       "    </tr>\n",
       "    <tr>\n",
       "      <th>3</th>\n",
       "      <td>3</td>\n",
       "      <td>\" more i cannot make any real suggestions on i...</td>\n",
       "      <td>0</td>\n",
       "    </tr>\n",
       "    <tr>\n",
       "      <th>4</th>\n",
       "      <td>4</td>\n",
       "      <td>you, sir, are my hero. any chance you remember...</td>\n",
       "      <td>0</td>\n",
       "    </tr>\n",
       "  </tbody>\n",
       "</table>\n",
       "</div>"
      ],
      "text/plain": [
       "   Unnamed: 0                                               text  toxic\n",
       "0           0  explanation why the edits made under my userna...      0\n",
       "1           1  d'aww! he matches this background colour i am ...      0\n",
       "2           2  hey man, i am really not trying to edit war. i...      0\n",
       "3           3  \" more i cannot make any real suggestions on i...      0\n",
       "4           4  you, sir, are my hero. any chance you remember...      0"
      ]
     },
     "execution_count": 17,
     "metadata": {},
     "output_type": "execute_result"
    }
   ],
   "source": [
    "df.head()"
   ]
  },
  {
   "cell_type": "code",
   "execution_count": 18,
   "metadata": {},
   "outputs": [],
   "source": [
    "df['text'] = df['text'].transform(lambda x: re.sub(r'[^a-z ]', ' ', x))"
   ]
  },
  {
   "cell_type": "code",
   "execution_count": 19,
   "metadata": {},
   "outputs": [
    {
     "data": {
      "text/html": [
       "<div>\n",
       "<style scoped>\n",
       "    .dataframe tbody tr th:only-of-type {\n",
       "        vertical-align: middle;\n",
       "    }\n",
       "\n",
       "    .dataframe tbody tr th {\n",
       "        vertical-align: top;\n",
       "    }\n",
       "\n",
       "    .dataframe thead th {\n",
       "        text-align: right;\n",
       "    }\n",
       "</style>\n",
       "<table border=\"1\" class=\"dataframe\">\n",
       "  <thead>\n",
       "    <tr style=\"text-align: right;\">\n",
       "      <th></th>\n",
       "      <th>Unnamed: 0</th>\n",
       "      <th>text</th>\n",
       "      <th>toxic</th>\n",
       "    </tr>\n",
       "  </thead>\n",
       "  <tbody>\n",
       "    <tr>\n",
       "      <th>0</th>\n",
       "      <td>0</td>\n",
       "      <td>explanation why the edits made under my userna...</td>\n",
       "      <td>0</td>\n",
       "    </tr>\n",
       "    <tr>\n",
       "      <th>1</th>\n",
       "      <td>1</td>\n",
       "      <td>d aww  he matches this background colour i am ...</td>\n",
       "      <td>0</td>\n",
       "    </tr>\n",
       "    <tr>\n",
       "      <th>2</th>\n",
       "      <td>2</td>\n",
       "      <td>hey man  i am really not trying to edit war  i...</td>\n",
       "      <td>0</td>\n",
       "    </tr>\n",
       "    <tr>\n",
       "      <th>3</th>\n",
       "      <td>3</td>\n",
       "      <td>more i cannot make any real suggestions on i...</td>\n",
       "      <td>0</td>\n",
       "    </tr>\n",
       "    <tr>\n",
       "      <th>4</th>\n",
       "      <td>4</td>\n",
       "      <td>you  sir  are my hero  any chance you remember...</td>\n",
       "      <td>0</td>\n",
       "    </tr>\n",
       "  </tbody>\n",
       "</table>\n",
       "</div>"
      ],
      "text/plain": [
       "   Unnamed: 0                                               text  toxic\n",
       "0           0  explanation why the edits made under my userna...      0\n",
       "1           1  d aww  he matches this background colour i am ...      0\n",
       "2           2  hey man  i am really not trying to edit war  i...      0\n",
       "3           3    more i cannot make any real suggestions on i...      0\n",
       "4           4  you  sir  are my hero  any chance you remember...      0"
      ]
     },
     "execution_count": 19,
     "metadata": {},
     "output_type": "execute_result"
    }
   ],
   "source": [
    "df.head()"
   ]
  },
  {
   "cell_type": "markdown",
   "metadata": {},
   "source": [
    "Не будем переводить данные в кодировку Юникод, так как у нас английский текст в ASCII."
   ]
  },
  {
   "cell_type": "markdown",
   "metadata": {},
   "source": [
    "### Лемматизация"
   ]
  },
  {
   "cell_type": "markdown",
   "metadata": {},
   "source": [
    "Проведем лемматизацию комментариев [с соответствующим POS-тегом](https://webdevblog.ru/podhody-lemmatizacii-s-primerami-v-python/)."
   ]
  },
  {
   "cell_type": "code",
   "execution_count": 20,
   "metadata": {},
   "outputs": [],
   "source": [
    "def get_wordnet_pos(word):\n",
    "    \"\"\"Map POS tag to first character lemmatize() accepts\"\"\"\n",
    "    tag = nltk.pos_tag([word])[0][1][0].upper()\n",
    "    tag_dict = {\"J\": wordnet.ADJ,\n",
    "                \"N\": wordnet.NOUN,\n",
    "                \"V\": wordnet.VERB,\n",
    "                \"R\": wordnet.ADV}\n",
    "    return tag_dict.get(tag, wordnet.NOUN)"
   ]
  },
  {
   "cell_type": "code",
   "execution_count": 21,
   "metadata": {},
   "outputs": [],
   "source": [
    "lemmatizer = WordNetLemmatizer()"
   ]
  },
  {
   "cell_type": "markdown",
   "metadata": {},
   "source": [
    "Лемматизация занимает примерно 22 минуты, поэтому мы однажды прогнали этот код и выгрузили новый `.csv` файл с уже лемматизированным текстом. Теперь мы код лемматизации закомментируем и подгрузим с Гугл диска уже готовый документ с лемматизацией."
   ]
  },
  {
   "cell_type": "code",
   "execution_count": 22,
   "metadata": {},
   "outputs": [],
   "source": [
    "# %%time\n",
    "# df['text'] = df['text'].transform(lambda x: ' '.join([lemmatizer.lemmatize(w, get_wordnet_pos(w)) for w in x.split()]))"
   ]
  },
  {
   "cell_type": "code",
   "execution_count": 23,
   "metadata": {},
   "outputs": [],
   "source": [
    "try:\n",
    "    df = pd.read_csv(path4,\n",
    "                    index_col=0)\n",
    "except Exception as err:\n",
    "    try:\n",
    "        df = pd.read_csv(url, \n",
    "                         index_col=0\n",
    "#                          engine='python'\n",
    "                        )\n",
    "    except Exception as err:\n",
    "        print('Ошибка чтения файла df:', repr(err))"
   ]
  },
  {
   "cell_type": "code",
   "execution_count": 24,
   "metadata": {
    "scrolled": true
   },
   "outputs": [
    {
     "data": {
      "text/html": [
       "<div>\n",
       "<style scoped>\n",
       "    .dataframe tbody tr th:only-of-type {\n",
       "        vertical-align: middle;\n",
       "    }\n",
       "\n",
       "    .dataframe tbody tr th {\n",
       "        vertical-align: top;\n",
       "    }\n",
       "\n",
       "    .dataframe thead th {\n",
       "        text-align: right;\n",
       "    }\n",
       "</style>\n",
       "<table border=\"1\" class=\"dataframe\">\n",
       "  <thead>\n",
       "    <tr style=\"text-align: right;\">\n",
       "      <th></th>\n",
       "      <th>text</th>\n",
       "      <th>toxic</th>\n",
       "    </tr>\n",
       "  </thead>\n",
       "  <tbody>\n",
       "    <tr>\n",
       "      <th>0</th>\n",
       "      <td>explanation why the edits make under my userna...</td>\n",
       "      <td>0</td>\n",
       "    </tr>\n",
       "    <tr>\n",
       "      <th>1</th>\n",
       "      <td>d aww he match this background colour i be see...</td>\n",
       "      <td>0</td>\n",
       "    </tr>\n",
       "    <tr>\n",
       "      <th>2</th>\n",
       "      <td>hey man i be really not try to edit war it be ...</td>\n",
       "      <td>0</td>\n",
       "    </tr>\n",
       "    <tr>\n",
       "      <th>3</th>\n",
       "      <td>more i cannot make any real suggestion on impr...</td>\n",
       "      <td>0</td>\n",
       "    </tr>\n",
       "    <tr>\n",
       "      <th>4</th>\n",
       "      <td>you sir be my hero any chance you remember wha...</td>\n",
       "      <td>0</td>\n",
       "    </tr>\n",
       "  </tbody>\n",
       "</table>\n",
       "</div>"
      ],
      "text/plain": [
       "                                                text  toxic\n",
       "0  explanation why the edits make under my userna...      0\n",
       "1  d aww he match this background colour i be see...      0\n",
       "2  hey man i be really not try to edit war it be ...      0\n",
       "3  more i cannot make any real suggestion on impr...      0\n",
       "4  you sir be my hero any chance you remember wha...      0"
      ]
     },
     "execution_count": 24,
     "metadata": {},
     "output_type": "execute_result"
    }
   ],
   "source": [
    "df.head()"
   ]
  },
  {
   "cell_type": "markdown",
   "metadata": {},
   "source": [
    "После предобработки проверим таблицу на пропуски."
   ]
  },
  {
   "cell_type": "code",
   "execution_count": 25,
   "metadata": {},
   "outputs": [],
   "source": [
    "def display_missing(data):\n",
    "    try:\n",
    "        display(data.stb.missing(style=True))\n",
    "    except Exception as err:\n",
    "        try:\n",
    "            display(data.isna().sum())\n",
    "        except Exception as err:\n",
    "            print('Ошибка чтения файла df:', repr(err))"
   ]
  },
  {
   "cell_type": "code",
   "execution_count": 26,
   "metadata": {
    "scrolled": true
   },
   "outputs": [
    {
     "data": {
      "text/html": [
       "<style  type=\"text/css\" >\n",
       "</style><table id=\"T_0511e_\" ><thead>    <tr>        <th class=\"blank level0\" ></th>        <th class=\"col_heading level0 col0\" >missing</th>        <th class=\"col_heading level0 col1\" >total</th>        <th class=\"col_heading level0 col2\" >percent</th>    </tr></thead><tbody>\n",
       "                <tr>\n",
       "                        <th id=\"T_0511e_level0_row0\" class=\"row_heading level0 row0\" >text</th>\n",
       "                        <td id=\"T_0511e_row0_col0\" class=\"data row0 col0\" >93</td>\n",
       "                        <td id=\"T_0511e_row0_col1\" class=\"data row0 col1\" >159,571</td>\n",
       "                        <td id=\"T_0511e_row0_col2\" class=\"data row0 col2\" >0.06%</td>\n",
       "            </tr>\n",
       "            <tr>\n",
       "                        <th id=\"T_0511e_level0_row1\" class=\"row_heading level0 row1\" >toxic</th>\n",
       "                        <td id=\"T_0511e_row1_col0\" class=\"data row1 col0\" >0</td>\n",
       "                        <td id=\"T_0511e_row1_col1\" class=\"data row1 col1\" >159,571</td>\n",
       "                        <td id=\"T_0511e_row1_col2\" class=\"data row1 col2\" >0.00%</td>\n",
       "            </tr>\n",
       "    </tbody></table>"
      ],
      "text/plain": [
       "<pandas.io.formats.style.Styler at 0x7ff001d2be50>"
      ]
     },
     "metadata": {},
     "output_type": "display_data"
    }
   ],
   "source": [
    "display_missing(df)"
   ]
  },
  {
   "cell_type": "markdown",
   "metadata": {},
   "source": [
    "Удалим образовавшиеся пропуски в данных после удаления ссылок и/или стоп-слов."
   ]
  },
  {
   "cell_type": "code",
   "execution_count": 27,
   "metadata": {},
   "outputs": [],
   "source": [
    "df.dropna(inplace=True)"
   ]
  },
  {
   "cell_type": "markdown",
   "metadata": {},
   "source": [
    "Разделим данные на тренировочный, валидационный и тестовый набор."
   ]
  },
  {
   "cell_type": "code",
   "execution_count": 28,
   "metadata": {},
   "outputs": [],
   "source": [
    "X_train_valid, X_test, target_train_valid, target_test = train_test_split(\n",
    "    df['text'],\n",
    "    df['toxic'],\n",
    "    test_size=0.2,\n",
    "    random_state=STATE,\n",
    "    stratify=df['toxic']\n",
    ") \n",
    "X_train, X_valid, target_train, target_valid = train_test_split(\n",
    "    X_train_valid,\n",
    "    target_train_valid,\n",
    "    test_size=0.25,\n",
    "    random_state=STATE,\n",
    "    stratify=target_train_valid\n",
    ") "
   ]
  },
  {
   "cell_type": "markdown",
   "metadata": {},
   "source": [
    "Проверим процентное содержание токсичных комментариев в каждой из выборок."
   ]
  },
  {
   "cell_type": "code",
   "execution_count": 29,
   "metadata": {},
   "outputs": [
    {
     "data": {
      "text/plain": [
       "(0.10169146117790911,\n",
       " 0.10168676713416801,\n",
       " 0.10170554301479809,\n",
       " 0.10167419112114372)"
      ]
     },
     "execution_count": 29,
     "metadata": {},
     "output_type": "execute_result"
    }
   ],
   "source": [
    "target_train_valid.mean(), target_train.mean(), target_valid.mean(), target_test.mean()"
   ]
  },
  {
   "cell_type": "markdown",
   "metadata": {},
   "source": [
    "В каждой выборке примерно по 10% токсичных комментариев, что согласуется с общей таблицей."
   ]
  },
  {
   "cell_type": "markdown",
   "metadata": {},
   "source": [
    "### Масштабирование данных с помощью TF-IDF."
   ]
  },
  {
   "cell_type": "markdown",
   "metadata": {},
   "source": [
    "При построении пайплайна будем проводить токенизацию комментариев с построением словаря важности известных слов, использовав стоп-слова."
   ]
  },
  {
   "cell_type": "code",
   "execution_count": 30,
   "metadata": {},
   "outputs": [],
   "source": [
    "stop_words = set(stopwords.words('english'))\n",
    "\n",
    "stop_words = set([lemmatizer.lemmatize(w, get_wordnet_pos(w)) for w in stop_words])"
   ]
  },
  {
   "cell_type": "code",
   "execution_count": 31,
   "metadata": {},
   "outputs": [],
   "source": [
    "count_tf_idf = TfidfVectorizer()"
   ]
  },
  {
   "cell_type": "markdown",
   "metadata": {},
   "source": [
    "Выведем размер получившихся выборок."
   ]
  },
  {
   "cell_type": "code",
   "execution_count": 32,
   "metadata": {},
   "outputs": [
    {
     "data": {
      "text/plain": [
       "((95686,), (31896,), (127582,), (31896,))"
      ]
     },
     "execution_count": 32,
     "metadata": {},
     "output_type": "execute_result"
    }
   ],
   "source": [
    "X_train.shape, X_valid.shape, X_train_valid.shape, X_test.shape "
   ]
  },
  {
   "cell_type": "markdown",
   "metadata": {},
   "source": [
    "## Обучение"
   ]
  },
  {
   "cell_type": "markdown",
   "metadata": {},
   "source": [
    "### Качество прогноза"
   ]
  },
  {
   "cell_type": "markdown",
   "metadata": {},
   "source": [
    "Для обучения моделей нам понадобится оценить качество прогноза.\n",
    "\n",
    "У нас есть четкое требование к качеству: значение метрики качества `F1` не меньше 0.75. "
   ]
  },
  {
   "cell_type": "code",
   "execution_count": 33,
   "metadata": {},
   "outputs": [
    {
     "name": "stdout",
     "output_type": "stream",
     "text": [
      "Метрики на baseline-модели:\n",
      "F1: 0.108\n",
      "accuracy: 0.815\n"
     ]
    }
   ],
   "source": [
    "dummy = DummyClassifier(\n",
    "    strategy = 'stratified', \n",
    "    random_state = STATE\n",
    "    )\n",
    "dummy.fit(X_train, target_train)\n",
    "\n",
    "f1_dummy = f1_score(target_valid, dummy.predict(X_valid))\n",
    "\n",
    "score = dummy.score(X_valid, target_valid)\n",
    "print(f'Метрики на baseline-модели:\\nF1: {f1_dummy:.3f}\\naccuracy: {score:.3f}')"
   ]
  },
  {
   "cell_type": "markdown",
   "metadata": {},
   "source": [
    "Видим, что модель точно предсказала токсичность 82% комментариев, однако метрика F1 достаточно низкая, похоже, имеем дело с большим количеством ошибок первого и второго рода."
   ]
  },
  {
   "cell_type": "code",
   "execution_count": 34,
   "metadata": {},
   "outputs": [
    {
     "data": {
      "text/html": [
       "<div>\n",
       "<style scoped>\n",
       "    .dataframe tbody tr th:only-of-type {\n",
       "        vertical-align: middle;\n",
       "    }\n",
       "\n",
       "    .dataframe tbody tr th {\n",
       "        vertical-align: top;\n",
       "    }\n",
       "\n",
       "    .dataframe thead th {\n",
       "        text-align: right;\n",
       "    }\n",
       "</style>\n",
       "<table border=\"1\" class=\"dataframe\">\n",
       "  <thead>\n",
       "    <tr style=\"text-align: right;\">\n",
       "      <th></th>\n",
       "      <th>valid_F1</th>\n",
       "    </tr>\n",
       "  </thead>\n",
       "  <tbody>\n",
       "    <tr>\n",
       "      <th>dummy</th>\n",
       "      <td>0.108</td>\n",
       "    </tr>\n",
       "  </tbody>\n",
       "</table>\n",
       "</div>"
      ],
      "text/plain": [
       "      valid_F1\n",
       "dummy    0.108"
      ]
     },
     "execution_count": 34,
     "metadata": {},
     "output_type": "execute_result"
    }
   ],
   "source": [
    "results = pd.DataFrame(columns=['valid_F1'])\n",
    "results.loc['dummy', 'valid_F1'] = round(f1_dummy, 3)\n",
    "results"
   ]
  },
  {
   "cell_type": "markdown",
   "metadata": {},
   "source": [
    "### Модель логистической регрессии"
   ]
  },
  {
   "cell_type": "markdown",
   "metadata": {},
   "source": [
    "Построим пайплайн для модели логистической регрессии.\n",
    "\n",
    "Для модели будем использовать только те токены, которые встречаются по крайней мере в **трех документах** (токен, который встретился только в одном-двух документах, вряд ли встретится в тестовом наборе и поэтому бесполезен). С помощью параметра `min_df` мы можем задать минимальное количество документов, в котором должен появиться токен.\n",
    "\n"
   ]
  },
  {
   "cell_type": "code",
   "execution_count": 35,
   "metadata": {},
   "outputs": [],
   "source": [
    "pipe_lr = Pipeline([\n",
    "    ('vectorizer', count_tf_idf),\n",
    "    ('model', LogisticRegression()),\n",
    "\n",
    "])\n",
    "\n",
    "params_lr = [\n",
    "    {\n",
    "        'vectorizer__stop_words': [stop_words],\n",
    "        'vectorizer__ngram_range': [(1, 2)],\n",
    "        'vectorizer__min_df': [3],\n",
    "        'vectorizer__max_df': [\n",
    "                               0.7, \n",
    "                              #  0.8\n",
    "                               ],\n",
    "        # 'vectorizer__max_features': [80000, None],\n",
    "        'model': [LogisticRegression()],\n",
    "        # 'model__solver': ['saga'],\n",
    "#         'model__class_weight': ['balanced', {0:1, 1:3}],\n",
    "        'model__class_weight': [{0:1, 1:3}],\n",
    "        'model__n_jobs': [-1],\n",
    "        'model__random_state': [STATE],\n",
    "        # 'model__C': np.logspace(-3,3,7), # before\n",
    "        # # 'model__C': [0.01], # after\n",
    "        # 'model__penalty': [\n",
    "                          #  'elasticnet', \n",
    "                          #  'l1', \n",
    "                          #  'l2', \n",
    "                          #  'none'\n",
    "                          #  ], # before\n",
    "        # # 'model__penalty': ['l1'], # after\n",
    "        'model__max_iter': [100000]\n",
    "\n",
    "    },\n",
    "]\n",
    "\n",
    "# cv = StratifiedKFold(n_splits=3, shuffle=True, random_state=STATE)\n",
    "cv = KFold(n_splits=3, shuffle=True, random_state=STATE)"
   ]
  },
  {
   "cell_type": "code",
   "execution_count": 36,
   "metadata": {},
   "outputs": [],
   "source": [
    "grid_lr = GridSearchCV(pipe_lr, param_grid=params_lr, cv=cv, n_jobs=-1, scoring='f1', verbose=2)"
   ]
  },
  {
   "cell_type": "code",
   "execution_count": 37,
   "metadata": {},
   "outputs": [
    {
     "name": "stdout",
     "output_type": "stream",
     "text": [
      "Fitting 3 folds for each of 1 candidates, totalling 3 fits\n",
      "[CV] END model=LogisticRegression(), model__class_weight={0: 1, 1: 3}, model__max_iter=100000, model__n_jobs=-1, model__random_state=12345, vectorizer__max_df=0.7, vectorizer__min_df=3, vectorizer__ngram_range=(1, 2), vectorizer__stop_words={'at', 'more', \"it's\", 'wouldn', 'shan', 'myself', 'our', 'have', 'my', \"you're\", 'those', 'against', 'didn', 'or', 'very', 'couldn', 'down', 'she', 'me', 'such', 'now', 'why', 'too', 'you', 'once', 'by', 'same', 'if', 'ourselves', 'hers', 'who', 'about', 'an', \"didn't\", 'o', 'and', 'a', 'over', 'until', 'do', 'hasn', \"isn't\", 'theirs', \"that'll\", 'what', 'needn', 'won', 'isn', 'himself', 'your', 'because', 'we', \"wasn't\", 'here', 't', 'be', 'aren', 'mightn', 'ain', 'before', 'both', 'y', 'out', 'yourself', 'but', 'yours', 'yourselves', 'herself', 'up', 'i', 'nor', 'with', 'itself', \"weren't\", 'not', 'd', \"won't\", 'haven', 'there', \"haven't\", 'shouldn', 'below', 'own', 'on', \"mightn't\", 'weren', 'for', 'll', 'no', 'her', 'into', 'other', 'them', 'only', 'their', 'should', 'he', 'most', 'mustn', \"shouldn't\", \"needn't\", 've', \"should've\", \"don't\", 'all', 'themselves', 'between', 'far', 'through', \"wouldn't\", 'don', 'under', 'they', \"she's\", 'few', \"you'd\", 'ours', 'than', 'it', 'of', 's', 'each', \"shan't\", 'ma', \"doesn't\", \"couldn't\", 'how', 'just', 'when', 'this', \"aren't\", 'his', \"hasn't\", 'to', 'off', 'some', 'again', 'these', 'above', \"you've\", 'wasn', 'the', \"mustn't\", \"hadn't\", 'whom', 'while', 'during', \"you'll\", 'in', 'can', 'hadn', 'that', 'where', 'so', 'from', 'after', 're', 'm', 'doesn', 'any', 'which', 'will', 'then', 'him'}; total time= 1.1min\n",
      "[CV] END model=LogisticRegression(), model__class_weight={0: 1, 1: 3}, model__max_iter=100000, model__n_jobs=-1, model__random_state=12345, vectorizer__max_df=0.7, vectorizer__min_df=3, vectorizer__ngram_range=(1, 2), vectorizer__stop_words={'at', 'more', \"it's\", 'wouldn', 'shan', 'myself', 'our', 'have', 'my', \"you're\", 'those', 'against', 'didn', 'or', 'very', 'couldn', 'down', 'she', 'me', 'such', 'now', 'why', 'too', 'you', 'once', 'by', 'same', 'if', 'ourselves', 'hers', 'who', 'about', 'an', \"didn't\", 'o', 'and', 'a', 'over', 'until', 'do', 'hasn', \"isn't\", 'theirs', \"that'll\", 'what', 'needn', 'won', 'isn', 'himself', 'your', 'because', 'we', \"wasn't\", 'here', 't', 'be', 'aren', 'mightn', 'ain', 'before', 'both', 'y', 'out', 'yourself', 'but', 'yours', 'yourselves', 'herself', 'up', 'i', 'nor', 'with', 'itself', \"weren't\", 'not', 'd', \"won't\", 'haven', 'there', \"haven't\", 'shouldn', 'below', 'own', 'on', \"mightn't\", 'weren', 'for', 'll', 'no', 'her', 'into', 'other', 'them', 'only', 'their', 'should', 'he', 'most', 'mustn', \"shouldn't\", \"needn't\", 've', \"should've\", \"don't\", 'all', 'themselves', 'between', 'far', 'through', \"wouldn't\", 'don', 'under', 'they', \"she's\", 'few', \"you'd\", 'ours', 'than', 'it', 'of', 's', 'each', \"shan't\", 'ma', \"doesn't\", \"couldn't\", 'how', 'just', 'when', 'this', \"aren't\", 'his', \"hasn't\", 'to', 'off', 'some', 'again', 'these', 'above', \"you've\", 'wasn', 'the', \"mustn't\", \"hadn't\", 'whom', 'while', 'during', \"you'll\", 'in', 'can', 'hadn', 'that', 'where', 'so', 'from', 'after', 're', 'm', 'doesn', 'any', 'which', 'will', 'then', 'him'}; total time=  43.4s\n",
      "[CV] END model=LogisticRegression(), model__class_weight={0: 1, 1: 3}, model__max_iter=100000, model__n_jobs=-1, model__random_state=12345, vectorizer__max_df=0.7, vectorizer__min_df=3, vectorizer__ngram_range=(1, 2), vectorizer__stop_words={'at', 'more', \"it's\", 'wouldn', 'shan', 'myself', 'our', 'have', 'my', \"you're\", 'those', 'against', 'didn', 'or', 'very', 'couldn', 'down', 'she', 'me', 'such', 'now', 'why', 'too', 'you', 'once', 'by', 'same', 'if', 'ourselves', 'hers', 'who', 'about', 'an', \"didn't\", 'o', 'and', 'a', 'over', 'until', 'do', 'hasn', \"isn't\", 'theirs', \"that'll\", 'what', 'needn', 'won', 'isn', 'himself', 'your', 'because', 'we', \"wasn't\", 'here', 't', 'be', 'aren', 'mightn', 'ain', 'before', 'both', 'y', 'out', 'yourself', 'but', 'yours', 'yourselves', 'herself', 'up', 'i', 'nor', 'with', 'itself', \"weren't\", 'not', 'd', \"won't\", 'haven', 'there', \"haven't\", 'shouldn', 'below', 'own', 'on', \"mightn't\", 'weren', 'for', 'll', 'no', 'her', 'into', 'other', 'them', 'only', 'their', 'should', 'he', 'most', 'mustn', \"shouldn't\", \"needn't\", 've', \"should've\", \"don't\", 'all', 'themselves', 'between', 'far', 'through', \"wouldn't\", 'don', 'under', 'they', \"she's\", 'few', \"you'd\", 'ours', 'than', 'it', 'of', 's', 'each', \"shan't\", 'ma', \"doesn't\", \"couldn't\", 'how', 'just', 'when', 'this', \"aren't\", 'his', \"hasn't\", 'to', 'off', 'some', 'again', 'these', 'above', \"you've\", 'wasn', 'the', \"mustn't\", \"hadn't\", 'whom', 'while', 'during', \"you'll\", 'in', 'can', 'hadn', 'that', 'where', 'so', 'from', 'after', 're', 'm', 'doesn', 'any', 'which', 'will', 'then', 'him'}; total time=  53.1s\n",
      "CPU times: user 1min 43s, sys: 1min 57s, total: 3min 40s\n",
      "Wall time: 3min 40s\n"
     ]
    },
    {
     "data": {
      "text/plain": [
       "GridSearchCV(cv=KFold(n_splits=3, random_state=12345, shuffle=True),\n",
       "             estimator=Pipeline(steps=[('vectorizer', TfidfVectorizer()),\n",
       "                                       ('model', LogisticRegression())]),\n",
       "             n_jobs=-1,\n",
       "             param_grid=[{'model': [LogisticRegression(class_weight={0: 1,\n",
       "                                                                     1: 3},\n",
       "                                                       max_iter=100000,\n",
       "                                                       n_jobs=-1,\n",
       "                                                       random_state=12345)],\n",
       "                          'model__class_weight': [{0: 1, 1: 3}],\n",
       "                          'model__max_iter': [100000], 'model__n_...\n",
       "                          'vectorizer__max_df': [0.7],\n",
       "                          'vectorizer__min_df': [3],\n",
       "                          'vectorizer__ngram_range': [(1, 2)],\n",
       "                          'vectorizer__stop_words': [{'a', 'about', 'above',\n",
       "                                                      'after', 'again',\n",
       "                                                      'against', 'ain', 'all',\n",
       "                                                      'an', 'and', 'any',\n",
       "                                                      'aren', \"aren't\", 'at',\n",
       "                                                      'be', 'because', 'before',\n",
       "                                                      'below', 'between',\n",
       "                                                      'both', 'but', 'by',\n",
       "                                                      'can', 'couldn',\n",
       "                                                      \"couldn't\", 'd', 'didn',\n",
       "                                                      \"didn't\", 'do', 'doesn', ...}]}],\n",
       "             scoring='f1', verbose=2)"
      ]
     },
     "execution_count": 37,
     "metadata": {},
     "output_type": "execute_result"
    }
   ],
   "source": [
    "%%time\n",
    "grid_lr.fit(X_train_valid, target_train_valid)"
   ]
  },
  {
   "cell_type": "code",
   "execution_count": 38,
   "metadata": {},
   "outputs": [
    {
     "name": "stdout",
     "output_type": "stream",
     "text": [
      "Best Params: {'model': LogisticRegression(class_weight={0: 1, 1: 3}, max_iter=100000, n_jobs=-1,\n",
      "                   random_state=12345), 'model__class_weight': {0: 1, 1: 3}, 'model__max_iter': 100000, 'model__n_jobs': -1, 'model__random_state': 12345, 'vectorizer__max_df': 0.7, 'vectorizer__min_df': 3, 'vectorizer__ngram_range': (1, 2), 'vectorizer__stop_words': {'at', 'more', \"it's\", 'wouldn', 'shan', 'myself', 'our', 'have', 'my', \"you're\", 'those', 'against', 'didn', 'or', 'very', 'couldn', 'down', 'she', 'me', 'such', 'now', 'why', 'too', 'you', 'once', 'by', 'same', 'if', 'ourselves', 'hers', 'who', 'about', 'an', \"didn't\", 'o', 'and', 'a', 'over', 'until', 'do', 'hasn', \"isn't\", 'theirs', \"that'll\", 'what', 'needn', 'won', 'isn', 'himself', 'your', 'because', 'we', \"wasn't\", 'here', 't', 'be', 'aren', 'mightn', 'ain', 'before', 'both', 'y', 'out', 'yourself', 'but', 'yours', 'yourselves', 'herself', 'up', 'i', 'nor', 'with', 'itself', \"weren't\", 'not', 'd', \"won't\", 'haven', 'there', \"haven't\", 'shouldn', 'below', 'own', 'on', \"mightn't\", 'weren', 'for', 'll', 'no', 'her', 'into', 'other', 'them', 'only', 'their', 'should', 'he', 'most', 'mustn', \"shouldn't\", \"needn't\", 've', \"should've\", \"don't\", 'all', 'themselves', 'between', 'far', 'through', \"wouldn't\", 'don', 'under', 'they', \"she's\", 'few', \"you'd\", 'ours', 'than', 'it', 'of', 's', 'each', \"shan't\", 'ma', \"doesn't\", \"couldn't\", 'how', 'just', 'when', 'this', \"aren't\", 'his', \"hasn't\", 'to', 'off', 'some', 'again', 'these', 'above', \"you've\", 'wasn', 'the', \"mustn't\", \"hadn't\", 'whom', 'while', 'during', \"you'll\", 'in', 'can', 'hadn', 'that', 'where', 'so', 'from', 'after', 're', 'm', 'doesn', 'any', 'which', 'will', 'then', 'him'}}\n",
      "\n",
      "Best F1 Score: 0.7747110199553013\n"
     ]
    }
   ],
   "source": [
    "lr_f1 = grid_lr.best_score_\n",
    "print('Best Params:', grid_lr.best_params_)\n",
    "print()\n",
    "print('Best F1 Score:', lr_f1)"
   ]
  },
  {
   "cell_type": "markdown",
   "metadata": {},
   "source": [
    "Кросс-валидацией нашли лучшую модель, сохраним ее."
   ]
  },
  {
   "cell_type": "code",
   "execution_count": 39,
   "metadata": {},
   "outputs": [
    {
     "name": "stdout",
     "output_type": "stream",
     "text": [
      "F1 для модели логистической регрессии равно 0.774\n",
      "CPU times: user 35.4 s, sys: 46.7 s, total: 1min 22s\n",
      "Wall time: 1min 22s\n"
     ]
    }
   ],
   "source": [
    "%%time\n",
    "lr_model = grid_lr.best_estimator_\n",
    "\n",
    "lr_model.fit(X_train, target_train)\n",
    "lr_predicts = lr_model.predict(X_valid)\n",
    "f1_lr = f1_score(target_valid, lr_predicts)\n",
    "print(f'F1 для модели логистической регрессии равно {f1_lr:.3f}')"
   ]
  },
  {
   "cell_type": "code",
   "execution_count": 40,
   "metadata": {},
   "outputs": [
    {
     "data": {
      "text/html": [
       "<div>\n",
       "<style scoped>\n",
       "    .dataframe tbody tr th:only-of-type {\n",
       "        vertical-align: middle;\n",
       "    }\n",
       "\n",
       "    .dataframe tbody tr th {\n",
       "        vertical-align: top;\n",
       "    }\n",
       "\n",
       "    .dataframe thead th {\n",
       "        text-align: right;\n",
       "    }\n",
       "</style>\n",
       "<table border=\"1\" class=\"dataframe\">\n",
       "  <thead>\n",
       "    <tr style=\"text-align: right;\">\n",
       "      <th></th>\n",
       "      <th>valid_F1</th>\n",
       "    </tr>\n",
       "  </thead>\n",
       "  <tbody>\n",
       "    <tr>\n",
       "      <th>dummy</th>\n",
       "      <td>0.108</td>\n",
       "    </tr>\n",
       "    <tr>\n",
       "      <th>logistic regression</th>\n",
       "      <td>0.774</td>\n",
       "    </tr>\n",
       "  </tbody>\n",
       "</table>\n",
       "</div>"
      ],
      "text/plain": [
       "                    valid_F1\n",
       "dummy                  0.108\n",
       "logistic regression    0.774"
      ]
     },
     "execution_count": 40,
     "metadata": {},
     "output_type": "execute_result"
    }
   ],
   "source": [
    "results.loc['logistic regression', 'valid_F1'] = round(f1_lr, 3)\n",
    "results"
   ]
  },
  {
   "cell_type": "markdown",
   "metadata": {},
   "source": [
    "### Модель линейных опорных векторов\n"
   ]
  },
  {
   "cell_type": "code",
   "execution_count": 41,
   "metadata": {},
   "outputs": [],
   "source": [
    "pipe_svc = Pipeline([\n",
    "    ('vectorizer', count_tf_idf),\n",
    "    ('model', LinearSVC()),\n",
    "\n",
    "\n",
    "])\n",
    "\n",
    "params_svc = [\n",
    "    {\n",
    "        'vectorizer__stop_words': [stop_words],\n",
    "        'vectorizer__ngram_range': [(1, 2)],\n",
    "        'vectorizer__min_df': [3],\n",
    "        # 'vectorizer__max_df': [0.7, 0.8],\n",
    "        'vectorizer__max_df': [0.7],     \n",
    "        # 'vectorizer__max_features': [80000, None],\n",
    "        'vectorizer__max_features': [80000],     \n",
    "        # 'model': [SVC()],\n",
    "        'model': [LinearSVC()],\n",
    "        # 'model__class_weight': ['balanced', {0:1, 1:3}],\n",
    "        'model__class_weight': [{0:1, 1:3}],\n",
    "        # 'model__n_jobs': [-1],\n",
    "        'model__random_state': [STATE],\n",
    "        # 'model__C': np.logspace(-3,3,7),\n",
    "        'model__C': [0.1], # after\n",
    "        # 'model__penalty': ['l1', 'l2'],\n",
    "        'model__penalty': ['l2'],\n",
    "        'model__max_iter': [100000],\n",
    "        'model__tol': [1e-10]\n",
    "\n",
    "    },\n",
    "]"
   ]
  },
  {
   "cell_type": "code",
   "execution_count": 42,
   "metadata": {},
   "outputs": [],
   "source": [
    "grid_svc = GridSearchCV(pipe_svc, param_grid=params_svc, cv=cv, n_jobs=-1, scoring='f1', verbose=2)"
   ]
  },
  {
   "cell_type": "code",
   "execution_count": 43,
   "metadata": {},
   "outputs": [
    {
     "name": "stdout",
     "output_type": "stream",
     "text": [
      "Fitting 3 folds for each of 1 candidates, totalling 3 fits\n",
      "[CV] END model=LinearSVC(), model__C=0.1, model__class_weight={0: 1, 1: 3}, model__max_iter=100000, model__penalty=l2, model__random_state=12345, model__tol=1e-10, vectorizer__max_df=0.7, vectorizer__max_features=80000, vectorizer__min_df=3, vectorizer__ngram_range=(1, 2), vectorizer__stop_words={'at', 'more', \"it's\", 'wouldn', 'shan', 'myself', 'our', 'have', 'my', \"you're\", 'those', 'against', 'didn', 'or', 'very', 'couldn', 'down', 'she', 'me', 'such', 'now', 'why', 'too', 'you', 'once', 'by', 'same', 'if', 'ourselves', 'hers', 'who', 'about', 'an', \"didn't\", 'o', 'and', 'a', 'over', 'until', 'do', 'hasn', \"isn't\", 'theirs', \"that'll\", 'what', 'needn', 'won', 'isn', 'himself', 'your', 'because', 'we', \"wasn't\", 'here', 't', 'be', 'aren', 'mightn', 'ain', 'before', 'both', 'y', 'out', 'yourself', 'but', 'yours', 'yourselves', 'herself', 'up', 'i', 'nor', 'with', 'itself', \"weren't\", 'not', 'd', \"won't\", 'haven', 'there', \"haven't\", 'shouldn', 'below', 'own', 'on', \"mightn't\", 'weren', 'for', 'll', 'no', 'her', 'into', 'other', 'them', 'only', 'their', 'should', 'he', 'most', 'mustn', \"shouldn't\", \"needn't\", 've', \"should've\", \"don't\", 'all', 'themselves', 'between', 'far', 'through', \"wouldn't\", 'don', 'under', 'they', \"she's\", 'few', \"you'd\", 'ours', 'than', 'it', 'of', 's', 'each', \"shan't\", 'ma', \"doesn't\", \"couldn't\", 'how', 'just', 'when', 'this', \"aren't\", 'his', \"hasn't\", 'to', 'off', 'some', 'again', 'these', 'above', \"you've\", 'wasn', 'the', \"mustn't\", \"hadn't\", 'whom', 'while', 'during', \"you'll\", 'in', 'can', 'hadn', 'that', 'where', 'so', 'from', 'after', 're', 'm', 'doesn', 'any', 'which', 'will', 'then', 'him'}; total time=  15.9s\n",
      "[CV] END model=LinearSVC(), model__C=0.1, model__class_weight={0: 1, 1: 3}, model__max_iter=100000, model__penalty=l2, model__random_state=12345, model__tol=1e-10, vectorizer__max_df=0.7, vectorizer__max_features=80000, vectorizer__min_df=3, vectorizer__ngram_range=(1, 2), vectorizer__stop_words={'at', 'more', \"it's\", 'wouldn', 'shan', 'myself', 'our', 'have', 'my', \"you're\", 'those', 'against', 'didn', 'or', 'very', 'couldn', 'down', 'she', 'me', 'such', 'now', 'why', 'too', 'you', 'once', 'by', 'same', 'if', 'ourselves', 'hers', 'who', 'about', 'an', \"didn't\", 'o', 'and', 'a', 'over', 'until', 'do', 'hasn', \"isn't\", 'theirs', \"that'll\", 'what', 'needn', 'won', 'isn', 'himself', 'your', 'because', 'we', \"wasn't\", 'here', 't', 'be', 'aren', 'mightn', 'ain', 'before', 'both', 'y', 'out', 'yourself', 'but', 'yours', 'yourselves', 'herself', 'up', 'i', 'nor', 'with', 'itself', \"weren't\", 'not', 'd', \"won't\", 'haven', 'there', \"haven't\", 'shouldn', 'below', 'own', 'on', \"mightn't\", 'weren', 'for', 'll', 'no', 'her', 'into', 'other', 'them', 'only', 'their', 'should', 'he', 'most', 'mustn', \"shouldn't\", \"needn't\", 've', \"should've\", \"don't\", 'all', 'themselves', 'between', 'far', 'through', \"wouldn't\", 'don', 'under', 'they', \"she's\", 'few', \"you'd\", 'ours', 'than', 'it', 'of', 's', 'each', \"shan't\", 'ma', \"doesn't\", \"couldn't\", 'how', 'just', 'when', 'this', \"aren't\", 'his', \"hasn't\", 'to', 'off', 'some', 'again', 'these', 'above', \"you've\", 'wasn', 'the', \"mustn't\", \"hadn't\", 'whom', 'while', 'during', \"you'll\", 'in', 'can', 'hadn', 'that', 'where', 'so', 'from', 'after', 're', 'm', 'doesn', 'any', 'which', 'will', 'then', 'him'}; total time=  16.0s\n",
      "[CV] END model=LinearSVC(), model__C=0.1, model__class_weight={0: 1, 1: 3}, model__max_iter=100000, model__penalty=l2, model__random_state=12345, model__tol=1e-10, vectorizer__max_df=0.7, vectorizer__max_features=80000, vectorizer__min_df=3, vectorizer__ngram_range=(1, 2), vectorizer__stop_words={'at', 'more', \"it's\", 'wouldn', 'shan', 'myself', 'our', 'have', 'my', \"you're\", 'those', 'against', 'didn', 'or', 'very', 'couldn', 'down', 'she', 'me', 'such', 'now', 'why', 'too', 'you', 'once', 'by', 'same', 'if', 'ourselves', 'hers', 'who', 'about', 'an', \"didn't\", 'o', 'and', 'a', 'over', 'until', 'do', 'hasn', \"isn't\", 'theirs', \"that'll\", 'what', 'needn', 'won', 'isn', 'himself', 'your', 'because', 'we', \"wasn't\", 'here', 't', 'be', 'aren', 'mightn', 'ain', 'before', 'both', 'y', 'out', 'yourself', 'but', 'yours', 'yourselves', 'herself', 'up', 'i', 'nor', 'with', 'itself', \"weren't\", 'not', 'd', \"won't\", 'haven', 'there', \"haven't\", 'shouldn', 'below', 'own', 'on', \"mightn't\", 'weren', 'for', 'll', 'no', 'her', 'into', 'other', 'them', 'only', 'their', 'should', 'he', 'most', 'mustn', \"shouldn't\", \"needn't\", 've', \"should've\", \"don't\", 'all', 'themselves', 'between', 'far', 'through', \"wouldn't\", 'don', 'under', 'they', \"she's\", 'few', \"you'd\", 'ours', 'than', 'it', 'of', 's', 'each', \"shan't\", 'ma', \"doesn't\", \"couldn't\", 'how', 'just', 'when', 'this', \"aren't\", 'his', \"hasn't\", 'to', 'off', 'some', 'again', 'these', 'above', \"you've\", 'wasn', 'the', \"mustn't\", \"hadn't\", 'whom', 'while', 'during', \"you'll\", 'in', 'can', 'hadn', 'that', 'where', 'so', 'from', 'after', 're', 'm', 'doesn', 'any', 'which', 'will', 'then', 'him'}; total time=  16.1s\n",
      "CPU times: user 1min 6s, sys: 2.24 s, total: 1min 8s\n",
      "Wall time: 1min 8s\n"
     ]
    },
    {
     "data": {
      "text/plain": [
       "GridSearchCV(cv=KFold(n_splits=3, random_state=12345, shuffle=True),\n",
       "             estimator=Pipeline(steps=[('vectorizer', TfidfVectorizer()),\n",
       "                                       ('model', LinearSVC())]),\n",
       "             n_jobs=-1,\n",
       "             param_grid=[{'model': [LinearSVC(C=0.1, class_weight={0: 1, 1: 3},\n",
       "                                              max_iter=100000,\n",
       "                                              random_state=12345, tol=1e-10)],\n",
       "                          'model__C': [0.1],\n",
       "                          'model__class_weight': [{0: 1, 1: 3}],\n",
       "                          'model__max_iter': [100000], 'mode...\n",
       "                          'vectorizer__max_features': [80000],\n",
       "                          'vectorizer__min_df': [3],\n",
       "                          'vectorizer__ngram_range': [(1, 2)],\n",
       "                          'vectorizer__stop_words': [{'a', 'about', 'above',\n",
       "                                                      'after', 'again',\n",
       "                                                      'against', 'ain', 'all',\n",
       "                                                      'an', 'and', 'any',\n",
       "                                                      'aren', \"aren't\", 'at',\n",
       "                                                      'be', 'because', 'before',\n",
       "                                                      'below', 'between',\n",
       "                                                      'both', 'but', 'by',\n",
       "                                                      'can', 'couldn',\n",
       "                                                      \"couldn't\", 'd', 'didn',\n",
       "                                                      \"didn't\", 'do', 'doesn', ...}]}],\n",
       "             scoring='f1', verbose=2)"
      ]
     },
     "execution_count": 43,
     "metadata": {},
     "output_type": "execute_result"
    }
   ],
   "source": [
    "%%time\n",
    "grid_svc.fit(X_train_valid, target_train_valid)"
   ]
  },
  {
   "cell_type": "code",
   "execution_count": 44,
   "metadata": {},
   "outputs": [
    {
     "name": "stdout",
     "output_type": "stream",
     "text": [
      "Best Params: {'model': LinearSVC(C=0.1, class_weight={0: 1, 1: 3}, max_iter=100000, random_state=12345,\n",
      "          tol=1e-10), 'model__C': 0.1, 'model__class_weight': {0: 1, 1: 3}, 'model__max_iter': 100000, 'model__penalty': 'l2', 'model__random_state': 12345, 'model__tol': 1e-10, 'vectorizer__max_df': 0.7, 'vectorizer__max_features': 80000, 'vectorizer__min_df': 3, 'vectorizer__ngram_range': (1, 2), 'vectorizer__stop_words': {'at', 'more', \"it's\", 'wouldn', 'shan', 'myself', 'our', 'have', 'my', \"you're\", 'those', 'against', 'didn', 'or', 'very', 'couldn', 'down', 'she', 'me', 'such', 'now', 'why', 'too', 'you', 'once', 'by', 'same', 'if', 'ourselves', 'hers', 'who', 'about', 'an', \"didn't\", 'o', 'and', 'a', 'over', 'until', 'do', 'hasn', \"isn't\", 'theirs', \"that'll\", 'what', 'needn', 'won', 'isn', 'himself', 'your', 'because', 'we', \"wasn't\", 'here', 't', 'be', 'aren', 'mightn', 'ain', 'before', 'both', 'y', 'out', 'yourself', 'but', 'yours', 'yourselves', 'herself', 'up', 'i', 'nor', 'with', 'itself', \"weren't\", 'not', 'd', \"won't\", 'haven', 'there', \"haven't\", 'shouldn', 'below', 'own', 'on', \"mightn't\", 'weren', 'for', 'll', 'no', 'her', 'into', 'other', 'them', 'only', 'their', 'should', 'he', 'most', 'mustn', \"shouldn't\", \"needn't\", 've', \"should've\", \"don't\", 'all', 'themselves', 'between', 'far', 'through', \"wouldn't\", 'don', 'under', 'they', \"she's\", 'few', \"you'd\", 'ours', 'than', 'it', 'of', 's', 'each', \"shan't\", 'ma', \"doesn't\", \"couldn't\", 'how', 'just', 'when', 'this', \"aren't\", 'his', \"hasn't\", 'to', 'off', 'some', 'again', 'these', 'above', \"you've\", 'wasn', 'the', \"mustn't\", \"hadn't\", 'whom', 'while', 'during', \"you'll\", 'in', 'can', 'hadn', 'that', 'where', 'so', 'from', 'after', 're', 'm', 'doesn', 'any', 'which', 'will', 'then', 'him'}}\n",
      "\n",
      "Best F1 Score: 0.7821902173320066\n"
     ]
    }
   ],
   "source": [
    "svc_f1 = grid_svc.best_score_\n",
    "print('Best Params:', grid_svc.best_params_)\n",
    "print()\n",
    "print('Best F1 Score:', svc_f1)"
   ]
  },
  {
   "cell_type": "markdown",
   "metadata": {},
   "source": [
    "Кросс-валидацией нашли лучшую модель, сохраним ее."
   ]
  },
  {
   "cell_type": "code",
   "execution_count": 45,
   "metadata": {},
   "outputs": [
    {
     "name": "stdout",
     "output_type": "stream",
     "text": [
      "F1 для модели линейных опорных векторов равно 0.779\n",
      "CPU times: user 16.9 s, sys: 613 ms, total: 17.5 s\n",
      "Wall time: 17.5 s\n"
     ]
    }
   ],
   "source": [
    "%%time\n",
    "svc_model = grid_svc.best_estimator_\n",
    "\n",
    "svc_model.fit(X_train, target_train)\n",
    "svc_predicts = svc_model.predict(X_valid)\n",
    "f1_svc = f1_score(target_valid, svc_predicts)\n",
    "print(f'F1 для модели линейных опорных векторов равно {f1_svc:.3f}')"
   ]
  },
  {
   "cell_type": "code",
   "execution_count": 46,
   "metadata": {},
   "outputs": [
    {
     "data": {
      "text/html": [
       "<div>\n",
       "<style scoped>\n",
       "    .dataframe tbody tr th:only-of-type {\n",
       "        vertical-align: middle;\n",
       "    }\n",
       "\n",
       "    .dataframe tbody tr th {\n",
       "        vertical-align: top;\n",
       "    }\n",
       "\n",
       "    .dataframe thead th {\n",
       "        text-align: right;\n",
       "    }\n",
       "</style>\n",
       "<table border=\"1\" class=\"dataframe\">\n",
       "  <thead>\n",
       "    <tr style=\"text-align: right;\">\n",
       "      <th></th>\n",
       "      <th>valid_F1</th>\n",
       "    </tr>\n",
       "  </thead>\n",
       "  <tbody>\n",
       "    <tr>\n",
       "      <th>dummy</th>\n",
       "      <td>0.108</td>\n",
       "    </tr>\n",
       "    <tr>\n",
       "      <th>logistic regression</th>\n",
       "      <td>0.774</td>\n",
       "    </tr>\n",
       "    <tr>\n",
       "      <th>linear svc</th>\n",
       "      <td>0.779</td>\n",
       "    </tr>\n",
       "  </tbody>\n",
       "</table>\n",
       "</div>"
      ],
      "text/plain": [
       "                    valid_F1\n",
       "dummy                  0.108\n",
       "logistic regression    0.774\n",
       "linear svc             0.779"
      ]
     },
     "execution_count": 46,
     "metadata": {},
     "output_type": "execute_result"
    }
   ],
   "source": [
    "results.loc['linear svc', 'valid_F1'] = round(f1_svc, 3)\n",
    "results"
   ]
  },
  {
   "cell_type": "code",
   "execution_count": 47,
   "metadata": {},
   "outputs": [
    {
     "data": {
      "image/png": "[encoded data removed]",
      "text/plain": [
       "<Figure size 864x288 with 1 Axes>"
      ]
     },
     "metadata": {
      "needs_background": "light"
     },
     "output_type": "display_data"
    }
   ],
   "source": [
    "fig, ax = plt.subplots(figsize=(12, 4))\n",
    "plt.bar(results.index, results.valid_F1)\n",
    "plt.title('Проверка моделей на адекватность')\n",
    "plt.axhline(y=0.75, color='r', linestyle='--')\n",
    "plt.xlabel('Исследованные модели модели')\n",
    "plt.ylabel('Метрика качества F1')\n",
    "plt.show()"
   ]
  },
  {
   "cell_type": "markdown",
   "metadata": {},
   "source": [
    "Пока максимальное качество показала модель линейных опорных векторов."
   ]
  },
  {
   "cell_type": "markdown",
   "metadata": {},
   "source": [
    "### Подбор порога"
   ]
  },
  {
   "cell_type": "markdown",
   "metadata": {},
   "source": [
    "Подобрать подходящий порог для наибольшей метрики качества мы сможем только для модели логистической регрессии, так как у модели линейных опорных векторов нет метода `.predict_proba()`."
   ]
  },
  {
   "cell_type": "markdown",
   "metadata": {},
   "source": [
    "Напишем функцию для подбора порога, при котором метрика качества F1 будет иметь максимальное значение."
   ]
  },
  {
   "cell_type": "code",
   "execution_count": 48,
   "metadata": {},
   "outputs": [],
   "source": [
    "def threshold_find(start, finish, step, probabilities_one, target, show=True):\n",
    "    '''функция перебирает указанные элементы диапазона для порога и возращает лучшее значение метрики F1\n",
    "    start, finish, step - начало, конец и шаг для перебора порога\n",
    "    probabilities_one_valid - вероятности положительного класса\n",
    "    target - значения целевого признака\n",
    "    show - выводить ли на экран значения всех метрик, по умолчанию - выводить'''\n",
    "    \n",
    "    f1 = 0\n",
    "    precision = 0\n",
    "    recall = 0\n",
    "    threshold = None\n",
    "    for step_threshold in np.arange(start, finish, step):\n",
    "        \n",
    "        predicted = probabilities_one > step_threshold\n",
    "        step_f1 = f1_score(target, predicted)\n",
    "        \n",
    "        if step_f1 > f1:\n",
    "            f1 = step_f1\n",
    "            precision = precision_score(target, predicted)\n",
    "            recall = recall_score(target, predicted)\n",
    "            threshold = step_threshold\n",
    "    if show == True:\n",
    "        print(\"Порог = {:.2f} | Полнота = {:.3f}, Точность = {:.3f}\".format(\n",
    "            threshold, recall, precision))\n",
    "        print('F1: {:.3f}'.format(f1))\n",
    "\n",
    "    return recall, precision, f1, threshold"
   ]
  },
  {
   "cell_type": "markdown",
   "metadata": {},
   "source": [
    "Подберем наиболее подходящий порог для модели логистической регрессии."
   ]
  },
  {
   "cell_type": "code",
   "execution_count": 49,
   "metadata": {},
   "outputs": [
    {
     "name": "stdout",
     "output_type": "stream",
     "text": [
      "Порог = 0.52 | Полнота = 0.720, Точность = 0.843\n",
      "F1: 0.777\n"
     ]
    }
   ],
   "source": [
    "lr_probabilities_one_valid = lr_model.predict_proba(X_valid)[:, 1]\n",
    "\n",
    "recall_lr, precision_lr, f1_lr, threshold_lr = threshold_find(\n",
    "    0.1, \n",
    "    0.99, \n",
    "    0.01, \n",
    "    lr_probabilities_one_valid,\n",
    "    target_valid\n",
    ")"
   ]
  },
  {
   "cell_type": "code",
   "execution_count": 50,
   "metadata": {},
   "outputs": [
    {
     "data": {
      "text/html": [
       "<div>\n",
       "<style scoped>\n",
       "    .dataframe tbody tr th:only-of-type {\n",
       "        vertical-align: middle;\n",
       "    }\n",
       "\n",
       "    .dataframe tbody tr th {\n",
       "        vertical-align: top;\n",
       "    }\n",
       "\n",
       "    .dataframe thead th {\n",
       "        text-align: right;\n",
       "    }\n",
       "</style>\n",
       "<table border=\"1\" class=\"dataframe\">\n",
       "  <thead>\n",
       "    <tr style=\"text-align: right;\">\n",
       "      <th></th>\n",
       "      <th>valid_F1</th>\n",
       "    </tr>\n",
       "  </thead>\n",
       "  <tbody>\n",
       "    <tr>\n",
       "      <th>dummy</th>\n",
       "      <td>0.108</td>\n",
       "    </tr>\n",
       "    <tr>\n",
       "      <th>logistic regression</th>\n",
       "      <td>0.777</td>\n",
       "    </tr>\n",
       "    <tr>\n",
       "      <th>linear svc</th>\n",
       "      <td>0.779</td>\n",
       "    </tr>\n",
       "  </tbody>\n",
       "</table>\n",
       "</div>"
      ],
      "text/plain": [
       "                    valid_F1\n",
       "dummy                  0.108\n",
       "logistic regression    0.777\n",
       "linear svc             0.779"
      ]
     },
     "execution_count": 50,
     "metadata": {},
     "output_type": "execute_result"
    }
   ],
   "source": [
    "results.loc['logistic regression', 'valid_F1'] = round(f1_lr, 3)\n",
    "results"
   ]
  },
  {
   "cell_type": "code",
   "execution_count": 51,
   "metadata": {},
   "outputs": [
    {
     "data": {
      "image/png": "[encoded data removed]",
      "text/plain": [
       "<Figure size 864x288 with 1 Axes>"
      ]
     },
     "metadata": {
      "needs_background": "light"
     },
     "output_type": "display_data"
    }
   ],
   "source": [
    "fig, ax = plt.subplots(figsize=(12, 4))\n",
    "plt.bar(results.index, results.valid_F1)\n",
    "plt.title('Проверка моделей на адекватность')\n",
    "plt.axhline(y=0.75, color='r', linestyle='--')\n",
    "plt.xlabel('Исследованные модели модели')\n",
    "plt.ylabel('Метрика качества F1')\n",
    "plt.show()"
   ]
  },
  {
   "cell_type": "markdown",
   "metadata": {},
   "source": [
    "Даже с подобранным порогом модель линейной регрессии слегка уступает модели линейных опорных векторов."
   ]
  },
  {
   "cell_type": "markdown",
   "metadata": {},
   "source": [
    "### Ансамбль смешивания"
   ]
  },
  {
   "cell_type": "markdown",
   "metadata": {},
   "source": [
    "Далее заинтересовала идея опробовать **ансамбль смешивания**, подробно описанный в [статье](https://habr.com/ru/company/skillfactory/blog/531416/). Для этого  используем две предыдущие модели с уже подобранными гиперпараметрами. Повторим за авторами статьи и будем использовать ансамбль типа пакетирования, где метамодель обучается на прогнозах, сделанных на независимом наборе данных.\n",
    "\n",
    "У нас на данный момент имеются следующие выборки: `тренировочная`, `валидационная` и `тестовая`, а так же набор выборок `тренировочная + валидационная`.\n",
    "\n",
    "`Тестовая` зарезервирована для финального тестирования, тогда как остальные - для выбора наиболее удачной модели для данного тестирования. \n",
    "\n",
    "Ансамбль смешивания требует наличия еще одной выборки для обучения метамоделей.\n",
    "\n",
    "Благо мы имеем достаточное количество данных и выделить из тренировочной еще одну выборку для обучения метамодели.\n",
    "\n",
    "Разделим тренировочную выборку `X_train` на обучающую и валидационную выборки для мета-модели `meta_X_train` и `meta_X_valid`, валидационную выборку не трогаем и сохраним для проверки качества предсказания перед финальным тестированием.\n",
    "\n",
    "Авторы статьи создавали синтетические данные для задачи бинарной классификации, не требующие предобработки. У нас же данные представлены в виде текста, и нам хотелось бы использовать предобработку данных в виде масштабирования данных с помощью `TF-IDF`. Таким образом, наилучшим вариантом было бы использование не отдельных моделей, а готовых пайплайнов со встроенной предобработкой.\n",
    "\n"
   ]
  },
  {
   "cell_type": "markdown",
   "metadata": {},
   "source": [
    "Разделим тестовую выборку на выборки для мета-модели."
   ]
  },
  {
   "cell_type": "code",
   "execution_count": 52,
   "metadata": {},
   "outputs": [],
   "source": [
    "meta_X_train, meta_X_valid, meta_target_train, meta_target_valid = train_test_split(\n",
    "    X_train,\n",
    "    target_train,\n",
    "    test_size=0.33,\n",
    "    random_state=STATE,\n",
    "    stratify=target_train\n",
    ")"
   ]
  },
  {
   "cell_type": "markdown",
   "metadata": {},
   "source": [
    "Далее в статье авторы определяли *функцию `get_models()`, которая возвращает список моделей, где каждая модель определяется как кортеж с названием и настроенным классификатором*\n",
    "\n",
    "Мы же в отличие от этого, создадим функцию не с моделями, а с пайплайнами с уже подобранными ранее параметрами."
   ]
  },
  {
   "cell_type": "code",
   "execution_count": 53,
   "metadata": {},
   "outputs": [],
   "source": [
    "pipe_lr = Pipeline([\n",
    "    ('vectorizer', TfidfVectorizer(\n",
    "        stop_words=stop_words,\n",
    "        ngram_range=(1, 2),\n",
    "        min_df=3,\n",
    "        max_df=0.7,\n",
    "        \n",
    "    )),\n",
    "    ('model', LinearSVC(\n",
    "        class_weight={0: 1, 1: 3}, \n",
    "        max_iter=100000, \n",
    "        random_state=STATE\n",
    "    ))\n",
    "])\n",
    "\n",
    "pipe_svc = Pipeline([\n",
    "    ('vectorizer', TfidfVectorizer(\n",
    "        stop_words=stop_words,\n",
    "        ngram_range=(1, 2),\n",
    "        min_df=3,\n",
    "        max_df=0.7,\n",
    "        max_features=80000,\n",
    "        \n",
    "    )),\n",
    "    ('model', LinearSVC(\n",
    "        class_weight={0: 1, 1: 3},\n",
    "        max_iter=100000,\n",
    "        random_state=STATE,\n",
    "        C=0.1,\n",
    "        penalty='l2',\n",
    "        tol=1e-10,\n",
    "    ))\n",
    "])\n",
    "\n",
    "\n",
    "pipes = [pipe_lr, pipe_svc]"
   ]
  },
  {
   "cell_type": "markdown",
   "metadata": {},
   "source": [
    "Авторы статьи пишут после создания моделей:\n",
    "\n",
    "*Далее нам нужно обучить смешивающую модель. Базовые модели обучаются на тренировочном наборе данных. Метамодель обучается на прогнозах, сделанных каждой базовой моделью на независимом наборе данных.*\n",
    "\n",
    "*Во-первых, мы можем в цикле перечислить модели в списке и обучить каждую из них по очереди на обучающем наборе данных. Кроме того, в этом цикле мы можем использовать обученную модель, чтобы сделать прогноз на независимом наборе данных (валидации) и сохранить прогнозы на будущее.*\n",
    "\n",
    "Модифицируем их функцию под нашу задачу."
   ]
  },
  {
   "cell_type": "code",
   "execution_count": 54,
   "metadata": {},
   "outputs": [],
   "source": [
    "# fit the blending ensemble\n",
    "def fit_ensemble(pipes, X_train_meta, X_valid_meta, y_train_meta, y_valid_meta):\n",
    "# fit all pipes on the training set and predict on hold out set\n",
    "    meta_X = list()\n",
    "    for pipe in pipes:\n",
    "        # fit in training set\n",
    "        pipe.fit(X_train_meta, y_train_meta)\n",
    "        # predict on hold out set\n",
    "        yhat = pipe.predict(X_valid_meta)\n",
    "        # reshape predictions into a matrix with one column\n",
    "        yhat = yhat.reshape(len(yhat), 1)\n",
    "        # store predictions as input for blending\n",
    "        meta_X.append(yhat)\n",
    "        # create 2d array from predictions, each set is an input feature\n",
    "    meta_X = hstack(meta_X)\n",
    "    # define blending model\n",
    "    blender = LogisticRegression()\n",
    "    # fit on predictions from base models\n",
    "    blender.fit(meta_X, y_valid_meta)\n",
    "    return blender"
   ]
  },
  {
   "cell_type": "markdown",
   "metadata": {},
   "source": [
    "Авторы пишут: \n",
    "\n",
    "*Теперь у нас есть `meta_X`, представляющий входные данные, которые могут использоваться для обучения метамодели.* \n",
    "\n",
    "*Каждый столбец или объект представляет выходные данные одной базовой модели. Каждая строка представляет собой один сэмпл из независимого набора данных.*\n",
    "\n",
    "*Мы можем применить функцию `hstack()` чтобы гарантировать, что этот набор данных представляет собой двумерный массив numpy, как и ожидалось моделью машинного обучения.*\n",
    "\n",
    "*Теперь мы можем тренировать нашу метамодель. Это может быть любая модель машинного обучения, которая нам нравится, например логистическая регрессия для задачи классификации.*\n"
   ]
  },
  {
   "cell_type": "markdown",
   "metadata": {},
   "source": [
    "*Следующий шаг — **использование смешивающего ансамбля для прогнозирования новых данных**. Это двухэтапный процесс. \n",
    "\n",
    "- Первый шаг — использование каждой базовой модели для прогнозирования. \n",
    "- Затем прогнозы собираются вместе и используются в качестве входных данных для модели смешивания, чтобы сделать окончательный прогноз.*\n",
    "\n",
    "*Мы можем использовать тот же цикл, что и при обучении модели. То есть собрать прогнозы каждой базовой модели в обучающий набор данных, сложить прогнозы вместе и вызвать `predict()` в смешивающей модели с этим набором данных метауровня. Функция `predict_ensemble()` ниже реализует эти действия.*\n",
    "\n",
    "*Учитывая обучение списка базовых моделей, обучение смешивателя ансамбля и набор данных (например, тестовый набор данных или новые данные), для набора данных она вернёт набор прогнозов.*"
   ]
  },
  {
   "cell_type": "code",
   "execution_count": 55,
   "metadata": {},
   "outputs": [],
   "source": [
    "# make a prediction with the blending ensemble\n",
    "def predict_ensemble(pipes, blender, X_test):\n",
    "# make predictions with base pipes\n",
    "    meta_X = list()\n",
    "    for pipe in pipes:\n",
    "        # predict with base model\n",
    "        yhat = pipe.predict(X_test)\n",
    "        # reshape predictions into a matrix with one column\n",
    "        yhat = yhat.reshape(len(yhat), 1)\n",
    "        # store prediction\n",
    "        meta_X.append(yhat)\n",
    "    # create 2d array from predictions, each set is an input feature\n",
    "    meta_X = hstack(meta_X)\n",
    "    # predict\n",
    "    return blender.predict(meta_X)"
   ]
  },
  {
   "cell_type": "markdown",
   "metadata": {},
   "source": [
    "Теперь у нас есть все элементы, необходимые для реализации смешанного ансамбля."
   ]
  },
  {
   "cell_type": "markdown",
   "metadata": {},
   "source": [
    "Оценим размер выборок."
   ]
  },
  {
   "cell_type": "code",
   "execution_count": 56,
   "metadata": {},
   "outputs": [
    {
     "data": {
      "text/plain": [
       "((64109,), (31577,), (31896,))"
      ]
     },
     "execution_count": 56,
     "metadata": {},
     "output_type": "execute_result"
    }
   ],
   "source": [
    "meta_X_train.shape, meta_X_valid.shape, X_valid.shape"
   ]
  },
  {
   "cell_type": "markdown",
   "metadata": {},
   "source": [
    "А так же содержание токсичных комментариев в новых выборках."
   ]
  },
  {
   "cell_type": "code",
   "execution_count": 57,
   "metadata": {},
   "outputs": [
    {
     "data": {
      "text/plain": [
       "(0.10168619070645307, 0.10168793742280774)"
      ]
     },
     "execution_count": 57,
     "metadata": {},
     "output_type": "execute_result"
    }
   ],
   "source": [
    "meta_target_train.mean(), meta_target_valid.mean()"
   ]
  },
  {
   "cell_type": "markdown",
   "metadata": {},
   "source": [
    "Содержание токсичных комментариев в районе 10%."
   ]
  },
  {
   "cell_type": "markdown",
   "metadata": {},
   "source": [
    "Посмотрим, как справиться ансамбль с нашей задачей."
   ]
  },
  {
   "cell_type": "markdown",
   "metadata": {},
   "source": [
    "Обучим ансамбль."
   ]
  },
  {
   "cell_type": "code",
   "execution_count": 58,
   "metadata": {},
   "outputs": [
    {
     "name": "stdout",
     "output_type": "stream",
     "text": [
      "CPU times: user 20.4 s, sys: 660 ms, total: 21.1 s\n",
      "Wall time: 21.1 s\n"
     ]
    }
   ],
   "source": [
    "%%time\n",
    "blender = fit_ensemble(pipes, meta_X_train, meta_X_valid, meta_target_train, meta_target_valid)"
   ]
  },
  {
   "cell_type": "markdown",
   "metadata": {},
   "source": [
    "Получим предсказания на валидационной выборке (та самая выборка, на которой оценивались по отдельности модели линейной регрессии и линейных опорных векторов)."
   ]
  },
  {
   "cell_type": "code",
   "execution_count": 59,
   "metadata": {},
   "outputs": [],
   "source": [
    "ensemble_predicts = predict_ensemble(pipes, blender, X_valid)"
   ]
  },
  {
   "cell_type": "markdown",
   "metadata": {},
   "source": [
    "Посчитаем метрику качества для предсказаний ансамбля."
   ]
  },
  {
   "cell_type": "code",
   "execution_count": 60,
   "metadata": {},
   "outputs": [
    {
     "name": "stdout",
     "output_type": "stream",
     "text": [
      "F1 для ансамбля смешивания равно 0.765\n"
     ]
    }
   ],
   "source": [
    "f1_ensemble = f1_score(target_valid, ensemble_predicts)\n",
    "print(f'F1 для ансамбля смешивания равно {f1_ensemble:.3f}')"
   ]
  },
  {
   "cell_type": "markdown",
   "metadata": {},
   "source": [
    "Качество от ансамбля получилось меньше ожидаемого и хуже, чем от использованных в нем моделей поотдельности."
   ]
  },
  {
   "cell_type": "code",
   "execution_count": 61,
   "metadata": {},
   "outputs": [
    {
     "data": {
      "text/html": [
       "<div>\n",
       "<style scoped>\n",
       "    .dataframe tbody tr th:only-of-type {\n",
       "        vertical-align: middle;\n",
       "    }\n",
       "\n",
       "    .dataframe tbody tr th {\n",
       "        vertical-align: top;\n",
       "    }\n",
       "\n",
       "    .dataframe thead th {\n",
       "        text-align: right;\n",
       "    }\n",
       "</style>\n",
       "<table border=\"1\" class=\"dataframe\">\n",
       "  <thead>\n",
       "    <tr style=\"text-align: right;\">\n",
       "      <th></th>\n",
       "      <th>valid_F1</th>\n",
       "    </tr>\n",
       "  </thead>\n",
       "  <tbody>\n",
       "    <tr>\n",
       "      <th>dummy</th>\n",
       "      <td>0.108</td>\n",
       "    </tr>\n",
       "    <tr>\n",
       "      <th>logistic regression</th>\n",
       "      <td>0.777</td>\n",
       "    </tr>\n",
       "    <tr>\n",
       "      <th>linear svc</th>\n",
       "      <td>0.779</td>\n",
       "    </tr>\n",
       "    <tr>\n",
       "      <th>ensemble</th>\n",
       "      <td>0.765</td>\n",
       "    </tr>\n",
       "  </tbody>\n",
       "</table>\n",
       "</div>"
      ],
      "text/plain": [
       "                    valid_F1\n",
       "dummy                  0.108\n",
       "logistic regression    0.777\n",
       "linear svc             0.779\n",
       "ensemble               0.765"
      ]
     },
     "execution_count": 61,
     "metadata": {},
     "output_type": "execute_result"
    }
   ],
   "source": [
    "results.loc['ensemble', 'valid_F1'] = round(f1_ensemble, 3)\n",
    "results"
   ]
  },
  {
   "cell_type": "code",
   "execution_count": 62,
   "metadata": {},
   "outputs": [
    {
     "data": {
      "image/png": "[encoded data removed]",
      "text/plain": [
       "<Figure size 864x288 with 1 Axes>"
      ]
     },
     "metadata": {
      "needs_background": "light"
     },
     "output_type": "display_data"
    }
   ],
   "source": [
    "fig, ax = plt.subplots(figsize=(12, 4))\n",
    "plt.bar(results.index, results.valid_F1)\n",
    "plt.title('Проверка моделей на адекватность')\n",
    "plt.axhline(y=0.75, color='r', linestyle='--')\n",
    "plt.xlabel('Исследованные модели модели')\n",
    "plt.ylabel('Метрика качества F1')\n",
    "plt.show()"
   ]
  },
  {
   "cell_type": "markdown",
   "metadata": {},
   "source": [
    "- Модели обучаются достаточно долго, обучать некоторые модели не поднялась рука (например, случайного леса и градиентного бустинга).\n",
    "- Для финального тестирования выбрана **модель линейных опорных векторов**."
   ]
  },
  {
   "cell_type": "markdown",
   "metadata": {},
   "source": [
    "## Тестирование"
   ]
  },
  {
   "cell_type": "markdown",
   "metadata": {},
   "source": [
    "Обучим модель линейных опорных векторов на `тренировочной + валидационная` выборках и проверим на `тестировочной`."
   ]
  },
  {
   "cell_type": "code",
   "execution_count": 63,
   "metadata": {
    "scrolled": true
   },
   "outputs": [
    {
     "name": "stdout",
     "output_type": "stream",
     "text": [
      "F1 на тестовой выборке для модели линейных опорных векторов равно 0.794\n",
      "\n",
      "CPU times: user 20.8 s, sys: 686 ms, total: 21.5 s\n",
      "Wall time: 21.6 s\n"
     ]
    }
   ],
   "source": [
    "%%time\n",
    "svc_model.fit(X_train_valid, target_train_valid)\n",
    "svc_predicts_final = svc_model.predict(X_test)\n",
    "f1_svc_final = f1_score(target_test, svc_predicts_final)\n",
    "print(f'F1 на тестовой выборке для модели линейных опорных векторов равно {f1_svc_final:.3f}')\n",
    "print()"
   ]
  },
  {
   "cell_type": "markdown",
   "metadata": {},
   "source": [
    "## Выводы"
   ]
  },
  {
   "cell_type": "markdown",
   "metadata": {},
   "source": [
    "Данный проект был посвященн **поиску токсичных комментариев для интернет-магазина**. \n",
    "\n",
    "Интернет-магазин «Викишоп» запускает новый сервис. Теперь пользователи могут редактировать и дополнять описания товаров, как в вики-сообществах. То есть клиенты предлагают свои правки и комментируют изменения других. \n",
    "\n",
    "Магазину нужен инструмент, который будет искать токсичные комментарии и отправлять их на модерацию.\n",
    "\n",
    "Нашей **задачей** являлось обучить модель **классифицировать комментарии на позитивные и негативные**.\n",
    "\n",
    "Необходимым условием было построить модель со значением метрики качества **F1 не меньше 0.75**.\n",
    "\n",
    "В рамках данной работы была проведена **предобработка текста** с приведением комментариев к нижнему регистру, удалению ссылок и лемматизацией. \n",
    "\n",
    "Для обучения моделей классифицировать комментарии была применена техника масштабирования данных с помощью **TF-IDF**.\n",
    "\n",
    "В рамках проекта были обучены модели логистической регрессии и линейных опорных векторов. \n",
    "\n",
    "\n",
    "Ввиду ресурсозатратности проекта, приходилось предварительно уменьшать датасет до 5 тысяч строк и на них тестировать, работает ли всё как задуманно. Самый убийственный проект, я думала, у меня загорится комп. И даже оплата Гугл Колаба не особо ускорила процесс, хотя надеюсь, что ускорила. \n",
    "\n",
    "Для финального **тестирования** была выбрана **модель линейных опорных векторов**, лучше показавшая себя на кросс-валидации.\n",
    "\n",
    "**Метрика качества F1** на тестовой выборке равна **0.79**, что согласуется с целью исследования, а так же показывает то, что модель не переобучилась.\n",
    "\n"
   ]
  }
 ],
 "metadata": {
  "ExecuteTimeLog": [
   {
    "duration": 9359,
    "start_time": "2022-09-04T13:05:34.144Z"
   },
   {
    "duration": 1533,
    "start_time": "2022-09-04T13:06:02.392Z"
   },
   {
    "duration": 2403,
    "start_time": "2022-09-04T13:06:09.826Z"
   },
   {
    "duration": 4,
    "start_time": "2022-09-04T13:28:20.051Z"
   },
   {
    "duration": 3295,
    "start_time": "2022-09-04T13:29:59.890Z"
   },
   {
    "duration": 3,
    "start_time": "2022-09-04T13:30:05.934Z"
   },
   {
    "duration": 9,
    "start_time": "2022-09-04T13:30:09.899Z"
   },
   {
    "duration": 31,
    "start_time": "2022-09-04T13:30:19.323Z"
   },
   {
    "duration": 139,
    "start_time": "2022-09-04T13:31:04.061Z"
   },
   {
    "duration": 4,
    "start_time": "2022-09-04T13:31:09.001Z"
   },
   {
    "duration": 2,
    "start_time": "2022-09-04T13:31:24.304Z"
   },
   {
    "duration": 618,
    "start_time": "2022-09-04T13:31:31.850Z"
   },
   {
    "duration": 8,
    "start_time": "2022-09-04T13:31:34.962Z"
   },
   {
    "duration": 1012,
    "start_time": "2022-09-04T13:31:50.283Z"
   },
   {
    "duration": 7,
    "start_time": "2022-09-04T13:31:57.116Z"
   },
   {
    "duration": 217,
    "start_time": "2022-09-04T13:32:14.855Z"
   },
   {
    "duration": 7,
    "start_time": "2022-09-04T13:32:17.819Z"
   },
   {
    "duration": 1189,
    "start_time": "2022-09-04T13:32:21.978Z"
   },
   {
    "duration": 7,
    "start_time": "2022-09-04T13:32:25.210Z"
   },
   {
    "duration": 5,
    "start_time": "2022-09-04T13:32:50.136Z"
   },
   {
    "duration": 2,
    "start_time": "2022-09-04T13:32:56.512Z"
   },
   {
    "duration": 2,
    "start_time": "2022-09-04T13:33:52.979Z"
   },
   {
    "duration": 5102,
    "start_time": "2022-09-04T13:33:58.812Z"
   },
   {
    "duration": 7,
    "start_time": "2022-09-04T13:34:12.205Z"
   },
   {
    "duration": 3,
    "start_time": "2022-09-04T13:34:24.558Z"
   },
   {
    "duration": 80,
    "start_time": "2022-09-04T13:34:28.542Z"
   },
   {
    "duration": 35,
    "start_time": "2022-09-04T13:34:36.112Z"
   },
   {
    "duration": 95,
    "start_time": "2022-09-04T13:34:46.291Z"
   },
   {
    "duration": 4,
    "start_time": "2022-09-04T13:34:55.959Z"
   },
   {
    "duration": 1194,
    "start_time": "2022-09-04T13:35:25.447Z"
   },
   {
    "duration": 3,
    "start_time": "2022-09-04T13:35:29.110Z"
   },
   {
    "duration": 4,
    "start_time": "2022-09-04T13:35:37.260Z"
   },
   {
    "duration": 19,
    "start_time": "2022-09-04T13:36:05.044Z"
   },
   {
    "duration": 9,
    "start_time": "2022-09-04T13:36:16.182Z"
   },
   {
    "duration": 5,
    "start_time": "2022-09-04T13:36:32.282Z"
   },
   {
    "duration": 3,
    "start_time": "2022-09-04T13:36:39.200Z"
   },
   {
    "duration": 220988,
    "start_time": "2022-09-04T13:36:43.081Z"
   },
   {
    "duration": 10,
    "start_time": "2022-09-04T13:43:37.654Z"
   },
   {
    "duration": 82195,
    "start_time": "2022-09-04T13:44:27.620Z"
   },
   {
    "duration": 7,
    "start_time": "2022-09-04T13:46:00.898Z"
   },
   {
    "duration": 4,
    "start_time": "2022-09-04T13:46:19.566Z"
   },
   {
    "duration": 2,
    "start_time": "2022-09-04T13:46:24.366Z"
   },
   {
    "duration": 68556,
    "start_time": "2022-09-04T13:46:29.056Z"
   },
   {
    "duration": 4,
    "start_time": "2022-09-04T13:48:02.133Z"
   },
   {
    "duration": 17523,
    "start_time": "2022-09-04T13:48:03.966Z"
   },
   {
    "duration": 7,
    "start_time": "2022-09-04T13:48:21.491Z"
   },
   {
    "duration": 213,
    "start_time": "2022-09-04T13:48:21.500Z"
   },
   {
    "duration": 4,
    "start_time": "2022-09-04T13:48:21.715Z"
   },
   {
    "duration": 3251,
    "start_time": "2022-09-04T13:48:21.720Z"
   },
   {
    "duration": 6,
    "start_time": "2022-09-04T13:48:24.973Z"
   },
   {
    "duration": 234,
    "start_time": "2022-09-04T13:48:24.981Z"
   },
   {
    "duration": 45,
    "start_time": "2022-09-04T13:48:56.130Z"
   },
   {
    "duration": 5,
    "start_time": "2022-09-04T13:49:10.965Z"
   },
   {
    "duration": 4,
    "start_time": "2022-09-04T13:49:20.907Z"
   },
   {
    "duration": 3,
    "start_time": "2022-09-04T13:49:36.123Z"
   },
   {
    "duration": 4,
    "start_time": "2022-09-04T13:49:49.305Z"
   },
   {
    "duration": 5,
    "start_time": "2022-09-04T13:50:00.112Z"
   },
   {
    "duration": 21101,
    "start_time": "2022-09-04T13:50:21.055Z"
   },
   {
    "duration": 4211,
    "start_time": "2022-09-04T13:50:50.244Z"
   },
   {
    "duration": 10,
    "start_time": "2022-09-04T13:51:01.031Z"
   },
   {
    "duration": 7,
    "start_time": "2022-09-04T13:51:12.205Z"
   },
   {
    "duration": 190,
    "start_time": "2022-09-04T13:51:18.112Z"
   },
   {
    "duration": 21604,
    "start_time": "2022-09-04T13:51:54.481Z"
   }
  ],
  "kernelspec": {
   "display_name": "Python 3 (ipykernel)",
   "language": "python",
   "name": "python3"
  },
  "language_info": {
   "codemirror_mode": {
    "name": "ipython",
    "version": 3
   },
   "file_extension": ".py",
   "mimetype": "text/x-python",
   "name": "python",
   "nbconvert_exporter": "python",
   "pygments_lexer": "ipython3",
   "version": "3.9.7"
  },
  "toc": {
   "base_numbering": 1,
   "nav_menu": {},
   "number_sections": true,
   "sideBar": true,
   "skip_h1_title": true,
   "title_cell": "Содержание",
   "title_sidebar": "Contents",
   "toc_cell": true,
   "toc_position": {
    "height": "calc(100% - 180px)",
    "left": "10px",
    "top": "150px",
    "width": "302.391px"
   },
   "toc_section_display": true,
   "toc_window_display": false
  }
 },
 "nbformat": 4,
 "nbformat_minor": 2
}

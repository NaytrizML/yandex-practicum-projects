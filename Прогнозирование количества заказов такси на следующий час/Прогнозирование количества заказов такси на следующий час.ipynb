{
 "cells": [
  {
   "cell_type": "markdown",
   "metadata": {
    "toc": true
   },
   "source": [
    "<h1>Содержание<span class=\"tocSkip\"></span></h1>\n",
    "<div class=\"toc\"><ul class=\"toc-item\"><li><span><a href=\"#Подготовка\" data-toc-modified-id=\"Подготовка-1\"><span class=\"toc-item-num\">1&nbsp;&nbsp;</span>Подготовка</a></span></li><li><span><a href=\"#Анализ\" data-toc-modified-id=\"Анализ-2\"><span class=\"toc-item-num\">2&nbsp;&nbsp;</span>Анализ</a></span></li><li><span><a href=\"#Обучение\" data-toc-modified-id=\"Обучение-3\"><span class=\"toc-item-num\">3&nbsp;&nbsp;</span>Обучение</a></span><ul class=\"toc-item\"><li><span><a href=\"#Создание-признаков\" data-toc-modified-id=\"Создание-признаков-3.1\"><span class=\"toc-item-num\">3.1&nbsp;&nbsp;</span>Создание признаков</a></span></li><li><span><a href=\"#Проверка-на-мультиколлинеарность\" data-toc-modified-id=\"Проверка-на-мультиколлинеарность-3.2\"><span class=\"toc-item-num\">3.2&nbsp;&nbsp;</span>Проверка на мультиколлинеарность</a></span></li><li><span><a href=\"#Кодирование-категориальных-и-масштабирование-численных-признаков\" data-toc-modified-id=\"Кодирование-категориальных-и-масштабирование-численных-признаков-3.3\"><span class=\"toc-item-num\">3.3&nbsp;&nbsp;</span>Кодирование категориальных и масштабирование численных признаков</a></span></li><li><span><a href=\"#Деление-на-выборки\" data-toc-modified-id=\"Деление-на-выборки-3.4\"><span class=\"toc-item-num\">3.4&nbsp;&nbsp;</span>Деление на выборки</a></span></li><li><span><a href=\"#Качество-прогноза\" data-toc-modified-id=\"Качество-прогноза-3.5\"><span class=\"toc-item-num\">3.5&nbsp;&nbsp;</span>Качество прогноза</a></span></li><li><span><a href=\"#Важное-отсупление\" data-toc-modified-id=\"Важное-отсупление-3.6\"><span class=\"toc-item-num\">3.6&nbsp;&nbsp;</span>Важное отсупление</a></span></li><li><span><a href=\"#Модель-линейной-регрессии\" data-toc-modified-id=\"Модель-линейной-регрессии-3.7\"><span class=\"toc-item-num\">3.7&nbsp;&nbsp;</span>Модель линейной регрессии</a></span><ul class=\"toc-item\"><li><span><a href=\"#Lasso\" data-toc-modified-id=\"Lasso-3.7.1\"><span class=\"toc-item-num\">3.7.1&nbsp;&nbsp;</span>Lasso</a></span></li><li><span><a href=\"#Ridge\" data-toc-modified-id=\"Ridge-3.7.2\"><span class=\"toc-item-num\">3.7.2&nbsp;&nbsp;</span>Ridge</a></span></li></ul></li><li><span><a href=\"#Модель-случайного-леса\" data-toc-modified-id=\"Модель-случайного-леса-3.8\"><span class=\"toc-item-num\">3.8&nbsp;&nbsp;</span>Модель случайного леса</a></span></li><li><span><a href=\"#Модель-градиентного-бустинга-библиотеки-LightGBM\" data-toc-modified-id=\"Модель-градиентного-бустинга-библиотеки-LightGBM-3.9\"><span class=\"toc-item-num\">3.9&nbsp;&nbsp;</span>Модель градиентного бустинга библиотеки LightGBM</a></span></li><li><span><a href=\"#Модель-линейной-регрессии-ElasticNet\" data-toc-modified-id=\"Модель-линейной-регрессии-ElasticNet-3.10\"><span class=\"toc-item-num\">3.10&nbsp;&nbsp;</span>Модель линейной регрессии ElasticNet</a></span></li><li><span><a href=\"#Сопоставление-реальных-значений-заказанных-такси-и-предсказаний-моделей\" data-toc-modified-id=\"Сопоставление-реальных-значений-заказанных-такси-и-предсказаний-моделей-3.11\"><span class=\"toc-item-num\">3.11&nbsp;&nbsp;</span>Сопоставление реальных значений заказанных такси и предсказаний моделей</a></span></li></ul></li><li><span><a href=\"#Тестирование\" data-toc-modified-id=\"Тестирование-4\"><span class=\"toc-item-num\">4&nbsp;&nbsp;</span>Тестирование</a></span></li><li><span><a href=\"#Вывод\" data-toc-modified-id=\"Вывод-5\"><span class=\"toc-item-num\">5&nbsp;&nbsp;</span>Вывод</a></span></li><li><span><a href=\"#Чек-лист-проверки\" data-toc-modified-id=\"Чек-лист-проверки-6\"><span class=\"toc-item-num\">6&nbsp;&nbsp;</span>Чек-лист проверки</a></span></li></ul></div>"
   ]
  },
  {
   "cell_type": "markdown",
   "metadata": {},
   "source": [
    "#  Прогнозирование заказов такси"
   ]
  },
  {
   "cell_type": "markdown",
   "metadata": {},
   "source": [
    "Компания «Чётенькое такси» собрала исторические данные о заказах такси в аэропортах. Чтобы привлекать больше водителей в период пиковой нагрузки, нужно спрогнозировать количество заказов такси на следующий час. Постройте модель для такого предсказания.\n",
    "\n",
    "Значение метрики *RMSE* на тестовой выборке должно быть не больше 48.\n",
    "\n",
    "Вам нужно:\n",
    "\n",
    "1. Загрузить данные и выполнить их ресемплирование по одному часу.\n",
    "2. Проанализировать данные.\n",
    "3. Обучить разные модели с различными гиперпараметрами. Сделать тестовую выборку размером 10% от исходных данных.\n",
    "4. Проверить данные на тестовой выборке и сделать выводы.\n",
    "\n",
    "\n",
    "Данные лежат в файле `taxi.csv`. Количество заказов находится в столбце `num_orders` (от англ. *number of orders*, «число заказов»)."
   ]
  },
  {
   "cell_type": "markdown",
   "metadata": {},
   "source": [
    "## Подготовка"
   ]
  },
  {
   "cell_type": "markdown",
   "metadata": {},
   "source": [
    "Импортируем нужные библиотеки. "
   ]
  },
  {
   "cell_type": "code",
   "execution_count": 1,
   "metadata": {},
   "outputs": [],
   "source": [
    "# !pip install tsfresh --user\n",
    "# !pip install sktime --user\n",
    "# !pip install lightgbm"
   ]
  },
  {
   "cell_type": "code",
   "execution_count": 2,
   "metadata": {},
   "outputs": [],
   "source": [
    "import pandas as pd\n",
    "import numpy as np\n",
    "\n",
    "import lightgbm as lgb\n",
    "from lightgbm import LGBMRegressor\n",
    "\n",
    "from sklearn.compose import ColumnTransformer\n",
    "from sklearn.compose import make_column_transformer\n",
    "\n",
    "from sklearn.metrics import mean_squared_error, make_scorer\n",
    "from sklearn.model_selection import train_test_split\n",
    "from sklearn.preprocessing import StandardScaler, OneHotEncoder\n",
    "\n",
    "from sklearn.model_selection import cross_val_score, KFold, GridSearchCV, TimeSeriesSplit\n",
    "\n",
    "\n",
    "\n",
    "from sklearn.linear_model import Lasso, Ridge, ElasticNet\n",
    "from sklearn.ensemble import RandomForestRegressor\n",
    "\n",
    "from sklearn.pipeline import Pipeline\n",
    "\n",
    "# from sktime.forecasting.model_selection import temporal_train_test_split\n",
    "# from sktime.utils.plotting.forecasting import plot_ys\n",
    "# import sktime.utils.plotting.forecasting \n",
    "\n",
    "from statsmodels.tsa.seasonal import seasonal_decompose\n",
    "\n",
    "# import statsmodels.formula.api as smf\n",
    "import statsmodels.tsa.api as smt\n",
    "import statsmodels.api as sm\n",
    "\n",
    "\n",
    "# import scipy.stats as scs\n",
    "# from scipy.optimize import minimize\n",
    "\n",
    "# from tsfresh import extract_features, extract_relevant_features, select_features\n",
    "# from tsfresh.utilities.dataframe_functions import impute\n",
    "# from tsfresh.feature_extraction import ComprehensiveFCParameters\n",
    "\n",
    "import matplotlib.pyplot as plt\n",
    "import seaborn as sns"
   ]
  },
  {
   "cell_type": "markdown",
   "metadata": {},
   "source": [
    "Создаем путь к файлу с данными."
   ]
  },
  {
   "cell_type": "code",
   "execution_count": 3,
   "metadata": {},
   "outputs": [],
   "source": [
    "path = '/datasets/taxi.csv'"
   ]
  },
  {
   "cell_type": "markdown",
   "metadata": {},
   "source": [
    "Откроем файл с информацией об исторических данных о заказах такси в аэропортах."
   ]
  },
  {
   "cell_type": "code",
   "execution_count": 4,
   "metadata": {},
   "outputs": [],
   "source": [
    "try:\n",
    "    df = pd.read_csv(\n",
    "        path, \n",
    "        index_col=[0], \n",
    "        parse_dates=[0]\n",
    "    )\n",
    "except Exception as err:\n",
    "    try:\n",
    "        df = pd.read_csv(path[10:])\n",
    "    except Exception as err:\n",
    "        print('Ошибка чтения файла:', repr(err))"
   ]
  },
  {
   "cell_type": "code",
   "execution_count": 5,
   "metadata": {},
   "outputs": [
    {
     "data": {
      "text/html": [
       "<div>\n",
       "<style scoped>\n",
       "    .dataframe tbody tr th:only-of-type {\n",
       "        vertical-align: middle;\n",
       "    }\n",
       "\n",
       "    .dataframe tbody tr th {\n",
       "        vertical-align: top;\n",
       "    }\n",
       "\n",
       "    .dataframe thead th {\n",
       "        text-align: right;\n",
       "    }\n",
       "</style>\n",
       "<table border=\"1\" class=\"dataframe\">\n",
       "  <thead>\n",
       "    <tr style=\"text-align: right;\">\n",
       "      <th></th>\n",
       "      <th>num_orders</th>\n",
       "    </tr>\n",
       "    <tr>\n",
       "      <th>datetime</th>\n",
       "      <th></th>\n",
       "    </tr>\n",
       "  </thead>\n",
       "  <tbody>\n",
       "    <tr>\n",
       "      <th>2018-03-01 00:00:00</th>\n",
       "      <td>9</td>\n",
       "    </tr>\n",
       "    <tr>\n",
       "      <th>2018-03-01 00:10:00</th>\n",
       "      <td>14</td>\n",
       "    </tr>\n",
       "    <tr>\n",
       "      <th>2018-03-01 00:20:00</th>\n",
       "      <td>28</td>\n",
       "    </tr>\n",
       "    <tr>\n",
       "      <th>2018-03-01 00:30:00</th>\n",
       "      <td>20</td>\n",
       "    </tr>\n",
       "    <tr>\n",
       "      <th>2018-03-01 00:40:00</th>\n",
       "      <td>32</td>\n",
       "    </tr>\n",
       "    <tr>\n",
       "      <th>2018-03-01 00:50:00</th>\n",
       "      <td>21</td>\n",
       "    </tr>\n",
       "    <tr>\n",
       "      <th>2018-03-01 01:00:00</th>\n",
       "      <td>7</td>\n",
       "    </tr>\n",
       "    <tr>\n",
       "      <th>2018-03-01 01:10:00</th>\n",
       "      <td>5</td>\n",
       "    </tr>\n",
       "    <tr>\n",
       "      <th>2018-03-01 01:20:00</th>\n",
       "      <td>17</td>\n",
       "    </tr>\n",
       "    <tr>\n",
       "      <th>2018-03-01 01:30:00</th>\n",
       "      <td>12</td>\n",
       "    </tr>\n",
       "  </tbody>\n",
       "</table>\n",
       "</div>"
      ],
      "text/plain": [
       "                     num_orders\n",
       "datetime                       \n",
       "2018-03-01 00:00:00           9\n",
       "2018-03-01 00:10:00          14\n",
       "2018-03-01 00:20:00          28\n",
       "2018-03-01 00:30:00          20\n",
       "2018-03-01 00:40:00          32\n",
       "2018-03-01 00:50:00          21\n",
       "2018-03-01 01:00:00           7\n",
       "2018-03-01 01:10:00           5\n",
       "2018-03-01 01:20:00          17\n",
       "2018-03-01 01:30:00          12"
      ]
     },
     "execution_count": 5,
     "metadata": {},
     "output_type": "execute_result"
    }
   ],
   "source": [
    "df.head(10)"
   ]
  },
  {
   "cell_type": "code",
   "execution_count": 6,
   "metadata": {},
   "outputs": [
    {
     "name": "stdout",
     "output_type": "stream",
     "text": [
      "<class 'pandas.core.frame.DataFrame'>\n",
      "DatetimeIndex: 26496 entries, 2018-03-01 00:00:00 to 2018-08-31 23:50:00\n",
      "Data columns (total 1 columns):\n",
      " #   Column      Non-Null Count  Dtype\n",
      "---  ------      --------------  -----\n",
      " 0   num_orders  26496 non-null  int64\n",
      "dtypes: int64(1)\n",
      "memory usage: 414.0 KB\n"
     ]
    }
   ],
   "source": [
    "df.info()"
   ]
  },
  {
   "cell_type": "markdown",
   "metadata": {},
   "source": [
    "В таблице 26496 строк с количеством заказов такси в аэропорты, а так же информация о дате и времени заказа, которую мы, предварительно ознакомившись с данными, превратили в индекс и распознали, как тип данных `datetime64[ns]`.\n",
    "\n",
    "По первым индексам можно сделать предположение, что **временной интервал**, с которым записывались данные, составлял **10 минут**, однако мы не знаем наверняка, отсортированы ли наши данные.\n",
    "\n",
    "Проверим, в хронологическом ли порядке расположены даты и время."
   ]
  },
  {
   "cell_type": "code",
   "execution_count": 7,
   "metadata": {},
   "outputs": [
    {
     "data": {
      "text/plain": [
       "True"
      ]
     },
     "execution_count": 7,
     "metadata": {},
     "output_type": "execute_result"
    }
   ],
   "source": [
    "df.index.is_monotonic"
   ]
  },
  {
   "cell_type": "markdown",
   "metadata": {},
   "source": [
    "Хронологический порядок в данных соблюдён."
   ]
  },
  {
   "cell_type": "code",
   "execution_count": 8,
   "metadata": {},
   "outputs": [
    {
     "name": "stdout",
     "output_type": "stream",
     "text": [
      "Данные в таблице от 2018-03-01 00:00:00 до 2018-08-31 23:50:00\n"
     ]
    }
   ],
   "source": [
    "print(f'Данные в таблице от {df.index.min()} до {df.index.max()}')"
   ]
  },
  {
   "cell_type": "markdown",
   "metadata": {},
   "source": [
    "В таблице представлены данные за 6 месяцев 2018 года: от начала марта до конца августа. И данные представлены с 10-минутным интервалом. Визуализировать такое распределение будет бесполезно. \n",
    "\n",
    "В рамках нашего задания нам нужно предсказать количество такси в час. Произведем ресемплирование по часу с суммированием значений за каждый десятиминутный интервал."
   ]
  },
  {
   "cell_type": "code",
   "execution_count": 9,
   "metadata": {},
   "outputs": [],
   "source": [
    "df = df.resample('1H').sum()"
   ]
  },
  {
   "cell_type": "code",
   "execution_count": 10,
   "metadata": {},
   "outputs": [
    {
     "data": {
      "text/html": [
       "<div>\n",
       "<style scoped>\n",
       "    .dataframe tbody tr th:only-of-type {\n",
       "        vertical-align: middle;\n",
       "    }\n",
       "\n",
       "    .dataframe tbody tr th {\n",
       "        vertical-align: top;\n",
       "    }\n",
       "\n",
       "    .dataframe thead th {\n",
       "        text-align: right;\n",
       "    }\n",
       "</style>\n",
       "<table border=\"1\" class=\"dataframe\">\n",
       "  <thead>\n",
       "    <tr style=\"text-align: right;\">\n",
       "      <th></th>\n",
       "      <th>num_orders</th>\n",
       "    </tr>\n",
       "    <tr>\n",
       "      <th>datetime</th>\n",
       "      <th></th>\n",
       "    </tr>\n",
       "  </thead>\n",
       "  <tbody>\n",
       "    <tr>\n",
       "      <th>2018-03-01 00:00:00</th>\n",
       "      <td>124</td>\n",
       "    </tr>\n",
       "    <tr>\n",
       "      <th>2018-03-01 01:00:00</th>\n",
       "      <td>85</td>\n",
       "    </tr>\n",
       "    <tr>\n",
       "      <th>2018-03-01 02:00:00</th>\n",
       "      <td>71</td>\n",
       "    </tr>\n",
       "    <tr>\n",
       "      <th>2018-03-01 03:00:00</th>\n",
       "      <td>66</td>\n",
       "    </tr>\n",
       "    <tr>\n",
       "      <th>2018-03-01 04:00:00</th>\n",
       "      <td>43</td>\n",
       "    </tr>\n",
       "  </tbody>\n",
       "</table>\n",
       "</div>"
      ],
      "text/plain": [
       "                     num_orders\n",
       "datetime                       \n",
       "2018-03-01 00:00:00         124\n",
       "2018-03-01 01:00:00          85\n",
       "2018-03-01 02:00:00          71\n",
       "2018-03-01 03:00:00          66\n",
       "2018-03-01 04:00:00          43"
      ]
     },
     "execution_count": 10,
     "metadata": {},
     "output_type": "execute_result"
    }
   ],
   "source": [
    "df.head()"
   ]
  },
  {
   "cell_type": "markdown",
   "metadata": {},
   "source": [
    "## Анализ"
   ]
  },
  {
   "cell_type": "markdown",
   "metadata": {},
   "source": [
    "Посмотрим на распределение количества заказанных в аэропорт такси за разные периоды времени:\n",
    "- за 1 час (только за последний имеющийся месяц)\n",
    "- за 1 день \n",
    "- за 1 неделю\n",
    "- за 1 месяц."
   ]
  },
  {
   "cell_type": "code",
   "execution_count": 11,
   "metadata": {},
   "outputs": [],
   "source": [
    "fs = (14, 3)"
   ]
  },
  {
   "cell_type": "code",
   "execution_count": 12,
   "metadata": {},
   "outputs": [
    {
     "data": {
      "image/png": "[encoded data removed]",
      "text/plain": [
       "<Figure size 1008x216 with 1 Axes>"
      ]
     },
     "metadata": {
      "needs_background": "light"
     },
     "output_type": "display_data"
    },
    {
     "data": {
      "image/png": "[encoded data removed]",
      "text/plain": [
       "<Figure size 1008x216 with 1 Axes>"
      ]
     },
     "metadata": {
      "needs_background": "light"
     },
     "output_type": "display_data"
    },
    {
     "data": {
      "image/png": "[encoded data removed]",
      "text/plain": [
       "<Figure size 1008x216 with 1 Axes>"
      ]
     },
     "metadata": {
      "needs_background": "light"
     },
     "output_type": "display_data"
    },
    {
     "data": {
      "image/png": "[encoded data removed]",
      "text/plain": [
       "<Figure size 1008x216 with 1 Axes>"
      ]
     },
     "metadata": {
      "needs_background": "light"
     },
     "output_type": "display_data"
    }
   ],
   "source": [
    "df['2018-08-01':'2018-08-31'].plot(figsize=fs)\n",
    "plt.xlabel('Дата заказа')\n",
    "plt.ylabel('Количество такси')\n",
    "plt.title('Распределение заказов такси в аэропорты за \\n 1 час')\n",
    "plt.show()\n",
    "\n",
    "df['num_orders'].rolling(24).mean().plot(figsize=fs)\n",
    "# df['num_orders'].resample('1D').sum().plot(figsize=fs)\n",
    "plt.xlabel('Дата заказа')\n",
    "plt.legend()\n",
    "plt.ylabel('Количество такси')\n",
    "plt.title('1 день')\n",
    "plt.show()\n",
    "\n",
    "df['num_orders'].rolling(24 * 7).mean().plot(figsize=fs)\n",
    "# df['num_orders'].resample('1W').sum().plot(figsize=fs)\n",
    "plt.xlabel('Дата заказа')\n",
    "plt.ylabel('Количество такси')\n",
    "plt.title('1 неделю')\n",
    "plt.show()\n",
    "\n",
    "# df['num_orders'].resample('1M').sum().plot(figsize=fs)\n",
    "df['num_orders'].rolling(24 * 7 * 4).mean().plot(figsize=fs)\n",
    "plt.xlabel('Дата заказа')\n",
    "plt.ylabel('Количество такси')\n",
    "plt.title('1 месяц')\n",
    "plt.show()"
   ]
  },
  {
   "cell_type": "markdown",
   "metadata": {},
   "source": [
    "Видим, что с каждым месяцем суммарное количество заказов в аэропорты растет. Есть увеличение количества заказанных такси к концу месяца."
   ]
  },
  {
   "cell_type": "markdown",
   "metadata": {},
   "source": [
    "Разложим временной ряд на три составляющие: тренд, сезонность и остаток при помощи модуля `tsa.seasonal` библиотеки `statsmodels`. Используем функцию `seasonal_decompose()`."
   ]
  },
  {
   "cell_type": "code",
   "execution_count": 13,
   "metadata": {},
   "outputs": [],
   "source": [
    "decomposed = seasonal_decompose(df)"
   ]
  },
  {
   "cell_type": "markdown",
   "metadata": {},
   "source": [
    "Посмотрим на тренд, сезонность и отстаток."
   ]
  },
  {
   "cell_type": "code",
   "execution_count": 14,
   "metadata": {},
   "outputs": [
    {
     "data": {
      "image/png": "[encoded data removed]",
      "text/plain": [
       "<Figure size 1008x216 with 1 Axes>"
      ]
     },
     "metadata": {
      "needs_background": "light"
     },
     "output_type": "display_data"
    },
    {
     "data": {
      "image/png": "[encoded data removed]",
      "text/plain": [
       "<Figure size 1008x216 with 1 Axes>"
      ]
     },
     "metadata": {
      "needs_background": "light"
     },
     "output_type": "display_data"
    },
    {
     "data": {
      "image/png": "[encoded data removed]",
      "text/plain": [
       "<Figure size 1008x216 with 1 Axes>"
      ]
     },
     "metadata": {
      "needs_background": "light"
     },
     "output_type": "display_data"
    }
   ],
   "source": [
    "decomposed.seasonal['2018-08-25':'2018-08-31'].plot(figsize=fs)\n",
    "plt.xlabel('Дата заказа')\n",
    "plt.ylabel('Количество такси')\n",
    "plt.title('Сезонность за последнюю неделю данных')\n",
    "plt.show()\n",
    "\n",
    "decomposed.trend.plot(figsize=fs)\n",
    "plt.xlabel('Дата заказа')\n",
    "plt.ylabel('Количество такси')\n",
    "plt.title('Тренд данных')\n",
    "plt.show()\n",
    "\n",
    "decomposed.resid.plot(figsize=fs)\n",
    "plt.xlabel('Дата заказа')\n",
    "plt.ylabel('Количество такси')\n",
    "plt.title('Остаток декомпозиции')\n",
    "plt.show()"
   ]
  },
  {
   "cell_type": "markdown",
   "metadata": {},
   "source": [
    "**Отстаток декомпозиции** невозможно интерпретировать, **тренд** данных показывает **склонность к росту количества заказов с каждым месяцем**, удивительным образом оказавшись одинаковым с графиком скользящей средней с интервалом в сутки. \n",
    "\n",
    "**Сезонность** показала, что количество заказов за сутки меняется с особой периодичностью: **существуют утренние, дневные и особенно вечерние часы, в которые количество заказов имеет пиковое значение. Ночью в аэропорты ездят реже всего**. "
   ]
  },
  {
   "cell_type": "code",
   "execution_count": 15,
   "metadata": {},
   "outputs": [
    {
     "data": {
      "text/html": [
       "<div>\n",
       "<style scoped>\n",
       "    .dataframe tbody tr th:only-of-type {\n",
       "        vertical-align: middle;\n",
       "    }\n",
       "\n",
       "    .dataframe tbody tr th {\n",
       "        vertical-align: top;\n",
       "    }\n",
       "\n",
       "    .dataframe thead th {\n",
       "        text-align: right;\n",
       "    }\n",
       "</style>\n",
       "<table border=\"1\" class=\"dataframe\">\n",
       "  <thead>\n",
       "    <tr style=\"text-align: right;\">\n",
       "      <th></th>\n",
       "      <th>num_orders</th>\n",
       "    </tr>\n",
       "    <tr>\n",
       "      <th>datetime</th>\n",
       "      <th></th>\n",
       "    </tr>\n",
       "  </thead>\n",
       "  <tbody>\n",
       "    <tr>\n",
       "      <th>2018-03-01 00:00:00</th>\n",
       "      <td>124</td>\n",
       "    </tr>\n",
       "    <tr>\n",
       "      <th>2018-03-01 01:00:00</th>\n",
       "      <td>85</td>\n",
       "    </tr>\n",
       "    <tr>\n",
       "      <th>2018-03-01 02:00:00</th>\n",
       "      <td>71</td>\n",
       "    </tr>\n",
       "    <tr>\n",
       "      <th>2018-03-01 03:00:00</th>\n",
       "      <td>66</td>\n",
       "    </tr>\n",
       "    <tr>\n",
       "      <th>2018-03-01 04:00:00</th>\n",
       "      <td>43</td>\n",
       "    </tr>\n",
       "  </tbody>\n",
       "</table>\n",
       "</div>"
      ],
      "text/plain": [
       "                     num_orders\n",
       "datetime                       \n",
       "2018-03-01 00:00:00         124\n",
       "2018-03-01 01:00:00          85\n",
       "2018-03-01 02:00:00          71\n",
       "2018-03-01 03:00:00          66\n",
       "2018-03-01 04:00:00          43"
      ]
     },
     "execution_count": 15,
     "metadata": {},
     "output_type": "execute_result"
    }
   ],
   "source": [
    "df.head()"
   ]
  },
  {
   "cell_type": "markdown",
   "metadata": {},
   "source": [
    "Далее, основываясь на [статье](https://www.kaggle.com/kashnitsky/topic-9-part-1-time-series-analysis-in-python?scriptVersionId=50985180&cellId=80), проверим стационарность ряда, используя **тест Дики — Фуллера**. \n",
    "\n",
    "- Это методика, которая используется в прикладной статистике и эконометрике для анализа временных рядов для проверки на стационарность (наличие единичного корня). \n",
    "\n",
    "- Если из нестационарного ряда первыми разностями удаётся получить стационарный, то он называется интегрированным первого порядка. \n",
    "\n",
    "- [Основная идея](https://habr.com/ru/post/540868/) теста заключается в подтверждении или отклонении двух гипотез:\n",
    "\n",
    "    - **Нулевая гипотеза** (H0): предполагает, что временной ряд имеет единичный корень, то есть он нестационарный.\n",
    "\n",
    "    - **Альтернативная гипотеза** (H1): предполагает, что временной ряд не имеет единичного корня, то есть он является стационарным. Если эта гипотеза верна, то у нас есть список покупок подарков на определенный временной период, в котором количество подарков для близких коллег и знакомых будет неизменно.\n",
    "\n",
    "- Для подтверждения или опровержения этих гипотез используются `p-values` значения.\n",
    "\n",
    "    - p -values — это наименьшее значение уровня значимости (то есть вероятности отказа от справедливой гипотезы).\n",
    "\n",
    "    - В случае если p –values больше значения 5%, то мы отвергаем нулевую гипотезу, и, следовательно, ряд является стационарным, имеет определенную периодичность, которую возможно выявить."
   ]
  },
  {
   "cell_type": "code",
   "execution_count": 16,
   "metadata": {},
   "outputs": [
    {
     "name": "stderr",
     "output_type": "stream",
     "text": [
      "/opt/conda/lib/python3.9/site-packages/statsmodels/graphics/tsaplots.py:348: FutureWarning: The default method 'yw' can produce PACF values outside of the [-1,1] interval. After 0.13, the default will change tounadjusted Yule-Walker ('ywm'). You can use this method now by setting method='ywm'.\n",
      "  warnings.warn(\n"
     ]
    },
    {
     "data": {
      "image/png": "[encoded data removed]",
      "text/plain": [
       "<Figure size 864x504 with 3 Axes>"
      ]
     },
     "metadata": {
      "needs_background": "light"
     },
     "output_type": "display_data"
    }
   ],
   "source": [
    "# from https://www.kaggle.com/kashnitsky/topic-9-part-1-time-series-analysis-in-python?scriptVersionId=50985180&cellId=80\n",
    "def tsplot(y, lags=None, figsize=(12, 7)):\n",
    "    \"\"\"\n",
    "        Plot time series, its ACF and PACF, calculate Dickey–Fuller test\n",
    "        \n",
    "        y - timeseries\n",
    "        lags - how many lags to include in ACF, PACF calculation\n",
    "    \"\"\"\n",
    "    if not isinstance(y, pd.Series):\n",
    "        y = pd.Series(y)\n",
    "           \n",
    "    fig = plt.figure(figsize=figsize)\n",
    "    layout = (2, 2)\n",
    "    ts_ax = plt.subplot2grid(layout, (0, 0), colspan=2)\n",
    "    acf_ax = plt.subplot2grid(layout, (1, 0))\n",
    "    pacf_ax = plt.subplot2grid(layout, (1, 1))\n",
    "\n",
    "    y.plot(ax=ts_ax)\n",
    "    p_value = sm.tsa.stattools.adfuller(y)[1]\n",
    "    ts_ax.set_title('Time Series Analysis Plots\\n Dickey-Fuller: p={0:.5f}'.format(p_value))\n",
    "    smt.graphics.plot_acf(y, lags=lags, ax=acf_ax)\n",
    "    smt.graphics.plot_pacf(y, lags=lags, ax=pacf_ax)\n",
    "    plt.tight_layout()\n",
    "    \n",
    "tsplot(df.num_orders)"
   ]
  },
  {
   "cell_type": "markdown",
   "metadata": {},
   "source": [
    "Автокорреляция показывает, что ряд не такой стационарный, как хотелось бы, однако тест Дики-Фуллера позволяет принять альтернативную гипотезу, что ряд стационарен."
   ]
  },
  {
   "cell_type": "markdown",
   "metadata": {},
   "source": [
    "## Обучение"
   ]
  },
  {
   "cell_type": "code",
   "execution_count": 17,
   "metadata": {},
   "outputs": [],
   "source": [
    "# создадим копию таблицы для добавления признаков\n",
    "df_with_features = df.copy()"
   ]
  },
  {
   "cell_type": "markdown",
   "metadata": {},
   "source": [
    "### Создание признаков"
   ]
  },
  {
   "cell_type": "markdown",
   "metadata": {},
   "source": [
    "Для обучения моделей нам понадобится вытащить из временного ряда признаки: календарные признаки, \"отстающие значения\", скользящее среднее. Напишем функцию для этого."
   ]
  },
  {
   "cell_type": "code",
   "execution_count": 18,
   "metadata": {},
   "outputs": [],
   "source": [
    "def make_features(data, max_lag, rolling_mean_size):\n",
    "#     data['year'] = data.index.year\n",
    "#     data['month'] = data.index.month\n",
    "#     data['day'] = data.index.day\n",
    "    data['dayofweek'] = data.index.dayofweek\n",
    "    data['hour'] = data.index.hour\n",
    "    \n",
    "    data['rolling_mean'] = data['num_orders'].shift().rolling(\n",
    "        rolling_mean_size).mean()\n",
    "\n",
    "    for lag in range(1, max_lag + 1):\n",
    "        data['lag_{}'.format(lag)] = data['num_orders'].shift(lag)"
   ]
  },
  {
   "cell_type": "markdown",
   "metadata": {},
   "source": [
    "В [статье](https://habr.com/ru/post/584896/) пишут, что в практических задачах работает количество \"отстающих значений\" диапазоне от 4 до 12.\n",
    "    \n",
    "Возьмем пару лагов (значения за предыдущий час и за час до него) и скользящее среднее 24 (среднее за сутки)."
   ]
  },
  {
   "cell_type": "code",
   "execution_count": 19,
   "metadata": {},
   "outputs": [],
   "source": [
    "make_features(df_with_features, 2, 24)"
   ]
  },
  {
   "cell_type": "code",
   "execution_count": 20,
   "metadata": {},
   "outputs": [
    {
     "data": {
      "text/html": [
       "<div>\n",
       "<style scoped>\n",
       "    .dataframe tbody tr th:only-of-type {\n",
       "        vertical-align: middle;\n",
       "    }\n",
       "\n",
       "    .dataframe tbody tr th {\n",
       "        vertical-align: top;\n",
       "    }\n",
       "\n",
       "    .dataframe thead th {\n",
       "        text-align: right;\n",
       "    }\n",
       "</style>\n",
       "<table border=\"1\" class=\"dataframe\">\n",
       "  <thead>\n",
       "    <tr style=\"text-align: right;\">\n",
       "      <th></th>\n",
       "      <th>num_orders</th>\n",
       "      <th>dayofweek</th>\n",
       "      <th>hour</th>\n",
       "      <th>rolling_mean</th>\n",
       "      <th>lag_1</th>\n",
       "      <th>lag_2</th>\n",
       "    </tr>\n",
       "    <tr>\n",
       "      <th>datetime</th>\n",
       "      <th></th>\n",
       "      <th></th>\n",
       "      <th></th>\n",
       "      <th></th>\n",
       "      <th></th>\n",
       "      <th></th>\n",
       "    </tr>\n",
       "  </thead>\n",
       "  <tbody>\n",
       "    <tr>\n",
       "      <th>2018-03-01 00:00:00</th>\n",
       "      <td>124</td>\n",
       "      <td>3</td>\n",
       "      <td>0</td>\n",
       "      <td>NaN</td>\n",
       "      <td>NaN</td>\n",
       "      <td>NaN</td>\n",
       "    </tr>\n",
       "    <tr>\n",
       "      <th>2018-03-01 01:00:00</th>\n",
       "      <td>85</td>\n",
       "      <td>3</td>\n",
       "      <td>1</td>\n",
       "      <td>NaN</td>\n",
       "      <td>124.0</td>\n",
       "      <td>NaN</td>\n",
       "    </tr>\n",
       "    <tr>\n",
       "      <th>2018-03-01 02:00:00</th>\n",
       "      <td>71</td>\n",
       "      <td>3</td>\n",
       "      <td>2</td>\n",
       "      <td>NaN</td>\n",
       "      <td>85.0</td>\n",
       "      <td>124.0</td>\n",
       "    </tr>\n",
       "    <tr>\n",
       "      <th>2018-03-01 03:00:00</th>\n",
       "      <td>66</td>\n",
       "      <td>3</td>\n",
       "      <td>3</td>\n",
       "      <td>NaN</td>\n",
       "      <td>71.0</td>\n",
       "      <td>85.0</td>\n",
       "    </tr>\n",
       "    <tr>\n",
       "      <th>2018-03-01 04:00:00</th>\n",
       "      <td>43</td>\n",
       "      <td>3</td>\n",
       "      <td>4</td>\n",
       "      <td>NaN</td>\n",
       "      <td>66.0</td>\n",
       "      <td>71.0</td>\n",
       "    </tr>\n",
       "  </tbody>\n",
       "</table>\n",
       "</div>"
      ],
      "text/plain": [
       "                     num_orders  dayofweek  hour  rolling_mean  lag_1  lag_2\n",
       "datetime                                                                    \n",
       "2018-03-01 00:00:00         124          3     0           NaN    NaN    NaN\n",
       "2018-03-01 01:00:00          85          3     1           NaN  124.0    NaN\n",
       "2018-03-01 02:00:00          71          3     2           NaN   85.0  124.0\n",
       "2018-03-01 03:00:00          66          3     3           NaN   71.0   85.0\n",
       "2018-03-01 04:00:00          43          3     4           NaN   66.0   71.0"
      ]
     },
     "execution_count": 20,
     "metadata": {},
     "output_type": "execute_result"
    }
   ],
   "source": [
    "df_with_features.head()"
   ]
  },
  {
   "cell_type": "markdown",
   "metadata": {},
   "source": [
    "Избавимся от строк с пропусками."
   ]
  },
  {
   "cell_type": "code",
   "execution_count": 21,
   "metadata": {},
   "outputs": [],
   "source": [
    "df_with_features = df_with_features.dropna()"
   ]
  },
  {
   "cell_type": "markdown",
   "metadata": {},
   "source": [
    "### Проверка на мультиколлинеарность"
   ]
  },
  {
   "cell_type": "markdown",
   "metadata": {},
   "source": [
    "Проверим данные на мультиколлинеарность."
   ]
  },
  {
   "cell_type": "code",
   "execution_count": 22,
   "metadata": {
    "scrolled": true
   },
   "outputs": [
    {
     "data": {
      "image/png": "[encoded data removed]",
      "text/plain": [
       "<Figure size 432x288 with 2 Axes>"
      ]
     },
     "metadata": {
      "needs_background": "light"
     },
     "output_type": "display_data"
    }
   ],
   "source": [
    "# var_corr = features_train.iloc[:, 0:20].corr()\n",
    "var_corr = df_with_features.drop(['num_orders', 'dayofweek'], axis=1).corr()\n",
    "\n",
    "sns.heatmap(var_corr, \n",
    "            xticklabels=var_corr.columns, \n",
    "            yticklabels=var_corr.columns, \n",
    "            cmap= 'coolwarm',\n",
    "            annot=True\n",
    "           )\n",
    "plt.title('Корреляция признаков из обучающего набора')\n",
    "plt.show()"
   ]
  },
  {
   "cell_type": "markdown",
   "metadata": {},
   "source": [
    "Видим взаимосвязь между \"отстающими значениями\", однако корреляции между признаками выше 0.9 не было обнаружено."
   ]
  },
  {
   "cell_type": "markdown",
   "metadata": {},
   "source": [
    "### Кодирование категориальных и масштабирование численных признаков"
   ]
  },
  {
   "cell_type": "code",
   "execution_count": 23,
   "metadata": {},
   "outputs": [],
   "source": [
    "# копия для модели градиентного бустинга\n",
    "df_for_gb = df_with_features.copy()"
   ]
  },
  {
   "cell_type": "markdown",
   "metadata": {},
   "source": [
    "Создадим спискок колонок для масштабирования."
   ]
  },
  {
   "cell_type": "code",
   "execution_count": 24,
   "metadata": {},
   "outputs": [
    {
     "name": "stdout",
     "output_type": "stream",
     "text": [
      "<class 'pandas.core.frame.DataFrame'>\n",
      "DatetimeIndex: 4392 entries, 2018-03-02 00:00:00 to 2018-08-31 23:00:00\n",
      "Freq: H\n",
      "Data columns (total 6 columns):\n",
      " #   Column        Non-Null Count  Dtype  \n",
      "---  ------        --------------  -----  \n",
      " 0   num_orders    4392 non-null   int64  \n",
      " 1   dayofweek     4392 non-null   int64  \n",
      " 2   hour          4392 non-null   int64  \n",
      " 3   rolling_mean  4392 non-null   float64\n",
      " 4   lag_1         4392 non-null   float64\n",
      " 5   lag_2         4392 non-null   float64\n",
      "dtypes: float64(3), int64(3)\n",
      "memory usage: 240.2 KB\n"
     ]
    }
   ],
   "source": [
    "df_with_features.info()"
   ]
  },
  {
   "cell_type": "code",
   "execution_count": 25,
   "metadata": {},
   "outputs": [],
   "source": [
    "# numeric_to_scaler = [i for i in features_train.columns if i.startswith('lag')]\n",
    "# numeric_to_scaler.append('rolling_mean')\n",
    "categorical_to_ohe = ['dayofweek', 'hour']"
   ]
  },
  {
   "cell_type": "code",
   "execution_count": 26,
   "metadata": {},
   "outputs": [],
   "source": [
    "df_with_features = pd.get_dummies(df_with_features, columns=categorical_to_ohe, drop_first=True)"
   ]
  },
  {
   "cell_type": "markdown",
   "metadata": {},
   "source": [
    "Масштабируем данные, хранящиеся в выборках, используя стандартизацию.\n",
    "\n",
    "Создадим объект структуры `StandardScaler`.\n"
   ]
  },
  {
   "cell_type": "code",
   "execution_count": 27,
   "metadata": {},
   "outputs": [],
   "source": [
    "scaler = StandardScaler()"
   ]
  },
  {
   "cell_type": "code",
   "execution_count": 59,
   "metadata": {},
   "outputs": [
    {
     "ename": "NameError",
     "evalue": "name 'numeric_to_scaler' is not defined",
     "output_type": "error",
     "traceback": [
      "\u001b[0;31m---------------------------------------------------------------------------\u001b[0m",
      "\u001b[0;31mNameError\u001b[0m                                 Traceback (most recent call last)",
      "\u001b[0;32m/tmp/ipykernel_31/3503018430.py\u001b[0m in \u001b[0;36m<module>\u001b[0;34m\u001b[0m\n\u001b[1;32m      1\u001b[0m ct =  make_column_transformer(\n\u001b[0;32m----> 2\u001b[0;31m     \u001b[0;34m(\u001b[0m\u001b[0mscaler\u001b[0m\u001b[0;34m,\u001b[0m \u001b[0mnumeric_to_scaler\u001b[0m\u001b[0;34m)\u001b[0m\u001b[0;34m,\u001b[0m\u001b[0;34m\u001b[0m\u001b[0;34m\u001b[0m\u001b[0m\n\u001b[0m\u001b[1;32m      3\u001b[0m     \u001b[0;34m(\u001b[0m\u001b[0mOneHotEncoder\u001b[0m\u001b[0;34m(\u001b[0m\u001b[0;34m)\u001b[0m\u001b[0;34m,\u001b[0m \u001b[0mcategorical_to_ohe\u001b[0m\u001b[0;34m)\u001b[0m\u001b[0;34m,\u001b[0m\u001b[0;34m\u001b[0m\u001b[0;34m\u001b[0m\u001b[0m\n\u001b[1;32m      4\u001b[0m     \u001b[0;34m(\u001b[0m\u001b[0mtarget_encoder\u001b[0m\u001b[0;34m,\u001b[0m \u001b[0mcategorical_to_target\u001b[0m\u001b[0;34m)\u001b[0m\u001b[0;34m\u001b[0m\u001b[0;34m\u001b[0m\u001b[0m\n\u001b[1;32m      5\u001b[0m )\n",
      "\u001b[0;31mNameError\u001b[0m: name 'numeric_to_scaler' is not defined"
     ]
    }
   ],
   "source": [
    "ct =  make_column_transformer(\n",
    "    (scaler, numeric_to_scaler),\n",
    "    (OneHotEncoder(), categorical_to_ohe),\n",
    "    (target_encoder, categorical_to_target)\n",
    ")\n",
    "ct"
   ]
  },
  {
   "cell_type": "markdown",
   "metadata": {},
   "source": [
    "Далее мы используем его в `Pipeline`.\n",
    "\n",
    "Мы намеренно избежали добавления кодирования признаков в `Pipeline`, так как при первой подобной попытке оказалось, что во время кросс-валидации модель обучается на выборке с одним набором признаков, а потом должна предсказать модель с другим набором признаков (появился новый месяц или день недели)."
   ]
  },
  {
   "cell_type": "markdown",
   "metadata": {},
   "source": [
    "### Деление на выборки"
   ]
  },
  {
   "cell_type": "markdown",
   "metadata": {},
   "source": [
    "Cоздадим обучающую (`_train`), валидационную (`_valid`) и тестовую (`_test`) выборки. Перемешивать выборки в задаче прогнозирования временного ряда нельзя. Данные обучающей выборки должны предшествовать данным тестовой. Иначе тестирование модели будет некорректным: модель не должна обучаться на данных из будущего."
   ]
  },
  {
   "cell_type": "code",
   "execution_count": 28,
   "metadata": {},
   "outputs": [],
   "source": [
    "# выборки для моделей линейной регрессии и случайного леса (с OHE)\n",
    "train_valid, test = train_test_split(df_with_features, shuffle=False, test_size=0.1)\n",
    "\n",
    "train, valid = train_test_split(train_valid, shuffle=False, test_size = 0.2)\n",
    "\n",
    "features_train = train.drop('num_orders', axis=1)\n",
    "features_valid = valid.drop('num_orders', axis=1)\n",
    "features_test = test.drop('num_orders', axis=1)\n",
    "\n",
    "features_train_valid = train_valid.drop('num_orders', axis=1)\n",
    "\n",
    "\n",
    "target_train = train['num_orders']\n",
    "target_valid = valid['num_orders']\n",
    "target_test = test['num_orders']\n",
    "\n",
    "target_train_valid = train_valid['num_orders']\n",
    "\n",
    "# выборки для модели градиентного бустинга (без OHE)\n",
    "\n",
    "for column in categorical_to_ohe:\n",
    "    df_for_gb[column] = pd.Series(df_for_gb[column], dtype='category')\n",
    "\n",
    "train_valid_gb, test_gb = train_test_split(df_for_gb, shuffle=False, test_size=0.1)\n",
    "\n",
    "train_gb, valid_gb = train_test_split(train_valid_gb, shuffle=False, test_size = 0.2)\n",
    "\n",
    "features_train_gb = train_gb.drop('num_orders', axis=1)\n",
    "features_valid_gb = valid_gb.drop('num_orders', axis=1)\n",
    "features_test_gb = test_gb.drop('num_orders', axis=1)\n",
    "\n",
    "features_train_valid_gb = train_valid_gb.drop('num_orders', axis=1)"
   ]
  },
  {
   "cell_type": "code",
   "execution_count": 29,
   "metadata": {},
   "outputs": [
    {
     "data": {
      "text/plain": [
       "((3161, 32),\n",
       " (791, 32),\n",
       " (440, 32),\n",
       " (3161,),\n",
       " (791,),\n",
       " (440,),\n",
       " (3952, 32),\n",
       " (3952,))"
      ]
     },
     "execution_count": 29,
     "metadata": {},
     "output_type": "execute_result"
    }
   ],
   "source": [
    "features_train.shape, features_valid.shape, features_test.shape, target_train.shape, target_valid.shape, target_test.shape, \\\n",
    "features_train_valid.shape, target_train_valid.shape"
   ]
  },
  {
   "cell_type": "markdown",
   "metadata": {},
   "source": [
    "### Качество прогноза"
   ]
  },
  {
   "cell_type": "markdown",
   "metadata": {},
   "source": [
    "Для обучения моделей нам понадобится оценить качество прогноза. \n",
    "\n",
    "У нас есть четкое **требование к качеству**: значение метрики `RMSE` на тестовой выборке должно быть **не больше 48**.\n",
    "\n",
    "Таким образом, спрогнозировать временные ряды без обучения можно двумя способами:\n",
    "1. Все значения тестовой выборки предсказываются одним и тем же числом (константой). Для метрики `RMSE` — это среднее значение.\n",
    "2. Новое значение x(t) прогнозируется предыдущим значением ряда, то есть x(t-1), этот способ не зависит от метрики."
   ]
  },
  {
   "cell_type": "markdown",
   "metadata": {},
   "source": [
    "Создадим функцию, рассчитывающую значение метрики `RMSE`."
   ]
  },
  {
   "cell_type": "code",
   "execution_count": 30,
   "metadata": {},
   "outputs": [],
   "source": [
    "def rmse(target, predictions):\n",
    "    result = mean_squared_error(target, predictions, squared=False)\n",
    "    return result"
   ]
  },
  {
   "cell_type": "markdown",
   "metadata": {},
   "source": [
    "Оценим прогноз константой - средним значением."
   ]
  },
  {
   "cell_type": "code",
   "execution_count": 31,
   "metadata": {},
   "outputs": [
    {
     "name": "stdout",
     "output_type": "stream",
     "text": [
      "Среднее количество выызваемых в аэропорты такси в час: 71\n"
     ]
    }
   ],
   "source": [
    "print(f'Среднее количество выызваемых в аэропорты такси в час: {target_train.mean():.0f}')"
   ]
  },
  {
   "cell_type": "code",
   "execution_count": 32,
   "metadata": {},
   "outputs": [
    {
     "name": "stdout",
     "output_type": "stream",
     "text": [
      "RMSE прогноза константой: 55\n"
     ]
    }
   ],
   "source": [
    "predictions_mean = pd.Series(target_train.mean(), index=target_valid.index)\n",
    "print(f'RMSE прогноза константой: {rmse(target_valid, predictions_mean):.0f}')"
   ]
  },
  {
   "cell_type": "markdown",
   "metadata": {},
   "source": [
    "Оценим прогноз предыдущим значением ряда."
   ]
  },
  {
   "cell_type": "code",
   "execution_count": 33,
   "metadata": {
    "scrolled": true
   },
   "outputs": [
    {
     "name": "stdout",
     "output_type": "stream",
     "text": [
      "RMSE прогноза предыдущим значением ряда: 46\n"
     ]
    }
   ],
   "source": [
    "predictions_previous = target_valid.shift(fill_value=target_train.iloc[-1])\n",
    "print(f'RMSE прогноза предыдущим значением ряда: {rmse(target_valid, predictions_previous):.0f}')"
   ]
  },
  {
   "cell_type": "markdown",
   "metadata": {},
   "source": [
    "Неплохо. Наши значения на тестовой выборке должны оказаться не выше 48. Проверим."
   ]
  },
  {
   "cell_type": "code",
   "execution_count": 34,
   "metadata": {},
   "outputs": [
    {
     "name": "stdout",
     "output_type": "stream",
     "text": [
      "RMSE прогноза предыдущим значением ряда: 59\n"
     ]
    }
   ],
   "source": [
    "predictions_previous_2 = target_test.shift(fill_value=target_train_valid.iloc[-1])\n",
    "print(f'RMSE прогноза предыдущим значением ряда: {rmse(target_test, predictions_previous_2):.0f}')"
   ]
  },
  {
   "cell_type": "markdown",
   "metadata": {},
   "source": [
    "Предсказывать предыдущим значением ряда не выйдет."
   ]
  },
  {
   "cell_type": "markdown",
   "metadata": {},
   "source": [
    "Внесем данные в результирующую табличку."
   ]
  },
  {
   "cell_type": "code",
   "execution_count": 35,
   "metadata": {},
   "outputs": [],
   "source": [
    "results = pd.DataFrame(columns=['valid_RMSE'])\n",
    "results.loc['constant', 'valid_RMSE'] = round(rmse(target_valid, predictions_mean))\n",
    "results.loc['previous', 'valid_RMSE'] = round(rmse(target_valid, predictions_previous))"
   ]
  },
  {
   "cell_type": "markdown",
   "metadata": {},
   "source": [
    "Превратим метрику RMSE в `scorer`, который можно использовать как параметр функции `cross_val_score`. "
   ]
  },
  {
   "cell_type": "code",
   "execution_count": 36,
   "metadata": {},
   "outputs": [],
   "source": [
    "rmse_score = make_scorer(\n",
    "    rmse, \n",
    "    greater_is_better=False\n",
    ")"
   ]
  },
  {
   "cell_type": "markdown",
   "metadata": {},
   "source": [
    "Обучим несколько моделей.\n",
    "<!-- и оценим их качество кросс-валидацией. -->"
   ]
  },
  {
   "cell_type": "markdown",
   "metadata": {},
   "source": [
    "### Важное отсупление\n",
    "**В рамках данной работы сразу сделаем важное отступление. Модели считаются достаточно медленно, поэтому в каждой модели были перебраны разные гиперпараметры, которые впоследствии в коде были сокращены для увеличения скорости отработки тетради.**"
   ]
  },
  {
   "cell_type": "markdown",
   "metadata": {},
   "source": [
    "### Модель линейной регрессии"
   ]
  },
  {
   "cell_type": "markdown",
   "metadata": {},
   "source": [
    "Возьмем для исследования пару моделей линейной регрессии:\n",
    "- Lasso\n",
    "- Ridge\n"
   ]
  },
  {
   "cell_type": "markdown",
   "metadata": {},
   "source": [
    "#### Lasso"
   ]
  },
  {
   "cell_type": "markdown",
   "metadata": {},
   "source": [
    "Построим пайплайн для модели Lasso."
   ]
  },
  {
   "cell_type": "code",
   "execution_count": 37,
   "metadata": {},
   "outputs": [],
   "source": [
    "state = 12345"
   ]
  },
  {
   "cell_type": "code",
   "execution_count": 60,
   "metadata": {},
   "outputs": [
    {
     "name": "stdout",
     "output_type": "stream",
     "text": [
      "Fitting 8 folds for each of 1 candidates, totalling 8 fits\n",
      "[CV] END model=Lasso(random_state=12345), model__alpha=0.001; total time=   0.2s\n",
      "[CV] END model=Lasso(random_state=12345), model__alpha=0.001; total time=   0.2s\n",
      "[CV] END model=Lasso(random_state=12345), model__alpha=0.001; total time=   0.2s\n",
      "[CV] END model=Lasso(random_state=12345), model__alpha=0.001; total time=   0.3s\n",
      "[CV] END model=Lasso(random_state=12345), model__alpha=0.001; total time=   0.2s\n",
      "[CV] END model=Lasso(random_state=12345), model__alpha=0.001; total time=   0.3s\n",
      "[CV] END model=Lasso(random_state=12345), model__alpha=0.001; total time=   0.2s\n",
      "[CV] END model=Lasso(random_state=12345), model__alpha=0.001; total time=   0.5s\n"
     ]
    },
    {
     "data": {
      "text/plain": [
       "GridSearchCV(cv=TimeSeriesSplit(gap=0, max_train_size=None, n_splits=8, test_size=None),\n",
       "             estimator=Pipeline(steps=[('model',\n",
       "                                        Lasso(max_iter=100,\n",
       "                                              random_state=12345))]),\n",
       "             n_jobs=-1,\n",
       "             param_grid=[{'model': [Lasso(alpha=0.001, random_state=12345)],\n",
       "                          'model__alpha': [0.001]}],\n",
       "             scoring=make_scorer(rmse, greater_is_better=False), verbose=2)"
      ]
     },
     "execution_count": 60,
     "metadata": {},
     "output_type": "execute_result"
    }
   ],
   "source": [
    "pipe_lasso = Pipeline([\n",
    "    ('model', Lasso(random_state=state, max_iter=100))\n",
    "\n",
    "])\n",
    "params_lasso = [\n",
    "    {\n",
    "        'model': [Lasso(random_state=state)],\n",
    "#         'model__alpha': np.logspace(-3, 1, 10), # параметры при подборе\n",
    "        'model__alpha': [0.001], # параметры после подбора\n",
    "    },\n",
    "]\n",
    "\n",
    "# cv = KFold(n_splits=3, shuffle=False)\n",
    "tscv = TimeSeriesSplit(n_splits=8) \n",
    "\n",
    "\n",
    "grid_lasso = GridSearchCV(pipe_lasso, param_grid=params_lasso, cv=tscv, n_jobs=-1, scoring=rmse_score, verbose=2)\n",
    "\n",
    "grid_lasso.fit(features_train_valid, target_train_valid)"
   ]
  },
  {
   "cell_type": "code",
   "execution_count": 61,
   "metadata": {},
   "outputs": [
    {
     "name": "stdout",
     "output_type": "stream",
     "text": [
      "Best Params: {'model': Lasso(alpha=0.001, random_state=12345), 'model__alpha': 0.001}\n",
      "\n",
      "Best RMSE Score: 24.96960759236549\n"
     ]
    }
   ],
   "source": [
    "lasso_rmse = -grid_lasso.best_score_\n",
    "print('Best Params:', grid_lasso.best_params_)\n",
    "print()\n",
    "print('Best RMSE Score:', lasso_rmse)"
   ]
  },
  {
   "cell_type": "markdown",
   "metadata": {},
   "source": [
    "Кросс-валидацией нашли лучшую модель, сохраним ее."
   ]
  },
  {
   "cell_type": "code",
   "execution_count": 62,
   "metadata": {},
   "outputs": [
    {
     "name": "stdout",
     "output_type": "stream",
     "text": [
      "RMSE для модели Lasso 31.27 такси\n"
     ]
    }
   ],
   "source": [
    "lasso_model = grid_lasso.best_estimator_\n",
    "lasso_model.fit(features_train, target_train)\n",
    "lasso_predicts = lasso_model.predict(features_valid)\n",
    "rmse_lasso = rmse(target_valid, lasso_predicts)\n",
    "print(f'RMSE для модели Lasso {rmse_lasso:.2f} такси')"
   ]
  },
  {
   "cell_type": "code",
   "execution_count": 63,
   "metadata": {},
   "outputs": [],
   "source": [
    "results.loc['lasso', 'valid_RMSE'] = round(rmse_lasso, 2)"
   ]
  },
  {
   "cell_type": "code",
   "execution_count": 64,
   "metadata": {},
   "outputs": [
    {
     "data": {
      "text/html": [
       "<div>\n",
       "<style scoped>\n",
       "    .dataframe tbody tr th:only-of-type {\n",
       "        vertical-align: middle;\n",
       "    }\n",
       "\n",
       "    .dataframe tbody tr th {\n",
       "        vertical-align: top;\n",
       "    }\n",
       "\n",
       "    .dataframe thead th {\n",
       "        text-align: right;\n",
       "    }\n",
       "</style>\n",
       "<table border=\"1\" class=\"dataframe\">\n",
       "  <thead>\n",
       "    <tr style=\"text-align: right;\">\n",
       "      <th></th>\n",
       "      <th>valid_RMSE</th>\n",
       "    </tr>\n",
       "  </thead>\n",
       "  <tbody>\n",
       "    <tr>\n",
       "      <th>constant</th>\n",
       "      <td>55</td>\n",
       "    </tr>\n",
       "    <tr>\n",
       "      <th>previous</th>\n",
       "      <td>46</td>\n",
       "    </tr>\n",
       "    <tr>\n",
       "      <th>lasso</th>\n",
       "      <td>31.27</td>\n",
       "    </tr>\n",
       "  </tbody>\n",
       "</table>\n",
       "</div>"
      ],
      "text/plain": [
       "         valid_RMSE\n",
       "constant         55\n",
       "previous         46\n",
       "lasso         31.27"
      ]
     },
     "execution_count": 64,
     "metadata": {},
     "output_type": "execute_result"
    }
   ],
   "source": [
    "results"
   ]
  },
  {
   "cell_type": "markdown",
   "metadata": {},
   "source": [
    "Модель предсказала лучше, чем константные модели."
   ]
  },
  {
   "cell_type": "markdown",
   "metadata": {},
   "source": [
    "#### Ridge"
   ]
  },
  {
   "cell_type": "markdown",
   "metadata": {},
   "source": [
    "Построим пайплайн для модели Ridge."
   ]
  },
  {
   "cell_type": "code",
   "execution_count": 65,
   "metadata": {},
   "outputs": [
    {
     "name": "stdout",
     "output_type": "stream",
     "text": [
      "Fitting 8 folds for each of 1 candidates, totalling 8 fits\n",
      "[CV] END model=Ridge(max_iter=1000, random_state=12345), model__alpha=0.01; total time=   0.2s\n",
      "[CV] END model=Ridge(max_iter=1000, random_state=12345), model__alpha=0.01; total time=   0.0s\n",
      "[CV] END model=Ridge(max_iter=1000, random_state=12345), model__alpha=0.01; total time=   0.1s\n",
      "[CV] END model=Ridge(max_iter=1000, random_state=12345), model__alpha=0.01; total time=   0.1s\n",
      "[CV] END model=Ridge(max_iter=1000, random_state=12345), model__alpha=0.01; total time=   0.1s\n",
      "[CV] END model=Ridge(max_iter=1000, random_state=12345), model__alpha=0.01; total time=   0.1s\n",
      "[CV] END model=Ridge(max_iter=1000, random_state=12345), model__alpha=0.01; total time=   0.1s\n",
      "[CV] END model=Ridge(max_iter=1000, random_state=12345), model__alpha=0.01; total time=   0.2s\n"
     ]
    },
    {
     "data": {
      "text/plain": [
       "GridSearchCV(cv=TimeSeriesSplit(gap=0, max_train_size=None, n_splits=8, test_size=None),\n",
       "             estimator=Pipeline(steps=[('model',\n",
       "                                        Ridge(max_iter=1000,\n",
       "                                              random_state=12345))]),\n",
       "             n_jobs=-1,\n",
       "             param_grid=[{'model': [Ridge(alpha=0.01, max_iter=1000,\n",
       "                                          random_state=12345)],\n",
       "                          'model__alpha': [0.01]}],\n",
       "             scoring=make_scorer(rmse, greater_is_better=False), verbose=2)"
      ]
     },
     "execution_count": 65,
     "metadata": {},
     "output_type": "execute_result"
    }
   ],
   "source": [
    "pipe_ridge = Pipeline([\n",
    "    ('model', Ridge(random_state=state, max_iter=1000))\n",
    "\n",
    "])\n",
    "\n",
    "params_ridge = [\n",
    "    {\n",
    "        'model': [Ridge(random_state=state, max_iter=1000)],\n",
    "#         'model__alpha': [0.01, 0.1, 0.5, 1, 5, 10, 20, 40], # параметры при подборе\n",
    "        'model__alpha': [0.01], # параметры после подбора\n",
    "    },\n",
    "]\n",
    "\n",
    "grid_ridge = GridSearchCV(pipe_ridge, param_grid=params_ridge, cv=tscv, n_jobs=-1, scoring=rmse_score, verbose=2)\n",
    "\n",
    "grid_ridge.fit(features_train_valid, target_train_valid)"
   ]
  },
  {
   "cell_type": "code",
   "execution_count": 66,
   "metadata": {},
   "outputs": [
    {
     "name": "stdout",
     "output_type": "stream",
     "text": [
      "Best Params: {'model': Ridge(alpha=0.01, max_iter=1000, random_state=12345), 'model__alpha': 0.01}\n",
      "\n",
      "Best RMSE Score: 24.96244567268463\n"
     ]
    }
   ],
   "source": [
    "ridge_rmse = -grid_ridge.best_score_\n",
    "print('Best Params:', grid_ridge.best_params_)\n",
    "print()\n",
    "print('Best RMSE Score:', ridge_rmse)"
   ]
  },
  {
   "cell_type": "markdown",
   "metadata": {},
   "source": [
    "Кросс-валидацией нашли лучшую модель, сохраним ее."
   ]
  },
  {
   "cell_type": "code",
   "execution_count": 67,
   "metadata": {},
   "outputs": [
    {
     "name": "stdout",
     "output_type": "stream",
     "text": [
      "RMSE для модели Ridge 31.26 такси\n"
     ]
    }
   ],
   "source": [
    "ridge_model = grid_ridge.best_estimator_\n",
    "ridge_model.fit(features_train, target_train)\n",
    "ridge_predicts = ridge_model.predict(features_valid)\n",
    "rmse_ridge = rmse(target_valid, ridge_predicts)\n",
    "print(f'RMSE для модели Ridge {rmse_ridge:.2f} такси')"
   ]
  },
  {
   "cell_type": "code",
   "execution_count": 68,
   "metadata": {},
   "outputs": [],
   "source": [
    "results.loc['ridge', 'valid_RMSE'] = round(rmse_ridge, 2)"
   ]
  },
  {
   "cell_type": "code",
   "execution_count": 69,
   "metadata": {},
   "outputs": [
    {
     "data": {
      "text/html": [
       "<div>\n",
       "<style scoped>\n",
       "    .dataframe tbody tr th:only-of-type {\n",
       "        vertical-align: middle;\n",
       "    }\n",
       "\n",
       "    .dataframe tbody tr th {\n",
       "        vertical-align: top;\n",
       "    }\n",
       "\n",
       "    .dataframe thead th {\n",
       "        text-align: right;\n",
       "    }\n",
       "</style>\n",
       "<table border=\"1\" class=\"dataframe\">\n",
       "  <thead>\n",
       "    <tr style=\"text-align: right;\">\n",
       "      <th></th>\n",
       "      <th>valid_RMSE</th>\n",
       "    </tr>\n",
       "  </thead>\n",
       "  <tbody>\n",
       "    <tr>\n",
       "      <th>constant</th>\n",
       "      <td>55</td>\n",
       "    </tr>\n",
       "    <tr>\n",
       "      <th>previous</th>\n",
       "      <td>46</td>\n",
       "    </tr>\n",
       "    <tr>\n",
       "      <th>lasso</th>\n",
       "      <td>31.27</td>\n",
       "    </tr>\n",
       "    <tr>\n",
       "      <th>ridge</th>\n",
       "      <td>31.26</td>\n",
       "    </tr>\n",
       "  </tbody>\n",
       "</table>\n",
       "</div>"
      ],
      "text/plain": [
       "         valid_RMSE\n",
       "constant         55\n",
       "previous         46\n",
       "lasso         31.27\n",
       "ridge         31.26"
      ]
     },
     "execution_count": 69,
     "metadata": {},
     "output_type": "execute_result"
    }
   ],
   "source": [
    "results"
   ]
  },
  {
   "cell_type": "markdown",
   "metadata": {},
   "source": [
    "### Модель случайного леса"
   ]
  },
  {
   "cell_type": "markdown",
   "metadata": {},
   "source": [
    "Построим пайплайн для модели случайного леса."
   ]
  },
  {
   "cell_type": "code",
   "execution_count": 70,
   "metadata": {},
   "outputs": [
    {
     "name": "stdout",
     "output_type": "stream",
     "text": [
      "Fitting 8 folds for each of 1 candidates, totalling 8 fits\n",
      "[CV 1/8] END model=RandomForestRegressor(random_state=12345), model__max_depth=9, model__n_estimators=161; total time=   0.3s\n",
      "[CV 2/8] END model=RandomForestRegressor(random_state=12345), model__max_depth=9, model__n_estimators=161; total time=   0.4s\n",
      "[CV 3/8] END model=RandomForestRegressor(random_state=12345), model__max_depth=9, model__n_estimators=161; total time=   0.6s\n",
      "[CV 4/8] END model=RandomForestRegressor(random_state=12345), model__max_depth=9, model__n_estimators=161; total time=   0.6s\n",
      "[CV 5/8] END model=RandomForestRegressor(random_state=12345), model__max_depth=9, model__n_estimators=161; total time=   0.8s\n",
      "[CV 6/8] END model=RandomForestRegressor(random_state=12345), model__max_depth=9, model__n_estimators=161; total time=   0.9s\n",
      "[CV 7/8] END model=RandomForestRegressor(random_state=12345), model__max_depth=9, model__n_estimators=161; total time=   1.1s\n",
      "[CV 8/8] END model=RandomForestRegressor(random_state=12345), model__max_depth=9, model__n_estimators=161; total time=   1.3s\n"
     ]
    },
    {
     "data": {
      "text/plain": [
       "GridSearchCV(cv=TimeSeriesSplit(gap=0, max_train_size=None, n_splits=8, test_size=None),\n",
       "             estimator=Pipeline(steps=[('model',\n",
       "                                        RandomForestRegressor(n_jobs=-1,\n",
       "                                                              random_state=12345))]),\n",
       "             n_jobs=-1,\n",
       "             param_grid=[{'model': [RandomForestRegressor(max_depth=9,\n",
       "                                                          n_estimators=161,\n",
       "                                                          random_state=12345)],\n",
       "                          'model__max_depth': [9],\n",
       "                          'model__n_estimators': [161]}],\n",
       "             scoring=make_scorer(rmse, greater_is_better=False), verbose=3)"
      ]
     },
     "execution_count": 70,
     "metadata": {},
     "output_type": "execute_result"
    }
   ],
   "source": [
    "pipe_forest = Pipeline([\n",
    "    ('model', RandomForestRegressor(random_state=state, n_jobs=-1))\n",
    "\n",
    "])\n",
    "\n",
    "params_forest = [\n",
    "    {\n",
    "        'model': [RandomForestRegressor(random_state=state)],\n",
    "#         'model__n_estimators': list(range(1, 200, 20)), # параметры при подборе\n",
    "        'model__n_estimators': [161], # параметры после подбора\n",
    "\n",
    "#         'model__max_depth': list(range(2, 10, 1)), # параметры при подборе\n",
    "        'model__max_depth': [9], # параметры после подбора\n",
    "    },\n",
    "]\n",
    "\n",
    "grid_forest = GridSearchCV(pipe_forest, param_grid=params_forest, cv=tscv, n_jobs=-1, scoring=rmse_score, verbose=3)\n",
    "\n",
    "grid_forest.fit(features_train_valid, target_train_valid)"
   ]
  },
  {
   "cell_type": "code",
   "execution_count": 71,
   "metadata": {},
   "outputs": [
    {
     "name": "stdout",
     "output_type": "stream",
     "text": [
      "Best Params: {'model': RandomForestRegressor(max_depth=9, n_estimators=161, random_state=12345), 'model__max_depth': 9, 'model__n_estimators': 161}\n",
      "\n",
      "Best RMSE Score: 27.24357295869366\n"
     ]
    }
   ],
   "source": [
    "forest_rmse = -grid_forest.best_score_\n",
    "print('Best Params:', grid_forest.best_params_)\n",
    "print()\n",
    "print('Best RMSE Score:', forest_rmse)"
   ]
  },
  {
   "cell_type": "markdown",
   "metadata": {},
   "source": [
    "Кросс-валидацией нашли лучшую модель, сохраним ее."
   ]
  },
  {
   "cell_type": "code",
   "execution_count": 72,
   "metadata": {},
   "outputs": [
    {
     "name": "stdout",
     "output_type": "stream",
     "text": [
      "RMSE для модели Random Forest 36 такси\n"
     ]
    }
   ],
   "source": [
    "forest_model = grid_forest.best_estimator_\n",
    "forest_model.fit(features_train, target_train)\n",
    "forest_predicts = forest_model.predict(features_valid)\n",
    "rmse_forest = rmse(target_valid, forest_predicts)\n",
    "print(f'RMSE для модели Random Forest {rmse_forest:.0f} такси')"
   ]
  },
  {
   "cell_type": "code",
   "execution_count": 73,
   "metadata": {},
   "outputs": [],
   "source": [
    "results.loc['random forest', 'valid_RMSE'] = round(rmse_forest)"
   ]
  },
  {
   "cell_type": "code",
   "execution_count": 74,
   "metadata": {},
   "outputs": [
    {
     "data": {
      "text/html": [
       "<div>\n",
       "<style scoped>\n",
       "    .dataframe tbody tr th:only-of-type {\n",
       "        vertical-align: middle;\n",
       "    }\n",
       "\n",
       "    .dataframe tbody tr th {\n",
       "        vertical-align: top;\n",
       "    }\n",
       "\n",
       "    .dataframe thead th {\n",
       "        text-align: right;\n",
       "    }\n",
       "</style>\n",
       "<table border=\"1\" class=\"dataframe\">\n",
       "  <thead>\n",
       "    <tr style=\"text-align: right;\">\n",
       "      <th></th>\n",
       "      <th>valid_RMSE</th>\n",
       "    </tr>\n",
       "  </thead>\n",
       "  <tbody>\n",
       "    <tr>\n",
       "      <th>constant</th>\n",
       "      <td>55</td>\n",
       "    </tr>\n",
       "    <tr>\n",
       "      <th>previous</th>\n",
       "      <td>46</td>\n",
       "    </tr>\n",
       "    <tr>\n",
       "      <th>lasso</th>\n",
       "      <td>31.27</td>\n",
       "    </tr>\n",
       "    <tr>\n",
       "      <th>ridge</th>\n",
       "      <td>31.26</td>\n",
       "    </tr>\n",
       "    <tr>\n",
       "      <th>random forest</th>\n",
       "      <td>36</td>\n",
       "    </tr>\n",
       "  </tbody>\n",
       "</table>\n",
       "</div>"
      ],
      "text/plain": [
       "              valid_RMSE\n",
       "constant              55\n",
       "previous              46\n",
       "lasso              31.27\n",
       "ridge              31.26\n",
       "random forest         36"
      ]
     },
     "execution_count": 74,
     "metadata": {},
     "output_type": "execute_result"
    }
   ],
   "source": [
    "results"
   ]
  },
  {
   "cell_type": "markdown",
   "metadata": {},
   "source": [
    "### Модель градиентного бустинга библиотеки LightGBM"
   ]
  },
  {
   "cell_type": "markdown",
   "metadata": {},
   "source": [
    "Так же для данной модели попробуем построить пайплайн."
   ]
  },
  {
   "cell_type": "code",
   "execution_count": 75,
   "metadata": {},
   "outputs": [
    {
     "name": "stdout",
     "output_type": "stream",
     "text": [
      "Fitting 8 folds for each of 1 candidates, totalling 8 fits\n",
      "[CV] END model=LGBMRegressor(random_state=12345), model__max_depth=12, model__n_estimators=61; total time= 1.5min\n",
      "[CV] END model=LGBMRegressor(random_state=12345), model__max_depth=12, model__n_estimators=61; total time= 2.5min\n",
      "[CV] END model=LGBMRegressor(random_state=12345), model__max_depth=12, model__n_estimators=61; total time= 3.1min\n",
      "[CV] END model=LGBMRegressor(random_state=12345), model__max_depth=12, model__n_estimators=61; total time= 2.5min\n",
      "[CV] END model=LGBMRegressor(random_state=12345), model__max_depth=12, model__n_estimators=61; total time= 2.4min\n",
      "[CV] END model=LGBMRegressor(random_state=12345), model__max_depth=12, model__n_estimators=61; total time= 2.7min\n",
      "[CV] END model=LGBMRegressor(random_state=12345), model__max_depth=12, model__n_estimators=61; total time= 2.7min\n",
      "[CV] END model=LGBMRegressor(random_state=12345), model__max_depth=12, model__n_estimators=61; total time= 3.3min\n"
     ]
    },
    {
     "data": {
      "text/plain": [
       "GridSearchCV(cv=TimeSeriesSplit(gap=0, max_train_size=None, n_splits=8, test_size=None),\n",
       "             estimator=Pipeline(steps=[('model',\n",
       "                                        LGBMRegressor(random_state=12345))]),\n",
       "             n_jobs=-1,\n",
       "             param_grid=[{'model': [LGBMRegressor(max_depth=12, n_estimators=61,\n",
       "                                                  random_state=12345)],\n",
       "                          'model__max_depth': [12],\n",
       "                          'model__n_estimators': [61]}],\n",
       "             scoring=make_scorer(rmse, greater_is_better=False), verbose=2)"
      ]
     },
     "execution_count": 75,
     "metadata": {},
     "output_type": "execute_result"
    }
   ],
   "source": [
    "pipe_light = Pipeline([\n",
    "    ('model', LGBMRegressor(random_state=state))\n",
    "\n",
    "])\n",
    "\n",
    "params_light = [\n",
    "    {\n",
    "        'model': [LGBMRegressor(random_state=state)],\n",
    "#         'model__n_estimators': list(range(1, 300, 20)), # параметры при подборе\n",
    "        'model__n_estimators': [61], # параметры после подбора\n",
    "\n",
    "#         'model__max_depth': list(range(2, 20, 2)), # параметры при подборе\n",
    "        'model__max_depth': [12], # параметры после подбора\n",
    "    },\n",
    "]\n",
    "\n",
    "grid_light = GridSearchCV(pipe_light, param_grid=params_light, cv=tscv, n_jobs=-1, scoring=rmse_score, verbose=2)\n",
    "\n",
    "grid_light.fit(features_train_valid_gb, target_train_valid)"
   ]
  },
  {
   "cell_type": "code",
   "execution_count": 76,
   "metadata": {},
   "outputs": [
    {
     "name": "stdout",
     "output_type": "stream",
     "text": [
      "Best Params: {'model': LGBMRegressor(max_depth=12, n_estimators=61, random_state=12345), 'model__max_depth': 12, 'model__n_estimators': 61}\n",
      "\n",
      "Best RMSE Score: 24.223928347524623\n"
     ]
    }
   ],
   "source": [
    "light_rmse = -grid_light.best_score_\n",
    "print('Best Params:', grid_light.best_params_)\n",
    "print()\n",
    "print('Best RMSE Score:', light_rmse)"
   ]
  },
  {
   "cell_type": "markdown",
   "metadata": {},
   "source": [
    "Кросс-валидацией нашли лучшую модель, сохраним ее."
   ]
  },
  {
   "cell_type": "code",
   "execution_count": 77,
   "metadata": {},
   "outputs": [
    {
     "name": "stdout",
     "output_type": "stream",
     "text": [
      "RMSE для модели Random light 33 такси\n"
     ]
    }
   ],
   "source": [
    "light_model = grid_light.best_estimator_\n",
    "light_model.fit(features_train_gb, target_train)\n",
    "light_predicts = light_model.predict(features_valid_gb)\n",
    "rmse_light = rmse(target_valid, light_predicts)\n",
    "print(f'RMSE для модели Random light {rmse_light:.0f} такси')"
   ]
  },
  {
   "cell_type": "code",
   "execution_count": 78,
   "metadata": {},
   "outputs": [],
   "source": [
    "results.loc['LGBMRegressor', 'valid_RMSE'] = round(rmse_light)"
   ]
  },
  {
   "cell_type": "code",
   "execution_count": 79,
   "metadata": {},
   "outputs": [
    {
     "data": {
      "text/html": [
       "<div>\n",
       "<style scoped>\n",
       "    .dataframe tbody tr th:only-of-type {\n",
       "        vertical-align: middle;\n",
       "    }\n",
       "\n",
       "    .dataframe tbody tr th {\n",
       "        vertical-align: top;\n",
       "    }\n",
       "\n",
       "    .dataframe thead th {\n",
       "        text-align: right;\n",
       "    }\n",
       "</style>\n",
       "<table border=\"1\" class=\"dataframe\">\n",
       "  <thead>\n",
       "    <tr style=\"text-align: right;\">\n",
       "      <th></th>\n",
       "      <th>valid_RMSE</th>\n",
       "    </tr>\n",
       "  </thead>\n",
       "  <tbody>\n",
       "    <tr>\n",
       "      <th>constant</th>\n",
       "      <td>55</td>\n",
       "    </tr>\n",
       "    <tr>\n",
       "      <th>previous</th>\n",
       "      <td>46</td>\n",
       "    </tr>\n",
       "    <tr>\n",
       "      <th>lasso</th>\n",
       "      <td>31.27</td>\n",
       "    </tr>\n",
       "    <tr>\n",
       "      <th>ridge</th>\n",
       "      <td>31.26</td>\n",
       "    </tr>\n",
       "    <tr>\n",
       "      <th>random forest</th>\n",
       "      <td>36</td>\n",
       "    </tr>\n",
       "    <tr>\n",
       "      <th>LGBMRegressor</th>\n",
       "      <td>33</td>\n",
       "    </tr>\n",
       "  </tbody>\n",
       "</table>\n",
       "</div>"
      ],
      "text/plain": [
       "              valid_RMSE\n",
       "constant              55\n",
       "previous              46\n",
       "lasso              31.27\n",
       "ridge              31.26\n",
       "random forest         36\n",
       "LGBMRegressor         33"
      ]
     },
     "execution_count": 79,
     "metadata": {},
     "output_type": "execute_result"
    }
   ],
   "source": [
    "results"
   ]
  },
  {
   "cell_type": "markdown",
   "metadata": {},
   "source": [
    "Теперь взглянем на то, какое качество показали исследуемые модели."
   ]
  },
  {
   "cell_type": "code",
   "execution_count": 80,
   "metadata": {},
   "outputs": [
    {
     "data": {
      "image/png": "[encoded data removed]",
      "text/plain": [
       "<Figure size 432x288 with 1 Axes>"
      ]
     },
     "metadata": {
      "needs_background": "light"
     },
     "output_type": "display_data"
    }
   ],
   "source": [
    "results['valid_RMSE'].sort_values(ascending=False).plot(kind='barh')\n",
    "plt.ylabel('Модель')\n",
    "plt.xlabel('Метрика качества RMSE, количество такси в час')\n",
    "plt.title('Распределение моделей в зависимости от качества предсказания')\n",
    "plt.show()"
   ]
  },
  {
   "cell_type": "markdown",
   "metadata": {},
   "source": [
    "- Модель градиентного бустинга показала себя хуже моделей линейной регрессии, а времени на ее обучение ушло гораздо дольше. \n",
    "- Приятно видеть, что все обученные модели показали качество выше предсказания средним и предыдущим значением.\n",
    "\n",
    "\n",
    "- Лучшее качество показали модели линейной регресси Ridge и Lasso. Но так как их метрики качества практически одинаковы, попробуем обучить еще одну модель, объединяющую регуляризации обоих моделей - ElasticNet. И так же посмотрим на графиках, как они отличаются в предсказаниях."
   ]
  },
  {
   "cell_type": "markdown",
   "metadata": {},
   "source": [
    "### Модель линейной регрессии ElasticNet"
   ]
  },
  {
   "cell_type": "markdown",
   "metadata": {},
   "source": [
    "Построим пайплайн для модели ElasticNet."
   ]
  },
  {
   "cell_type": "code",
   "execution_count": 81,
   "metadata": {},
   "outputs": [
    {
     "name": "stdout",
     "output_type": "stream",
     "text": [
      "Fitting 8 folds for each of 1 candidates, totalling 8 fits\n",
      "[CV] END model=ElasticNet(random_state=12345), model__alpha=0.01, model__l1_ratio=1.0; total time=   0.0s\n",
      "[CV] END model=ElasticNet(random_state=12345), model__alpha=0.01, model__l1_ratio=1.0; total time=   0.2s\n",
      "[CV] END model=ElasticNet(random_state=12345), model__alpha=0.01, model__l1_ratio=1.0; total time=   0.2s\n",
      "[CV] END model=ElasticNet(random_state=12345), model__alpha=0.01, model__l1_ratio=1.0; total time=   0.2s\n",
      "[CV] END model=ElasticNet(random_state=12345), model__alpha=0.01, model__l1_ratio=1.0; total time=   0.3s\n",
      "[CV] END model=ElasticNet(random_state=12345), model__alpha=0.01, model__l1_ratio=1.0; total time=   0.4s\n",
      "[CV] END model=ElasticNet(random_state=12345), model__alpha=0.01, model__l1_ratio=1.0; total time=   0.3s\n",
      "[CV] END model=ElasticNet(random_state=12345), model__alpha=0.01, model__l1_ratio=1.0; total time=   0.3s\n"
     ]
    },
    {
     "data": {
      "text/plain": [
       "GridSearchCV(cv=TimeSeriesSplit(gap=0, max_train_size=None, n_splits=8, test_size=None),\n",
       "             estimator=Pipeline(steps=[('model',\n",
       "                                        ElasticNet(random_state=12345))]),\n",
       "             n_jobs=-1,\n",
       "             param_grid=[{'model': [ElasticNet(alpha=0.01, l1_ratio=1.0,\n",
       "                                               random_state=12345)],\n",
       "                          'model__alpha': [0.01], 'model__l1_ratio': [1.0]}],\n",
       "             scoring=make_scorer(rmse, greater_is_better=False), verbose=2)"
      ]
     },
     "execution_count": 81,
     "metadata": {},
     "output_type": "execute_result"
    }
   ],
   "source": [
    "pipe_elastic = Pipeline([\n",
    "    ('model', ElasticNet(random_state=state, max_iter=1000))\n",
    "\n",
    "])\n",
    "\n",
    "params_elastic = [\n",
    "    {\n",
    "        'model': [ElasticNet(random_state=state, max_iter=1000)],\n",
    "#         'model__alpha': [0.01, 0.1, 0.5, 1, 5, 10, 20, 40], # параметры при подборе\n",
    "        'model__alpha': [0.01], # параметры после подбора\n",
    "#         'model__l1_ratio': np.logspace(-5, 0, 15), # параметры при подборе\n",
    "        'model__l1_ratio': [1.0], # параметры после подбора\n",
    "    },\n",
    "]\n",
    "\n",
    "grid_elastic = GridSearchCV(pipe_elastic, param_grid=params_elastic, cv=tscv, n_jobs=-1, scoring=rmse_score, verbose=2)\n",
    "\n",
    "grid_elastic.fit(features_train_valid, target_train_valid)"
   ]
  },
  {
   "cell_type": "code",
   "execution_count": 82,
   "metadata": {},
   "outputs": [
    {
     "name": "stdout",
     "output_type": "stream",
     "text": [
      "Best Params: {'model': ElasticNet(alpha=0.01, l1_ratio=1.0, random_state=12345), 'model__alpha': 0.01, 'model__l1_ratio': 1.0}\n",
      "\n",
      "Best RMSE Score: 25.094906735976757\n"
     ]
    }
   ],
   "source": [
    "elastic_rmse = -grid_elastic.best_score_\n",
    "print('Best Params:', grid_elastic.best_params_)\n",
    "print()\n",
    "print('Best RMSE Score:', elastic_rmse)"
   ]
  },
  {
   "cell_type": "markdown",
   "metadata": {},
   "source": [
    "- Модель показала лучшую метрику качестве при L1-регуляризации, а так как у нас уже есть такая модель - Lasso, поэтому использовать модель ElasticNet нет особого смысла. "
   ]
  },
  {
   "cell_type": "markdown",
   "metadata": {},
   "source": [
    "### Сопоставление реальных значений заказанных такси и предсказаний моделей"
   ]
  },
  {
   "cell_type": "markdown",
   "metadata": {},
   "source": [
    "Теперь посмотрим на графике, как справились с предсказаниями модели Lasso, Ridge и остальные."
   ]
  },
  {
   "cell_type": "code",
   "execution_count": 83,
   "metadata": {},
   "outputs": [
    {
     "name": "stdout",
     "output_type": "stream",
     "text": [
      "Данные в валидационном наборе от 2018-07-11 17:00:00 до 2018-08-13 15:00:00\n"
     ]
    }
   ],
   "source": [
    "print(f'Данные в валидационном наборе от {target_valid.index.min()} до {target_valid.index.max()}')"
   ]
  },
  {
   "cell_type": "code",
   "execution_count": 84,
   "metadata": {},
   "outputs": [],
   "source": [
    "lasso_predicts = pd.Series(lasso_predicts, index=features_valid.index)\n",
    "ridge_predicts = pd.Series(ridge_predicts, index=features_valid.index)\n",
    "forest_predicts = pd.Series(forest_predicts, index=features_valid.index)\n",
    "light_predicts = pd.Series(light_predicts, index=features_valid.index)"
   ]
  },
  {
   "cell_type": "code",
   "execution_count": 85,
   "metadata": {
    "scrolled": true
   },
   "outputs": [
    {
     "data": {
      "image/png": "[encoded data removed]",
      "text/plain": [
       "<Figure size 1008x288 with 1 Axes>"
      ]
     },
     "metadata": {
      "needs_background": "light"
     },
     "output_type": "display_data"
    },
    {
     "data": {
      "image/png": "[encoded data removed]",
      "text/plain": [
       "<Figure size 1008x288 with 1 Axes>"
      ]
     },
     "metadata": {
      "needs_background": "light"
     },
     "output_type": "display_data"
    }
   ],
   "source": [
    "FG = (14, 4)\n",
    "DATA_1 = '2018-07-11'\n",
    "DATA_2 = '2018-07-14'\n",
    "\n",
    "target_valid[DATA_1:DATA_2].plot(figsize=FG, label='target')\n",
    "lasso_predicts[DATA_1:DATA_2].plot(figsize=FG, label='lasso')\n",
    "ridge_predicts[DATA_1:DATA_2].plot(figsize=FG, label='ridge')\n",
    "# forest_predicts[DATA_1:DATA_2].plot(figsize=FG, label='random forest')\n",
    "# light_predicts[DATA_1:DATA_2].plot(figsize=FG, label='g b')\n",
    "\n",
    "plt.ylabel('Количество такси')\n",
    "plt.xlabel('Дата и время заказа')\n",
    "plt.legend()\n",
    "plt.title('Сопоставление предсказаний моделей и реальных значений заказанных такси')\n",
    "plt.show()\n",
    "\n",
    "target_valid[DATA_1:DATA_2].plot(figsize=FG, label='target')\n",
    "# lasso_predicts[DATA_1:DATA_2].plot(figsize=FG, label='lasso')\n",
    "# ridge_predicts[DATA_1:DATA_2].plot(figsize=FG, label='ridge')\n",
    "forest_predicts[DATA_1:DATA_2].plot(figsize=FG, label='random forest')\n",
    "light_predicts[DATA_1:DATA_2].plot(figsize=FG, label='gradient boosting')\n",
    "\n",
    "plt.ylabel('Количество такси')\n",
    "plt.xlabel('Дата и время заказа')\n",
    "plt.legend()\n",
    "plt.show()"
   ]
  },
  {
   "cell_type": "markdown",
   "metadata": {},
   "source": [
    "- Видим, что **предсказания линейных моделей сливаются в единую линию** и они **склонны занижать пиковые значения** - в целом предскажут неплохо, но если ожидается всплеск заказов - предскажут ниже реальных значений.\n",
    "\n",
    "\n",
    "- Модель **случайного леса** в целом неплохо справляется **с предсказаниями понижений спроса** на такси, однако все всплески заказов она занижает гораздо сильнее остальных моделей. \n",
    "\n",
    "\n",
    "- Модель **градиентного бустинга неплохо повторяет форму распределения спроса** на такси. Однако так же склонна занижать повышенный спрос заказов. Так же ее метрика качества оказалась хуже линейных моделей. "
   ]
  },
  {
   "cell_type": "markdown",
   "metadata": {},
   "source": [
    "Таким образом, для тестирования выбираем модель линейной регрессии Lasso."
   ]
  },
  {
   "cell_type": "markdown",
   "metadata": {},
   "source": [
    "## Тестирование"
   ]
  },
  {
   "cell_type": "markdown",
   "metadata": {},
   "source": [
    "Обучим модель градиентного бустинга на `тренировочной + обучающая` выборках и проверим на `тестировочной`."
   ]
  },
  {
   "cell_type": "code",
   "execution_count": 86,
   "metadata": {},
   "outputs": [
    {
     "name": "stdout",
     "output_type": "stream",
     "text": [
      "Финальное значение RMSE для модели Lasso 31 такси\n"
     ]
    }
   ],
   "source": [
    "lasso_model.fit(features_train_valid, target_train_valid)\n",
    "lasso_predicts_final = lasso_model.predict(features_test)\n",
    "rmse_lasso_final = rmse(target_test, lasso_predicts_final)\n",
    "print(f'Финальное значение RMSE для модели Lasso {rmse_lasso:.0f} такси')"
   ]
  },
  {
   "cell_type": "markdown",
   "metadata": {},
   "source": [
    "## Вывод"
   ]
  },
  {
   "cell_type": "markdown",
   "metadata": {},
   "source": [
    "\n",
    "Компания «Чётенькое такси» решила привлекать больше водителей в период пиковой нагрузки и предоставила исторические данные о заказах такси в аэропортах. В рамках данного исследования нам было поручено спрогнозировать количество заказов такси на следующий час с условием, что значение метрики `RMSE` на тестовой выборке должно быть **не больше 48**.\n",
    "\n",
    "Мы обучили четыре модели: \n",
    "- модели линейной регрессии:\n",
    "    - Lasso\n",
    "    - Ridge\n",
    "    - ElasticNet\n",
    "- модель случайного леса\n",
    "- модель градиентного бустинга\n",
    "\n",
    "По значению `RMSE` на валидационной выборке и по графику предсказаний модели и реальных данных для финального тестирования была предложена **модель линейной регрессии Lasso**. \n",
    "\n",
    "**На финальном тестировании модель Lasso показала значения `RMSE` 31 такси**, что полностью удовлетворяет условиям исследования."
   ]
  }
 ],
 "metadata": {
  "ExecuteTimeLog": [
   {
    "duration": 2039,
    "start_time": "2022-08-28T01:48:57.257Z"
   },
   {
    "duration": 1869,
    "start_time": "2022-08-28T01:49:31.671Z"
   },
   {
    "duration": 2312,
    "start_time": "2022-08-28T01:49:34.024Z"
   },
   {
    "duration": 3,
    "start_time": "2022-08-28T01:49:44.652Z"
   },
   {
    "duration": 142,
    "start_time": "2022-08-28T01:49:57.235Z"
   },
   {
    "duration": 10,
    "start_time": "2022-08-28T01:50:01.558Z"
   },
   {
    "duration": 13,
    "start_time": "2022-08-28T01:50:06.084Z"
   },
   {
    "duration": 4,
    "start_time": "2022-08-28T01:50:18.994Z"
   },
   {
    "duration": 3,
    "start_time": "2022-08-28T01:50:34.131Z"
   },
   {
    "duration": 12,
    "start_time": "2022-08-28T01:50:42.649Z"
   },
   {
    "duration": 9,
    "start_time": "2022-08-28T01:50:46.005Z"
   },
   {
    "duration": 3,
    "start_time": "2022-08-28T01:51:14.168Z"
   },
   {
    "duration": 832,
    "start_time": "2022-08-28T01:51:19.053Z"
   },
   {
    "duration": 6,
    "start_time": "2022-08-28T01:51:34.322Z"
   },
   {
    "duration": 667,
    "start_time": "2022-08-28T01:51:50.672Z"
   },
   {
    "duration": 9,
    "start_time": "2022-08-28T01:52:09.919Z"
   },
   {
    "duration": 4120,
    "start_time": "2022-08-28T01:52:38.257Z"
   },
   {
    "duration": 4,
    "start_time": "2022-08-28T01:53:08.852Z"
   },
   {
    "duration": 4,
    "start_time": "2022-08-28T01:53:31.113Z"
   },
   {
    "duration": 9,
    "start_time": "2022-08-28T01:54:19.800Z"
   },
   {
    "duration": 10,
    "start_time": "2022-08-28T01:54:39.104Z"
   },
   {
    "duration": 6,
    "start_time": "2022-08-28T01:54:50.408Z"
   },
   {
    "duration": 181,
    "start_time": "2022-08-28T01:55:05.062Z"
   },
   {
    "duration": 3,
    "start_time": "2022-08-28T01:55:21.260Z"
   },
   {
    "duration": 15,
    "start_time": "2022-08-28T01:55:30.085Z"
   },
   {
    "duration": 2,
    "start_time": "2022-08-28T01:55:34.960Z"
   },
   {
    "duration": 7,
    "start_time": "2022-08-28T01:55:41.736Z"
   },
   {
    "duration": 3,
    "start_time": "2022-08-28T01:55:50.946Z"
   },
   {
    "duration": 16,
    "start_time": "2022-08-28T01:56:22.049Z"
   },
   {
    "duration": 5,
    "start_time": "2022-08-28T01:56:26.955Z"
   },
   {
    "duration": 2,
    "start_time": "2022-08-28T01:56:47.525Z"
   },
   {
    "duration": 4,
    "start_time": "2022-08-28T01:56:55.591Z"
   },
   {
    "duration": 5,
    "start_time": "2022-08-28T01:56:59.816Z"
   },
   {
    "duration": 5,
    "start_time": "2022-08-28T01:57:15.226Z"
   },
   {
    "duration": 4,
    "start_time": "2022-08-28T01:57:25.336Z"
   },
   {
    "duration": 6,
    "start_time": "2022-08-28T01:57:40.799Z"
   },
   {
    "duration": 2,
    "start_time": "2022-08-28T01:57:49.321Z"
   },
   {
    "duration": 3,
    "start_time": "2022-08-28T01:58:25.761Z"
   },
   {
    "duration": 2897,
    "start_time": "2022-08-28T01:58:33.910Z"
   },
   {
    "duration": 4,
    "start_time": "2022-08-28T01:58:44.014Z"
   },
   {
    "duration": 285,
    "start_time": "2022-08-28T01:58:53.423Z"
   },
   {
    "duration": 3,
    "start_time": "2022-08-28T01:58:57.588Z"
   },
   {
    "duration": 7,
    "start_time": "2022-08-28T01:59:02.167Z"
   },
   {
    "duration": 897,
    "start_time": "2022-08-28T01:59:29.610Z"
   },
   {
    "duration": 4,
    "start_time": "2022-08-28T01:59:40.382Z"
   },
   {
    "duration": 15,
    "start_time": "2022-08-28T01:59:51.381Z"
   },
   {
    "duration": 4,
    "start_time": "2022-08-28T02:00:00.691Z"
   },
   {
    "duration": 6,
    "start_time": "2022-08-28T02:00:03.967Z"
   },
   {
    "duration": 5790,
    "start_time": "2022-08-28T02:00:19.614Z"
   },
   {
    "duration": 3,
    "start_time": "2022-08-28T02:00:28.476Z"
   },
   {
    "duration": 882,
    "start_time": "2022-08-28T02:00:39.903Z"
   },
   {
    "duration": 4,
    "start_time": "2022-08-28T02:00:44.239Z"
   },
   {
    "duration": 7,
    "start_time": "2022-08-28T02:00:47.575Z"
   },
   {
    "duration": 516926,
    "start_time": "2022-08-28T02:01:03.292Z"
   },
   {
    "duration": 4,
    "start_time": "2022-08-28T02:09:55.284Z"
   },
   {
    "duration": 142841,
    "start_time": "2022-08-28T02:10:04.179Z"
   },
   {
    "duration": 4,
    "start_time": "2022-08-28T02:12:27.024Z"
   },
   {
    "duration": 6,
    "start_time": "2022-08-28T02:12:44.568Z"
   },
   {
    "duration": 127,
    "start_time": "2022-08-28T02:12:46.798Z"
   },
   {
    "duration": 1716,
    "start_time": "2022-08-28T02:15:14.190Z"
   },
   {
    "duration": 4,
    "start_time": "2022-08-28T02:15:20.815Z"
   },
   {
    "duration": 5,
    "start_time": "2022-08-28T02:16:54.219Z"
   },
   {
    "duration": 4,
    "start_time": "2022-08-28T02:17:00.481Z"
   },
   {
    "duration": 517,
    "start_time": "2022-08-28T02:17:12.347Z"
   },
   {
    "duration": 448,
    "start_time": "2022-08-28T02:17:40.865Z"
   },
   {
    "duration": 66,
    "start_time": "2022-08-28T08:51:04.240Z"
   },
   {
    "duration": 3,
    "start_time": "2022-08-28T09:27:54.467Z"
   },
   {
    "duration": 3128,
    "start_time": "2022-08-28T09:27:54.475Z"
   },
   {
    "duration": 2,
    "start_time": "2022-08-28T09:27:57.605Z"
   },
   {
    "duration": 149,
    "start_time": "2022-08-28T09:27:57.608Z"
   },
   {
    "duration": 12,
    "start_time": "2022-08-28T09:27:57.759Z"
   },
   {
    "duration": 14,
    "start_time": "2022-08-28T09:27:57.772Z"
   },
   {
    "duration": 5,
    "start_time": "2022-08-28T09:27:57.787Z"
   },
   {
    "duration": 9,
    "start_time": "2022-08-28T09:27:57.794Z"
   },
   {
    "duration": 15,
    "start_time": "2022-08-28T09:27:57.804Z"
   },
   {
    "duration": 8,
    "start_time": "2022-08-28T09:27:57.820Z"
   },
   {
    "duration": 4,
    "start_time": "2022-08-28T09:27:57.830Z"
   },
   {
    "duration": 998,
    "start_time": "2022-08-28T09:27:57.836Z"
   },
   {
    "duration": 8,
    "start_time": "2022-08-28T09:27:58.835Z"
   },
   {
    "duration": 738,
    "start_time": "2022-08-28T09:27:58.844Z"
   },
   {
    "duration": 13,
    "start_time": "2022-08-28T09:27:59.584Z"
   },
   {
    "duration": 3291,
    "start_time": "2022-08-28T09:27:59.599Z"
   },
   {
    "duration": 3,
    "start_time": "2022-08-28T09:28:02.892Z"
   },
   {
    "duration": 9,
    "start_time": "2022-08-28T09:28:02.897Z"
   },
   {
    "duration": 13,
    "start_time": "2022-08-28T09:28:02.907Z"
   },
   {
    "duration": 11,
    "start_time": "2022-08-28T09:28:02.922Z"
   },
   {
    "duration": 10,
    "start_time": "2022-08-28T09:28:02.934Z"
   },
   {
    "duration": 231,
    "start_time": "2022-08-28T09:28:02.946Z"
   },
   {
    "duration": 3,
    "start_time": "2022-08-28T09:28:03.179Z"
   },
   {
    "duration": 12,
    "start_time": "2022-08-28T09:28:03.192Z"
   },
   {
    "duration": 3,
    "start_time": "2022-08-28T09:28:03.205Z"
   },
   {
    "duration": 11,
    "start_time": "2022-08-28T09:28:03.210Z"
   },
   {
    "duration": 5,
    "start_time": "2022-08-28T09:28:03.223Z"
   },
   {
    "duration": 22,
    "start_time": "2022-08-28T09:28:03.230Z"
   },
   {
    "duration": 5,
    "start_time": "2022-08-28T09:28:03.257Z"
   },
   {
    "duration": 3,
    "start_time": "2022-08-28T09:28:03.292Z"
   },
   {
    "duration": 6,
    "start_time": "2022-08-28T09:28:03.297Z"
   },
   {
    "duration": 7,
    "start_time": "2022-08-28T09:28:03.304Z"
   },
   {
    "duration": 7,
    "start_time": "2022-08-28T09:28:03.313Z"
   },
   {
    "duration": 12,
    "start_time": "2022-08-28T09:28:03.322Z"
   },
   {
    "duration": 10,
    "start_time": "2022-08-28T09:28:03.335Z"
   },
   {
    "duration": 5,
    "start_time": "2022-08-28T09:28:03.347Z"
   },
   {
    "duration": 6,
    "start_time": "2022-08-28T09:28:03.354Z"
   },
   {
    "duration": 2934,
    "start_time": "2022-08-28T09:28:03.362Z"
   },
   {
    "duration": 94,
    "start_time": "2022-08-28T09:28:06.301Z"
   },
   {
    "duration": 302,
    "start_time": "2022-08-28T09:28:06.397Z"
   },
   {
    "duration": 4,
    "start_time": "2022-08-28T09:28:06.791Z"
   },
   {
    "duration": 12,
    "start_time": "2022-08-28T09:28:06.797Z"
   },
   {
    "duration": 1190,
    "start_time": "2022-08-28T09:28:06.811Z"
   },
   {
    "duration": 4,
    "start_time": "2022-08-28T09:28:08.092Z"
   },
   {
    "duration": 94,
    "start_time": "2022-08-28T09:28:08.098Z"
   },
   {
    "duration": 7,
    "start_time": "2022-08-28T09:28:08.195Z"
   },
   {
    "duration": 6,
    "start_time": "2022-08-28T09:28:08.293Z"
   },
   {
    "duration": 7310,
    "start_time": "2022-08-28T09:28:08.301Z"
   },
   {
    "duration": 4,
    "start_time": "2022-08-28T09:28:15.612Z"
   },
   {
    "duration": 1070,
    "start_time": "2022-08-28T09:28:15.618Z"
   },
   {
    "duration": 4,
    "start_time": "2022-08-28T09:28:16.691Z"
   },
   {
    "duration": 13,
    "start_time": "2022-08-28T09:28:16.696Z"
   },
   {
    "duration": 4898,
    "start_time": "2022-08-28T09:28:16.711Z"
   },
   {
    "duration": 4,
    "start_time": "2022-08-28T09:28:21.611Z"
   },
   {
    "duration": 609,
    "start_time": "2022-08-28T09:28:21.691Z"
   },
   {
    "duration": 4,
    "start_time": "2022-08-28T09:28:22.303Z"
   },
   {
    "duration": 8,
    "start_time": "2022-08-28T09:28:22.309Z"
   },
   {
    "duration": 218,
    "start_time": "2022-08-28T09:28:22.319Z"
   },
   {
    "duration": 2357,
    "start_time": "2022-08-28T09:28:22.539Z"
   },
   {
    "duration": 95,
    "start_time": "2022-08-28T09:28:24.898Z"
   },
   {
    "duration": 17,
    "start_time": "2022-08-28T09:28:24.995Z"
   },
   {
    "duration": 9,
    "start_time": "2022-08-28T09:28:25.014Z"
   },
   {
    "duration": 583,
    "start_time": "2022-08-28T09:28:25.024Z"
   },
   {
    "duration": 386,
    "start_time": "2022-08-28T09:28:25.609Z"
   },
   {
    "duration": 13,
    "start_time": "2022-08-28T09:29:48.203Z"
   },
   {
    "duration": 12,
    "start_time": "2022-08-28T09:30:39.972Z"
   },
   {
    "duration": 19,
    "start_time": "2022-08-28T09:31:28.325Z"
   },
   {
    "duration": 4,
    "start_time": "2022-08-30T15:33:47.512Z"
   },
   {
    "duration": 2255,
    "start_time": "2022-08-30T15:33:48.036Z"
   },
   {
    "duration": 4,
    "start_time": "2022-08-30T15:33:50.293Z"
   },
   {
    "duration": 124,
    "start_time": "2022-08-30T15:33:50.974Z"
   },
   {
    "duration": 12,
    "start_time": "2022-08-30T15:33:51.806Z"
   },
   {
    "duration": 11,
    "start_time": "2022-08-30T15:33:52.010Z"
   },
   {
    "duration": 5,
    "start_time": "2022-08-30T15:33:52.386Z"
   },
   {
    "duration": 3,
    "start_time": "2022-08-30T15:33:52.717Z"
   },
   {
    "duration": 12,
    "start_time": "2022-08-30T15:33:53.545Z"
   },
   {
    "duration": 8,
    "start_time": "2022-08-30T15:33:53.722Z"
   },
   {
    "duration": 3,
    "start_time": "2022-08-30T15:33:54.698Z"
   },
   {
    "duration": 952,
    "start_time": "2022-08-30T15:33:54.889Z"
   },
   {
    "duration": 9,
    "start_time": "2022-08-30T15:33:55.843Z"
   },
   {
    "duration": 723,
    "start_time": "2022-08-30T15:33:55.982Z"
   },
   {
    "duration": 7,
    "start_time": "2022-08-30T15:33:56.707Z"
   },
   {
    "duration": 2833,
    "start_time": "2022-08-30T15:33:56.871Z"
   },
   {
    "duration": 4,
    "start_time": "2022-08-30T15:34:04.038Z"
   },
   {
    "duration": 5,
    "start_time": "2022-08-30T15:34:05.251Z"
   },
   {
    "duration": 11,
    "start_time": "2022-08-30T15:34:06.266Z"
   },
   {
    "duration": 16,
    "start_time": "2022-08-30T15:34:07.090Z"
   },
   {
    "duration": 8,
    "start_time": "2022-08-30T15:34:07.874Z"
   },
   {
    "duration": 221,
    "start_time": "2022-08-30T15:34:09.336Z"
   },
   {
    "duration": 3,
    "start_time": "2022-08-30T15:34:10.827Z"
   },
   {
    "duration": 12,
    "start_time": "2022-08-30T15:34:11.452Z"
   },
   {
    "duration": 3,
    "start_time": "2022-08-30T15:34:11.762Z"
   },
   {
    "duration": 7,
    "start_time": "2022-08-30T15:34:12.382Z"
   },
   {
    "duration": 3,
    "start_time": "2022-08-30T15:34:12.814Z"
   },
   {
    "duration": 18,
    "start_time": "2022-08-30T15:34:13.947Z"
   },
   {
    "duration": 5,
    "start_time": "2022-08-30T15:34:14.834Z"
   },
   {
    "duration": 3,
    "start_time": "2022-08-30T15:34:16.338Z"
   },
   {
    "duration": 4,
    "start_time": "2022-08-30T15:34:16.871Z"
   },
   {
    "duration": 5,
    "start_time": "2022-08-30T15:34:17.057Z"
   },
   {
    "duration": 5,
    "start_time": "2022-08-30T15:34:17.432Z"
   },
   {
    "duration": 5,
    "start_time": "2022-08-30T15:34:18.017Z"
   },
   {
    "duration": 10,
    "start_time": "2022-08-30T15:34:18.706Z"
   },
   {
    "duration": 3,
    "start_time": "2022-08-30T15:34:19.063Z"
   },
   {
    "duration": 3,
    "start_time": "2022-08-30T15:34:22.620Z"
   },
   {
    "duration": 141,
    "start_time": "2022-08-30T15:34:24.864Z"
   },
   {
    "duration": 14,
    "start_time": "2022-08-30T15:48:53.244Z"
   },
   {
    "duration": 66,
    "start_time": "2022-08-30T16:11:54.374Z"
   },
   {
    "duration": 42,
    "start_time": "2022-08-30T16:16:30.198Z"
   },
   {
    "duration": 82,
    "start_time": "2022-08-30T16:16:40.413Z"
   },
   {
    "duration": 88,
    "start_time": "2022-08-30T16:16:58.252Z"
   },
   {
    "duration": 69,
    "start_time": "2022-08-30T16:17:04.974Z"
   },
   {
    "duration": 66,
    "start_time": "2022-08-30T16:17:16.894Z"
   },
   {
    "duration": 61,
    "start_time": "2022-08-30T16:18:26.787Z"
   },
   {
    "duration": 63,
    "start_time": "2022-08-30T16:18:43.199Z"
   },
   {
    "duration": 59,
    "start_time": "2022-08-30T16:19:03.405Z"
   },
   {
    "duration": 12,
    "start_time": "2022-08-30T16:19:25.953Z"
   },
   {
    "duration": 60,
    "start_time": "2022-08-30T16:19:46.751Z"
   },
   {
    "duration": 49,
    "start_time": "2022-08-30T16:20:00.579Z"
   },
   {
    "duration": 83,
    "start_time": "2022-08-30T16:20:50.309Z"
   },
   {
    "duration": 60,
    "start_time": "2022-08-30T16:20:57.594Z"
   },
   {
    "duration": 68,
    "start_time": "2022-08-30T16:22:08.703Z"
   },
   {
    "duration": 83,
    "start_time": "2022-08-30T16:22:28.458Z"
   },
   {
    "duration": 20,
    "start_time": "2022-08-30T16:25:38.952Z"
   },
   {
    "duration": 14,
    "start_time": "2022-08-30T16:34:19.392Z"
   },
   {
    "duration": 15,
    "start_time": "2022-08-30T16:49:41.706Z"
   },
   {
    "duration": 11,
    "start_time": "2022-08-30T17:09:37.271Z"
   },
   {
    "duration": 2184,
    "start_time": "2022-08-30T17:19:59.434Z"
   },
   {
    "duration": 4,
    "start_time": "2022-08-30T17:20:12.941Z"
   },
   {
    "duration": 538,
    "start_time": "2022-08-30T17:47:31.668Z"
   },
   {
    "duration": 5,
    "start_time": "2022-08-30T17:49:44.766Z"
   },
   {
    "duration": 7,
    "start_time": "2022-08-30T17:49:45.939Z"
   },
   {
    "duration": 1020,
    "start_time": "2022-08-30T17:49:56.794Z"
   },
   {
    "duration": 5,
    "start_time": "2022-08-30T17:50:00.710Z"
   },
   {
    "duration": 10,
    "start_time": "2022-08-30T17:50:02.073Z"
   },
   {
    "duration": 4,
    "start_time": "2022-08-30T17:50:39.077Z"
   },
   {
    "duration": 7,
    "start_time": "2022-08-30T17:50:39.433Z"
   },
   {
    "duration": 7388,
    "start_time": "2022-08-30T17:50:53.440Z"
   },
   {
    "duration": 4,
    "start_time": "2022-08-30T17:51:03.150Z"
   },
   {
    "duration": 1057,
    "start_time": "2022-08-30T17:51:07.525Z"
   },
   {
    "duration": 4,
    "start_time": "2022-08-30T17:51:22.203Z"
   },
   {
    "duration": 9,
    "start_time": "2022-08-30T17:51:22.677Z"
   },
   {
    "duration": 1466894,
    "start_time": "2022-08-30T17:53:59.423Z"
   },
   {
    "duration": 5,
    "start_time": "2022-08-30T18:31:05.129Z"
   },
   {
    "duration": 509,
    "start_time": "2022-08-30T18:31:10.706Z"
   },
   {
    "duration": 4,
    "start_time": "2022-08-30T18:31:13.261Z"
   },
   {
    "duration": 7,
    "start_time": "2022-08-30T18:31:14.004Z"
   },
   {
    "duration": 167,
    "start_time": "2022-08-30T18:31:15.722Z"
   },
   {
    "duration": 2332,
    "start_time": "2022-08-30T18:31:25.771Z"
   },
   {
    "duration": 4,
    "start_time": "2022-08-30T18:31:35.968Z"
   },
   {
    "duration": 3,
    "start_time": "2022-08-30T18:31:41.936Z"
   },
   {
    "duration": 4,
    "start_time": "2022-08-30T18:31:43.845Z"
   },
   {
    "duration": 625,
    "start_time": "2022-08-30T18:31:44.766Z"
   },
   {
    "duration": 299,
    "start_time": "2022-08-30T18:32:01.606Z"
   },
   {
    "duration": 101,
    "start_time": "2022-08-30T18:41:05.782Z"
   }
  ],
  "kernelspec": {
   "display_name": "Python 3 (ipykernel)",
   "language": "python",
   "name": "python3"
  },
  "language_info": {
   "codemirror_mode": {
    "name": "ipython",
    "version": 3
   },
   "file_extension": ".py",
   "mimetype": "text/x-python",
   "name": "python",
   "nbconvert_exporter": "python",
   "pygments_lexer": "ipython3",
   "version": "3.9.7"
  },
  "toc": {
   "base_numbering": 1,
   "nav_menu": {},
   "number_sections": true,
   "sideBar": true,
   "skip_h1_title": true,
   "title_cell": "Содержание",
   "title_sidebar": "Contents",
   "toc_cell": true,
   "toc_position": {},
   "toc_section_display": true,
   "toc_window_display": true
  }
 },
 "nbformat": 4,
 "nbformat_minor": 2
}

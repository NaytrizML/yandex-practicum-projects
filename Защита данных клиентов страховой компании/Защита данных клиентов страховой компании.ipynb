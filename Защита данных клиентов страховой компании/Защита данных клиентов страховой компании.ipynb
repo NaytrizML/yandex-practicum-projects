{
 "cells": [
  {
   "cell_type": "markdown",
   "metadata": {
    "toc": true
   },
   "source": [
    "<h1>Содержание<span class=\"tocSkip\"></span></h1>\n",
    "<div class=\"toc\"><ul class=\"toc-item\"><li><span><a href=\"#Загрузка-данных\" data-toc-modified-id=\"Загрузка-данных-1\"><span class=\"toc-item-num\">1&nbsp;&nbsp;</span>Загрузка данных</a></span><ul class=\"toc-item\"><li><span><a href=\"#Описание-данных\" data-toc-modified-id=\"Описание-данных-1.1\"><span class=\"toc-item-num\">1.1&nbsp;&nbsp;</span>Описание данных</a></span></li></ul></li><li><span><a href=\"#Умножение-матриц\" data-toc-modified-id=\"Умножение-матриц-2\"><span class=\"toc-item-num\">2&nbsp;&nbsp;</span>Умножение матриц</a></span></li><li><span><a href=\"#Алгоритм-преобразования\" data-toc-modified-id=\"Алгоритм-преобразования-3\"><span class=\"toc-item-num\">3&nbsp;&nbsp;</span>Алгоритм преобразования</a></span></li><li><span><a href=\"#Проверка-алгоритма\" data-toc-modified-id=\"Проверка-алгоритма-4\"><span class=\"toc-item-num\">4&nbsp;&nbsp;</span>Проверка алгоритма</a></span></li><li><span><a href=\"#Чек-лист-проверки\" data-toc-modified-id=\"Чек-лист-проверки-5\"><span class=\"toc-item-num\">5&nbsp;&nbsp;</span>Чек-лист проверки</a></span></li></ul></div>"
   ]
  },
  {
   "cell_type": "markdown",
   "metadata": {},
   "source": [
    "# Защита персональных данных клиентов"
   ]
  },
  {
   "cell_type": "markdown",
   "metadata": {},
   "source": [
    "Нам нужно защитить данные клиентов страховой компании «Хоть потоп». Разработаем такой метод преобразования данных, чтобы по ним было сложно восстановить персональную информацию. \n",
    "\n",
    "Нужно защитить данные, чтобы при преобразовании качество моделей машинного обучения не ухудшилось. Подбирать наилучшую модель не требуется."
   ]
  },
  {
   "cell_type": "markdown",
   "metadata": {},
   "source": [
    "Необходимо ответить на вопрос и обосновать решение следующего вопроса:\n",
    "\n",
    "*- Признаки умножают на обратимую матрицу. Изменится ли качество линейной регрессии? (Её можно обучить заново.)*\n",
    "    \n",
    "    a) Изменится. Приведите примеры матриц.\n",
    "    b) Не изменится. Укажите, как связаны параметры линейной регрессии в исходной задаче и в преобразованной.\n",
    "\n",
    "\n",
    "Так же в рамках исследования необходимо предложить алгоритм преобразования данных для решения задачи и обосновать, почему качество линейной регрессии не поменяется."
   ]
  },
  {
   "cell_type": "markdown",
   "metadata": {},
   "source": [
    "## Загрузка данных"
   ]
  },
  {
   "cell_type": "markdown",
   "metadata": {},
   "source": [
    "Загрузим необходимые для работы библиотеки."
   ]
  },
  {
   "cell_type": "code",
   "execution_count": 2,
   "metadata": {},
   "outputs": [],
   "source": [
    "import pandas as pd\n",
    "import numpy as np\n",
    "from matplotlib import pyplot as plt\n",
    "\n",
    "\n",
    "from sklearn.preprocessing import StandardScaler\n",
    "\n",
    "from sklearn.model_selection import train_test_split\n",
    "\n",
    "from sklearn.linear_model import LinearRegression\n",
    "\n",
    "from sklearn.metrics import mean_squared_error, r2_score\n",
    "\n",
    "from sklearn.pipeline import Pipeline"
   ]
  },
  {
   "cell_type": "markdown",
   "metadata": {},
   "source": [
    "Загрузим данные."
   ]
  },
  {
   "cell_type": "code",
   "execution_count": 3,
   "metadata": {},
   "outputs": [],
   "source": [
    "path = '/datasets/insurance.csv'\n",
    "try:\n",
    "    df = pd.read_csv(path)\n",
    "except Exception as err:\n",
    "    try:\n",
    "        df = pd.read_csv(path[10:])\n",
    "    except Exception as err:\n",
    "        print('Ошибка чтения файла:', repr(err))"
   ]
  },
  {
   "cell_type": "markdown",
   "metadata": {},
   "source": [
    "Выведем первые строчки таблицы."
   ]
  },
  {
   "cell_type": "code",
   "execution_count": 4,
   "metadata": {},
   "outputs": [
    {
     "data": {
      "text/html": [
       "<div>\n",
       "<style scoped>\n",
       "    .dataframe tbody tr th:only-of-type {\n",
       "        vertical-align: middle;\n",
       "    }\n",
       "\n",
       "    .dataframe tbody tr th {\n",
       "        vertical-align: top;\n",
       "    }\n",
       "\n",
       "    .dataframe thead th {\n",
       "        text-align: right;\n",
       "    }\n",
       "</style>\n",
       "<table border=\"1\" class=\"dataframe\">\n",
       "  <thead>\n",
       "    <tr style=\"text-align: right;\">\n",
       "      <th></th>\n",
       "      <th>Пол</th>\n",
       "      <th>Возраст</th>\n",
       "      <th>Зарплата</th>\n",
       "      <th>Члены семьи</th>\n",
       "      <th>Страховые выплаты</th>\n",
       "    </tr>\n",
       "  </thead>\n",
       "  <tbody>\n",
       "    <tr>\n",
       "      <th>0</th>\n",
       "      <td>1</td>\n",
       "      <td>41.0</td>\n",
       "      <td>49600.0</td>\n",
       "      <td>1</td>\n",
       "      <td>0</td>\n",
       "    </tr>\n",
       "    <tr>\n",
       "      <th>1</th>\n",
       "      <td>0</td>\n",
       "      <td>46.0</td>\n",
       "      <td>38000.0</td>\n",
       "      <td>1</td>\n",
       "      <td>1</td>\n",
       "    </tr>\n",
       "    <tr>\n",
       "      <th>2</th>\n",
       "      <td>0</td>\n",
       "      <td>29.0</td>\n",
       "      <td>21000.0</td>\n",
       "      <td>0</td>\n",
       "      <td>0</td>\n",
       "    </tr>\n",
       "    <tr>\n",
       "      <th>3</th>\n",
       "      <td>0</td>\n",
       "      <td>21.0</td>\n",
       "      <td>41700.0</td>\n",
       "      <td>2</td>\n",
       "      <td>0</td>\n",
       "    </tr>\n",
       "    <tr>\n",
       "      <th>4</th>\n",
       "      <td>1</td>\n",
       "      <td>28.0</td>\n",
       "      <td>26100.0</td>\n",
       "      <td>0</td>\n",
       "      <td>0</td>\n",
       "    </tr>\n",
       "    <tr>\n",
       "      <th>5</th>\n",
       "      <td>1</td>\n",
       "      <td>43.0</td>\n",
       "      <td>41000.0</td>\n",
       "      <td>2</td>\n",
       "      <td>1</td>\n",
       "    </tr>\n",
       "    <tr>\n",
       "      <th>6</th>\n",
       "      <td>1</td>\n",
       "      <td>39.0</td>\n",
       "      <td>39700.0</td>\n",
       "      <td>2</td>\n",
       "      <td>0</td>\n",
       "    </tr>\n",
       "    <tr>\n",
       "      <th>7</th>\n",
       "      <td>1</td>\n",
       "      <td>25.0</td>\n",
       "      <td>38600.0</td>\n",
       "      <td>4</td>\n",
       "      <td>0</td>\n",
       "    </tr>\n",
       "    <tr>\n",
       "      <th>8</th>\n",
       "      <td>1</td>\n",
       "      <td>36.0</td>\n",
       "      <td>49700.0</td>\n",
       "      <td>1</td>\n",
       "      <td>0</td>\n",
       "    </tr>\n",
       "    <tr>\n",
       "      <th>9</th>\n",
       "      <td>1</td>\n",
       "      <td>32.0</td>\n",
       "      <td>51700.0</td>\n",
       "      <td>1</td>\n",
       "      <td>0</td>\n",
       "    </tr>\n",
       "  </tbody>\n",
       "</table>\n",
       "</div>"
      ],
      "text/plain": [
       "   Пол  Возраст  Зарплата  Члены семьи  Страховые выплаты\n",
       "0    1     41.0   49600.0            1                  0\n",
       "1    0     46.0   38000.0            1                  1\n",
       "2    0     29.0   21000.0            0                  0\n",
       "3    0     21.0   41700.0            2                  0\n",
       "4    1     28.0   26100.0            0                  0\n",
       "5    1     43.0   41000.0            2                  1\n",
       "6    1     39.0   39700.0            2                  0\n",
       "7    1     25.0   38600.0            4                  0\n",
       "8    1     36.0   49700.0            1                  0\n",
       "9    1     32.0   51700.0            1                  0"
      ]
     },
     "execution_count": 4,
     "metadata": {},
     "output_type": "execute_result"
    }
   ],
   "source": [
    "df.head(10)"
   ]
  },
  {
   "cell_type": "markdown",
   "metadata": {},
   "source": [
    "### Описание данных"
   ]
  },
  {
   "cell_type": "markdown",
   "metadata": {},
   "source": [
    "В таблице присутствуют следующие данные:\n",
    "\n",
    "- **Признаки**: пол, возраст и зарплата застрахованного, количество членов его семьи.\n",
    "- **Целевой признак**: количество страховых выплат клиенту за последние 5 лет."
   ]
  },
  {
   "cell_type": "code",
   "execution_count": 5,
   "metadata": {},
   "outputs": [
    {
     "name": "stdout",
     "output_type": "stream",
     "text": [
      "<class 'pandas.core.frame.DataFrame'>\n",
      "RangeIndex: 5000 entries, 0 to 4999\n",
      "Data columns (total 5 columns):\n",
      " #   Column             Non-Null Count  Dtype  \n",
      "---  ------             --------------  -----  \n",
      " 0   Пол                5000 non-null   int64  \n",
      " 1   Возраст            5000 non-null   float64\n",
      " 2   Зарплата           5000 non-null   float64\n",
      " 3   Члены семьи        5000 non-null   int64  \n",
      " 4   Страховые выплаты  5000 non-null   int64  \n",
      "dtypes: float64(2), int64(3)\n",
      "memory usage: 195.4 KB\n"
     ]
    }
   ],
   "source": [
    "df.info()"
   ]
  },
  {
   "cell_type": "markdown",
   "metadata": {},
   "source": [
    "Таблица содержит данные по 5000 клиентам страховой компании и представлена 5 колонками с данными. Пропусков в таблице нет."
   ]
  },
  {
   "cell_type": "markdown",
   "metadata": {},
   "source": [
    "Взглянем на распределения пользователей по полу."
   ]
  },
  {
   "cell_type": "code",
   "execution_count": 6,
   "metadata": {},
   "outputs": [
    {
     "data": {
      "image/png": "[encoded data removed]",
      "text/plain": [
       "<Figure size 432x288 with 1 Axes>"
      ]
     },
     "metadata": {
      "needs_background": "light"
     },
     "output_type": "display_data"
    },
    {
     "data": {
      "text/plain": [
       "Пол\n",
       "0    2505\n",
       "1    2495\n",
       "Name: Возраст, dtype: int64"
      ]
     },
     "execution_count": 6,
     "metadata": {},
     "output_type": "execute_result"
    }
   ],
   "source": [
    "df.groupby('Пол')['Возраст'].count().plot(kind='bar', rot=0)\n",
    "plt.xlabel('Пол')\n",
    "plt.ylabel('Количество пользователей')\n",
    "plt.title('Распределение пользователей по полу')\n",
    "plt.show()\n",
    "df.groupby('Пол')['Возраст'].count()"
   ]
  },
  {
   "cell_type": "markdown",
   "metadata": {},
   "source": [
    "- Мы не знаем, как именно зашифрован пол в данном исследовании, но видим, что количество мужчин и женщин примерно одинаковое."
   ]
  },
  {
   "cell_type": "markdown",
   "metadata": {},
   "source": [
    "Взглянем на распределения пользователей по возрасту. Можем превратить эти данные в целочисленный тип."
   ]
  },
  {
   "cell_type": "code",
   "execution_count": 7,
   "metadata": {},
   "outputs": [],
   "source": [
    "df['Возраст'] = df['Возраст'].astype('int')"
   ]
  },
  {
   "cell_type": "code",
   "execution_count": 8,
   "metadata": {},
   "outputs": [
    {
     "data": {
      "image/png": "[encoded data removed]",
      "text/plain": [
       "<Figure size 864x288 with 1 Axes>"
      ]
     },
     "metadata": {
      "needs_background": "light"
     },
     "output_type": "display_data"
    },
    {
     "data": {
      "text/plain": [
       "count    5000.000000\n",
       "mean       30.952800\n",
       "std         8.440807\n",
       "min        18.000000\n",
       "25%        24.000000\n",
       "50%        30.000000\n",
       "75%        37.000000\n",
       "max        65.000000\n",
       "Name: Возраст, dtype: float64"
      ]
     },
     "execution_count": 8,
     "metadata": {},
     "output_type": "execute_result"
    }
   ],
   "source": [
    "df.groupby('Возраст')['Пол'].count().plot(kind='bar', rot=0, figsize=(12, 4))\n",
    "plt.tight_layout()\n",
    "\n",
    "plt.xlabel('Возраст')\n",
    "plt.ylabel('Количество пользователей')\n",
    "plt.title('Распределение пользователей по возрасту')\n",
    "plt.show()\n",
    "\n",
    "df['Возраст'].describe()"
   ]
  },
  {
   "cell_type": "markdown",
   "metadata": {},
   "source": [
    "- Распределение клиентов по возрасту выглядит реалистичным - страховались клиенты от 18 до 65-летнего возраста. Средний и медианный возраст застрахованных в районе 30 лет."
   ]
  },
  {
   "cell_type": "markdown",
   "metadata": {},
   "source": [
    "Посмотрим на распределение клиентов по заработной плате."
   ]
  },
  {
   "cell_type": "code",
   "execution_count": 9,
   "metadata": {},
   "outputs": [
    {
     "data": {
      "image/png": "[encoded data removed]",
      "text/plain": [
       "<Figure size 432x288 with 1 Axes>"
      ]
     },
     "metadata": {
      "needs_background": "light"
     },
     "output_type": "display_data"
    },
    {
     "data": {
      "text/plain": [
       "count     5000.000000\n",
       "mean     39916.360000\n",
       "std       9900.083569\n",
       "min       5300.000000\n",
       "25%      33300.000000\n",
       "50%      40200.000000\n",
       "75%      46600.000000\n",
       "max      79000.000000\n",
       "Name: Зарплата, dtype: float64"
      ]
     },
     "execution_count": 9,
     "metadata": {},
     "output_type": "execute_result"
    }
   ],
   "source": [
    "df['Зарплата'].hist(bins=100)\n",
    "plt.xlabel('Зарплата')\n",
    "plt.ylabel('Количество пользователей')\n",
    "plt.title('Распределение клиентов по заработной плате')\n",
    "plt.show()\n",
    "df['Зарплата'].describe()"
   ]
  },
  {
   "cell_type": "markdown",
   "metadata": {},
   "source": [
    "- Застраховавшиеся клиенты зарабатывают от 5300 до 79000. Средний и медианный заработок в районе 40000. Распределение выглядит вполне реалистично."
   ]
  },
  {
   "cell_type": "markdown",
   "metadata": {},
   "source": [
    "Посмотрим на распределение членов семьи застраховавшихся."
   ]
  },
  {
   "cell_type": "code",
   "execution_count": 10,
   "metadata": {},
   "outputs": [
    {
     "data": {
      "image/png": "[encoded data removed]",
      "text/plain": [
       "<Figure size 432x288 with 1 Axes>"
      ]
     },
     "metadata": {
      "needs_background": "light"
     },
     "output_type": "display_data"
    },
    {
     "data": {
      "text/plain": [
       "count    5000.000000\n",
       "mean        1.194200\n",
       "std         1.091387\n",
       "min         0.000000\n",
       "25%         0.000000\n",
       "50%         1.000000\n",
       "75%         2.000000\n",
       "max         6.000000\n",
       "Name: Члены семьи, dtype: float64"
      ]
     },
     "execution_count": 10,
     "metadata": {},
     "output_type": "execute_result"
    }
   ],
   "source": [
    "df.groupby('Члены семьи')['Пол'].count().plot(kind='bar', rot=0)\n",
    "plt.tight_layout()\n",
    "\n",
    "plt.xlabel('Члены семьи')\n",
    "plt.ylabel('Количество пользователей')\n",
    "plt.title('Распределение пользователей по количеству членов семьи')\n",
    "plt.show()\n",
    "\n",
    "df['Члены семьи'].describe()"
   ]
  },
  {
   "cell_type": "markdown",
   "metadata": {},
   "source": [
    "- Застрахованные живут поодиночке или семьями до 6 человек (без учета застрахованного). В среднем и медианном значении застрахованный живет с одним человеком."
   ]
  },
  {
   "cell_type": "markdown",
   "metadata": {},
   "source": [
    "**Целевой признак**"
   ]
  },
  {
   "cell_type": "markdown",
   "metadata": {},
   "source": [
    "Оценим количество страховых выплат клиенту за последние 5 лет."
   ]
  },
  {
   "cell_type": "code",
   "execution_count": 11,
   "metadata": {},
   "outputs": [
    {
     "data": {
      "image/png": "[encoded data removed]",
      "text/plain": [
       "<Figure size 432x288 with 1 Axes>"
      ]
     },
     "metadata": {
      "needs_background": "light"
     },
     "output_type": "display_data"
    },
    {
     "data": {
      "text/plain": [
       "Страховые выплаты\n",
       "0    4436\n",
       "1     423\n",
       "2     115\n",
       "3      18\n",
       "4       7\n",
       "5       1\n",
       "Name: Пол, dtype: int64"
      ]
     },
     "execution_count": 11,
     "metadata": {},
     "output_type": "execute_result"
    }
   ],
   "source": [
    "df.groupby('Страховые выплаты')['Пол'].count().plot(kind='bar', rot=0)\n",
    "plt.tight_layout()\n",
    "\n",
    "plt.xlabel('Количество страховых выплат')\n",
    "plt.ylabel('Количество пользователей')\n",
    "plt.title('Распределение страховых выплат клиенту за последние 5 лет')\n",
    "plt.show()\n",
    "\n",
    "df.groupby('Страховые выплаты')['Пол'].count()"
   ]
  },
  {
   "cell_type": "markdown",
   "metadata": {},
   "source": [
    "- Клиенты за последние 5 лет получали страховые выплаты до 5 раз. Преобладающее количество клиентов ни разу не обратилось за выплатами. "
   ]
  },
  {
   "cell_type": "markdown",
   "metadata": {},
   "source": [
    "Перед обучением моделей нам придется избавиться от класса клиентов с 5 страховыми выплатами, так как там только один клиент, и модель выдает ошибку, что количество значений в каждом классе не может быть менее двух. `The minimum number of groups for any class cannot be less than 2.`\n"
   ]
  },
  {
   "cell_type": "code",
   "execution_count": 12,
   "metadata": {},
   "outputs": [],
   "source": [
    "df = df[df['Страховые выплаты'] < 5]"
   ]
  },
  {
   "cell_type": "markdown",
   "metadata": {},
   "source": [
    "## Умножение матриц"
   ]
  },
  {
   "cell_type": "markdown",
   "metadata": {},
   "source": [
    "Чтобы защитить данные, записанные в матричном виде, можем умножить матрицу на другую матрицу, и в результате получим преобразованные данные. Так как мы бы хотели иметь возможность раскодировать информацию при необходимости, нужно выбрать невырожденную матрицу.\n",
    "\n",
    "Согласно [Википедии](https://ru.wikipedia.org/wiki/Невырожденная_матрица), **невырожденная матрица** (иначе неособенная матрица) ― квадратная матрица, определитель которой отличен от нуля. В противном случае матрица называется вырожденной.\n",
    "\n",
    "Для квадратной матрицы $M$ с элементами из некоторого поля $K$ невырожденность эквивалентна каждому из следующих условий:\n",
    "- $M$ обратима, то есть существует обратная матрица;\n",
    "- строки (столбцы) матрицы $M$ линейно независимы;\n",
    "- ранг матрицы $M$ равен её размерности.\n",
    "\n",
    "Так же для такой матрицы и обратной ей характерно то, что при их умножении получаем получаем единичную матрицу $E$.\n",
    "\n",
    "Таким образом, если мы умножим матрицу признаков на шифровочную квадратную невырожденную матрицу - получим зашифрованные данные. Умножим зашифрованные данные на обратную шифровочной матрицу - получим исходные.\n",
    "\n",
    "<!-- Далее, следуя рассуждению, что при умножении матрицы признаков на шифровочную, каждый признак клиента по итогу умножается на значения матрицы, и суммируется.\n",
    "```\n",
    "    [[a b]                                [[5a+7b 6a+8b]\n",
    "A =  [c d]    B = [[5 6]         Aшифр =   [5c+7b 6c+8d]\n",
    "     [e f]         [7 8]]                  [5e+7f 6e+8f]\n",
    "      ...                                   ..... ..... \n",
    "          ]                                             ]\n",
    "```\n",
    "Таким образом, в зашифрованной матрице у нас будет влияние каждого признака. Думаю, такой метод нам не подходит.\n",
    "Поэтому в качестве шифровочной матрицы возьмем такую, которая по основной диагонали имеет рандомные значения, отличные от нуля, а вся остальная заполнена нулями. Так мы избавимся от влияния остальных признаков в каждом конкретном значении результирующей зашифрованной матрицы. -->\n",
    "Далее проверим, как линейная регрессия отреагирует на проебразование матрицы.\n",
    "Для этого подставим преобразованную матрицу в модель линейной регрессии и посмотрим, повлияет ли шифрование.\n",
    "\n",
    "Обозначения:\n",
    "\n",
    "- $X$ — матрица признаков (нулевой столбец состоит из единиц)\n",
    "\n",
    "- $y$ — вектор целевого признака\n",
    "\n",
    "- $P$ — матрица, на которую умножаются признаки (матрица шифрования)\n",
    "\n",
    "- $w$ — вектор весов линейной регрессии (нулевой элемент равен сдвигу)\n",
    "\n",
    "- $E$ - единичная матрица - умножение матрицы на нее дает ту же матрицу\n",
    "\n",
    "Известно, что предсказания рассчитываются по следующей формуле:\n",
    "$$\n",
    "a = Xw\n",
    "$$\n",
    "\n",
    "Тогда как задачей обучения является:\n",
    "\n",
    "$$\n",
    "w = \\arg\\min_w MSE(Xw, y)\n",
    "$$\n",
    "\n",
    "Формула обучения:\n",
    "\n",
    "$$\n",
    "w = (X^T X)^{-1} X^T y\n",
    "$$\n",
    "\n",
    "Подставим зашифрованную матрицу $X*P$ в формулу обучения и проверим, совпадут ли они."
   ]
  },
  {
   "cell_type": "markdown",
   "metadata": {},
   "source": [
    "$$\n",
    "w_{шифр} = ((XP)^T XP)^{-1} (XP)^T y\n",
    "$$\n",
    "Pаскрываем скобки:\n",
    "$$\n",
    "w_{шифр} = (P^T X^T XP)^{-1} P^T X^T y\n",
    "$$\n",
    "\n",
    "$$\n",
    "w_{шифр} = (X^T XP)^{-1} (P^T)^{-1} P^T X^T y\n",
    "$$\n",
    "\n",
    "$$\n",
    "w_{шифр} = P^{-1} (X^T X)^{-1} (P^T)^{-1} P^T X^T y\n",
    "$$\n",
    "Так как:\n",
    "$$\n",
    "(P^T)^{-1} P^T = E\n",
    "$$\n",
    "формула сокращается до:\n",
    "$$\n",
    "w_{шифр} = P^{-1} (X^T X)^{-1} E X^T y\n",
    "$$\n",
    "\n",
    "Опустим $E$:\n",
    "$$\n",
    "w_{шифр} = P^{-1} (X^T X)^{-1} X^T y\n",
    "$$\n",
    "\n",
    "Выходит, что:\n",
    "$$\n",
    "w_{шифр} = P^{-1} w\n",
    "$$"
   ]
  },
  {
   "cell_type": "markdown",
   "metadata": {},
   "source": [
    "Таким образом, предсказания на зашифрованных признаках будут рассчитаны по формуле:\n",
    "предсказания рассчитываются по следующей формуле:\n",
    "$$\n",
    "a_{шифр} = XPw_{шифр}\n",
    "$$\n",
    "или \n",
    "$$\n",
    "a_{шифр} = X P P^{-1} w\n",
    "$$\n",
    "Сократим часть выражения, являющееся единичной матрицей:\n",
    "$$\n",
    "P P^{-1} = E\n",
    "$$\n",
    "И получим те же самые \n",
    "$$\n",
    "a_{шифр} = X w\n",
    "$$"
   ]
  },
  {
   "cell_type": "markdown",
   "metadata": {},
   "source": [
    "Разберемся в том, что будет, если мы выберем зашифровать значения признаков обратной к ним матрицей, в допущении, что $X$ квадратная и обратная к ней определена."
   ]
  },
  {
   "cell_type": "markdown",
   "metadata": {},
   "source": [
    "$$\n",
    "w_{шифр} = ((XX^{-1})^T XX^{-1})^{-1} (XX^{-1})^T y\n",
    "$$\n",
    "Pаскрываем скобки:\n",
    "$$\n",
    "w_{шифр} = ((E)^T E)^{-1} (E)^T y\n",
    "$$\n",
    "Выходит:\n",
    "$$\n",
    "w_{шифр} = y\n",
    "$$\n",
    "\n",
    "Таким образом, предсказания на зашифрованных признаках будут рассчитаны по формуле:\n",
    "предсказания рассчитываются по следующей формуле:\n",
    "$$\n",
    "a_{шифр} = XX^{-1}w_{шифр}\n",
    "$$\n",
    "или \n",
    "$$\n",
    "a_{шифр} = XX^{-1}y\n",
    "$$\n",
    "Сократим часть выражения, являющееся единичной матрицей,  получим те же самые \n",
    "$$\n",
    "a_{шифр} = y\n",
    "$$\n",
    "\n",
    "Выбирая в качестве шифровальной матрицы, в качестве предсказаний мы получим вектор целевого признака. Что нам не подходит. \n",
    "\n",
    "**Итак,**\n",
    "матрица должна быть невырождена и не являться обратной к признакам (в случае квадратной матрицы признаков)."
   ]
  },
  {
   "cell_type": "markdown",
   "metadata": {},
   "source": [
    "**Ответ:** Мы можем зашифровать признаки, используя невырожденную матрицу, и ожидаем, что это не повлияет на качество предсказаний линейной регрессии."
   ]
  },
  {
   "cell_type": "markdown",
   "metadata": {},
   "source": [
    "## Алгоритм преобразования"
   ]
  },
  {
   "cell_type": "markdown",
   "metadata": {},
   "source": [
    "Если есть необходимость шифровать данные, возможно, эти данные будут переданы для обработки третьим лицам. Можно создать матрицу шифрования и хранить ее в надежном месте, или просто сгенеровать.\n",
    "\n",
    "Для преобразования нам необходимо взять исходные признаки и умножить на матрицу шифрования размерами\n",
    "\n",
    "$[количество\\ столбцов]$x$[количество\\ столбцов]$.\n"
   ]
  },
  {
   "cell_type": "markdown",
   "metadata": {},
   "source": [
    "Необратимые матрицы встречаются редко. Если сгенерировать случайную матрицу функцией `numpy.random.normal()`, вероятность получить необратимую матрицу близка к нулю.\n",
    "\n",
    "Чтобы найти обратную матрицу, используется функция `numpy.linalg.inv()`. Также она поможет проверить матрицу на обратимость: если матрица необратима, будет обнаружена ошибка."
   ]
  },
  {
   "cell_type": "markdown",
   "metadata": {},
   "source": [
    "Чтобы проверить потом, прошло ли шифрование проверку, обучим модели на исходных и зашифрованных данных. \n",
    "\n",
    "А пока разделим данные на признаки и целевой признак."
   ]
  },
  {
   "cell_type": "code",
   "execution_count": 13,
   "metadata": {},
   "outputs": [],
   "source": [
    "X = df.drop('Страховые выплаты', axis=1)\n",
    "y = df['Страховые выплаты']"
   ]
  },
  {
   "cell_type": "markdown",
   "metadata": {},
   "source": [
    "Сгенерируем матрицу шифрования."
   ]
  },
  {
   "cell_type": "code",
   "execution_count": 14,
   "metadata": {},
   "outputs": [],
   "source": [
    "np.random.seed(1000)\n",
    "n = len(X.columns)\n",
    "P = np.random.normal(size=(n, n))"
   ]
  },
  {
   "cell_type": "markdown",
   "metadata": {},
   "source": [
    "Выведем полученную матрицу."
   ]
  },
  {
   "cell_type": "code",
   "execution_count": 15,
   "metadata": {},
   "outputs": [
    {
     "data": {
      "text/plain": [
       "array([[-0.8044583 ,  0.32093155, -0.02548288,  0.64432383],\n",
       "       [-0.30079667,  0.38947455, -0.1074373 , -0.47998308],\n",
       "       [ 0.5950355 , -0.46466753,  0.66728131, -0.80611561],\n",
       "       [-1.19606983, -0.40596016, -0.18237734,  0.10319289]])"
      ]
     },
     "execution_count": 15,
     "metadata": {},
     "output_type": "execute_result"
    }
   ],
   "source": [
    "P"
   ]
  },
  {
   "cell_type": "markdown",
   "metadata": {},
   "source": [
    "Проверим её на обратимость, рассчитаем обратную к ней матрицу."
   ]
  },
  {
   "cell_type": "code",
   "execution_count": 16,
   "metadata": {},
   "outputs": [
    {
     "data": {
      "text/plain": [
       "array([[-0.49352105, -0.39755395, -0.22374042, -0.51546613],\n",
       "       [ 0.82674169,  0.98968351, -0.03366125, -0.82169313],\n",
       "       [ 1.73161005, -0.15905899,  1.42559416, -0.41543104],\n",
       "       [ 0.59253096, -0.99560111, -0.20619855, -0.25072817]])"
      ]
     },
     "execution_count": 16,
     "metadata": {},
     "output_type": "execute_result"
    }
   ],
   "source": [
    "np.linalg.inv(P)"
   ]
  },
  {
   "cell_type": "markdown",
   "metadata": {},
   "source": [
    "Функция не выдала ошибки и рассчитала обратную матрицу для матрицы шифрования - можем зашифровать признаки."
   ]
  },
  {
   "cell_type": "code",
   "execution_count": 17,
   "metadata": {},
   "outputs": [],
   "source": [
    "X_encoded = X @ P"
   ]
  },
  {
   "cell_type": "markdown",
   "metadata": {},
   "source": [
    "Посмотрим на первые строки получившейся таблицы."
   ]
  },
  {
   "cell_type": "code",
   "execution_count": 18,
   "metadata": {},
   "outputs": [
    {
     "data": {
      "text/html": [
       "<div>\n",
       "<style scoped>\n",
       "    .dataframe tbody tr th:only-of-type {\n",
       "        vertical-align: middle;\n",
       "    }\n",
       "\n",
       "    .dataframe tbody tr th {\n",
       "        vertical-align: top;\n",
       "    }\n",
       "\n",
       "    .dataframe thead th {\n",
       "        text-align: right;\n",
       "    }\n",
       "</style>\n",
       "<table border=\"1\" class=\"dataframe\">\n",
       "  <thead>\n",
       "    <tr style=\"text-align: right;\">\n",
       "      <th></th>\n",
       "      <th>0</th>\n",
       "      <th>1</th>\n",
       "      <th>2</th>\n",
       "      <th>3</th>\n",
       "    </tr>\n",
       "  </thead>\n",
       "  <tbody>\n",
       "    <tr>\n",
       "      <th>0</th>\n",
       "      <td>29499.427711</td>\n",
       "      <td>-23031.625871</td>\n",
       "      <td>33092.540037</td>\n",
       "      <td>-40002.266067</td>\n",
       "    </tr>\n",
       "    <tr>\n",
       "      <th>1</th>\n",
       "      <td>22596.316362</td>\n",
       "      <td>-17639.856126</td>\n",
       "      <td>25351.565172</td>\n",
       "      <td>-30654.369225</td>\n",
       "    </tr>\n",
       "    <tr>\n",
       "      <th>2</th>\n",
       "      <td>12487.022440</td>\n",
       "      <td>-9746.723288</td>\n",
       "      <td>14009.791765</td>\n",
       "      <td>-16942.347328</td>\n",
       "    </tr>\n",
       "    <tr>\n",
       "      <th>3</th>\n",
       "      <td>24804.271567</td>\n",
       "      <td>-19369.268797</td>\n",
       "      <td>27823.009563</td>\n",
       "      <td>-33624.894214</td>\n",
       "    </tr>\n",
       "    <tr>\n",
       "      <th>4</th>\n",
       "      <td>15521.199839</td>\n",
       "      <td>-12116.596215</td>\n",
       "      <td>17413.008385</td>\n",
       "      <td>-21052.412635</td>\n",
       "    </tr>\n",
       "  </tbody>\n",
       "</table>\n",
       "</div>"
      ],
      "text/plain": [
       "              0             1             2             3\n",
       "0  29499.427711 -23031.625871  33092.540037 -40002.266067\n",
       "1  22596.316362 -17639.856126  25351.565172 -30654.369225\n",
       "2  12487.022440  -9746.723288  14009.791765 -16942.347328\n",
       "3  24804.271567 -19369.268797  27823.009563 -33624.894214\n",
       "4  15521.199839 -12116.596215  17413.008385 -21052.412635"
      ]
     },
     "execution_count": 18,
     "metadata": {},
     "output_type": "execute_result"
    }
   ],
   "source": [
    "X_encoded.head()"
   ]
  },
  {
   "cell_type": "markdown",
   "metadata": {},
   "source": [
    "**Вывод**\n",
    "\n",
    "Теперь невозможно угадать, какие данные хранятся в колонках."
   ]
  },
  {
   "cell_type": "markdown",
   "metadata": {},
   "source": [
    "## Проверка алгоритма"
   ]
  },
  {
   "cell_type": "markdown",
   "metadata": {},
   "source": [
    "Пришло время обучить модели линейной регрессии и оценить качество моделей для исходного и зашифрованного набора данных."
   ]
  },
  {
   "cell_type": "markdown",
   "metadata": {},
   "source": [
    "Так как в данном исследовании нам не нужно выбирать лучшую модель, а только проверить правильность наших предположений, то будет достаточно обучающей и тестовой выборки для каждого набора данных.\n",
    "\n",
    "Разделим исходный и зашифрованный наборы данных на обучающую и тестовую выборки. "
   ]
  },
  {
   "cell_type": "code",
   "execution_count": 20,
   "metadata": {},
   "outputs": [],
   "source": [
    "state = 12345\n",
    "X_train, X_test, X_encoded_train, X_encoded_test, y_train, y_test = train_test_split(X, X_encoded, y,\n",
    "                                                                                     random_state=state,\n",
    "                                                                                     test_size=0.25,\n",
    "                                                                                     shuffle=True,\n",
    "                                                                                     stratify=y\n",
    "                                                                                    )"
   ]
  },
  {
   "cell_type": "markdown",
   "metadata": {},
   "source": [
    "Проверим, что выборки разбились равномерно по целевому признаку."
   ]
  },
  {
   "cell_type": "code",
   "execution_count": 21,
   "metadata": {},
   "outputs": [
    {
     "data": {
      "image/png": "[encoded data removed]",
      "text/plain": [
       "<Figure size 432x288 with 1 Axes>"
      ]
     },
     "metadata": {
      "needs_background": "light"
     },
     "output_type": "display_data"
    }
   ],
   "source": [
    "y_train.value_counts().plot(kind='bar', rot=0, color='g', label='train')\n",
    "y_test.value_counts().plot(kind='bar', rot=0, color='r', label='test')\n",
    "\n",
    "plt.tight_layout()\n",
    "\n",
    "plt.xlabel('Количество страховых выплат')\n",
    "plt.ylabel('Количество пользователей')\n",
    "plt.title('Распределение страховых выплат клиенту за последние 5 лет')\n",
    "plt.legend()\n",
    "plt.show()\n"
   ]
  },
  {
   "cell_type": "markdown",
   "metadata": {},
   "source": [
    "Масштабируем данные, хранящиеся в выборках, используя стандартизацию. Создадим объект структуры `StandardScaler()`."
   ]
  },
  {
   "cell_type": "code",
   "execution_count": 22,
   "metadata": {},
   "outputs": [],
   "source": [
    "scaler = StandardScaler()"
   ]
  },
  {
   "cell_type": "markdown",
   "metadata": {},
   "source": [
    "Приступим к обучению моделей.\n",
    "\n",
    "**Модель линейной регрессии для исходных данных**"
   ]
  },
  {
   "cell_type": "code",
   "execution_count": 23,
   "metadata": {},
   "outputs": [],
   "source": [
    "pipe_lr = Pipeline([\n",
    "    ('scaler', scaler),\n",
    "    ('model', LinearRegression())\n",
    "])\n"
   ]
  },
  {
   "cell_type": "markdown",
   "metadata": {},
   "source": [
    "Обучаем модель."
   ]
  },
  {
   "cell_type": "code",
   "execution_count": 24,
   "metadata": {},
   "outputs": [
    {
     "data": {
      "text/plain": [
       "Pipeline(steps=[('scaler', StandardScaler()), ('model', LinearRegression())])"
      ]
     },
     "execution_count": 24,
     "metadata": {},
     "output_type": "execute_result"
    }
   ],
   "source": [
    "pipe_lr.fit(X_train, y_train)"
   ]
  },
  {
   "cell_type": "markdown",
   "metadata": {},
   "source": [
    "Смотрим значения метрики R2."
   ]
  },
  {
   "cell_type": "code",
   "execution_count": 25,
   "metadata": {},
   "outputs": [
    {
     "data": {
      "text/plain": [
       "0.419480480705946"
      ]
     },
     "execution_count": 25,
     "metadata": {},
     "output_type": "execute_result"
    }
   ],
   "source": [
    "r2_initial = pipe_lr.score(X_test, y_test)\n",
    "r2_initial"
   ]
  },
  {
   "cell_type": "markdown",
   "metadata": {},
   "source": [
    "**Модель линейной регрессии для зашифрованных данных**"
   ]
  },
  {
   "cell_type": "code",
   "execution_count": 26,
   "metadata": {},
   "outputs": [
    {
     "data": {
      "text/plain": [
       "Pipeline(steps=[('scaler', StandardScaler()), ('model', LinearRegression())])"
      ]
     },
     "execution_count": 26,
     "metadata": {},
     "output_type": "execute_result"
    }
   ],
   "source": [
    "pipe_lr.fit(X_encoded_train, y_train)"
   ]
  },
  {
   "cell_type": "markdown",
   "metadata": {},
   "source": [
    "Смотрим значения метрики R2."
   ]
  },
  {
   "cell_type": "code",
   "execution_count": 27,
   "metadata": {},
   "outputs": [
    {
     "data": {
      "text/plain": [
       "0.419480480705952"
      ]
     },
     "execution_count": 27,
     "metadata": {},
     "output_type": "execute_result"
    }
   ],
   "source": [
    "r2_encoded = pipe_lr.score(X_encoded_test, y_test)\n",
    "r2_encoded"
   ]
  },
  {
   "cell_type": "markdown",
   "metadata": {},
   "source": [
    "Проверим, равны ли метрики наших моделей."
   ]
  },
  {
   "cell_type": "code",
   "execution_count": 28,
   "metadata": {},
   "outputs": [
    {
     "data": {
      "text/plain": [
       "False"
      ]
     },
     "execution_count": 28,
     "metadata": {},
     "output_type": "execute_result"
    }
   ],
   "source": [
    "r2_encoded == r2_initial"
   ]
  },
  {
   "cell_type": "markdown",
   "metadata": {},
   "source": [
    "Не равны, но разница очень незначительна - меньше 1/10.000, что позволяет нам быть уверенным в том, что для модели линейной регрессии нет разницы, передали мы ей исходные данные или зашифрованные."
   ]
  },
  {
   "cell_type": "code",
   "execution_count": 29,
   "metadata": {},
   "outputs": [
    {
     "data": {
      "text/plain": [
       "True"
      ]
     },
     "execution_count": 29,
     "metadata": {},
     "output_type": "execute_result"
    }
   ],
   "source": [
    "np.isclose(r2_encoded, r2_initial)"
   ]
  },
  {
   "cell_type": "markdown",
   "metadata": {},
   "source": [
    "Разница связана с особенностью хранения типа данных `float`."
   ]
  },
  {
   "cell_type": "markdown",
   "metadata": {},
   "source": [
    "**Вывод**\n",
    "\n",
    "Целью исследования являлось защитить данные клиентов страховой компании. Был разработан и обоснован такой метод преобразования данных, чтобы по ним было сложно восстановить персональную информацию.\n",
    "\n",
    "Для шифрования данных использовали умножение признаков на обратимую матрицу. В исследовании приведено математическое доказательство отсутствия влияния матрицы шифрования на модель линейной регрессии.\n",
    "\n",
    "Так же в рамках исследования была проверена метрика качества R2 для моделей линейной регрессии, обученных на исходных данных и на зашифрованных. Разница в метриках качества оказалась незначительной (меньше 1/10.000) , что позволяет нам использовать такой метод шифрования данных для модели линейной регрессии."
   ]
  }
 ],
 "metadata": {
  "ExecuteTimeLog": [
   {
    "duration": 41,
    "start_time": "2022-08-25T17:40:08.720Z"
   },
   {
    "duration": 1344,
    "start_time": "2022-08-25T17:40:26.835Z"
   },
   {
    "duration": 80,
    "start_time": "2022-08-25T17:40:40.793Z"
   },
   {
    "duration": 16,
    "start_time": "2022-08-25T17:40:52.818Z"
   },
   {
    "duration": 9,
    "start_time": "2022-08-25T17:41:25.091Z"
   },
   {
    "duration": 115,
    "start_time": "2022-08-25T17:41:41.662Z"
   },
   {
    "duration": 4,
    "start_time": "2022-08-25T17:42:04.935Z"
   },
   {
    "duration": 568,
    "start_time": "2022-08-25T17:42:09.363Z"
   },
   {
    "duration": 253,
    "start_time": "2022-08-25T17:42:25.987Z"
   },
   {
    "duration": 210,
    "start_time": "2022-08-25T17:42:44.032Z"
   },
   {
    "duration": 287,
    "start_time": "2022-08-25T17:43:11.637Z"
   },
   {
    "duration": 5,
    "start_time": "2022-08-25T17:43:29.623Z"
   },
   {
    "duration": 4,
    "start_time": "2022-08-25T17:46:13.183Z"
   },
   {
    "duration": 3,
    "start_time": "2022-08-25T17:46:28.327Z"
   },
   {
    "duration": 3,
    "start_time": "2022-08-25T17:46:41.955Z"
   },
   {
    "duration": 4,
    "start_time": "2022-08-25T17:46:57.657Z"
   },
   {
    "duration": 4,
    "start_time": "2022-08-25T17:47:13.224Z"
   },
   {
    "duration": 9,
    "start_time": "2022-08-25T17:47:24.922Z"
   },
   {
    "duration": 68,
    "start_time": "2022-08-25T17:47:49.867Z"
   },
   {
    "duration": 7,
    "start_time": "2022-08-25T17:48:37.348Z"
   },
   {
    "duration": 241,
    "start_time": "2022-08-25T17:48:50.818Z"
   },
   {
    "duration": 2,
    "start_time": "2022-08-25T17:49:01.789Z"
   },
   {
    "duration": 3,
    "start_time": "2022-08-25T17:49:12.448Z"
   },
   {
    "duration": 11,
    "start_time": "2022-08-25T17:49:21.815Z"
   },
   {
    "duration": 7,
    "start_time": "2022-08-25T17:49:34.651Z"
   },
   {
    "duration": 8,
    "start_time": "2022-08-25T17:49:44.263Z"
   },
   {
    "duration": 7,
    "start_time": "2022-08-25T17:49:52.828Z"
   },
   {
    "duration": 3,
    "start_time": "2022-08-25T17:50:06.559Z"
   },
   {
    "duration": 3,
    "start_time": "2022-08-25T17:50:16.451Z"
   },
   {
    "duration": 53,
    "start_time": "2022-08-25T17:51:18.285Z"
   },
   {
    "duration": 99,
    "start_time": "2022-08-26T20:19:13.612Z"
   }
  ],
  "kernelspec": {
   "display_name": "Python 3 (ipykernel)",
   "language": "python",
   "name": "python3"
  },
  "language_info": {
   "codemirror_mode": {
    "name": "ipython",
    "version": 3
   },
   "file_extension": ".py",
   "mimetype": "text/x-python",
   "name": "python",
   "nbconvert_exporter": "python",
   "pygments_lexer": "ipython3",
   "version": "3.9.7"
  },
  "toc": {
   "base_numbering": 1,
   "nav_menu": {},
   "number_sections": true,
   "sideBar": true,
   "skip_h1_title": true,
   "title_cell": "Содержание",
   "title_sidebar": "Contents",
   "toc_cell": true,
   "toc_position": {},
   "toc_section_display": true,
   "toc_window_display": true
  }
 },
 "nbformat": 4,
 "nbformat_minor": 2
}
